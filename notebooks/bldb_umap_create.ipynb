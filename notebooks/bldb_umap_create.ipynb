{
 "cells": [
  {
   "cell_type": "code",
   "execution_count": 1,
   "id": "a63bc204-b1df-4706-8b7e-bac3f0259e0a",
   "metadata": {},
   "outputs": [],
   "source": [
    "import pandas as pd\n",
    "import numpy as np\n",
    "from os.path import join\n",
    "\n",
    "from umap import UMAP"
   ]
  },
  {
   "cell_type": "code",
   "execution_count": 2,
   "id": "104f0f45-7b4e-430a-b578-41580b45b844",
   "metadata": {},
   "outputs": [],
   "source": [
    "# load data \n",
    "df  = pd.read_parquet(\"../bldb/clean/csv/bldb_dset.parquet\")\n",
    "sbl = df[df.bla_class.str.contains(\"class_a|class_c|class_d\")]\n",
    "mbl = df[df.bla_class.str.contains(\"class_b1|class_b2|class_b3\")]\n",
    "\n",
    "esm1b_sbl     = np.array([np.array(x) for x in sbl[\"esm1b\"]])\n",
    "esm2_650m_sbl = np.array([np.array(x) for x in sbl[\"esm2_650m\"]])\n",
    "esm2_3b_sbl   = np.array([np.array(x) for x in sbl[\"esm2_3b\"]])\n",
    "carp_sbl      = np.array([np.array(x) for x in sbl[\"carp\"]])\n",
    "t5xlu50_sbl   = np.array([np.array(x) for x in sbl[\"t5xlu50\"]])\n",
    "\n",
    "esm1b_mbl     = np.array([np.array(x) for x in mbl[\"esm1b\"]])\n",
    "esm2_650m_mbl = np.array([np.array(x) for x in mbl[\"esm2_650m\"]])\n",
    "esm2_3b_mbl   = np.array([np.array(x) for x in mbl[\"esm2_3b\"]])\n",
    "carp_mbl      = np.array([np.array(x) for x in mbl[\"carp\"]])\n",
    "t5xlu50_mbl   = np.array([np.array(x) for x in mbl[\"t5xlu50\"]])"
   ]
  },
  {
   "cell_type": "code",
   "execution_count": 6,
   "id": "4b8895db-709b-42ff-a373-2c766dedf95d",
   "metadata": {},
   "outputs": [],
   "source": [
    "# a fx to run umap\n",
    "def run_umap(array, n_neighbors, dim1, dim2, dataset, csv_name):\n",
    "\n",
    "    print(f\"#################################################################\")\n",
    "    print(f\"      Running UMAP with n_neighbors = {n_neighbors} | dataset = {dataset}\")\n",
    "    print(f\"#################################################################\\n\")\n",
    "    \n",
    "    umap = UMAP(\n",
    "        n_components=2,\n",
    "        n_neighbors=n_neighbors,\n",
    "        metric=\"cosine\",\n",
    "        random_state=42,\n",
    "        verbose=True,\n",
    "        init=\"spectral\",\n",
    "        spread=0.2, \n",
    "        min_dist=0.2,\n",
    "        n_epochs=2000,\n",
    "        n_jobs=-1\n",
    "    )\n",
    "\n",
    "    umap_representation = umap.fit_transform(array)\n",
    "    dim1 = dim1\n",
    "    dim2 = dim2\n",
    "\n",
    "    df_umap = pd.DataFrame(umap_representation, columns=[dim1, dim2])\n",
    "    df_umap.to_csv(csv_name, index=False)\n",
    "    \n",
    "    print(f\"Input embedding dimention: {len(array[0])}\")\n",
    "    print(f\"Data points: {len(array)}\")\n",
    "    print(f\"Results saved at: {csv_name}\\n\")\n",
    "\n",
    "models = [\"esm1b\",\"esm2_650m\", \"esm2_3b\", \"carp\", \"t5xlu50\"]\n",
    "nn = [30, 50, 100, 200, 300, 400, 500, 600, 700, 800, 900, 1000]"
   ]
  },
  {
   "cell_type": "markdown",
   "id": "e71476a0-a41f-4f0c-95e1-edfcb36548d0",
   "metadata": {},
   "source": [
    "# SBL "
   ]
  },
  {
   "cell_type": "code",
   "execution_count": 4,
   "id": "8435a494-812b-4207-b479-f4a2b9e9627c",
   "metadata": {},
   "outputs": [],
   "source": [
    "sbl[[\"seq_id\"]].to_csv(\"../bldb/lowdim/umap/sbl_ids.csv\", index=False)"
   ]
  },
  {
   "cell_type": "code",
   "execution_count": 7,
   "id": "534bbf19-9240-40d0-8044-42afb9df5ac5",
   "metadata": {
    "scrolled": true
   },
   "outputs": [
    {
     "name": "stdout",
     "output_type": "stream",
     "text": [
      "#################################################################\n",
      "                            esm1b                              \n",
      "#################################################################\n",
      "      Running UMAP with n_neighbors = 30 | dataset = SBL\n",
      "#################################################################\n",
      "\n",
      "UMAP(angular_rp_forest=True, metric='cosine', min_dist=0.2, n_epochs=2000, n_neighbors=30, random_state=42, spread=0.2, verbose=True)\n",
      "Thu Apr 18 14:21:31 2024 Construct fuzzy simplicial set\n",
      "Thu Apr 18 14:21:31 2024 Finding Nearest Neighbors\n",
      "Thu Apr 18 14:21:31 2024 Building RP forest with 13 trees\n"
     ]
    },
    {
     "name": "stderr",
     "output_type": "stream",
     "text": [
      "/home/gama/anaconda3/envs/bio/lib/python3.11/site-packages/umap/umap_.py:1943: UserWarning: n_jobs value -1 overridden to 1 by setting random_state. Use no seed for parallelism.\n",
      "  warn(f\"n_jobs value {self.n_jobs} overridden to 1 by setting random_state. Use no seed for parallelism.\")\n"
     ]
    },
    {
     "name": "stdout",
     "output_type": "stream",
     "text": [
      "Thu Apr 18 14:21:32 2024 NN descent for 15 iterations\n",
      "\t 1  /  15\n",
      "\t 2  /  15\n",
      "\t 3  /  15\n",
      "\tStopping threshold met -- exiting after 3 iterations\n",
      "Thu Apr 18 14:21:38 2024 Finished Nearest Neighbor Search\n",
      "Thu Apr 18 14:21:39 2024 Construct embedding\n"
     ]
    },
    {
     "data": {
      "application/vnd.jupyter.widget-view+json": {
       "model_id": "bf99d072557740c1a6c58b7cea510ebe",
       "version_major": 2,
       "version_minor": 0
      },
      "text/plain": [
       "Epochs completed:   0%|            0/2000 [00:00]"
      ]
     },
     "metadata": {},
     "output_type": "display_data"
    },
    {
     "name": "stdout",
     "output_type": "stream",
     "text": [
      "\tcompleted  0  /  2000 epochs\n",
      "\tcompleted  200  /  2000 epochs\n",
      "\tcompleted  400  /  2000 epochs\n",
      "\tcompleted  600  /  2000 epochs\n",
      "\tcompleted  800  /  2000 epochs\n",
      "\tcompleted  1000  /  2000 epochs\n",
      "\tcompleted  1200  /  2000 epochs\n",
      "\tcompleted  1400  /  2000 epochs\n",
      "\tcompleted  1600  /  2000 epochs\n",
      "\tcompleted  1800  /  2000 epochs\n",
      "Thu Apr 18 14:23:30 2024 Finished embedding\n",
      "Input embedding dimention: 1280\n",
      "Data points: 25961\n",
      "Results saved at: ../bldb/lowdim/umap/umap_sbl_esm1b_30.csv\n",
      "\n",
      "#################################################################\n",
      "                            esm1b                              \n",
      "#################################################################\n",
      "      Running UMAP with n_neighbors = 50 | dataset = SBL\n",
      "#################################################################\n",
      "\n",
      "UMAP(angular_rp_forest=True, metric='cosine', min_dist=0.2, n_epochs=2000, n_neighbors=50, random_state=42, spread=0.2, verbose=True)\n",
      "Thu Apr 18 14:23:30 2024 Construct fuzzy simplicial set\n",
      "Thu Apr 18 14:23:30 2024 Finding Nearest Neighbors\n",
      "Thu Apr 18 14:23:30 2024 Building RP forest with 13 trees\n"
     ]
    },
    {
     "name": "stderr",
     "output_type": "stream",
     "text": [
      "/home/gama/anaconda3/envs/bio/lib/python3.11/site-packages/umap/umap_.py:1943: UserWarning: n_jobs value -1 overridden to 1 by setting random_state. Use no seed for parallelism.\n",
      "  warn(f\"n_jobs value {self.n_jobs} overridden to 1 by setting random_state. Use no seed for parallelism.\")\n"
     ]
    },
    {
     "name": "stdout",
     "output_type": "stream",
     "text": [
      "Thu Apr 18 14:23:31 2024 NN descent for 15 iterations\n",
      "\t 1  /  15\n",
      "\t 2  /  15\n",
      "\t 3  /  15\n",
      "\tStopping threshold met -- exiting after 3 iterations\n",
      "Thu Apr 18 14:23:38 2024 Finished Nearest Neighbor Search\n",
      "Thu Apr 18 14:23:38 2024 Construct embedding\n"
     ]
    },
    {
     "data": {
      "application/vnd.jupyter.widget-view+json": {
       "model_id": "f2d4f39b72e14fd8a1734b74aff2cc04",
       "version_major": 2,
       "version_minor": 0
      },
      "text/plain": [
       "Epochs completed:   0%|            0/2000 [00:00]"
      ]
     },
     "metadata": {},
     "output_type": "display_data"
    },
    {
     "name": "stdout",
     "output_type": "stream",
     "text": [
      "\tcompleted  0  /  2000 epochs\n",
      "\tcompleted  200  /  2000 epochs\n",
      "\tcompleted  400  /  2000 epochs\n",
      "\tcompleted  600  /  2000 epochs\n",
      "\tcompleted  800  /  2000 epochs\n",
      "\tcompleted  1000  /  2000 epochs\n",
      "\tcompleted  1200  /  2000 epochs\n",
      "\tcompleted  1400  /  2000 epochs\n",
      "\tcompleted  1600  /  2000 epochs\n",
      "\tcompleted  1800  /  2000 epochs\n",
      "Thu Apr 18 14:25:47 2024 Finished embedding\n",
      "Input embedding dimention: 1280\n",
      "Data points: 25961\n",
      "Results saved at: ../bldb/lowdim/umap/umap_sbl_esm1b_50.csv\n",
      "\n",
      "#################################################################\n",
      "                            esm1b                              \n",
      "#################################################################\n",
      "      Running UMAP with n_neighbors = 100 | dataset = SBL\n",
      "#################################################################\n",
      "\n",
      "UMAP(angular_rp_forest=True, metric='cosine', min_dist=0.2, n_epochs=2000, n_neighbors=100, random_state=42, spread=0.2, verbose=True)\n",
      "Thu Apr 18 14:25:47 2024 Construct fuzzy simplicial set\n",
      "Thu Apr 18 14:25:47 2024 Finding Nearest Neighbors\n",
      "Thu Apr 18 14:25:47 2024 Building RP forest with 13 trees\n"
     ]
    },
    {
     "name": "stderr",
     "output_type": "stream",
     "text": [
      "/home/gama/anaconda3/envs/bio/lib/python3.11/site-packages/umap/umap_.py:1943: UserWarning: n_jobs value -1 overridden to 1 by setting random_state. Use no seed for parallelism.\n",
      "  warn(f\"n_jobs value {self.n_jobs} overridden to 1 by setting random_state. Use no seed for parallelism.\")\n"
     ]
    },
    {
     "name": "stdout",
     "output_type": "stream",
     "text": [
      "Thu Apr 18 14:25:48 2024 NN descent for 15 iterations\n",
      "\t 1  /  15\n",
      "\t 2  /  15\n",
      "\t 3  /  15\n",
      "\tStopping threshold met -- exiting after 3 iterations\n",
      "Thu Apr 18 14:26:14 2024 Finished Nearest Neighbor Search\n",
      "Thu Apr 18 14:26:15 2024 Construct embedding\n"
     ]
    },
    {
     "data": {
      "application/vnd.jupyter.widget-view+json": {
       "model_id": "496b2cbf64a245329e3a3cb80ef0e38b",
       "version_major": 2,
       "version_minor": 0
      },
      "text/plain": [
       "Epochs completed:   0%|            0/2000 [00:00]"
      ]
     },
     "metadata": {},
     "output_type": "display_data"
    },
    {
     "name": "stdout",
     "output_type": "stream",
     "text": [
      "\tcompleted  0  /  2000 epochs\n",
      "\tcompleted  200  /  2000 epochs\n",
      "\tcompleted  400  /  2000 epochs\n",
      "\tcompleted  600  /  2000 epochs\n",
      "\tcompleted  800  /  2000 epochs\n",
      "\tcompleted  1000  /  2000 epochs\n",
      "\tcompleted  1200  /  2000 epochs\n",
      "\tcompleted  1400  /  2000 epochs\n",
      "\tcompleted  1600  /  2000 epochs\n",
      "\tcompleted  1800  /  2000 epochs\n",
      "Thu Apr 18 14:28:56 2024 Finished embedding\n",
      "Input embedding dimention: 1280\n",
      "Data points: 25961\n",
      "Results saved at: ../bldb/lowdim/umap/umap_sbl_esm1b_100.csv\n",
      "\n",
      "#################################################################\n",
      "                            esm1b                              \n",
      "#################################################################\n",
      "      Running UMAP with n_neighbors = 200 | dataset = SBL\n",
      "#################################################################\n",
      "\n",
      "UMAP(angular_rp_forest=True, metric='cosine', min_dist=0.2, n_epochs=2000, n_neighbors=200, random_state=42, spread=0.2, verbose=True)\n",
      "Thu Apr 18 14:28:56 2024 Construct fuzzy simplicial set\n",
      "Thu Apr 18 14:28:56 2024 Finding Nearest Neighbors\n",
      "Thu Apr 18 14:28:56 2024 Building RP forest with 13 trees\n"
     ]
    },
    {
     "name": "stderr",
     "output_type": "stream",
     "text": [
      "/home/gama/anaconda3/envs/bio/lib/python3.11/site-packages/umap/umap_.py:1943: UserWarning: n_jobs value -1 overridden to 1 by setting random_state. Use no seed for parallelism.\n",
      "  warn(f\"n_jobs value {self.n_jobs} overridden to 1 by setting random_state. Use no seed for parallelism.\")\n"
     ]
    },
    {
     "name": "stdout",
     "output_type": "stream",
     "text": [
      "Thu Apr 18 14:28:57 2024 NN descent for 15 iterations\n",
      "\t 1  /  15\n",
      "\t 2  /  15\n",
      "\t 3  /  15\n",
      "\tStopping threshold met -- exiting after 3 iterations\n",
      "Thu Apr 18 14:29:37 2024 Finished Nearest Neighbor Search\n",
      "Thu Apr 18 14:29:38 2024 Construct embedding\n"
     ]
    },
    {
     "data": {
      "application/vnd.jupyter.widget-view+json": {
       "model_id": "5eb18d538b274165bf4c2623489837f4",
       "version_major": 2,
       "version_minor": 0
      },
      "text/plain": [
       "Epochs completed:   0%|            0/2000 [00:00]"
      ]
     },
     "metadata": {},
     "output_type": "display_data"
    },
    {
     "name": "stdout",
     "output_type": "stream",
     "text": [
      "\tcompleted  0  /  2000 epochs\n",
      "\tcompleted  200  /  2000 epochs\n",
      "\tcompleted  400  /  2000 epochs\n",
      "\tcompleted  600  /  2000 epochs\n",
      "\tcompleted  800  /  2000 epochs\n",
      "\tcompleted  1000  /  2000 epochs\n",
      "\tcompleted  1200  /  2000 epochs\n",
      "\tcompleted  1400  /  2000 epochs\n",
      "\tcompleted  1600  /  2000 epochs\n",
      "\tcompleted  1800  /  2000 epochs\n",
      "Thu Apr 18 14:32:57 2024 Finished embedding\n",
      "Input embedding dimention: 1280\n",
      "Data points: 25961\n",
      "Results saved at: ../bldb/lowdim/umap/umap_sbl_esm1b_200.csv\n",
      "\n",
      "#################################################################\n",
      "                            esm1b                              \n",
      "#################################################################\n",
      "      Running UMAP with n_neighbors = 300 | dataset = SBL\n",
      "#################################################################\n",
      "\n",
      "UMAP(angular_rp_forest=True, metric='cosine', min_dist=0.2, n_epochs=2000, n_neighbors=300, random_state=42, spread=0.2, verbose=True)\n",
      "Thu Apr 18 14:32:57 2024 Construct fuzzy simplicial set\n",
      "Thu Apr 18 14:32:57 2024 Finding Nearest Neighbors\n",
      "Thu Apr 18 14:32:57 2024 Building RP forest with 13 trees\n"
     ]
    },
    {
     "name": "stderr",
     "output_type": "stream",
     "text": [
      "/home/gama/anaconda3/envs/bio/lib/python3.11/site-packages/umap/umap_.py:1943: UserWarning: n_jobs value -1 overridden to 1 by setting random_state. Use no seed for parallelism.\n",
      "  warn(f\"n_jobs value {self.n_jobs} overridden to 1 by setting random_state. Use no seed for parallelism.\")\n"
     ]
    },
    {
     "name": "stdout",
     "output_type": "stream",
     "text": [
      "Thu Apr 18 14:32:58 2024 NN descent for 15 iterations\n",
      "\t 1  /  15\n",
      "\t 2  /  15\n",
      "\t 3  /  15\n",
      "\tStopping threshold met -- exiting after 3 iterations\n",
      "Thu Apr 18 14:33:42 2024 Finished Nearest Neighbor Search\n",
      "Thu Apr 18 14:33:44 2024 Construct embedding\n"
     ]
    },
    {
     "data": {
      "application/vnd.jupyter.widget-view+json": {
       "model_id": "9187103475884921bfcc9d2e29b438f3",
       "version_major": 2,
       "version_minor": 0
      },
      "text/plain": [
       "Epochs completed:   0%|            0/2000 [00:00]"
      ]
     },
     "metadata": {},
     "output_type": "display_data"
    },
    {
     "name": "stdout",
     "output_type": "stream",
     "text": [
      "\tcompleted  0  /  2000 epochs\n",
      "\tcompleted  200  /  2000 epochs\n",
      "\tcompleted  400  /  2000 epochs\n",
      "\tcompleted  600  /  2000 epochs\n",
      "\tcompleted  800  /  2000 epochs\n",
      "\tcompleted  1000  /  2000 epochs\n",
      "\tcompleted  1200  /  2000 epochs\n",
      "\tcompleted  1400  /  2000 epochs\n",
      "\tcompleted  1600  /  2000 epochs\n",
      "\tcompleted  1800  /  2000 epochs\n",
      "Thu Apr 18 14:37:29 2024 Finished embedding\n",
      "Input embedding dimention: 1280\n",
      "Data points: 25961\n",
      "Results saved at: ../bldb/lowdim/umap/umap_sbl_esm1b_300.csv\n",
      "\n",
      "#################################################################\n",
      "                            esm1b                              \n",
      "#################################################################\n",
      "      Running UMAP with n_neighbors = 400 | dataset = SBL\n",
      "#################################################################\n",
      "\n",
      "UMAP(angular_rp_forest=True, metric='cosine', min_dist=0.2, n_epochs=2000, n_neighbors=400, random_state=42, spread=0.2, verbose=True)\n",
      "Thu Apr 18 14:37:29 2024 Construct fuzzy simplicial set\n",
      "Thu Apr 18 14:37:29 2024 Finding Nearest Neighbors\n",
      "Thu Apr 18 14:37:29 2024 Building RP forest with 13 trees\n"
     ]
    },
    {
     "name": "stderr",
     "output_type": "stream",
     "text": [
      "/home/gama/anaconda3/envs/bio/lib/python3.11/site-packages/umap/umap_.py:1943: UserWarning: n_jobs value -1 overridden to 1 by setting random_state. Use no seed for parallelism.\n",
      "  warn(f\"n_jobs value {self.n_jobs} overridden to 1 by setting random_state. Use no seed for parallelism.\")\n"
     ]
    },
    {
     "name": "stdout",
     "output_type": "stream",
     "text": [
      "Thu Apr 18 14:37:29 2024 NN descent for 15 iterations\n",
      "\t 1  /  15\n",
      "\t 2  /  15\n",
      "\t 3  /  15\n",
      "\tStopping threshold met -- exiting after 3 iterations\n",
      "Thu Apr 18 14:38:17 2024 Finished Nearest Neighbor Search\n",
      "Thu Apr 18 14:38:20 2024 Construct embedding\n"
     ]
    },
    {
     "data": {
      "application/vnd.jupyter.widget-view+json": {
       "model_id": "3dad20a66d8a4dbd88a80b44b62a0094",
       "version_major": 2,
       "version_minor": 0
      },
      "text/plain": [
       "Epochs completed:   0%|            0/2000 [00:00]"
      ]
     },
     "metadata": {},
     "output_type": "display_data"
    },
    {
     "name": "stdout",
     "output_type": "stream",
     "text": [
      "\tcompleted  0  /  2000 epochs\n",
      "\tcompleted  200  /  2000 epochs\n",
      "\tcompleted  400  /  2000 epochs\n",
      "\tcompleted  600  /  2000 epochs\n",
      "\tcompleted  800  /  2000 epochs\n",
      "\tcompleted  1000  /  2000 epochs\n",
      "\tcompleted  1200  /  2000 epochs\n",
      "\tcompleted  1400  /  2000 epochs\n",
      "\tcompleted  1600  /  2000 epochs\n",
      "\tcompleted  1800  /  2000 epochs\n",
      "Thu Apr 18 14:42:23 2024 Finished embedding\n",
      "Input embedding dimention: 1280\n",
      "Data points: 25961\n",
      "Results saved at: ../bldb/lowdim/umap/umap_sbl_esm1b_400.csv\n",
      "\n",
      "#################################################################\n",
      "                            esm1b                              \n",
      "#################################################################\n",
      "      Running UMAP with n_neighbors = 500 | dataset = SBL\n",
      "#################################################################\n",
      "\n",
      "UMAP(angular_rp_forest=True, metric='cosine', min_dist=0.2, n_epochs=2000, n_neighbors=500, random_state=42, spread=0.2, verbose=True)\n",
      "Thu Apr 18 14:42:24 2024 Construct fuzzy simplicial set\n",
      "Thu Apr 18 14:42:24 2024 Finding Nearest Neighbors\n",
      "Thu Apr 18 14:42:24 2024 Building RP forest with 13 trees\n"
     ]
    },
    {
     "name": "stderr",
     "output_type": "stream",
     "text": [
      "/home/gama/anaconda3/envs/bio/lib/python3.11/site-packages/umap/umap_.py:1943: UserWarning: n_jobs value -1 overridden to 1 by setting random_state. Use no seed for parallelism.\n",
      "  warn(f\"n_jobs value {self.n_jobs} overridden to 1 by setting random_state. Use no seed for parallelism.\")\n"
     ]
    },
    {
     "name": "stdout",
     "output_type": "stream",
     "text": [
      "Thu Apr 18 14:42:24 2024 NN descent for 15 iterations\n",
      "\t 1  /  15\n",
      "\t 2  /  15\n",
      "\t 3  /  15\n",
      "\tStopping threshold met -- exiting after 3 iterations\n",
      "Thu Apr 18 14:43:17 2024 Finished Nearest Neighbor Search\n",
      "Thu Apr 18 14:43:21 2024 Construct embedding\n"
     ]
    },
    {
     "data": {
      "application/vnd.jupyter.widget-view+json": {
       "model_id": "dd98bef0ae7c413fbbb2d34b36f83102",
       "version_major": 2,
       "version_minor": 0
      },
      "text/plain": [
       "Epochs completed:   0%|            0/2000 [00:00]"
      ]
     },
     "metadata": {},
     "output_type": "display_data"
    },
    {
     "name": "stdout",
     "output_type": "stream",
     "text": [
      "\tcompleted  0  /  2000 epochs\n",
      "\tcompleted  200  /  2000 epochs\n",
      "\tcompleted  400  /  2000 epochs\n",
      "\tcompleted  600  /  2000 epochs\n",
      "\tcompleted  800  /  2000 epochs\n",
      "\tcompleted  1000  /  2000 epochs\n",
      "\tcompleted  1200  /  2000 epochs\n",
      "\tcompleted  1400  /  2000 epochs\n",
      "\tcompleted  1600  /  2000 epochs\n",
      "\tcompleted  1800  /  2000 epochs\n",
      "Thu Apr 18 14:47:35 2024 Finished embedding\n",
      "Input embedding dimention: 1280\n",
      "Data points: 25961\n",
      "Results saved at: ../bldb/lowdim/umap/umap_sbl_esm1b_500.csv\n",
      "\n",
      "#################################################################\n",
      "                            esm1b                              \n",
      "#################################################################\n",
      "      Running UMAP with n_neighbors = 600 | dataset = SBL\n",
      "#################################################################\n",
      "\n",
      "UMAP(angular_rp_forest=True, metric='cosine', min_dist=0.2, n_epochs=2000, n_neighbors=600, random_state=42, spread=0.2, verbose=True)\n",
      "Thu Apr 18 14:47:36 2024 Construct fuzzy simplicial set\n",
      "Thu Apr 18 14:47:36 2024 Finding Nearest Neighbors\n",
      "Thu Apr 18 14:47:36 2024 Building RP forest with 13 trees\n"
     ]
    },
    {
     "name": "stderr",
     "output_type": "stream",
     "text": [
      "/home/gama/anaconda3/envs/bio/lib/python3.11/site-packages/umap/umap_.py:1943: UserWarning: n_jobs value -1 overridden to 1 by setting random_state. Use no seed for parallelism.\n",
      "  warn(f\"n_jobs value {self.n_jobs} overridden to 1 by setting random_state. Use no seed for parallelism.\")\n"
     ]
    },
    {
     "name": "stdout",
     "output_type": "stream",
     "text": [
      "Thu Apr 18 14:47:36 2024 NN descent for 15 iterations\n",
      "\t 1  /  15\n",
      "\t 2  /  15\n",
      "\t 3  /  15\n",
      "\t 4  /  15\n",
      "\tStopping threshold met -- exiting after 4 iterations\n",
      "Thu Apr 18 14:48:51 2024 Finished Nearest Neighbor Search\n",
      "Thu Apr 18 14:48:55 2024 Construct embedding\n"
     ]
    },
    {
     "data": {
      "application/vnd.jupyter.widget-view+json": {
       "model_id": "a01403e566b44c65ae4bdbf26da20aa0",
       "version_major": 2,
       "version_minor": 0
      },
      "text/plain": [
       "Epochs completed:   0%|            0/2000 [00:00]"
      ]
     },
     "metadata": {},
     "output_type": "display_data"
    },
    {
     "name": "stdout",
     "output_type": "stream",
     "text": [
      "\tcompleted  0  /  2000 epochs\n",
      "\tcompleted  200  /  2000 epochs\n",
      "\tcompleted  400  /  2000 epochs\n",
      "\tcompleted  600  /  2000 epochs\n",
      "\tcompleted  800  /  2000 epochs\n",
      "\tcompleted  1000  /  2000 epochs\n",
      "\tcompleted  1200  /  2000 epochs\n",
      "\tcompleted  1400  /  2000 epochs\n",
      "\tcompleted  1600  /  2000 epochs\n",
      "\tcompleted  1800  /  2000 epochs\n",
      "Thu Apr 18 14:53:22 2024 Finished embedding\n",
      "Input embedding dimention: 1280\n",
      "Data points: 25961\n",
      "Results saved at: ../bldb/lowdim/umap/umap_sbl_esm1b_600.csv\n",
      "\n",
      "#################################################################\n",
      "                            esm1b                              \n",
      "#################################################################\n",
      "      Running UMAP with n_neighbors = 700 | dataset = SBL\n",
      "#################################################################\n",
      "\n",
      "UMAP(angular_rp_forest=True, metric='cosine', min_dist=0.2, n_epochs=2000, n_neighbors=700, random_state=42, spread=0.2, verbose=True)\n",
      "Thu Apr 18 14:53:22 2024 Construct fuzzy simplicial set\n",
      "Thu Apr 18 14:53:22 2024 Finding Nearest Neighbors\n",
      "Thu Apr 18 14:53:22 2024 Building RP forest with 13 trees\n"
     ]
    },
    {
     "name": "stderr",
     "output_type": "stream",
     "text": [
      "/home/gama/anaconda3/envs/bio/lib/python3.11/site-packages/umap/umap_.py:1943: UserWarning: n_jobs value -1 overridden to 1 by setting random_state. Use no seed for parallelism.\n",
      "  warn(f\"n_jobs value {self.n_jobs} overridden to 1 by setting random_state. Use no seed for parallelism.\")\n"
     ]
    },
    {
     "name": "stdout",
     "output_type": "stream",
     "text": [
      "Thu Apr 18 14:53:23 2024 NN descent for 15 iterations\n",
      "\t 1  /  15\n",
      "\t 2  /  15\n",
      "\t 3  /  15\n",
      "\t 4  /  15\n",
      "\tStopping threshold met -- exiting after 4 iterations\n",
      "Thu Apr 18 14:54:45 2024 Finished Nearest Neighbor Search\n",
      "Thu Apr 18 14:54:50 2024 Construct embedding\n"
     ]
    },
    {
     "data": {
      "application/vnd.jupyter.widget-view+json": {
       "model_id": "d4f081e7c5974fd4b53eb6f3ca59436e",
       "version_major": 2,
       "version_minor": 0
      },
      "text/plain": [
       "Epochs completed:   0%|            0/2000 [00:00]"
      ]
     },
     "metadata": {},
     "output_type": "display_data"
    },
    {
     "name": "stdout",
     "output_type": "stream",
     "text": [
      "\tcompleted  0  /  2000 epochs\n",
      "\tcompleted  200  /  2000 epochs\n",
      "\tcompleted  400  /  2000 epochs\n",
      "\tcompleted  600  /  2000 epochs\n",
      "\tcompleted  800  /  2000 epochs\n",
      "\tcompleted  1000  /  2000 epochs\n",
      "\tcompleted  1200  /  2000 epochs\n",
      "\tcompleted  1400  /  2000 epochs\n",
      "\tcompleted  1600  /  2000 epochs\n",
      "\tcompleted  1800  /  2000 epochs\n",
      "Thu Apr 18 14:59:29 2024 Finished embedding\n",
      "Input embedding dimention: 1280\n",
      "Data points: 25961\n",
      "Results saved at: ../bldb/lowdim/umap/umap_sbl_esm1b_700.csv\n",
      "\n",
      "#################################################################\n",
      "                            esm1b                              \n",
      "#################################################################\n",
      "      Running UMAP with n_neighbors = 800 | dataset = SBL\n",
      "#################################################################\n",
      "\n",
      "UMAP(angular_rp_forest=True, metric='cosine', min_dist=0.2, n_epochs=2000, n_neighbors=800, random_state=42, spread=0.2, verbose=True)\n",
      "Thu Apr 18 14:59:29 2024 Construct fuzzy simplicial set\n",
      "Thu Apr 18 14:59:29 2024 Finding Nearest Neighbors\n",
      "Thu Apr 18 14:59:29 2024 Building RP forest with 13 trees\n"
     ]
    },
    {
     "name": "stderr",
     "output_type": "stream",
     "text": [
      "/home/gama/anaconda3/envs/bio/lib/python3.11/site-packages/umap/umap_.py:1943: UserWarning: n_jobs value -1 overridden to 1 by setting random_state. Use no seed for parallelism.\n",
      "  warn(f\"n_jobs value {self.n_jobs} overridden to 1 by setting random_state. Use no seed for parallelism.\")\n"
     ]
    },
    {
     "name": "stdout",
     "output_type": "stream",
     "text": [
      "Thu Apr 18 14:59:30 2024 NN descent for 15 iterations\n",
      "\t 1  /  15\n",
      "\t 2  /  15\n",
      "\t 3  /  15\n",
      "\t 4  /  15\n",
      "\tStopping threshold met -- exiting after 4 iterations\n",
      "Thu Apr 18 15:01:00 2024 Finished Nearest Neighbor Search\n",
      "Thu Apr 18 15:01:06 2024 Construct embedding\n"
     ]
    },
    {
     "data": {
      "application/vnd.jupyter.widget-view+json": {
       "model_id": "ec283ab76345475f928ce192bf6f0a9f",
       "version_major": 2,
       "version_minor": 0
      },
      "text/plain": [
       "Epochs completed:   0%|            0/2000 [00:00]"
      ]
     },
     "metadata": {},
     "output_type": "display_data"
    },
    {
     "name": "stdout",
     "output_type": "stream",
     "text": [
      "\tcompleted  0  /  2000 epochs\n",
      "\tcompleted  200  /  2000 epochs\n",
      "\tcompleted  400  /  2000 epochs\n",
      "\tcompleted  600  /  2000 epochs\n",
      "\tcompleted  800  /  2000 epochs\n",
      "\tcompleted  1000  /  2000 epochs\n",
      "\tcompleted  1200  /  2000 epochs\n",
      "\tcompleted  1400  /  2000 epochs\n",
      "\tcompleted  1600  /  2000 epochs\n",
      "\tcompleted  1800  /  2000 epochs\n",
      "Thu Apr 18 15:05:51 2024 Finished embedding\n",
      "Input embedding dimention: 1280\n",
      "Data points: 25961\n",
      "Results saved at: ../bldb/lowdim/umap/umap_sbl_esm1b_800.csv\n",
      "\n",
      "#################################################################\n",
      "                            esm1b                              \n",
      "#################################################################\n",
      "      Running UMAP with n_neighbors = 900 | dataset = SBL\n",
      "#################################################################\n",
      "\n",
      "UMAP(angular_rp_forest=True, metric='cosine', min_dist=0.2, n_epochs=2000, n_neighbors=900, random_state=42, spread=0.2, verbose=True)\n",
      "Thu Apr 18 15:05:51 2024 Construct fuzzy simplicial set\n",
      "Thu Apr 18 15:05:51 2024 Finding Nearest Neighbors\n",
      "Thu Apr 18 15:05:51 2024 Building RP forest with 13 trees\n"
     ]
    },
    {
     "name": "stderr",
     "output_type": "stream",
     "text": [
      "/home/gama/anaconda3/envs/bio/lib/python3.11/site-packages/umap/umap_.py:1943: UserWarning: n_jobs value -1 overridden to 1 by setting random_state. Use no seed for parallelism.\n",
      "  warn(f\"n_jobs value {self.n_jobs} overridden to 1 by setting random_state. Use no seed for parallelism.\")\n"
     ]
    },
    {
     "name": "stdout",
     "output_type": "stream",
     "text": [
      "Thu Apr 18 15:05:52 2024 NN descent for 15 iterations\n",
      "\t 1  /  15\n",
      "\t 2  /  15\n",
      "\t 3  /  15\n",
      "\t 4  /  15\n",
      "\tStopping threshold met -- exiting after 4 iterations\n",
      "Thu Apr 18 15:07:32 2024 Finished Nearest Neighbor Search\n",
      "Thu Apr 18 15:07:38 2024 Construct embedding\n"
     ]
    },
    {
     "data": {
      "application/vnd.jupyter.widget-view+json": {
       "model_id": "aaaf8551cc934f28be309ec2f0f3f1fd",
       "version_major": 2,
       "version_minor": 0
      },
      "text/plain": [
       "Epochs completed:   0%|            0/2000 [00:00]"
      ]
     },
     "metadata": {},
     "output_type": "display_data"
    },
    {
     "name": "stdout",
     "output_type": "stream",
     "text": [
      "\tcompleted  0  /  2000 epochs\n",
      "\tcompleted  200  /  2000 epochs\n",
      "\tcompleted  400  /  2000 epochs\n",
      "\tcompleted  600  /  2000 epochs\n",
      "\tcompleted  800  /  2000 epochs\n",
      "\tcompleted  1000  /  2000 epochs\n",
      "\tcompleted  1200  /  2000 epochs\n",
      "\tcompleted  1400  /  2000 epochs\n",
      "\tcompleted  1600  /  2000 epochs\n",
      "\tcompleted  1800  /  2000 epochs\n",
      "Thu Apr 18 15:12:30 2024 Finished embedding\n",
      "Input embedding dimention: 1280\n",
      "Data points: 25961\n",
      "Results saved at: ../bldb/lowdim/umap/umap_sbl_esm1b_900.csv\n",
      "\n",
      "#################################################################\n",
      "                            esm1b                              \n",
      "#################################################################\n",
      "      Running UMAP with n_neighbors = 1000 | dataset = SBL\n",
      "#################################################################\n",
      "\n",
      "UMAP(angular_rp_forest=True, metric='cosine', min_dist=0.2, n_epochs=2000, n_neighbors=1000, random_state=42, spread=0.2, verbose=True)\n",
      "Thu Apr 18 15:12:30 2024 Construct fuzzy simplicial set\n",
      "Thu Apr 18 15:12:30 2024 Finding Nearest Neighbors\n",
      "Thu Apr 18 15:12:30 2024 Building RP forest with 13 trees\n"
     ]
    },
    {
     "name": "stderr",
     "output_type": "stream",
     "text": [
      "/home/gama/anaconda3/envs/bio/lib/python3.11/site-packages/umap/umap_.py:1943: UserWarning: n_jobs value -1 overridden to 1 by setting random_state. Use no seed for parallelism.\n",
      "  warn(f\"n_jobs value {self.n_jobs} overridden to 1 by setting random_state. Use no seed for parallelism.\")\n"
     ]
    },
    {
     "name": "stdout",
     "output_type": "stream",
     "text": [
      "Thu Apr 18 15:12:31 2024 NN descent for 15 iterations\n",
      "\t 1  /  15\n",
      "\t 2  /  15\n",
      "\t 3  /  15\n",
      "\t 4  /  15\n",
      "\tStopping threshold met -- exiting after 4 iterations\n",
      "Thu Apr 18 15:14:20 2024 Finished Nearest Neighbor Search\n",
      "Thu Apr 18 15:14:28 2024 Construct embedding\n"
     ]
    },
    {
     "data": {
      "application/vnd.jupyter.widget-view+json": {
       "model_id": "6f53ee995809457c8a8fe28bf943b7b7",
       "version_major": 2,
       "version_minor": 0
      },
      "text/plain": [
       "Epochs completed:   0%|            0/2000 [00:00]"
      ]
     },
     "metadata": {},
     "output_type": "display_data"
    },
    {
     "name": "stdout",
     "output_type": "stream",
     "text": [
      "\tcompleted  0  /  2000 epochs\n",
      "\tcompleted  200  /  2000 epochs\n",
      "\tcompleted  400  /  2000 epochs\n",
      "\tcompleted  600  /  2000 epochs\n",
      "\tcompleted  800  /  2000 epochs\n",
      "\tcompleted  1000  /  2000 epochs\n",
      "\tcompleted  1200  /  2000 epochs\n",
      "\tcompleted  1400  /  2000 epochs\n",
      "\tcompleted  1600  /  2000 epochs\n",
      "\tcompleted  1800  /  2000 epochs\n",
      "Thu Apr 18 15:19:29 2024 Finished embedding\n",
      "Input embedding dimention: 1280\n",
      "Data points: 25961\n",
      "Results saved at: ../bldb/lowdim/umap/umap_sbl_esm1b_1000.csv\n",
      "\n",
      "#################################################################\n",
      "                            esm2_650m                              \n",
      "#################################################################\n",
      "      Running UMAP with n_neighbors = 30 | dataset = SBL\n",
      "#################################################################\n",
      "\n",
      "UMAP(angular_rp_forest=True, metric='cosine', min_dist=0.2, n_epochs=2000, n_neighbors=30, random_state=42, spread=0.2, verbose=True)\n",
      "Thu Apr 18 15:19:29 2024 Construct fuzzy simplicial set\n",
      "Thu Apr 18 15:19:29 2024 Finding Nearest Neighbors\n",
      "Thu Apr 18 15:19:29 2024 Building RP forest with 13 trees\n"
     ]
    },
    {
     "name": "stderr",
     "output_type": "stream",
     "text": [
      "/home/gama/anaconda3/envs/bio/lib/python3.11/site-packages/umap/umap_.py:1943: UserWarning: n_jobs value -1 overridden to 1 by setting random_state. Use no seed for parallelism.\n",
      "  warn(f\"n_jobs value {self.n_jobs} overridden to 1 by setting random_state. Use no seed for parallelism.\")\n"
     ]
    },
    {
     "name": "stdout",
     "output_type": "stream",
     "text": [
      "Thu Apr 18 15:19:29 2024 NN descent for 15 iterations\n",
      "\t 1  /  15\n",
      "\t 2  /  15\n",
      "\t 3  /  15\n",
      "\tStopping threshold met -- exiting after 3 iterations\n",
      "Thu Apr 18 15:19:32 2024 Finished Nearest Neighbor Search\n",
      "Thu Apr 18 15:19:32 2024 Construct embedding\n"
     ]
    },
    {
     "data": {
      "application/vnd.jupyter.widget-view+json": {
       "model_id": "91c04574948c4a0cb380c70604a22c25",
       "version_major": 2,
       "version_minor": 0
      },
      "text/plain": [
       "Epochs completed:   0%|            0/2000 [00:00]"
      ]
     },
     "metadata": {},
     "output_type": "display_data"
    },
    {
     "name": "stdout",
     "output_type": "stream",
     "text": [
      "\tcompleted  0  /  2000 epochs\n",
      "\tcompleted  200  /  2000 epochs\n",
      "\tcompleted  400  /  2000 epochs\n",
      "\tcompleted  600  /  2000 epochs\n",
      "\tcompleted  800  /  2000 epochs\n",
      "\tcompleted  1000  /  2000 epochs\n",
      "\tcompleted  1200  /  2000 epochs\n",
      "\tcompleted  1400  /  2000 epochs\n",
      "\tcompleted  1600  /  2000 epochs\n",
      "\tcompleted  1800  /  2000 epochs\n",
      "Thu Apr 18 15:21:22 2024 Finished embedding\n",
      "Input embedding dimention: 1280\n",
      "Data points: 25961\n",
      "Results saved at: ../bldb/lowdim/umap/umap_sbl_esm2_650m_30.csv\n",
      "\n",
      "#################################################################\n",
      "                            esm2_650m                              \n",
      "#################################################################\n",
      "      Running UMAP with n_neighbors = 50 | dataset = SBL\n",
      "#################################################################\n",
      "\n",
      "UMAP(angular_rp_forest=True, metric='cosine', min_dist=0.2, n_epochs=2000, n_neighbors=50, random_state=42, spread=0.2, verbose=True)\n",
      "Thu Apr 18 15:21:22 2024 Construct fuzzy simplicial set\n",
      "Thu Apr 18 15:21:22 2024 Finding Nearest Neighbors\n",
      "Thu Apr 18 15:21:22 2024 Building RP forest with 13 trees\n"
     ]
    },
    {
     "name": "stderr",
     "output_type": "stream",
     "text": [
      "/home/gama/anaconda3/envs/bio/lib/python3.11/site-packages/umap/umap_.py:1943: UserWarning: n_jobs value -1 overridden to 1 by setting random_state. Use no seed for parallelism.\n",
      "  warn(f\"n_jobs value {self.n_jobs} overridden to 1 by setting random_state. Use no seed for parallelism.\")\n"
     ]
    },
    {
     "name": "stdout",
     "output_type": "stream",
     "text": [
      "Thu Apr 18 15:21:23 2024 NN descent for 15 iterations\n",
      "\t 1  /  15\n",
      "\t 2  /  15\n",
      "\t 3  /  15\n",
      "\tStopping threshold met -- exiting after 3 iterations\n",
      "Thu Apr 18 15:21:29 2024 Finished Nearest Neighbor Search\n",
      "Thu Apr 18 15:21:29 2024 Construct embedding\n"
     ]
    },
    {
     "data": {
      "application/vnd.jupyter.widget-view+json": {
       "model_id": "2e4459da94f943a8803dbbc55070cb12",
       "version_major": 2,
       "version_minor": 0
      },
      "text/plain": [
       "Epochs completed:   0%|            0/2000 [00:00]"
      ]
     },
     "metadata": {},
     "output_type": "display_data"
    },
    {
     "name": "stdout",
     "output_type": "stream",
     "text": [
      "\tcompleted  0  /  2000 epochs\n",
      "\tcompleted  200  /  2000 epochs\n",
      "\tcompleted  400  /  2000 epochs\n",
      "\tcompleted  600  /  2000 epochs\n",
      "\tcompleted  800  /  2000 epochs\n",
      "\tcompleted  1000  /  2000 epochs\n",
      "\tcompleted  1200  /  2000 epochs\n",
      "\tcompleted  1400  /  2000 epochs\n",
      "\tcompleted  1600  /  2000 epochs\n",
      "\tcompleted  1800  /  2000 epochs\n",
      "Thu Apr 18 15:23:38 2024 Finished embedding\n",
      "Input embedding dimention: 1280\n",
      "Data points: 25961\n",
      "Results saved at: ../bldb/lowdim/umap/umap_sbl_esm2_650m_50.csv\n",
      "\n",
      "#################################################################\n",
      "                            esm2_650m                              \n",
      "#################################################################\n",
      "      Running UMAP with n_neighbors = 100 | dataset = SBL\n",
      "#################################################################\n",
      "\n",
      "UMAP(angular_rp_forest=True, metric='cosine', min_dist=0.2, n_epochs=2000, n_neighbors=100, random_state=42, spread=0.2, verbose=True)\n",
      "Thu Apr 18 15:23:38 2024 Construct fuzzy simplicial set\n",
      "Thu Apr 18 15:23:38 2024 Finding Nearest Neighbors\n",
      "Thu Apr 18 15:23:38 2024 Building RP forest with 13 trees\n"
     ]
    },
    {
     "name": "stderr",
     "output_type": "stream",
     "text": [
      "/home/gama/anaconda3/envs/bio/lib/python3.11/site-packages/umap/umap_.py:1943: UserWarning: n_jobs value -1 overridden to 1 by setting random_state. Use no seed for parallelism.\n",
      "  warn(f\"n_jobs value {self.n_jobs} overridden to 1 by setting random_state. Use no seed for parallelism.\")\n"
     ]
    },
    {
     "name": "stdout",
     "output_type": "stream",
     "text": [
      "Thu Apr 18 15:23:39 2024 NN descent for 15 iterations\n",
      "\t 1  /  15\n",
      "\t 2  /  15\n",
      "\t 3  /  15\n",
      "\tStopping threshold met -- exiting after 3 iterations\n",
      "Thu Apr 18 15:24:01 2024 Finished Nearest Neighbor Search\n",
      "Thu Apr 18 15:24:02 2024 Construct embedding\n"
     ]
    },
    {
     "data": {
      "application/vnd.jupyter.widget-view+json": {
       "model_id": "9734998b4d604b099c23cd9701fb0468",
       "version_major": 2,
       "version_minor": 0
      },
      "text/plain": [
       "Epochs completed:   0%|            0/2000 [00:00]"
      ]
     },
     "metadata": {},
     "output_type": "display_data"
    },
    {
     "name": "stdout",
     "output_type": "stream",
     "text": [
      "\tcompleted  0  /  2000 epochs\n",
      "\tcompleted  200  /  2000 epochs\n",
      "\tcompleted  400  /  2000 epochs\n",
      "\tcompleted  600  /  2000 epochs\n",
      "\tcompleted  800  /  2000 epochs\n",
      "\tcompleted  1000  /  2000 epochs\n",
      "\tcompleted  1200  /  2000 epochs\n",
      "\tcompleted  1400  /  2000 epochs\n",
      "\tcompleted  1600  /  2000 epochs\n",
      "\tcompleted  1800  /  2000 epochs\n",
      "Thu Apr 18 15:26:41 2024 Finished embedding\n",
      "Input embedding dimention: 1280\n",
      "Data points: 25961\n",
      "Results saved at: ../bldb/lowdim/umap/umap_sbl_esm2_650m_100.csv\n",
      "\n",
      "#################################################################\n",
      "                            esm2_650m                              \n",
      "#################################################################\n",
      "      Running UMAP with n_neighbors = 200 | dataset = SBL\n",
      "#################################################################\n",
      "\n",
      "UMAP(angular_rp_forest=True, metric='cosine', min_dist=0.2, n_epochs=2000, n_neighbors=200, random_state=42, spread=0.2, verbose=True)\n",
      "Thu Apr 18 15:26:41 2024 Construct fuzzy simplicial set\n",
      "Thu Apr 18 15:26:41 2024 Finding Nearest Neighbors\n",
      "Thu Apr 18 15:26:41 2024 Building RP forest with 13 trees\n"
     ]
    },
    {
     "name": "stderr",
     "output_type": "stream",
     "text": [
      "/home/gama/anaconda3/envs/bio/lib/python3.11/site-packages/umap/umap_.py:1943: UserWarning: n_jobs value -1 overridden to 1 by setting random_state. Use no seed for parallelism.\n",
      "  warn(f\"n_jobs value {self.n_jobs} overridden to 1 by setting random_state. Use no seed for parallelism.\")\n"
     ]
    },
    {
     "name": "stdout",
     "output_type": "stream",
     "text": [
      "Thu Apr 18 15:26:42 2024 NN descent for 15 iterations\n",
      "\t 1  /  15\n",
      "\t 2  /  15\n",
      "\t 3  /  15\n",
      "\tStopping threshold met -- exiting after 3 iterations\n",
      "Thu Apr 18 15:27:17 2024 Finished Nearest Neighbor Search\n",
      "Thu Apr 18 15:27:18 2024 Construct embedding\n"
     ]
    },
    {
     "data": {
      "application/vnd.jupyter.widget-view+json": {
       "model_id": "d7e80d3ab0e249258ef50244dc6f5bde",
       "version_major": 2,
       "version_minor": 0
      },
      "text/plain": [
       "Epochs completed:   0%|            0/2000 [00:00]"
      ]
     },
     "metadata": {},
     "output_type": "display_data"
    },
    {
     "name": "stdout",
     "output_type": "stream",
     "text": [
      "\tcompleted  0  /  2000 epochs\n",
      "\tcompleted  200  /  2000 epochs\n",
      "\tcompleted  400  /  2000 epochs\n",
      "\tcompleted  600  /  2000 epochs\n",
      "\tcompleted  800  /  2000 epochs\n",
      "\tcompleted  1000  /  2000 epochs\n",
      "\tcompleted  1200  /  2000 epochs\n",
      "\tcompleted  1400  /  2000 epochs\n",
      "\tcompleted  1600  /  2000 epochs\n",
      "\tcompleted  1800  /  2000 epochs\n",
      "Thu Apr 18 15:30:36 2024 Finished embedding\n",
      "Input embedding dimention: 1280\n",
      "Data points: 25961\n",
      "Results saved at: ../bldb/lowdim/umap/umap_sbl_esm2_650m_200.csv\n",
      "\n",
      "#################################################################\n",
      "                            esm2_650m                              \n",
      "#################################################################\n",
      "      Running UMAP with n_neighbors = 300 | dataset = SBL\n",
      "#################################################################\n",
      "\n",
      "UMAP(angular_rp_forest=True, metric='cosine', min_dist=0.2, n_epochs=2000, n_neighbors=300, random_state=42, spread=0.2, verbose=True)\n",
      "Thu Apr 18 15:30:36 2024 Construct fuzzy simplicial set\n",
      "Thu Apr 18 15:30:36 2024 Finding Nearest Neighbors\n",
      "Thu Apr 18 15:30:36 2024 Building RP forest with 13 trees\n"
     ]
    },
    {
     "name": "stderr",
     "output_type": "stream",
     "text": [
      "/home/gama/anaconda3/envs/bio/lib/python3.11/site-packages/umap/umap_.py:1943: UserWarning: n_jobs value -1 overridden to 1 by setting random_state. Use no seed for parallelism.\n",
      "  warn(f\"n_jobs value {self.n_jobs} overridden to 1 by setting random_state. Use no seed for parallelism.\")\n"
     ]
    },
    {
     "name": "stdout",
     "output_type": "stream",
     "text": [
      "Thu Apr 18 15:30:37 2024 NN descent for 15 iterations\n",
      "\t 1  /  15\n",
      "\t 2  /  15\n",
      "\t 3  /  15\n",
      "\tStopping threshold met -- exiting after 3 iterations\n",
      "Thu Apr 18 15:31:16 2024 Finished Nearest Neighbor Search\n",
      "Thu Apr 18 15:31:18 2024 Construct embedding\n"
     ]
    },
    {
     "data": {
      "application/vnd.jupyter.widget-view+json": {
       "model_id": "42bf372cf81e458fb271df1991de8372",
       "version_major": 2,
       "version_minor": 0
      },
      "text/plain": [
       "Epochs completed:   0%|            0/2000 [00:00]"
      ]
     },
     "metadata": {},
     "output_type": "display_data"
    },
    {
     "name": "stdout",
     "output_type": "stream",
     "text": [
      "\tcompleted  0  /  2000 epochs\n",
      "\tcompleted  200  /  2000 epochs\n",
      "\tcompleted  400  /  2000 epochs\n",
      "\tcompleted  600  /  2000 epochs\n",
      "\tcompleted  800  /  2000 epochs\n",
      "\tcompleted  1000  /  2000 epochs\n",
      "\tcompleted  1200  /  2000 epochs\n",
      "\tcompleted  1400  /  2000 epochs\n",
      "\tcompleted  1600  /  2000 epochs\n",
      "\tcompleted  1800  /  2000 epochs\n",
      "Thu Apr 18 15:35:01 2024 Finished embedding\n",
      "Input embedding dimention: 1280\n",
      "Data points: 25961\n",
      "Results saved at: ../bldb/lowdim/umap/umap_sbl_esm2_650m_300.csv\n",
      "\n",
      "#################################################################\n",
      "                            esm2_650m                              \n",
      "#################################################################\n",
      "      Running UMAP with n_neighbors = 400 | dataset = SBL\n",
      "#################################################################\n",
      "\n",
      "UMAP(angular_rp_forest=True, metric='cosine', min_dist=0.2, n_epochs=2000, n_neighbors=400, random_state=42, spread=0.2, verbose=True)\n",
      "Thu Apr 18 15:35:02 2024 Construct fuzzy simplicial set\n",
      "Thu Apr 18 15:35:02 2024 Finding Nearest Neighbors\n",
      "Thu Apr 18 15:35:02 2024 Building RP forest with 13 trees\n"
     ]
    },
    {
     "name": "stderr",
     "output_type": "stream",
     "text": [
      "/home/gama/anaconda3/envs/bio/lib/python3.11/site-packages/umap/umap_.py:1943: UserWarning: n_jobs value -1 overridden to 1 by setting random_state. Use no seed for parallelism.\n",
      "  warn(f\"n_jobs value {self.n_jobs} overridden to 1 by setting random_state. Use no seed for parallelism.\")\n"
     ]
    },
    {
     "name": "stdout",
     "output_type": "stream",
     "text": [
      "Thu Apr 18 15:35:02 2024 NN descent for 15 iterations\n",
      "\t 1  /  15\n",
      "\t 2  /  15\n",
      "\t 3  /  15\n",
      "\tStopping threshold met -- exiting after 3 iterations\n",
      "Thu Apr 18 15:35:45 2024 Finished Nearest Neighbor Search\n",
      "Thu Apr 18 15:35:48 2024 Construct embedding\n"
     ]
    },
    {
     "data": {
      "application/vnd.jupyter.widget-view+json": {
       "model_id": "e9028ddfa8964ee090b92c9980ead9d5",
       "version_major": 2,
       "version_minor": 0
      },
      "text/plain": [
       "Epochs completed:   0%|            0/2000 [00:00]"
      ]
     },
     "metadata": {},
     "output_type": "display_data"
    },
    {
     "name": "stdout",
     "output_type": "stream",
     "text": [
      "\tcompleted  0  /  2000 epochs\n",
      "\tcompleted  200  /  2000 epochs\n",
      "\tcompleted  400  /  2000 epochs\n",
      "\tcompleted  600  /  2000 epochs\n",
      "\tcompleted  800  /  2000 epochs\n",
      "\tcompleted  1000  /  2000 epochs\n",
      "\tcompleted  1200  /  2000 epochs\n",
      "\tcompleted  1400  /  2000 epochs\n",
      "\tcompleted  1600  /  2000 epochs\n",
      "\tcompleted  1800  /  2000 epochs\n",
      "Thu Apr 18 15:39:47 2024 Finished embedding\n",
      "Input embedding dimention: 1280\n",
      "Data points: 25961\n",
      "Results saved at: ../bldb/lowdim/umap/umap_sbl_esm2_650m_400.csv\n",
      "\n",
      "#################################################################\n",
      "                            esm2_650m                              \n",
      "#################################################################\n",
      "      Running UMAP with n_neighbors = 500 | dataset = SBL\n",
      "#################################################################\n",
      "\n",
      "UMAP(angular_rp_forest=True, metric='cosine', min_dist=0.2, n_epochs=2000, n_neighbors=500, random_state=42, spread=0.2, verbose=True)\n",
      "Thu Apr 18 15:39:47 2024 Construct fuzzy simplicial set\n",
      "Thu Apr 18 15:39:47 2024 Finding Nearest Neighbors\n",
      "Thu Apr 18 15:39:47 2024 Building RP forest with 13 trees\n"
     ]
    },
    {
     "name": "stderr",
     "output_type": "stream",
     "text": [
      "/home/gama/anaconda3/envs/bio/lib/python3.11/site-packages/umap/umap_.py:1943: UserWarning: n_jobs value -1 overridden to 1 by setting random_state. Use no seed for parallelism.\n",
      "  warn(f\"n_jobs value {self.n_jobs} overridden to 1 by setting random_state. Use no seed for parallelism.\")\n"
     ]
    },
    {
     "name": "stdout",
     "output_type": "stream",
     "text": [
      "Thu Apr 18 15:39:47 2024 NN descent for 15 iterations\n",
      "\t 1  /  15\n",
      "\t 2  /  15\n",
      "\t 3  /  15\n",
      "\t 4  /  15\n",
      "\tStopping threshold met -- exiting after 4 iterations\n",
      "Thu Apr 18 15:40:52 2024 Finished Nearest Neighbor Search\n",
      "Thu Apr 18 15:40:55 2024 Construct embedding\n"
     ]
    },
    {
     "data": {
      "application/vnd.jupyter.widget-view+json": {
       "model_id": "ee2ba8944f3b486ea3ec8fab08235a4f",
       "version_major": 2,
       "version_minor": 0
      },
      "text/plain": [
       "Epochs completed:   0%|            0/2000 [00:00]"
      ]
     },
     "metadata": {},
     "output_type": "display_data"
    },
    {
     "name": "stdout",
     "output_type": "stream",
     "text": [
      "\tcompleted  0  /  2000 epochs\n",
      "\tcompleted  200  /  2000 epochs\n",
      "\tcompleted  400  /  2000 epochs\n",
      "\tcompleted  600  /  2000 epochs\n",
      "\tcompleted  800  /  2000 epochs\n",
      "\tcompleted  1000  /  2000 epochs\n",
      "\tcompleted  1200  /  2000 epochs\n",
      "\tcompleted  1400  /  2000 epochs\n",
      "\tcompleted  1600  /  2000 epochs\n",
      "\tcompleted  1800  /  2000 epochs\n",
      "Thu Apr 18 15:45:09 2024 Finished embedding\n",
      "Input embedding dimention: 1280\n",
      "Data points: 25961\n",
      "Results saved at: ../bldb/lowdim/umap/umap_sbl_esm2_650m_500.csv\n",
      "\n",
      "#################################################################\n",
      "                            esm2_650m                              \n",
      "#################################################################\n",
      "      Running UMAP with n_neighbors = 600 | dataset = SBL\n",
      "#################################################################\n",
      "\n",
      "UMAP(angular_rp_forest=True, metric='cosine', min_dist=0.2, n_epochs=2000, n_neighbors=600, random_state=42, spread=0.2, verbose=True)\n",
      "Thu Apr 18 15:45:10 2024 Construct fuzzy simplicial set\n",
      "Thu Apr 18 15:45:10 2024 Finding Nearest Neighbors\n",
      "Thu Apr 18 15:45:10 2024 Building RP forest with 13 trees\n"
     ]
    },
    {
     "name": "stderr",
     "output_type": "stream",
     "text": [
      "/home/gama/anaconda3/envs/bio/lib/python3.11/site-packages/umap/umap_.py:1943: UserWarning: n_jobs value -1 overridden to 1 by setting random_state. Use no seed for parallelism.\n",
      "  warn(f\"n_jobs value {self.n_jobs} overridden to 1 by setting random_state. Use no seed for parallelism.\")\n"
     ]
    },
    {
     "name": "stdout",
     "output_type": "stream",
     "text": [
      "Thu Apr 18 15:45:10 2024 NN descent for 15 iterations\n",
      "\t 1  /  15\n",
      "\t 2  /  15\n",
      "\t 3  /  15\n",
      "\t 4  /  15\n",
      "\tStopping threshold met -- exiting after 4 iterations\n",
      "Thu Apr 18 15:46:22 2024 Finished Nearest Neighbor Search\n",
      "Thu Apr 18 15:46:26 2024 Construct embedding\n"
     ]
    },
    {
     "data": {
      "application/vnd.jupyter.widget-view+json": {
       "model_id": "9b98160b188744d2b41be1b4e6e292f3",
       "version_major": 2,
       "version_minor": 0
      },
      "text/plain": [
       "Epochs completed:   0%|            0/2000 [00:00]"
      ]
     },
     "metadata": {},
     "output_type": "display_data"
    },
    {
     "name": "stdout",
     "output_type": "stream",
     "text": [
      "\tcompleted  0  /  2000 epochs\n",
      "\tcompleted  200  /  2000 epochs\n",
      "\tcompleted  400  /  2000 epochs\n",
      "\tcompleted  600  /  2000 epochs\n",
      "\tcompleted  800  /  2000 epochs\n",
      "\tcompleted  1000  /  2000 epochs\n",
      "\tcompleted  1200  /  2000 epochs\n",
      "\tcompleted  1400  /  2000 epochs\n",
      "\tcompleted  1600  /  2000 epochs\n",
      "\tcompleted  1800  /  2000 epochs\n",
      "Thu Apr 18 15:50:52 2024 Finished embedding\n",
      "Input embedding dimention: 1280\n",
      "Data points: 25961\n",
      "Results saved at: ../bldb/lowdim/umap/umap_sbl_esm2_650m_600.csv\n",
      "\n",
      "#################################################################\n",
      "                            esm2_650m                              \n",
      "#################################################################\n",
      "      Running UMAP with n_neighbors = 700 | dataset = SBL\n",
      "#################################################################\n",
      "\n",
      "UMAP(angular_rp_forest=True, metric='cosine', min_dist=0.2, n_epochs=2000, n_neighbors=700, random_state=42, spread=0.2, verbose=True)\n",
      "Thu Apr 18 15:50:52 2024 Construct fuzzy simplicial set\n",
      "Thu Apr 18 15:50:52 2024 Finding Nearest Neighbors\n",
      "Thu Apr 18 15:50:52 2024 Building RP forest with 13 trees\n"
     ]
    },
    {
     "name": "stderr",
     "output_type": "stream",
     "text": [
      "/home/gama/anaconda3/envs/bio/lib/python3.11/site-packages/umap/umap_.py:1943: UserWarning: n_jobs value -1 overridden to 1 by setting random_state. Use no seed for parallelism.\n",
      "  warn(f\"n_jobs value {self.n_jobs} overridden to 1 by setting random_state. Use no seed for parallelism.\")\n"
     ]
    },
    {
     "name": "stdout",
     "output_type": "stream",
     "text": [
      "Thu Apr 18 15:50:52 2024 NN descent for 15 iterations\n",
      "\t 1  /  15\n",
      "\t 2  /  15\n",
      "\t 3  /  15\n",
      "\t 4  /  15\n",
      "\tStopping threshold met -- exiting after 4 iterations\n",
      "Thu Apr 18 15:52:13 2024 Finished Nearest Neighbor Search\n",
      "Thu Apr 18 15:52:18 2024 Construct embedding\n"
     ]
    },
    {
     "data": {
      "application/vnd.jupyter.widget-view+json": {
       "model_id": "514ffe2edd5f465da89d50567255e6d7",
       "version_major": 2,
       "version_minor": 0
      },
      "text/plain": [
       "Epochs completed:   0%|            0/2000 [00:00]"
      ]
     },
     "metadata": {},
     "output_type": "display_data"
    },
    {
     "name": "stdout",
     "output_type": "stream",
     "text": [
      "\tcompleted  0  /  2000 epochs\n",
      "\tcompleted  200  /  2000 epochs\n",
      "\tcompleted  400  /  2000 epochs\n",
      "\tcompleted  600  /  2000 epochs\n",
      "\tcompleted  800  /  2000 epochs\n",
      "\tcompleted  1000  /  2000 epochs\n",
      "\tcompleted  1200  /  2000 epochs\n",
      "\tcompleted  1400  /  2000 epochs\n",
      "\tcompleted  1600  /  2000 epochs\n",
      "\tcompleted  1800  /  2000 epochs\n",
      "Thu Apr 18 15:56:52 2024 Finished embedding\n",
      "Input embedding dimention: 1280\n",
      "Data points: 25961\n",
      "Results saved at: ../bldb/lowdim/umap/umap_sbl_esm2_650m_700.csv\n",
      "\n",
      "#################################################################\n",
      "                            esm2_650m                              \n",
      "#################################################################\n",
      "      Running UMAP with n_neighbors = 800 | dataset = SBL\n",
      "#################################################################\n",
      "\n",
      "UMAP(angular_rp_forest=True, metric='cosine', min_dist=0.2, n_epochs=2000, n_neighbors=800, random_state=42, spread=0.2, verbose=True)\n",
      "Thu Apr 18 15:56:53 2024 Construct fuzzy simplicial set\n",
      "Thu Apr 18 15:56:53 2024 Finding Nearest Neighbors\n",
      "Thu Apr 18 15:56:53 2024 Building RP forest with 13 trees\n"
     ]
    },
    {
     "name": "stderr",
     "output_type": "stream",
     "text": [
      "/home/gama/anaconda3/envs/bio/lib/python3.11/site-packages/umap/umap_.py:1943: UserWarning: n_jobs value -1 overridden to 1 by setting random_state. Use no seed for parallelism.\n",
      "  warn(f\"n_jobs value {self.n_jobs} overridden to 1 by setting random_state. Use no seed for parallelism.\")\n"
     ]
    },
    {
     "name": "stdout",
     "output_type": "stream",
     "text": [
      "Thu Apr 18 15:56:53 2024 NN descent for 15 iterations\n",
      "\t 1  /  15\n",
      "\t 2  /  15\n",
      "\t 3  /  15\n",
      "\t 4  /  15\n",
      "\tStopping threshold met -- exiting after 4 iterations\n",
      "Thu Apr 18 15:58:21 2024 Finished Nearest Neighbor Search\n",
      "Thu Apr 18 15:58:27 2024 Construct embedding\n"
     ]
    },
    {
     "data": {
      "application/vnd.jupyter.widget-view+json": {
       "model_id": "900befee4f66433c81e3ecee8cd4e8a9",
       "version_major": 2,
       "version_minor": 0
      },
      "text/plain": [
       "Epochs completed:   0%|            0/2000 [00:00]"
      ]
     },
     "metadata": {},
     "output_type": "display_data"
    },
    {
     "name": "stdout",
     "output_type": "stream",
     "text": [
      "\tcompleted  0  /  2000 epochs\n",
      "\tcompleted  200  /  2000 epochs\n",
      "\tcompleted  400  /  2000 epochs\n",
      "\tcompleted  600  /  2000 epochs\n",
      "\tcompleted  800  /  2000 epochs\n",
      "\tcompleted  1000  /  2000 epochs\n",
      "\tcompleted  1200  /  2000 epochs\n",
      "\tcompleted  1400  /  2000 epochs\n",
      "\tcompleted  1600  /  2000 epochs\n",
      "\tcompleted  1800  /  2000 epochs\n",
      "Thu Apr 18 16:03:10 2024 Finished embedding\n",
      "Input embedding dimention: 1280\n",
      "Data points: 25961\n",
      "Results saved at: ../bldb/lowdim/umap/umap_sbl_esm2_650m_800.csv\n",
      "\n",
      "#################################################################\n",
      "                            esm2_650m                              \n",
      "#################################################################\n",
      "      Running UMAP with n_neighbors = 900 | dataset = SBL\n",
      "#################################################################\n",
      "\n",
      "UMAP(angular_rp_forest=True, metric='cosine', min_dist=0.2, n_epochs=2000, n_neighbors=900, random_state=42, spread=0.2, verbose=True)\n",
      "Thu Apr 18 16:03:10 2024 Construct fuzzy simplicial set\n",
      "Thu Apr 18 16:03:10 2024 Finding Nearest Neighbors\n",
      "Thu Apr 18 16:03:10 2024 Building RP forest with 13 trees\n"
     ]
    },
    {
     "name": "stderr",
     "output_type": "stream",
     "text": [
      "/home/gama/anaconda3/envs/bio/lib/python3.11/site-packages/umap/umap_.py:1943: UserWarning: n_jobs value -1 overridden to 1 by setting random_state. Use no seed for parallelism.\n",
      "  warn(f\"n_jobs value {self.n_jobs} overridden to 1 by setting random_state. Use no seed for parallelism.\")\n"
     ]
    },
    {
     "name": "stdout",
     "output_type": "stream",
     "text": [
      "Thu Apr 18 16:03:10 2024 NN descent for 15 iterations\n",
      "\t 1  /  15\n",
      "\t 2  /  15\n",
      "\t 3  /  15\n",
      "\t 4  /  15\n",
      "\tStopping threshold met -- exiting after 4 iterations\n",
      "Thu Apr 18 16:04:47 2024 Finished Nearest Neighbor Search\n",
      "Thu Apr 18 16:04:53 2024 Construct embedding\n"
     ]
    },
    {
     "data": {
      "application/vnd.jupyter.widget-view+json": {
       "model_id": "94fb60b29953498bbc266d8c96e1d682",
       "version_major": 2,
       "version_minor": 0
      },
      "text/plain": [
       "Epochs completed:   0%|            0/2000 [00:00]"
      ]
     },
     "metadata": {},
     "output_type": "display_data"
    },
    {
     "name": "stdout",
     "output_type": "stream",
     "text": [
      "\tcompleted  0  /  2000 epochs\n",
      "\tcompleted  200  /  2000 epochs\n",
      "\tcompleted  400  /  2000 epochs\n",
      "\tcompleted  600  /  2000 epochs\n",
      "\tcompleted  800  /  2000 epochs\n",
      "\tcompleted  1000  /  2000 epochs\n",
      "\tcompleted  1200  /  2000 epochs\n",
      "\tcompleted  1400  /  2000 epochs\n",
      "\tcompleted  1600  /  2000 epochs\n",
      "\tcompleted  1800  /  2000 epochs\n",
      "Thu Apr 18 16:09:45 2024 Finished embedding\n",
      "Input embedding dimention: 1280\n",
      "Data points: 25961\n",
      "Results saved at: ../bldb/lowdim/umap/umap_sbl_esm2_650m_900.csv\n",
      "\n",
      "#################################################################\n",
      "                            esm2_650m                              \n",
      "#################################################################\n",
      "      Running UMAP with n_neighbors = 1000 | dataset = SBL\n",
      "#################################################################\n",
      "\n",
      "UMAP(angular_rp_forest=True, metric='cosine', min_dist=0.2, n_epochs=2000, n_neighbors=1000, random_state=42, spread=0.2, verbose=True)\n",
      "Thu Apr 18 16:09:45 2024 Construct fuzzy simplicial set\n",
      "Thu Apr 18 16:09:45 2024 Finding Nearest Neighbors\n",
      "Thu Apr 18 16:09:45 2024 Building RP forest with 13 trees\n"
     ]
    },
    {
     "name": "stderr",
     "output_type": "stream",
     "text": [
      "/home/gama/anaconda3/envs/bio/lib/python3.11/site-packages/umap/umap_.py:1943: UserWarning: n_jobs value -1 overridden to 1 by setting random_state. Use no seed for parallelism.\n",
      "  warn(f\"n_jobs value {self.n_jobs} overridden to 1 by setting random_state. Use no seed for parallelism.\")\n"
     ]
    },
    {
     "name": "stdout",
     "output_type": "stream",
     "text": [
      "Thu Apr 18 16:09:45 2024 NN descent for 15 iterations\n",
      "\t 1  /  15\n",
      "\t 2  /  15\n",
      "\t 3  /  15\n",
      "\t 4  /  15\n",
      "\tStopping threshold met -- exiting after 4 iterations\n",
      "Thu Apr 18 16:11:31 2024 Finished Nearest Neighbor Search\n",
      "Thu Apr 18 16:11:39 2024 Construct embedding\n"
     ]
    },
    {
     "data": {
      "application/vnd.jupyter.widget-view+json": {
       "model_id": "03735726b5ba427abc8da23bb58c2031",
       "version_major": 2,
       "version_minor": 0
      },
      "text/plain": [
       "Epochs completed:   0%|            0/2000 [00:00]"
      ]
     },
     "metadata": {},
     "output_type": "display_data"
    },
    {
     "name": "stdout",
     "output_type": "stream",
     "text": [
      "\tcompleted  0  /  2000 epochs\n",
      "\tcompleted  200  /  2000 epochs\n",
      "\tcompleted  400  /  2000 epochs\n",
      "\tcompleted  600  /  2000 epochs\n",
      "\tcompleted  800  /  2000 epochs\n",
      "\tcompleted  1000  /  2000 epochs\n",
      "\tcompleted  1200  /  2000 epochs\n",
      "\tcompleted  1400  /  2000 epochs\n",
      "\tcompleted  1600  /  2000 epochs\n",
      "\tcompleted  1800  /  2000 epochs\n",
      "Thu Apr 18 16:16:36 2024 Finished embedding\n",
      "Input embedding dimention: 1280\n",
      "Data points: 25961\n",
      "Results saved at: ../bldb/lowdim/umap/umap_sbl_esm2_650m_1000.csv\n",
      "\n",
      "#################################################################\n",
      "                            esm2_3b                              \n",
      "#################################################################\n",
      "      Running UMAP with n_neighbors = 30 | dataset = SBL\n",
      "#################################################################\n",
      "\n",
      "UMAP(angular_rp_forest=True, metric='cosine', min_dist=0.2, n_epochs=2000, n_neighbors=30, random_state=42, spread=0.2, verbose=True)\n",
      "Thu Apr 18 16:16:37 2024 Construct fuzzy simplicial set\n"
     ]
    },
    {
     "name": "stderr",
     "output_type": "stream",
     "text": [
      "/home/gama/anaconda3/envs/bio/lib/python3.11/site-packages/umap/umap_.py:1943: UserWarning: n_jobs value -1 overridden to 1 by setting random_state. Use no seed for parallelism.\n",
      "  warn(f\"n_jobs value {self.n_jobs} overridden to 1 by setting random_state. Use no seed for parallelism.\")\n"
     ]
    },
    {
     "name": "stdout",
     "output_type": "stream",
     "text": [
      "Thu Apr 18 16:16:37 2024 Finding Nearest Neighbors\n",
      "Thu Apr 18 16:16:37 2024 Building RP forest with 13 trees\n",
      "Thu Apr 18 16:16:38 2024 NN descent for 15 iterations\n",
      "\t 1  /  15\n",
      "\t 2  /  15\n",
      "\t 3  /  15\n",
      "\tStopping threshold met -- exiting after 3 iterations\n",
      "Thu Apr 18 16:16:41 2024 Finished Nearest Neighbor Search\n",
      "Thu Apr 18 16:16:42 2024 Construct embedding\n"
     ]
    },
    {
     "data": {
      "application/vnd.jupyter.widget-view+json": {
       "model_id": "2e20a350aa51437c9dd964eadfbc17ab",
       "version_major": 2,
       "version_minor": 0
      },
      "text/plain": [
       "Epochs completed:   0%|            0/2000 [00:00]"
      ]
     },
     "metadata": {},
     "output_type": "display_data"
    },
    {
     "name": "stdout",
     "output_type": "stream",
     "text": [
      "\tcompleted  0  /  2000 epochs\n",
      "\tcompleted  200  /  2000 epochs\n",
      "\tcompleted  400  /  2000 epochs\n",
      "\tcompleted  600  /  2000 epochs\n",
      "\tcompleted  800  /  2000 epochs\n",
      "\tcompleted  1000  /  2000 epochs\n",
      "\tcompleted  1200  /  2000 epochs\n",
      "\tcompleted  1400  /  2000 epochs\n",
      "\tcompleted  1600  /  2000 epochs\n",
      "\tcompleted  1800  /  2000 epochs\n",
      "Thu Apr 18 16:18:39 2024 Finished embedding\n",
      "Input embedding dimention: 2560\n",
      "Data points: 25961\n",
      "Results saved at: ../bldb/lowdim/umap/umap_sbl_esm2_3b_30.csv\n",
      "\n",
      "#################################################################\n",
      "                            esm2_3b                              \n",
      "#################################################################\n",
      "      Running UMAP with n_neighbors = 50 | dataset = SBL\n",
      "#################################################################\n",
      "\n",
      "UMAP(angular_rp_forest=True, metric='cosine', min_dist=0.2, n_epochs=2000, n_neighbors=50, random_state=42, spread=0.2, verbose=True)\n",
      "Thu Apr 18 16:18:39 2024 Construct fuzzy simplicial set\n"
     ]
    },
    {
     "name": "stderr",
     "output_type": "stream",
     "text": [
      "/home/gama/anaconda3/envs/bio/lib/python3.11/site-packages/umap/umap_.py:1943: UserWarning: n_jobs value -1 overridden to 1 by setting random_state. Use no seed for parallelism.\n",
      "  warn(f\"n_jobs value {self.n_jobs} overridden to 1 by setting random_state. Use no seed for parallelism.\")\n"
     ]
    },
    {
     "name": "stdout",
     "output_type": "stream",
     "text": [
      "Thu Apr 18 16:18:39 2024 Finding Nearest Neighbors\n",
      "Thu Apr 18 16:18:39 2024 Building RP forest with 13 trees\n",
      "Thu Apr 18 16:18:40 2024 NN descent for 15 iterations\n",
      "\t 1  /  15\n",
      "\t 2  /  15\n",
      "\tStopping threshold met -- exiting after 2 iterations\n",
      "Thu Apr 18 16:18:50 2024 Finished Nearest Neighbor Search\n",
      "Thu Apr 18 16:18:50 2024 Construct embedding\n"
     ]
    },
    {
     "data": {
      "application/vnd.jupyter.widget-view+json": {
       "model_id": "b183dc35bbdc4ef08c235885a6697c8a",
       "version_major": 2,
       "version_minor": 0
      },
      "text/plain": [
       "Epochs completed:   0%|            0/2000 [00:00]"
      ]
     },
     "metadata": {},
     "output_type": "display_data"
    },
    {
     "name": "stdout",
     "output_type": "stream",
     "text": [
      "\tcompleted  0  /  2000 epochs\n",
      "\tcompleted  200  /  2000 epochs\n",
      "\tcompleted  400  /  2000 epochs\n",
      "\tcompleted  600  /  2000 epochs\n",
      "\tcompleted  800  /  2000 epochs\n",
      "\tcompleted  1000  /  2000 epochs\n",
      "\tcompleted  1200  /  2000 epochs\n",
      "\tcompleted  1400  /  2000 epochs\n",
      "\tcompleted  1600  /  2000 epochs\n",
      "\tcompleted  1800  /  2000 epochs\n",
      "Thu Apr 18 16:21:05 2024 Finished embedding\n",
      "Input embedding dimention: 2560\n",
      "Data points: 25961\n",
      "Results saved at: ../bldb/lowdim/umap/umap_sbl_esm2_3b_50.csv\n",
      "\n",
      "#################################################################\n",
      "                            esm2_3b                              \n",
      "#################################################################\n",
      "      Running UMAP with n_neighbors = 100 | dataset = SBL\n",
      "#################################################################\n",
      "\n",
      "UMAP(angular_rp_forest=True, metric='cosine', min_dist=0.2, n_epochs=2000, n_neighbors=100, random_state=42, spread=0.2, verbose=True)\n",
      "Thu Apr 18 16:21:05 2024 Construct fuzzy simplicial set\n"
     ]
    },
    {
     "name": "stderr",
     "output_type": "stream",
     "text": [
      "/home/gama/anaconda3/envs/bio/lib/python3.11/site-packages/umap/umap_.py:1943: UserWarning: n_jobs value -1 overridden to 1 by setting random_state. Use no seed for parallelism.\n",
      "  warn(f\"n_jobs value {self.n_jobs} overridden to 1 by setting random_state. Use no seed for parallelism.\")\n"
     ]
    },
    {
     "name": "stdout",
     "output_type": "stream",
     "text": [
      "Thu Apr 18 16:21:05 2024 Finding Nearest Neighbors\n",
      "Thu Apr 18 16:21:05 2024 Building RP forest with 13 trees\n",
      "Thu Apr 18 16:21:06 2024 NN descent for 15 iterations\n",
      "\t 1  /  15\n",
      "\t 2  /  15\n",
      "\t 3  /  15\n",
      "\tStopping threshold met -- exiting after 3 iterations\n",
      "Thu Apr 18 16:21:39 2024 Finished Nearest Neighbor Search\n",
      "Thu Apr 18 16:21:40 2024 Construct embedding\n"
     ]
    },
    {
     "data": {
      "application/vnd.jupyter.widget-view+json": {
       "model_id": "d8b269c7f6394867b52444b942300fb7",
       "version_major": 2,
       "version_minor": 0
      },
      "text/plain": [
       "Epochs completed:   0%|            0/2000 [00:00]"
      ]
     },
     "metadata": {},
     "output_type": "display_data"
    },
    {
     "name": "stdout",
     "output_type": "stream",
     "text": [
      "\tcompleted  0  /  2000 epochs\n",
      "\tcompleted  200  /  2000 epochs\n",
      "\tcompleted  400  /  2000 epochs\n",
      "\tcompleted  600  /  2000 epochs\n",
      "\tcompleted  800  /  2000 epochs\n",
      "\tcompleted  1000  /  2000 epochs\n",
      "\tcompleted  1200  /  2000 epochs\n",
      "\tcompleted  1400  /  2000 epochs\n",
      "\tcompleted  1600  /  2000 epochs\n",
      "\tcompleted  1800  /  2000 epochs\n",
      "Thu Apr 18 16:24:23 2024 Finished embedding\n",
      "Input embedding dimention: 2560\n",
      "Data points: 25961\n",
      "Results saved at: ../bldb/lowdim/umap/umap_sbl_esm2_3b_100.csv\n",
      "\n",
      "#################################################################\n",
      "                            esm2_3b                              \n",
      "#################################################################\n",
      "      Running UMAP with n_neighbors = 200 | dataset = SBL\n",
      "#################################################################\n",
      "\n",
      "UMAP(angular_rp_forest=True, metric='cosine', min_dist=0.2, n_epochs=2000, n_neighbors=200, random_state=42, spread=0.2, verbose=True)\n",
      "Thu Apr 18 16:24:23 2024 Construct fuzzy simplicial set\n"
     ]
    },
    {
     "name": "stderr",
     "output_type": "stream",
     "text": [
      "/home/gama/anaconda3/envs/bio/lib/python3.11/site-packages/umap/umap_.py:1943: UserWarning: n_jobs value -1 overridden to 1 by setting random_state. Use no seed for parallelism.\n",
      "  warn(f\"n_jobs value {self.n_jobs} overridden to 1 by setting random_state. Use no seed for parallelism.\")\n"
     ]
    },
    {
     "name": "stdout",
     "output_type": "stream",
     "text": [
      "Thu Apr 18 16:24:23 2024 Finding Nearest Neighbors\n",
      "Thu Apr 18 16:24:23 2024 Building RP forest with 13 trees\n",
      "Thu Apr 18 16:24:24 2024 NN descent for 15 iterations\n",
      "\t 1  /  15\n",
      "\t 2  /  15\n",
      "\t 3  /  15\n",
      "\tStopping threshold met -- exiting after 3 iterations\n",
      "Thu Apr 18 16:25:10 2024 Finished Nearest Neighbor Search\n",
      "Thu Apr 18 16:25:12 2024 Construct embedding\n"
     ]
    },
    {
     "data": {
      "application/vnd.jupyter.widget-view+json": {
       "model_id": "62e8c24c3d0c49ce830f7469b62d24b7",
       "version_major": 2,
       "version_minor": 0
      },
      "text/plain": [
       "Epochs completed:   0%|            0/2000 [00:00]"
      ]
     },
     "metadata": {},
     "output_type": "display_data"
    },
    {
     "name": "stdout",
     "output_type": "stream",
     "text": [
      "\tcompleted  0  /  2000 epochs\n",
      "\tcompleted  200  /  2000 epochs\n",
      "\tcompleted  400  /  2000 epochs\n",
      "\tcompleted  600  /  2000 epochs\n",
      "\tcompleted  800  /  2000 epochs\n",
      "\tcompleted  1000  /  2000 epochs\n",
      "\tcompleted  1200  /  2000 epochs\n",
      "\tcompleted  1400  /  2000 epochs\n",
      "\tcompleted  1600  /  2000 epochs\n",
      "\tcompleted  1800  /  2000 epochs\n",
      "Thu Apr 18 16:28:32 2024 Finished embedding\n",
      "Input embedding dimention: 2560\n",
      "Data points: 25961\n",
      "Results saved at: ../bldb/lowdim/umap/umap_sbl_esm2_3b_200.csv\n",
      "\n",
      "#################################################################\n",
      "                            esm2_3b                              \n",
      "#################################################################\n",
      "      Running UMAP with n_neighbors = 300 | dataset = SBL\n",
      "#################################################################\n",
      "\n",
      "UMAP(angular_rp_forest=True, metric='cosine', min_dist=0.2, n_epochs=2000, n_neighbors=300, random_state=42, spread=0.2, verbose=True)\n",
      "Thu Apr 18 16:28:32 2024 Construct fuzzy simplicial set\n"
     ]
    },
    {
     "name": "stderr",
     "output_type": "stream",
     "text": [
      "/home/gama/anaconda3/envs/bio/lib/python3.11/site-packages/umap/umap_.py:1943: UserWarning: n_jobs value -1 overridden to 1 by setting random_state. Use no seed for parallelism.\n",
      "  warn(f\"n_jobs value {self.n_jobs} overridden to 1 by setting random_state. Use no seed for parallelism.\")\n"
     ]
    },
    {
     "name": "stdout",
     "output_type": "stream",
     "text": [
      "Thu Apr 18 16:28:32 2024 Finding Nearest Neighbors\n",
      "Thu Apr 18 16:28:32 2024 Building RP forest with 13 trees\n",
      "Thu Apr 18 16:28:33 2024 NN descent for 15 iterations\n",
      "\t 1  /  15\n",
      "\t 2  /  15\n",
      "\t 3  /  15\n",
      "\tStopping threshold met -- exiting after 3 iterations\n",
      "Thu Apr 18 16:29:27 2024 Finished Nearest Neighbor Search\n",
      "Thu Apr 18 16:29:29 2024 Construct embedding\n"
     ]
    },
    {
     "data": {
      "application/vnd.jupyter.widget-view+json": {
       "model_id": "ba6e82f88faa4f1783751e9dbd6f10ca",
       "version_major": 2,
       "version_minor": 0
      },
      "text/plain": [
       "Epochs completed:   0%|            0/2000 [00:00]"
      ]
     },
     "metadata": {},
     "output_type": "display_data"
    },
    {
     "name": "stdout",
     "output_type": "stream",
     "text": [
      "\tcompleted  0  /  2000 epochs\n",
      "\tcompleted  200  /  2000 epochs\n",
      "\tcompleted  400  /  2000 epochs\n",
      "\tcompleted  600  /  2000 epochs\n",
      "\tcompleted  800  /  2000 epochs\n",
      "\tcompleted  1000  /  2000 epochs\n",
      "\tcompleted  1200  /  2000 epochs\n",
      "\tcompleted  1400  /  2000 epochs\n",
      "\tcompleted  1600  /  2000 epochs\n",
      "\tcompleted  1800  /  2000 epochs\n",
      "Thu Apr 18 16:33:14 2024 Finished embedding\n",
      "Input embedding dimention: 2560\n",
      "Data points: 25961\n",
      "Results saved at: ../bldb/lowdim/umap/umap_sbl_esm2_3b_300.csv\n",
      "\n",
      "#################################################################\n",
      "                            esm2_3b                              \n",
      "#################################################################\n",
      "      Running UMAP with n_neighbors = 400 | dataset = SBL\n",
      "#################################################################\n",
      "\n",
      "UMAP(angular_rp_forest=True, metric='cosine', min_dist=0.2, n_epochs=2000, n_neighbors=400, random_state=42, spread=0.2, verbose=True)\n",
      "Thu Apr 18 16:33:15 2024 Construct fuzzy simplicial set\n"
     ]
    },
    {
     "name": "stderr",
     "output_type": "stream",
     "text": [
      "/home/gama/anaconda3/envs/bio/lib/python3.11/site-packages/umap/umap_.py:1943: UserWarning: n_jobs value -1 overridden to 1 by setting random_state. Use no seed for parallelism.\n",
      "  warn(f\"n_jobs value {self.n_jobs} overridden to 1 by setting random_state. Use no seed for parallelism.\")\n"
     ]
    },
    {
     "name": "stdout",
     "output_type": "stream",
     "text": [
      "Thu Apr 18 16:33:15 2024 Finding Nearest Neighbors\n",
      "Thu Apr 18 16:33:15 2024 Building RP forest with 13 trees\n",
      "Thu Apr 18 16:33:15 2024 NN descent for 15 iterations\n",
      "\t 1  /  15\n",
      "\t 2  /  15\n",
      "\t 3  /  15\n",
      "\tStopping threshold met -- exiting after 3 iterations\n",
      "Thu Apr 18 16:34:17 2024 Finished Nearest Neighbor Search\n",
      "Thu Apr 18 16:34:20 2024 Construct embedding\n"
     ]
    },
    {
     "data": {
      "application/vnd.jupyter.widget-view+json": {
       "model_id": "88a93df2ded34246be0c2e5d5dc899fb",
       "version_major": 2,
       "version_minor": 0
      },
      "text/plain": [
       "Epochs completed:   0%|            0/2000 [00:00]"
      ]
     },
     "metadata": {},
     "output_type": "display_data"
    },
    {
     "name": "stdout",
     "output_type": "stream",
     "text": [
      "\tcompleted  0  /  2000 epochs\n",
      "\tcompleted  200  /  2000 epochs\n",
      "\tcompleted  400  /  2000 epochs\n",
      "\tcompleted  600  /  2000 epochs\n",
      "\tcompleted  800  /  2000 epochs\n",
      "\tcompleted  1000  /  2000 epochs\n",
      "\tcompleted  1200  /  2000 epochs\n",
      "\tcompleted  1400  /  2000 epochs\n",
      "\tcompleted  1600  /  2000 epochs\n",
      "\tcompleted  1800  /  2000 epochs\n",
      "Thu Apr 18 16:38:21 2024 Finished embedding\n",
      "Input embedding dimention: 2560\n",
      "Data points: 25961\n",
      "Results saved at: ../bldb/lowdim/umap/umap_sbl_esm2_3b_400.csv\n",
      "\n",
      "#################################################################\n",
      "                            esm2_3b                              \n",
      "#################################################################\n",
      "      Running UMAP with n_neighbors = 500 | dataset = SBL\n",
      "#################################################################\n",
      "\n",
      "UMAP(angular_rp_forest=True, metric='cosine', min_dist=0.2, n_epochs=2000, n_neighbors=500, random_state=42, spread=0.2, verbose=True)\n",
      "Thu Apr 18 16:38:22 2024 Construct fuzzy simplicial set\n"
     ]
    },
    {
     "name": "stderr",
     "output_type": "stream",
     "text": [
      "/home/gama/anaconda3/envs/bio/lib/python3.11/site-packages/umap/umap_.py:1943: UserWarning: n_jobs value -1 overridden to 1 by setting random_state. Use no seed for parallelism.\n",
      "  warn(f\"n_jobs value {self.n_jobs} overridden to 1 by setting random_state. Use no seed for parallelism.\")\n"
     ]
    },
    {
     "name": "stdout",
     "output_type": "stream",
     "text": [
      "Thu Apr 18 16:38:22 2024 Finding Nearest Neighbors\n",
      "Thu Apr 18 16:38:22 2024 Building RP forest with 13 trees\n",
      "Thu Apr 18 16:38:23 2024 NN descent for 15 iterations\n",
      "\t 1  /  15\n",
      "\t 2  /  15\n",
      "\t 3  /  15\n",
      "\tStopping threshold met -- exiting after 3 iterations\n",
      "Thu Apr 18 16:39:32 2024 Finished Nearest Neighbor Search\n",
      "Thu Apr 18 16:39:35 2024 Construct embedding\n"
     ]
    },
    {
     "data": {
      "application/vnd.jupyter.widget-view+json": {
       "model_id": "743ce29c849e4184a7dbfd1a744e7823",
       "version_major": 2,
       "version_minor": 0
      },
      "text/plain": [
       "Epochs completed:   0%|            0/2000 [00:00]"
      ]
     },
     "metadata": {},
     "output_type": "display_data"
    },
    {
     "name": "stdout",
     "output_type": "stream",
     "text": [
      "\tcompleted  0  /  2000 epochs\n",
      "\tcompleted  200  /  2000 epochs\n",
      "\tcompleted  400  /  2000 epochs\n",
      "\tcompleted  600  /  2000 epochs\n",
      "\tcompleted  800  /  2000 epochs\n",
      "\tcompleted  1000  /  2000 epochs\n",
      "\tcompleted  1200  /  2000 epochs\n",
      "\tcompleted  1400  /  2000 epochs\n",
      "\tcompleted  1600  /  2000 epochs\n",
      "\tcompleted  1800  /  2000 epochs\n",
      "Thu Apr 18 16:43:53 2024 Finished embedding\n",
      "Input embedding dimention: 2560\n",
      "Data points: 25961\n",
      "Results saved at: ../bldb/lowdim/umap/umap_sbl_esm2_3b_500.csv\n",
      "\n",
      "#################################################################\n",
      "                            esm2_3b                              \n",
      "#################################################################\n",
      "      Running UMAP with n_neighbors = 600 | dataset = SBL\n",
      "#################################################################\n",
      "\n",
      "UMAP(angular_rp_forest=True, metric='cosine', min_dist=0.2, n_epochs=2000, n_neighbors=600, random_state=42, spread=0.2, verbose=True)\n",
      "Thu Apr 18 16:43:54 2024 Construct fuzzy simplicial set\n"
     ]
    },
    {
     "name": "stderr",
     "output_type": "stream",
     "text": [
      "/home/gama/anaconda3/envs/bio/lib/python3.11/site-packages/umap/umap_.py:1943: UserWarning: n_jobs value -1 overridden to 1 by setting random_state. Use no seed for parallelism.\n",
      "  warn(f\"n_jobs value {self.n_jobs} overridden to 1 by setting random_state. Use no seed for parallelism.\")\n"
     ]
    },
    {
     "name": "stdout",
     "output_type": "stream",
     "text": [
      "Thu Apr 18 16:43:54 2024 Finding Nearest Neighbors\n",
      "Thu Apr 18 16:43:54 2024 Building RP forest with 13 trees\n",
      "Thu Apr 18 16:43:54 2024 NN descent for 15 iterations\n",
      "\t 1  /  15\n",
      "\t 2  /  15\n",
      "\t 3  /  15\n",
      "\t 4  /  15\n",
      "\tStopping threshold met -- exiting after 4 iterations\n",
      "Thu Apr 18 16:45:34 2024 Finished Nearest Neighbor Search\n",
      "Thu Apr 18 16:45:38 2024 Construct embedding\n"
     ]
    },
    {
     "data": {
      "application/vnd.jupyter.widget-view+json": {
       "model_id": "2ee9ac59b4a74a0086e5cf2166902884",
       "version_major": 2,
       "version_minor": 0
      },
      "text/plain": [
       "Epochs completed:   0%|            0/2000 [00:00]"
      ]
     },
     "metadata": {},
     "output_type": "display_data"
    },
    {
     "name": "stdout",
     "output_type": "stream",
     "text": [
      "\tcompleted  0  /  2000 epochs\n",
      "\tcompleted  200  /  2000 epochs\n",
      "\tcompleted  400  /  2000 epochs\n",
      "\tcompleted  600  /  2000 epochs\n",
      "\tcompleted  800  /  2000 epochs\n",
      "\tcompleted  1000  /  2000 epochs\n",
      "\tcompleted  1200  /  2000 epochs\n",
      "\tcompleted  1400  /  2000 epochs\n",
      "\tcompleted  1600  /  2000 epochs\n",
      "\tcompleted  1800  /  2000 epochs\n",
      "Thu Apr 18 16:50:04 2024 Finished embedding\n",
      "Input embedding dimention: 2560\n",
      "Data points: 25961\n",
      "Results saved at: ../bldb/lowdim/umap/umap_sbl_esm2_3b_600.csv\n",
      "\n",
      "#################################################################\n",
      "                            esm2_3b                              \n",
      "#################################################################\n",
      "      Running UMAP with n_neighbors = 700 | dataset = SBL\n",
      "#################################################################\n",
      "\n",
      "UMAP(angular_rp_forest=True, metric='cosine', min_dist=0.2, n_epochs=2000, n_neighbors=700, random_state=42, spread=0.2, verbose=True)\n",
      "Thu Apr 18 16:50:04 2024 Construct fuzzy simplicial set\n"
     ]
    },
    {
     "name": "stderr",
     "output_type": "stream",
     "text": [
      "/home/gama/anaconda3/envs/bio/lib/python3.11/site-packages/umap/umap_.py:1943: UserWarning: n_jobs value -1 overridden to 1 by setting random_state. Use no seed for parallelism.\n",
      "  warn(f\"n_jobs value {self.n_jobs} overridden to 1 by setting random_state. Use no seed for parallelism.\")\n"
     ]
    },
    {
     "name": "stdout",
     "output_type": "stream",
     "text": [
      "Thu Apr 18 16:50:04 2024 Finding Nearest Neighbors\n",
      "Thu Apr 18 16:50:04 2024 Building RP forest with 13 trees\n",
      "Thu Apr 18 16:50:05 2024 NN descent for 15 iterations\n",
      "\t 1  /  15\n",
      "\t 2  /  15\n",
      "\t 3  /  15\n",
      "\t 4  /  15\n",
      "\tStopping threshold met -- exiting after 4 iterations\n",
      "Thu Apr 18 16:51:55 2024 Finished Nearest Neighbor Search\n",
      "Thu Apr 18 16:52:00 2024 Construct embedding\n"
     ]
    },
    {
     "data": {
      "application/vnd.jupyter.widget-view+json": {
       "model_id": "f1aa4acc0e12483a9cabe9b380ba0d75",
       "version_major": 2,
       "version_minor": 0
      },
      "text/plain": [
       "Epochs completed:   0%|            0/2000 [00:00]"
      ]
     },
     "metadata": {},
     "output_type": "display_data"
    },
    {
     "name": "stdout",
     "output_type": "stream",
     "text": [
      "\tcompleted  0  /  2000 epochs\n",
      "\tcompleted  200  /  2000 epochs\n",
      "\tcompleted  400  /  2000 epochs\n",
      "\tcompleted  600  /  2000 epochs\n",
      "\tcompleted  800  /  2000 epochs\n",
      "\tcompleted  1000  /  2000 epochs\n",
      "\tcompleted  1200  /  2000 epochs\n",
      "\tcompleted  1400  /  2000 epochs\n",
      "\tcompleted  1600  /  2000 epochs\n",
      "\tcompleted  1800  /  2000 epochs\n",
      "Thu Apr 18 16:56:37 2024 Finished embedding\n",
      "Input embedding dimention: 2560\n",
      "Data points: 25961\n",
      "Results saved at: ../bldb/lowdim/umap/umap_sbl_esm2_3b_700.csv\n",
      "\n",
      "#################################################################\n",
      "                            esm2_3b                              \n",
      "#################################################################\n",
      "      Running UMAP with n_neighbors = 800 | dataset = SBL\n",
      "#################################################################\n",
      "\n",
      "UMAP(angular_rp_forest=True, metric='cosine', min_dist=0.2, n_epochs=2000, n_neighbors=800, random_state=42, spread=0.2, verbose=True)\n",
      "Thu Apr 18 16:56:38 2024 Construct fuzzy simplicial set\n"
     ]
    },
    {
     "name": "stderr",
     "output_type": "stream",
     "text": [
      "/home/gama/anaconda3/envs/bio/lib/python3.11/site-packages/umap/umap_.py:1943: UserWarning: n_jobs value -1 overridden to 1 by setting random_state. Use no seed for parallelism.\n",
      "  warn(f\"n_jobs value {self.n_jobs} overridden to 1 by setting random_state. Use no seed for parallelism.\")\n"
     ]
    },
    {
     "name": "stdout",
     "output_type": "stream",
     "text": [
      "Thu Apr 18 16:56:38 2024 Finding Nearest Neighbors\n",
      "Thu Apr 18 16:56:38 2024 Building RP forest with 13 trees\n",
      "Thu Apr 18 16:56:39 2024 NN descent for 15 iterations\n",
      "\t 1  /  15\n",
      "\t 2  /  15\n",
      "\t 3  /  15\n",
      "\t 4  /  15\n",
      "\tStopping threshold met -- exiting after 4 iterations\n",
      "Thu Apr 18 16:58:37 2024 Finished Nearest Neighbor Search\n",
      "Thu Apr 18 16:58:43 2024 Construct embedding\n"
     ]
    },
    {
     "data": {
      "application/vnd.jupyter.widget-view+json": {
       "model_id": "388724dae8ca47319b4cfd3d354f36ca",
       "version_major": 2,
       "version_minor": 0
      },
      "text/plain": [
       "Epochs completed:   0%|            0/2000 [00:00]"
      ]
     },
     "metadata": {},
     "output_type": "display_data"
    },
    {
     "name": "stdout",
     "output_type": "stream",
     "text": [
      "\tcompleted  0  /  2000 epochs\n",
      "\tcompleted  200  /  2000 epochs\n",
      "\tcompleted  400  /  2000 epochs\n",
      "\tcompleted  600  /  2000 epochs\n",
      "\tcompleted  800  /  2000 epochs\n",
      "\tcompleted  1000  /  2000 epochs\n",
      "\tcompleted  1200  /  2000 epochs\n",
      "\tcompleted  1400  /  2000 epochs\n",
      "\tcompleted  1600  /  2000 epochs\n",
      "\tcompleted  1800  /  2000 epochs\n",
      "Thu Apr 18 17:03:25 2024 Finished embedding\n",
      "Input embedding dimention: 2560\n",
      "Data points: 25961\n",
      "Results saved at: ../bldb/lowdim/umap/umap_sbl_esm2_3b_800.csv\n",
      "\n",
      "#################################################################\n",
      "                            esm2_3b                              \n",
      "#################################################################\n",
      "      Running UMAP with n_neighbors = 900 | dataset = SBL\n",
      "#################################################################\n",
      "\n",
      "UMAP(angular_rp_forest=True, metric='cosine', min_dist=0.2, n_epochs=2000, n_neighbors=900, random_state=42, spread=0.2, verbose=True)\n"
     ]
    },
    {
     "name": "stderr",
     "output_type": "stream",
     "text": [
      "/home/gama/anaconda3/envs/bio/lib/python3.11/site-packages/umap/umap_.py:1943: UserWarning: n_jobs value -1 overridden to 1 by setting random_state. Use no seed for parallelism.\n",
      "  warn(f\"n_jobs value {self.n_jobs} overridden to 1 by setting random_state. Use no seed for parallelism.\")\n"
     ]
    },
    {
     "name": "stdout",
     "output_type": "stream",
     "text": [
      "Thu Apr 18 17:03:26 2024 Construct fuzzy simplicial set\n",
      "Thu Apr 18 17:03:26 2024 Finding Nearest Neighbors\n",
      "Thu Apr 18 17:03:26 2024 Building RP forest with 13 trees\n",
      "Thu Apr 18 17:03:27 2024 NN descent for 15 iterations\n",
      "\t 1  /  15\n",
      "\t 2  /  15\n",
      "\t 3  /  15\n",
      "\t 4  /  15\n",
      "\tStopping threshold met -- exiting after 4 iterations\n",
      "Thu Apr 18 17:05:34 2024 Finished Nearest Neighbor Search\n",
      "Thu Apr 18 17:05:41 2024 Construct embedding\n"
     ]
    },
    {
     "data": {
      "application/vnd.jupyter.widget-view+json": {
       "model_id": "8708e0ee1dfe494abe5e8988dc2a7beb",
       "version_major": 2,
       "version_minor": 0
      },
      "text/plain": [
       "Epochs completed:   0%|            0/2000 [00:00]"
      ]
     },
     "metadata": {},
     "output_type": "display_data"
    },
    {
     "name": "stdout",
     "output_type": "stream",
     "text": [
      "\tcompleted  0  /  2000 epochs\n",
      "\tcompleted  200  /  2000 epochs\n",
      "\tcompleted  400  /  2000 epochs\n",
      "\tcompleted  600  /  2000 epochs\n",
      "\tcompleted  800  /  2000 epochs\n",
      "\tcompleted  1000  /  2000 epochs\n",
      "\tcompleted  1200  /  2000 epochs\n",
      "\tcompleted  1400  /  2000 epochs\n",
      "\tcompleted  1600  /  2000 epochs\n",
      "\tcompleted  1800  /  2000 epochs\n",
      "Thu Apr 18 17:10:33 2024 Finished embedding\n",
      "Input embedding dimention: 2560\n",
      "Data points: 25961\n",
      "Results saved at: ../bldb/lowdim/umap/umap_sbl_esm2_3b_900.csv\n",
      "\n",
      "#################################################################\n",
      "                            esm2_3b                              \n",
      "#################################################################\n",
      "      Running UMAP with n_neighbors = 1000 | dataset = SBL\n",
      "#################################################################\n",
      "\n",
      "UMAP(angular_rp_forest=True, metric='cosine', min_dist=0.2, n_epochs=2000, n_neighbors=1000, random_state=42, spread=0.2, verbose=True)\n",
      "Thu Apr 18 17:10:33 2024 Construct fuzzy simplicial set\n"
     ]
    },
    {
     "name": "stderr",
     "output_type": "stream",
     "text": [
      "/home/gama/anaconda3/envs/bio/lib/python3.11/site-packages/umap/umap_.py:1943: UserWarning: n_jobs value -1 overridden to 1 by setting random_state. Use no seed for parallelism.\n",
      "  warn(f\"n_jobs value {self.n_jobs} overridden to 1 by setting random_state. Use no seed for parallelism.\")\n"
     ]
    },
    {
     "name": "stdout",
     "output_type": "stream",
     "text": [
      "Thu Apr 18 17:10:34 2024 Finding Nearest Neighbors\n",
      "Thu Apr 18 17:10:34 2024 Building RP forest with 13 trees\n",
      "Thu Apr 18 17:10:34 2024 NN descent for 15 iterations\n",
      "\t 1  /  15\n",
      "\t 2  /  15\n",
      "\t 3  /  15\n",
      "\t 4  /  15\n",
      "\tStopping threshold met -- exiting after 4 iterations\n",
      "Thu Apr 18 17:12:53 2024 Finished Nearest Neighbor Search\n",
      "Thu Apr 18 17:13:01 2024 Construct embedding\n"
     ]
    },
    {
     "data": {
      "application/vnd.jupyter.widget-view+json": {
       "model_id": "209c05c3fe7443ae8c6bbbc4e229f6ef",
       "version_major": 2,
       "version_minor": 0
      },
      "text/plain": [
       "Epochs completed:   0%|            0/2000 [00:00]"
      ]
     },
     "metadata": {},
     "output_type": "display_data"
    },
    {
     "name": "stdout",
     "output_type": "stream",
     "text": [
      "\tcompleted  0  /  2000 epochs\n",
      "\tcompleted  200  /  2000 epochs\n",
      "\tcompleted  400  /  2000 epochs\n",
      "\tcompleted  600  /  2000 epochs\n",
      "\tcompleted  800  /  2000 epochs\n",
      "\tcompleted  1000  /  2000 epochs\n",
      "\tcompleted  1200  /  2000 epochs\n",
      "\tcompleted  1400  /  2000 epochs\n",
      "\tcompleted  1600  /  2000 epochs\n",
      "\tcompleted  1800  /  2000 epochs\n",
      "Thu Apr 18 17:17:58 2024 Finished embedding\n",
      "Input embedding dimention: 2560\n",
      "Data points: 25961\n",
      "Results saved at: ../bldb/lowdim/umap/umap_sbl_esm2_3b_1000.csv\n",
      "\n",
      "#################################################################\n",
      "                            carp                              \n",
      "#################################################################\n",
      "      Running UMAP with n_neighbors = 30 | dataset = SBL\n",
      "#################################################################\n",
      "\n",
      "UMAP(angular_rp_forest=True, metric='cosine', min_dist=0.2, n_epochs=2000, n_neighbors=30, random_state=42, spread=0.2, verbose=True)\n",
      "Thu Apr 18 17:17:58 2024 Construct fuzzy simplicial set\n",
      "Thu Apr 18 17:17:58 2024 Finding Nearest Neighbors\n",
      "Thu Apr 18 17:17:58 2024 Building RP forest with 13 trees\n"
     ]
    },
    {
     "name": "stderr",
     "output_type": "stream",
     "text": [
      "/home/gama/anaconda3/envs/bio/lib/python3.11/site-packages/umap/umap_.py:1943: UserWarning: n_jobs value -1 overridden to 1 by setting random_state. Use no seed for parallelism.\n",
      "  warn(f\"n_jobs value {self.n_jobs} overridden to 1 by setting random_state. Use no seed for parallelism.\")\n"
     ]
    },
    {
     "name": "stdout",
     "output_type": "stream",
     "text": [
      "Thu Apr 18 17:17:59 2024 NN descent for 15 iterations\n",
      "\t 1  /  15\n",
      "\t 2  /  15\n",
      "\t 3  /  15\n",
      "\tStopping threshold met -- exiting after 3 iterations\n",
      "Thu Apr 18 17:18:01 2024 Finished Nearest Neighbor Search\n",
      "Thu Apr 18 17:18:01 2024 Construct embedding\n"
     ]
    },
    {
     "data": {
      "application/vnd.jupyter.widget-view+json": {
       "model_id": "f5a167a462fa406f82c28d62b5eb5db8",
       "version_major": 2,
       "version_minor": 0
      },
      "text/plain": [
       "Epochs completed:   0%|            0/2000 [00:00]"
      ]
     },
     "metadata": {},
     "output_type": "display_data"
    },
    {
     "name": "stdout",
     "output_type": "stream",
     "text": [
      "\tcompleted  0  /  2000 epochs\n",
      "\tcompleted  200  /  2000 epochs\n",
      "\tcompleted  400  /  2000 epochs\n",
      "\tcompleted  600  /  2000 epochs\n",
      "\tcompleted  800  /  2000 epochs\n",
      "\tcompleted  1000  /  2000 epochs\n",
      "\tcompleted  1200  /  2000 epochs\n",
      "\tcompleted  1400  /  2000 epochs\n",
      "\tcompleted  1600  /  2000 epochs\n",
      "\tcompleted  1800  /  2000 epochs\n",
      "Thu Apr 18 17:19:51 2024 Finished embedding\n",
      "Input embedding dimention: 1280\n",
      "Data points: 25961\n",
      "Results saved at: ../bldb/lowdim/umap/umap_sbl_carp_30.csv\n",
      "\n",
      "#################################################################\n",
      "                            carp                              \n",
      "#################################################################\n",
      "      Running UMAP with n_neighbors = 50 | dataset = SBL\n",
      "#################################################################\n",
      "\n",
      "UMAP(angular_rp_forest=True, metric='cosine', min_dist=0.2, n_epochs=2000, n_neighbors=50, random_state=42, spread=0.2, verbose=True)\n",
      "Thu Apr 18 17:19:51 2024 Construct fuzzy simplicial set\n",
      "Thu Apr 18 17:19:51 2024 Finding Nearest Neighbors\n",
      "Thu Apr 18 17:19:51 2024 Building RP forest with 13 trees\n"
     ]
    },
    {
     "name": "stderr",
     "output_type": "stream",
     "text": [
      "/home/gama/anaconda3/envs/bio/lib/python3.11/site-packages/umap/umap_.py:1943: UserWarning: n_jobs value -1 overridden to 1 by setting random_state. Use no seed for parallelism.\n",
      "  warn(f\"n_jobs value {self.n_jobs} overridden to 1 by setting random_state. Use no seed for parallelism.\")\n"
     ]
    },
    {
     "name": "stdout",
     "output_type": "stream",
     "text": [
      "Thu Apr 18 17:19:52 2024 NN descent for 15 iterations\n",
      "\t 1  /  15\n",
      "\t 2  /  15\n",
      "\t 3  /  15\n",
      "\tStopping threshold met -- exiting after 3 iterations\n",
      "Thu Apr 18 17:19:57 2024 Finished Nearest Neighbor Search\n",
      "Thu Apr 18 17:19:58 2024 Construct embedding\n"
     ]
    },
    {
     "data": {
      "application/vnd.jupyter.widget-view+json": {
       "model_id": "45ff1719cccb4a0287ee35db45fc5c4b",
       "version_major": 2,
       "version_minor": 0
      },
      "text/plain": [
       "Epochs completed:   0%|            0/2000 [00:00]"
      ]
     },
     "metadata": {},
     "output_type": "display_data"
    },
    {
     "name": "stdout",
     "output_type": "stream",
     "text": [
      "\tcompleted  0  /  2000 epochs\n",
      "\tcompleted  200  /  2000 epochs\n",
      "\tcompleted  400  /  2000 epochs\n",
      "\tcompleted  600  /  2000 epochs\n",
      "\tcompleted  800  /  2000 epochs\n",
      "\tcompleted  1000  /  2000 epochs\n",
      "\tcompleted  1200  /  2000 epochs\n",
      "\tcompleted  1400  /  2000 epochs\n",
      "\tcompleted  1600  /  2000 epochs\n",
      "\tcompleted  1800  /  2000 epochs\n",
      "Thu Apr 18 17:22:06 2024 Finished embedding\n",
      "Input embedding dimention: 1280\n",
      "Data points: 25961\n",
      "Results saved at: ../bldb/lowdim/umap/umap_sbl_carp_50.csv\n",
      "\n",
      "#################################################################\n",
      "                            carp                              \n",
      "#################################################################\n",
      "      Running UMAP with n_neighbors = 100 | dataset = SBL\n",
      "#################################################################\n",
      "\n",
      "UMAP(angular_rp_forest=True, metric='cosine', min_dist=0.2, n_epochs=2000, n_neighbors=100, random_state=42, spread=0.2, verbose=True)\n",
      "Thu Apr 18 17:22:06 2024 Construct fuzzy simplicial set\n",
      "Thu Apr 18 17:22:06 2024 Finding Nearest Neighbors\n",
      "Thu Apr 18 17:22:06 2024 Building RP forest with 13 trees\n"
     ]
    },
    {
     "name": "stderr",
     "output_type": "stream",
     "text": [
      "/home/gama/anaconda3/envs/bio/lib/python3.11/site-packages/umap/umap_.py:1943: UserWarning: n_jobs value -1 overridden to 1 by setting random_state. Use no seed for parallelism.\n",
      "  warn(f\"n_jobs value {self.n_jobs} overridden to 1 by setting random_state. Use no seed for parallelism.\")\n"
     ]
    },
    {
     "name": "stdout",
     "output_type": "stream",
     "text": [
      "Thu Apr 18 17:22:07 2024 NN descent for 15 iterations\n",
      "\t 1  /  15\n",
      "\t 2  /  15\n",
      "\t 3  /  15\n",
      "\tStopping threshold met -- exiting after 3 iterations\n",
      "Thu Apr 18 17:22:27 2024 Finished Nearest Neighbor Search\n",
      "Thu Apr 18 17:22:28 2024 Construct embedding\n"
     ]
    },
    {
     "data": {
      "application/vnd.jupyter.widget-view+json": {
       "model_id": "6948afc3b0be4e6eafe34dbe7a9f8aff",
       "version_major": 2,
       "version_minor": 0
      },
      "text/plain": [
       "Epochs completed:   0%|            0/2000 [00:00]"
      ]
     },
     "metadata": {},
     "output_type": "display_data"
    },
    {
     "name": "stdout",
     "output_type": "stream",
     "text": [
      "\tcompleted  0  /  2000 epochs\n",
      "\tcompleted  200  /  2000 epochs\n",
      "\tcompleted  400  /  2000 epochs\n",
      "\tcompleted  600  /  2000 epochs\n",
      "\tcompleted  800  /  2000 epochs\n",
      "\tcompleted  1000  /  2000 epochs\n",
      "\tcompleted  1200  /  2000 epochs\n",
      "\tcompleted  1400  /  2000 epochs\n",
      "\tcompleted  1600  /  2000 epochs\n",
      "\tcompleted  1800  /  2000 epochs\n",
      "Thu Apr 18 17:25:07 2024 Finished embedding\n",
      "Input embedding dimention: 1280\n",
      "Data points: 25961\n",
      "Results saved at: ../bldb/lowdim/umap/umap_sbl_carp_100.csv\n",
      "\n",
      "#################################################################\n",
      "                            carp                              \n",
      "#################################################################\n",
      "      Running UMAP with n_neighbors = 200 | dataset = SBL\n",
      "#################################################################\n",
      "\n",
      "UMAP(angular_rp_forest=True, metric='cosine', min_dist=0.2, n_epochs=2000, n_neighbors=200, random_state=42, spread=0.2, verbose=True)\n",
      "Thu Apr 18 17:25:07 2024 Construct fuzzy simplicial set\n",
      "Thu Apr 18 17:25:07 2024 Finding Nearest Neighbors\n",
      "Thu Apr 18 17:25:07 2024 Building RP forest with 13 trees\n"
     ]
    },
    {
     "name": "stderr",
     "output_type": "stream",
     "text": [
      "/home/gama/anaconda3/envs/bio/lib/python3.11/site-packages/umap/umap_.py:1943: UserWarning: n_jobs value -1 overridden to 1 by setting random_state. Use no seed for parallelism.\n",
      "  warn(f\"n_jobs value {self.n_jobs} overridden to 1 by setting random_state. Use no seed for parallelism.\")\n"
     ]
    },
    {
     "name": "stdout",
     "output_type": "stream",
     "text": [
      "Thu Apr 18 17:25:08 2024 NN descent for 15 iterations\n",
      "\t 1  /  15\n",
      "\t 2  /  15\n",
      "\t 3  /  15\n",
      "\tStopping threshold met -- exiting after 3 iterations\n",
      "Thu Apr 18 17:25:40 2024 Finished Nearest Neighbor Search\n",
      "Thu Apr 18 17:25:42 2024 Construct embedding\n"
     ]
    },
    {
     "data": {
      "application/vnd.jupyter.widget-view+json": {
       "model_id": "f3ac3db0dcce4705bbf8f974d5401a1c",
       "version_major": 2,
       "version_minor": 0
      },
      "text/plain": [
       "Epochs completed:   0%|            0/2000 [00:00]"
      ]
     },
     "metadata": {},
     "output_type": "display_data"
    },
    {
     "name": "stdout",
     "output_type": "stream",
     "text": [
      "\tcompleted  0  /  2000 epochs\n",
      "\tcompleted  200  /  2000 epochs\n",
      "\tcompleted  400  /  2000 epochs\n",
      "\tcompleted  600  /  2000 epochs\n",
      "\tcompleted  800  /  2000 epochs\n",
      "\tcompleted  1000  /  2000 epochs\n",
      "\tcompleted  1200  /  2000 epochs\n",
      "\tcompleted  1400  /  2000 epochs\n",
      "\tcompleted  1600  /  2000 epochs\n",
      "\tcompleted  1800  /  2000 epochs\n",
      "Thu Apr 18 17:28:58 2024 Finished embedding\n",
      "Input embedding dimention: 1280\n",
      "Data points: 25961\n",
      "Results saved at: ../bldb/lowdim/umap/umap_sbl_carp_200.csv\n",
      "\n",
      "#################################################################\n",
      "                            carp                              \n",
      "#################################################################\n",
      "      Running UMAP with n_neighbors = 300 | dataset = SBL\n",
      "#################################################################\n",
      "\n",
      "UMAP(angular_rp_forest=True, metric='cosine', min_dist=0.2, n_epochs=2000, n_neighbors=300, random_state=42, spread=0.2, verbose=True)\n",
      "Thu Apr 18 17:28:59 2024 Construct fuzzy simplicial set\n",
      "Thu Apr 18 17:28:59 2024 Finding Nearest Neighbors\n",
      "Thu Apr 18 17:28:59 2024 Building RP forest with 13 trees\n"
     ]
    },
    {
     "name": "stderr",
     "output_type": "stream",
     "text": [
      "/home/gama/anaconda3/envs/bio/lib/python3.11/site-packages/umap/umap_.py:1943: UserWarning: n_jobs value -1 overridden to 1 by setting random_state. Use no seed for parallelism.\n",
      "  warn(f\"n_jobs value {self.n_jobs} overridden to 1 by setting random_state. Use no seed for parallelism.\")\n"
     ]
    },
    {
     "name": "stdout",
     "output_type": "stream",
     "text": [
      "Thu Apr 18 17:28:59 2024 NN descent for 15 iterations\n",
      "\t 1  /  15\n",
      "\t 2  /  15\n",
      "\t 3  /  15\n",
      "\tStopping threshold met -- exiting after 3 iterations\n",
      "Thu Apr 18 17:29:35 2024 Finished Nearest Neighbor Search\n",
      "Thu Apr 18 17:29:37 2024 Construct embedding\n"
     ]
    },
    {
     "data": {
      "application/vnd.jupyter.widget-view+json": {
       "model_id": "0a9d766a30e44f0f910332fd950a5a2b",
       "version_major": 2,
       "version_minor": 0
      },
      "text/plain": [
       "Epochs completed:   0%|            0/2000 [00:00]"
      ]
     },
     "metadata": {},
     "output_type": "display_data"
    },
    {
     "name": "stdout",
     "output_type": "stream",
     "text": [
      "\tcompleted  0  /  2000 epochs\n",
      "\tcompleted  200  /  2000 epochs\n",
      "\tcompleted  400  /  2000 epochs\n",
      "\tcompleted  600  /  2000 epochs\n",
      "\tcompleted  800  /  2000 epochs\n",
      "\tcompleted  1000  /  2000 epochs\n",
      "\tcompleted  1200  /  2000 epochs\n",
      "\tcompleted  1400  /  2000 epochs\n",
      "\tcompleted  1600  /  2000 epochs\n",
      "\tcompleted  1800  /  2000 epochs\n",
      "Thu Apr 18 17:33:21 2024 Finished embedding\n",
      "Input embedding dimention: 1280\n",
      "Data points: 25961\n",
      "Results saved at: ../bldb/lowdim/umap/umap_sbl_carp_300.csv\n",
      "\n",
      "#################################################################\n",
      "                            carp                              \n",
      "#################################################################\n",
      "      Running UMAP with n_neighbors = 400 | dataset = SBL\n",
      "#################################################################\n",
      "\n",
      "UMAP(angular_rp_forest=True, metric='cosine', min_dist=0.2, n_epochs=2000, n_neighbors=400, random_state=42, spread=0.2, verbose=True)\n",
      "Thu Apr 18 17:33:22 2024 Construct fuzzy simplicial set\n",
      "Thu Apr 18 17:33:22 2024 Finding Nearest Neighbors\n",
      "Thu Apr 18 17:33:22 2024 Building RP forest with 13 trees\n"
     ]
    },
    {
     "name": "stderr",
     "output_type": "stream",
     "text": [
      "/home/gama/anaconda3/envs/bio/lib/python3.11/site-packages/umap/umap_.py:1943: UserWarning: n_jobs value -1 overridden to 1 by setting random_state. Use no seed for parallelism.\n",
      "  warn(f\"n_jobs value {self.n_jobs} overridden to 1 by setting random_state. Use no seed for parallelism.\")\n"
     ]
    },
    {
     "name": "stdout",
     "output_type": "stream",
     "text": [
      "Thu Apr 18 17:33:22 2024 NN descent for 15 iterations\n",
      "\t 1  /  15\n",
      "\t 2  /  15\n",
      "\t 3  /  15\n",
      "\tStopping threshold met -- exiting after 3 iterations\n",
      "Thu Apr 18 17:34:02 2024 Finished Nearest Neighbor Search\n",
      "Thu Apr 18 17:34:05 2024 Construct embedding\n"
     ]
    },
    {
     "data": {
      "application/vnd.jupyter.widget-view+json": {
       "model_id": "0843e8c0d8274d4aa35f5e37de4de1d7",
       "version_major": 2,
       "version_minor": 0
      },
      "text/plain": [
       "Epochs completed:   0%|            0/2000 [00:00]"
      ]
     },
     "metadata": {},
     "output_type": "display_data"
    },
    {
     "name": "stdout",
     "output_type": "stream",
     "text": [
      "\tcompleted  0  /  2000 epochs\n",
      "\tcompleted  200  /  2000 epochs\n",
      "\tcompleted  400  /  2000 epochs\n",
      "\tcompleted  600  /  2000 epochs\n",
      "\tcompleted  800  /  2000 epochs\n",
      "\tcompleted  1000  /  2000 epochs\n",
      "\tcompleted  1200  /  2000 epochs\n",
      "\tcompleted  1400  /  2000 epochs\n",
      "\tcompleted  1600  /  2000 epochs\n",
      "\tcompleted  1800  /  2000 epochs\n",
      "Thu Apr 18 17:38:11 2024 Finished embedding\n",
      "Input embedding dimention: 1280\n",
      "Data points: 25961\n",
      "Results saved at: ../bldb/lowdim/umap/umap_sbl_carp_400.csv\n",
      "\n",
      "#################################################################\n",
      "                            carp                              \n",
      "#################################################################\n",
      "      Running UMAP with n_neighbors = 500 | dataset = SBL\n",
      "#################################################################\n",
      "\n",
      "UMAP(angular_rp_forest=True, metric='cosine', min_dist=0.2, n_epochs=2000, n_neighbors=500, random_state=42, spread=0.2, verbose=True)\n",
      "Thu Apr 18 17:38:11 2024 Construct fuzzy simplicial set\n",
      "Thu Apr 18 17:38:11 2024 Finding Nearest Neighbors\n",
      "Thu Apr 18 17:38:11 2024 Building RP forest with 13 trees\n"
     ]
    },
    {
     "name": "stderr",
     "output_type": "stream",
     "text": [
      "/home/gama/anaconda3/envs/bio/lib/python3.11/site-packages/umap/umap_.py:1943: UserWarning: n_jobs value -1 overridden to 1 by setting random_state. Use no seed for parallelism.\n",
      "  warn(f\"n_jobs value {self.n_jobs} overridden to 1 by setting random_state. Use no seed for parallelism.\")\n"
     ]
    },
    {
     "name": "stdout",
     "output_type": "stream",
     "text": [
      "Thu Apr 18 17:38:11 2024 NN descent for 15 iterations\n",
      "\t 1  /  15\n",
      "\t 2  /  15\n",
      "\t 3  /  15\n",
      "\t 4  /  15\n",
      "\tStopping threshold met -- exiting after 4 iterations\n",
      "Thu Apr 18 17:39:12 2024 Finished Nearest Neighbor Search\n",
      "Thu Apr 18 17:39:16 2024 Construct embedding\n"
     ]
    },
    {
     "data": {
      "application/vnd.jupyter.widget-view+json": {
       "model_id": "2d031389d8aa4c6db2be79b89c9307fc",
       "version_major": 2,
       "version_minor": 0
      },
      "text/plain": [
       "Epochs completed:   0%|            0/2000 [00:00]"
      ]
     },
     "metadata": {},
     "output_type": "display_data"
    },
    {
     "name": "stdout",
     "output_type": "stream",
     "text": [
      "\tcompleted  0  /  2000 epochs\n",
      "\tcompleted  200  /  2000 epochs\n",
      "\tcompleted  400  /  2000 epochs\n",
      "\tcompleted  600  /  2000 epochs\n",
      "\tcompleted  800  /  2000 epochs\n",
      "\tcompleted  1000  /  2000 epochs\n",
      "\tcompleted  1200  /  2000 epochs\n",
      "\tcompleted  1400  /  2000 epochs\n",
      "\tcompleted  1600  /  2000 epochs\n",
      "\tcompleted  1800  /  2000 epochs\n",
      "Thu Apr 18 17:43:40 2024 Finished embedding\n",
      "Input embedding dimention: 1280\n",
      "Data points: 25961\n",
      "Results saved at: ../bldb/lowdim/umap/umap_sbl_carp_500.csv\n",
      "\n",
      "#################################################################\n",
      "                            carp                              \n",
      "#################################################################\n",
      "      Running UMAP with n_neighbors = 600 | dataset = SBL\n",
      "#################################################################\n",
      "\n",
      "UMAP(angular_rp_forest=True, metric='cosine', min_dist=0.2, n_epochs=2000, n_neighbors=600, random_state=42, spread=0.2, verbose=True)\n",
      "Thu Apr 18 17:43:40 2024 Construct fuzzy simplicial set\n",
      "Thu Apr 18 17:43:40 2024 Finding Nearest Neighbors\n",
      "Thu Apr 18 17:43:40 2024 Building RP forest with 13 trees\n"
     ]
    },
    {
     "name": "stderr",
     "output_type": "stream",
     "text": [
      "/home/gama/anaconda3/envs/bio/lib/python3.11/site-packages/umap/umap_.py:1943: UserWarning: n_jobs value -1 overridden to 1 by setting random_state. Use no seed for parallelism.\n",
      "  warn(f\"n_jobs value {self.n_jobs} overridden to 1 by setting random_state. Use no seed for parallelism.\")\n"
     ]
    },
    {
     "name": "stdout",
     "output_type": "stream",
     "text": [
      "Thu Apr 18 17:43:40 2024 NN descent for 15 iterations\n",
      "\t 1  /  15\n",
      "\t 2  /  15\n",
      "\t 3  /  15\n",
      "\t 4  /  15\n",
      "\tStopping threshold met -- exiting after 4 iterations\n",
      "Thu Apr 18 17:44:55 2024 Finished Nearest Neighbor Search\n",
      "Thu Apr 18 17:44:59 2024 Construct embedding\n"
     ]
    },
    {
     "data": {
      "application/vnd.jupyter.widget-view+json": {
       "model_id": "b020c27bce9b4990b8fcd0a4d6943855",
       "version_major": 2,
       "version_minor": 0
      },
      "text/plain": [
       "Epochs completed:   0%|            0/2000 [00:00]"
      ]
     },
     "metadata": {},
     "output_type": "display_data"
    },
    {
     "name": "stdout",
     "output_type": "stream",
     "text": [
      "\tcompleted  0  /  2000 epochs\n",
      "\tcompleted  200  /  2000 epochs\n",
      "\tcompleted  400  /  2000 epochs\n",
      "\tcompleted  600  /  2000 epochs\n",
      "\tcompleted  800  /  2000 epochs\n",
      "\tcompleted  1000  /  2000 epochs\n",
      "\tcompleted  1200  /  2000 epochs\n",
      "\tcompleted  1400  /  2000 epochs\n",
      "\tcompleted  1600  /  2000 epochs\n",
      "\tcompleted  1800  /  2000 epochs\n",
      "Thu Apr 18 17:49:43 2024 Finished embedding\n",
      "Input embedding dimention: 1280\n",
      "Data points: 25961\n",
      "Results saved at: ../bldb/lowdim/umap/umap_sbl_carp_600.csv\n",
      "\n",
      "#################################################################\n",
      "                            carp                              \n",
      "#################################################################\n",
      "      Running UMAP with n_neighbors = 700 | dataset = SBL\n",
      "#################################################################\n",
      "\n",
      "UMAP(angular_rp_forest=True, metric='cosine', min_dist=0.2, n_epochs=2000, n_neighbors=700, random_state=42, spread=0.2, verbose=True)\n",
      "Thu Apr 18 17:49:43 2024 Construct fuzzy simplicial set\n",
      "Thu Apr 18 17:49:44 2024 Finding Nearest Neighbors\n",
      "Thu Apr 18 17:49:44 2024 Building RP forest with 13 trees\n"
     ]
    },
    {
     "name": "stderr",
     "output_type": "stream",
     "text": [
      "/home/gama/anaconda3/envs/bio/lib/python3.11/site-packages/umap/umap_.py:1943: UserWarning: n_jobs value -1 overridden to 1 by setting random_state. Use no seed for parallelism.\n",
      "  warn(f\"n_jobs value {self.n_jobs} overridden to 1 by setting random_state. Use no seed for parallelism.\")\n"
     ]
    },
    {
     "name": "stdout",
     "output_type": "stream",
     "text": [
      "Thu Apr 18 17:49:44 2024 NN descent for 15 iterations\n",
      "\t 1  /  15\n",
      "\t 2  /  15\n",
      "\t 3  /  15\n",
      "\t 4  /  15\n",
      "\tStopping threshold met -- exiting after 4 iterations\n",
      "Thu Apr 18 17:51:03 2024 Finished Nearest Neighbor Search\n",
      "Thu Apr 18 17:51:08 2024 Construct embedding\n"
     ]
    },
    {
     "data": {
      "application/vnd.jupyter.widget-view+json": {
       "model_id": "997a7724bc9540a6bea28a3979a48edc",
       "version_major": 2,
       "version_minor": 0
      },
      "text/plain": [
       "Epochs completed:   0%|            0/2000 [00:00]"
      ]
     },
     "metadata": {},
     "output_type": "display_data"
    },
    {
     "name": "stdout",
     "output_type": "stream",
     "text": [
      "\tcompleted  0  /  2000 epochs\n",
      "\tcompleted  200  /  2000 epochs\n",
      "\tcompleted  400  /  2000 epochs\n",
      "\tcompleted  600  /  2000 epochs\n",
      "\tcompleted  800  /  2000 epochs\n",
      "\tcompleted  1000  /  2000 epochs\n",
      "\tcompleted  1200  /  2000 epochs\n",
      "\tcompleted  1400  /  2000 epochs\n",
      "\tcompleted  1600  /  2000 epochs\n",
      "\tcompleted  1800  /  2000 epochs\n",
      "Thu Apr 18 17:55:52 2024 Finished embedding\n",
      "Input embedding dimention: 1280\n",
      "Data points: 25961\n",
      "Results saved at: ../bldb/lowdim/umap/umap_sbl_carp_700.csv\n",
      "\n",
      "#################################################################\n",
      "                            carp                              \n",
      "#################################################################\n",
      "      Running UMAP with n_neighbors = 800 | dataset = SBL\n",
      "#################################################################\n",
      "\n",
      "UMAP(angular_rp_forest=True, metric='cosine', min_dist=0.2, n_epochs=2000, n_neighbors=800, random_state=42, spread=0.2, verbose=True)\n",
      "Thu Apr 18 17:55:53 2024 Construct fuzzy simplicial set\n",
      "Thu Apr 18 17:55:53 2024 Finding Nearest Neighbors\n",
      "Thu Apr 18 17:55:53 2024 Building RP forest with 13 trees\n"
     ]
    },
    {
     "name": "stderr",
     "output_type": "stream",
     "text": [
      "/home/gama/anaconda3/envs/bio/lib/python3.11/site-packages/umap/umap_.py:1943: UserWarning: n_jobs value -1 overridden to 1 by setting random_state. Use no seed for parallelism.\n",
      "  warn(f\"n_jobs value {self.n_jobs} overridden to 1 by setting random_state. Use no seed for parallelism.\")\n"
     ]
    },
    {
     "name": "stdout",
     "output_type": "stream",
     "text": [
      "Thu Apr 18 17:55:53 2024 NN descent for 15 iterations\n",
      "\t 1  /  15\n",
      "\t 2  /  15\n",
      "\t 3  /  15\n",
      "\t 4  /  15\n",
      "\tStopping threshold met -- exiting after 4 iterations\n",
      "Thu Apr 18 17:57:20 2024 Finished Nearest Neighbor Search\n",
      "Thu Apr 18 17:57:26 2024 Construct embedding\n"
     ]
    },
    {
     "data": {
      "application/vnd.jupyter.widget-view+json": {
       "model_id": "dccd1280e69e48e198b999ad16a5d4dc",
       "version_major": 2,
       "version_minor": 0
      },
      "text/plain": [
       "Epochs completed:   0%|            0/2000 [00:00]"
      ]
     },
     "metadata": {},
     "output_type": "display_data"
    },
    {
     "name": "stdout",
     "output_type": "stream",
     "text": [
      "\tcompleted  0  /  2000 epochs\n",
      "\tcompleted  200  /  2000 epochs\n",
      "\tcompleted  400  /  2000 epochs\n",
      "\tcompleted  600  /  2000 epochs\n",
      "\tcompleted  800  /  2000 epochs\n",
      "\tcompleted  1000  /  2000 epochs\n",
      "\tcompleted  1200  /  2000 epochs\n",
      "\tcompleted  1400  /  2000 epochs\n",
      "\tcompleted  1600  /  2000 epochs\n",
      "\tcompleted  1800  /  2000 epochs\n",
      "Thu Apr 18 18:02:15 2024 Finished embedding\n",
      "Input embedding dimention: 1280\n",
      "Data points: 25961\n",
      "Results saved at: ../bldb/lowdim/umap/umap_sbl_carp_800.csv\n",
      "\n",
      "#################################################################\n",
      "                            carp                              \n",
      "#################################################################\n",
      "      Running UMAP with n_neighbors = 900 | dataset = SBL\n",
      "#################################################################\n",
      "\n",
      "UMAP(angular_rp_forest=True, metric='cosine', min_dist=0.2, n_epochs=2000, n_neighbors=900, random_state=42, spread=0.2, verbose=True)\n",
      "Thu Apr 18 18:02:15 2024 Construct fuzzy simplicial set\n",
      "Thu Apr 18 18:02:15 2024 Finding Nearest Neighbors\n",
      "Thu Apr 18 18:02:15 2024 Building RP forest with 13 trees\n"
     ]
    },
    {
     "name": "stderr",
     "output_type": "stream",
     "text": [
      "/home/gama/anaconda3/envs/bio/lib/python3.11/site-packages/umap/umap_.py:1943: UserWarning: n_jobs value -1 overridden to 1 by setting random_state. Use no seed for parallelism.\n",
      "  warn(f\"n_jobs value {self.n_jobs} overridden to 1 by setting random_state. Use no seed for parallelism.\")\n"
     ]
    },
    {
     "name": "stdout",
     "output_type": "stream",
     "text": [
      "Thu Apr 18 18:02:15 2024 NN descent for 15 iterations\n",
      "\t 1  /  15\n",
      "\t 2  /  15\n",
      "\t 3  /  15\n",
      "\t 4  /  15\n",
      "\tStopping threshold met -- exiting after 4 iterations\n",
      "Thu Apr 18 18:03:51 2024 Finished Nearest Neighbor Search\n",
      "Thu Apr 18 18:03:58 2024 Construct embedding\n"
     ]
    },
    {
     "data": {
      "application/vnd.jupyter.widget-view+json": {
       "model_id": "d64a876d5a014efe87149382b0b7d156",
       "version_major": 2,
       "version_minor": 0
      },
      "text/plain": [
       "Epochs completed:   0%|            0/2000 [00:00]"
      ]
     },
     "metadata": {},
     "output_type": "display_data"
    },
    {
     "name": "stdout",
     "output_type": "stream",
     "text": [
      "\tcompleted  0  /  2000 epochs\n",
      "\tcompleted  200  /  2000 epochs\n",
      "\tcompleted  400  /  2000 epochs\n",
      "\tcompleted  600  /  2000 epochs\n",
      "\tcompleted  800  /  2000 epochs\n",
      "\tcompleted  1000  /  2000 epochs\n",
      "\tcompleted  1200  /  2000 epochs\n",
      "\tcompleted  1400  /  2000 epochs\n",
      "\tcompleted  1600  /  2000 epochs\n",
      "\tcompleted  1800  /  2000 epochs\n",
      "Thu Apr 18 18:08:56 2024 Finished embedding\n",
      "Input embedding dimention: 1280\n",
      "Data points: 25961\n",
      "Results saved at: ../bldb/lowdim/umap/umap_sbl_carp_900.csv\n",
      "\n",
      "#################################################################\n",
      "                            carp                              \n",
      "#################################################################\n",
      "      Running UMAP with n_neighbors = 1000 | dataset = SBL\n",
      "#################################################################\n",
      "\n",
      "UMAP(angular_rp_forest=True, metric='cosine', min_dist=0.2, n_epochs=2000, n_neighbors=1000, random_state=42, spread=0.2, verbose=True)\n",
      "Thu Apr 18 18:08:57 2024 Construct fuzzy simplicial set\n",
      "Thu Apr 18 18:08:57 2024 Finding Nearest Neighbors\n",
      "Thu Apr 18 18:08:57 2024 Building RP forest with 13 trees\n"
     ]
    },
    {
     "name": "stderr",
     "output_type": "stream",
     "text": [
      "/home/gama/anaconda3/envs/bio/lib/python3.11/site-packages/umap/umap_.py:1943: UserWarning: n_jobs value -1 overridden to 1 by setting random_state. Use no seed for parallelism.\n",
      "  warn(f\"n_jobs value {self.n_jobs} overridden to 1 by setting random_state. Use no seed for parallelism.\")\n"
     ]
    },
    {
     "name": "stdout",
     "output_type": "stream",
     "text": [
      "Thu Apr 18 18:08:57 2024 NN descent for 15 iterations\n",
      "\t 1  /  15\n",
      "\t 2  /  15\n",
      "\t 3  /  15\n",
      "\t 4  /  15\n",
      "\tStopping threshold met -- exiting after 4 iterations\n",
      "Thu Apr 18 18:10:38 2024 Finished Nearest Neighbor Search\n",
      "Thu Apr 18 18:10:46 2024 Construct embedding\n"
     ]
    },
    {
     "data": {
      "application/vnd.jupyter.widget-view+json": {
       "model_id": "7f64ec6dc4d34d8987702cccccebd0ba",
       "version_major": 2,
       "version_minor": 0
      },
      "text/plain": [
       "Epochs completed:   0%|            0/2000 [00:00]"
      ]
     },
     "metadata": {},
     "output_type": "display_data"
    },
    {
     "name": "stdout",
     "output_type": "stream",
     "text": [
      "\tcompleted  0  /  2000 epochs\n",
      "\tcompleted  200  /  2000 epochs\n",
      "\tcompleted  400  /  2000 epochs\n",
      "\tcompleted  600  /  2000 epochs\n",
      "\tcompleted  800  /  2000 epochs\n",
      "\tcompleted  1000  /  2000 epochs\n",
      "\tcompleted  1200  /  2000 epochs\n",
      "\tcompleted  1400  /  2000 epochs\n",
      "\tcompleted  1600  /  2000 epochs\n",
      "\tcompleted  1800  /  2000 epochs\n",
      "Thu Apr 18 18:15:48 2024 Finished embedding\n",
      "Input embedding dimention: 1280\n",
      "Data points: 25961\n",
      "Results saved at: ../bldb/lowdim/umap/umap_sbl_carp_1000.csv\n",
      "\n",
      "#################################################################\n",
      "                            t5xlu50                              \n",
      "#################################################################\n",
      "      Running UMAP with n_neighbors = 30 | dataset = SBL\n",
      "#################################################################\n",
      "\n",
      "UMAP(angular_rp_forest=True, metric='cosine', min_dist=0.2, n_epochs=2000, n_neighbors=30, random_state=42, spread=0.2, verbose=True)\n",
      "Thu Apr 18 18:15:48 2024 Construct fuzzy simplicial set\n",
      "Thu Apr 18 18:15:48 2024 Finding Nearest Neighbors\n",
      "Thu Apr 18 18:15:48 2024 Building RP forest with 13 trees\n"
     ]
    },
    {
     "name": "stderr",
     "output_type": "stream",
     "text": [
      "/home/gama/anaconda3/envs/bio/lib/python3.11/site-packages/umap/umap_.py:1943: UserWarning: n_jobs value -1 overridden to 1 by setting random_state. Use no seed for parallelism.\n",
      "  warn(f\"n_jobs value {self.n_jobs} overridden to 1 by setting random_state. Use no seed for parallelism.\")\n"
     ]
    },
    {
     "name": "stdout",
     "output_type": "stream",
     "text": [
      "Thu Apr 18 18:15:49 2024 NN descent for 15 iterations\n",
      "\t 1  /  15\n",
      "\t 2  /  15\n",
      "\t 3  /  15\n",
      "\tStopping threshold met -- exiting after 3 iterations\n",
      "Thu Apr 18 18:15:51 2024 Finished Nearest Neighbor Search\n",
      "Thu Apr 18 18:15:51 2024 Construct embedding\n"
     ]
    },
    {
     "data": {
      "application/vnd.jupyter.widget-view+json": {
       "model_id": "483417ca69ce4fd5885c20b04630d1a6",
       "version_major": 2,
       "version_minor": 0
      },
      "text/plain": [
       "Epochs completed:   0%|            0/2000 [00:00]"
      ]
     },
     "metadata": {},
     "output_type": "display_data"
    },
    {
     "name": "stdout",
     "output_type": "stream",
     "text": [
      "\tcompleted  0  /  2000 epochs\n",
      "\tcompleted  200  /  2000 epochs\n",
      "\tcompleted  400  /  2000 epochs\n",
      "\tcompleted  600  /  2000 epochs\n",
      "\tcompleted  800  /  2000 epochs\n",
      "\tcompleted  1000  /  2000 epochs\n",
      "\tcompleted  1200  /  2000 epochs\n",
      "\tcompleted  1400  /  2000 epochs\n",
      "\tcompleted  1600  /  2000 epochs\n",
      "\tcompleted  1800  /  2000 epochs\n",
      "Thu Apr 18 18:17:49 2024 Finished embedding\n",
      "Input embedding dimention: 1024\n",
      "Data points: 25961\n",
      "Results saved at: ../bldb/lowdim/umap/umap_sbl_t5xlu50_30.csv\n",
      "\n",
      "#################################################################\n",
      "                            t5xlu50                              \n",
      "#################################################################\n",
      "      Running UMAP with n_neighbors = 50 | dataset = SBL\n",
      "#################################################################\n",
      "\n",
      "UMAP(angular_rp_forest=True, metric='cosine', min_dist=0.2, n_epochs=2000, n_neighbors=50, random_state=42, spread=0.2, verbose=True)\n"
     ]
    },
    {
     "name": "stderr",
     "output_type": "stream",
     "text": [
      "/home/gama/anaconda3/envs/bio/lib/python3.11/site-packages/umap/umap_.py:1943: UserWarning: n_jobs value -1 overridden to 1 by setting random_state. Use no seed for parallelism.\n",
      "  warn(f\"n_jobs value {self.n_jobs} overridden to 1 by setting random_state. Use no seed for parallelism.\")\n"
     ]
    },
    {
     "name": "stdout",
     "output_type": "stream",
     "text": [
      "Thu Apr 18 18:17:50 2024 Construct fuzzy simplicial set\n",
      "Thu Apr 18 18:17:50 2024 Finding Nearest Neighbors\n",
      "Thu Apr 18 18:17:50 2024 Building RP forest with 13 trees\n",
      "Thu Apr 18 18:17:50 2024 NN descent for 15 iterations\n",
      "\t 1  /  15\n",
      "\t 2  /  15\n",
      "\t 3  /  15\n",
      "\tStopping threshold met -- exiting after 3 iterations\n",
      "Thu Apr 18 18:17:55 2024 Finished Nearest Neighbor Search\n",
      "Thu Apr 18 18:17:56 2024 Construct embedding\n"
     ]
    },
    {
     "data": {
      "application/vnd.jupyter.widget-view+json": {
       "model_id": "088d3bb2f4f5456ab13f0d7ab7aa101b",
       "version_major": 2,
       "version_minor": 0
      },
      "text/plain": [
       "Epochs completed:   0%|            0/2000 [00:00]"
      ]
     },
     "metadata": {},
     "output_type": "display_data"
    },
    {
     "name": "stdout",
     "output_type": "stream",
     "text": [
      "\tcompleted  0  /  2000 epochs\n",
      "\tcompleted  200  /  2000 epochs\n",
      "\tcompleted  400  /  2000 epochs\n",
      "\tcompleted  600  /  2000 epochs\n",
      "\tcompleted  800  /  2000 epochs\n",
      "\tcompleted  1000  /  2000 epochs\n",
      "\tcompleted  1200  /  2000 epochs\n",
      "\tcompleted  1400  /  2000 epochs\n",
      "\tcompleted  1600  /  2000 epochs\n",
      "\tcompleted  1800  /  2000 epochs\n",
      "Thu Apr 18 18:20:06 2024 Finished embedding\n",
      "Input embedding dimention: 1024\n",
      "Data points: 25961\n",
      "Results saved at: ../bldb/lowdim/umap/umap_sbl_t5xlu50_50.csv\n",
      "\n",
      "#################################################################\n",
      "                            t5xlu50                              \n",
      "#################################################################\n",
      "      Running UMAP with n_neighbors = 100 | dataset = SBL\n",
      "#################################################################\n",
      "\n",
      "UMAP(angular_rp_forest=True, metric='cosine', min_dist=0.2, n_epochs=2000, n_neighbors=100, random_state=42, spread=0.2, verbose=True)\n"
     ]
    },
    {
     "name": "stderr",
     "output_type": "stream",
     "text": [
      "/home/gama/anaconda3/envs/bio/lib/python3.11/site-packages/umap/umap_.py:1943: UserWarning: n_jobs value -1 overridden to 1 by setting random_state. Use no seed for parallelism.\n",
      "  warn(f\"n_jobs value {self.n_jobs} overridden to 1 by setting random_state. Use no seed for parallelism.\")\n"
     ]
    },
    {
     "name": "stdout",
     "output_type": "stream",
     "text": [
      "Thu Apr 18 18:20:07 2024 Construct fuzzy simplicial set\n",
      "Thu Apr 18 18:20:07 2024 Finding Nearest Neighbors\n",
      "Thu Apr 18 18:20:07 2024 Building RP forest with 13 trees\n",
      "Thu Apr 18 18:20:07 2024 NN descent for 15 iterations\n",
      "\t 1  /  15\n",
      "\t 2  /  15\n",
      "\t 3  /  15\n",
      "\tStopping threshold met -- exiting after 3 iterations\n",
      "Thu Apr 18 18:20:25 2024 Finished Nearest Neighbor Search\n",
      "Thu Apr 18 18:20:26 2024 Construct embedding\n"
     ]
    },
    {
     "data": {
      "application/vnd.jupyter.widget-view+json": {
       "model_id": "bb287e21a45a4c3e9be7331803134407",
       "version_major": 2,
       "version_minor": 0
      },
      "text/plain": [
       "Epochs completed:   0%|            0/2000 [00:00]"
      ]
     },
     "metadata": {},
     "output_type": "display_data"
    },
    {
     "name": "stdout",
     "output_type": "stream",
     "text": [
      "\tcompleted  0  /  2000 epochs\n",
      "\tcompleted  200  /  2000 epochs\n",
      "\tcompleted  400  /  2000 epochs\n",
      "\tcompleted  600  /  2000 epochs\n",
      "\tcompleted  800  /  2000 epochs\n",
      "\tcompleted  1000  /  2000 epochs\n",
      "\tcompleted  1200  /  2000 epochs\n",
      "\tcompleted  1400  /  2000 epochs\n",
      "\tcompleted  1600  /  2000 epochs\n",
      "\tcompleted  1800  /  2000 epochs\n",
      "Thu Apr 18 18:23:08 2024 Finished embedding\n",
      "Input embedding dimention: 1024\n",
      "Data points: 25961\n",
      "Results saved at: ../bldb/lowdim/umap/umap_sbl_t5xlu50_100.csv\n",
      "\n",
      "#################################################################\n",
      "                            t5xlu50                              \n",
      "#################################################################\n",
      "      Running UMAP with n_neighbors = 200 | dataset = SBL\n",
      "#################################################################\n",
      "\n",
      "UMAP(angular_rp_forest=True, metric='cosine', min_dist=0.2, n_epochs=2000, n_neighbors=200, random_state=42, spread=0.2, verbose=True)\n"
     ]
    },
    {
     "name": "stderr",
     "output_type": "stream",
     "text": [
      "/home/gama/anaconda3/envs/bio/lib/python3.11/site-packages/umap/umap_.py:1943: UserWarning: n_jobs value -1 overridden to 1 by setting random_state. Use no seed for parallelism.\n",
      "  warn(f\"n_jobs value {self.n_jobs} overridden to 1 by setting random_state. Use no seed for parallelism.\")\n"
     ]
    },
    {
     "name": "stdout",
     "output_type": "stream",
     "text": [
      "Thu Apr 18 18:23:08 2024 Construct fuzzy simplicial set\n",
      "Thu Apr 18 18:23:08 2024 Finding Nearest Neighbors\n",
      "Thu Apr 18 18:23:08 2024 Building RP forest with 13 trees\n",
      "Thu Apr 18 18:23:09 2024 NN descent for 15 iterations\n",
      "\t 1  /  15\n",
      "\t 2  /  15\n",
      "\t 3  /  15\n",
      "\tStopping threshold met -- exiting after 3 iterations\n",
      "Thu Apr 18 18:23:38 2024 Finished Nearest Neighbor Search\n",
      "Thu Apr 18 18:23:39 2024 Construct embedding\n"
     ]
    },
    {
     "data": {
      "application/vnd.jupyter.widget-view+json": {
       "model_id": "1ffcc2c651ca4631b1718339b0ec72bf",
       "version_major": 2,
       "version_minor": 0
      },
      "text/plain": [
       "Epochs completed:   0%|            0/2000 [00:00]"
      ]
     },
     "metadata": {},
     "output_type": "display_data"
    },
    {
     "name": "stdout",
     "output_type": "stream",
     "text": [
      "\tcompleted  0  /  2000 epochs\n",
      "\tcompleted  200  /  2000 epochs\n",
      "\tcompleted  400  /  2000 epochs\n",
      "\tcompleted  600  /  2000 epochs\n",
      "\tcompleted  800  /  2000 epochs\n",
      "\tcompleted  1000  /  2000 epochs\n",
      "\tcompleted  1200  /  2000 epochs\n",
      "\tcompleted  1400  /  2000 epochs\n",
      "\tcompleted  1600  /  2000 epochs\n",
      "\tcompleted  1800  /  2000 epochs\n",
      "Thu Apr 18 18:27:01 2024 Finished embedding\n",
      "Input embedding dimention: 1024\n",
      "Data points: 25961\n",
      "Results saved at: ../bldb/lowdim/umap/umap_sbl_t5xlu50_200.csv\n",
      "\n",
      "#################################################################\n",
      "                            t5xlu50                              \n",
      "#################################################################\n",
      "      Running UMAP with n_neighbors = 300 | dataset = SBL\n",
      "#################################################################\n",
      "\n",
      "UMAP(angular_rp_forest=True, metric='cosine', min_dist=0.2, n_epochs=2000, n_neighbors=300, random_state=42, spread=0.2, verbose=True)\n"
     ]
    },
    {
     "name": "stderr",
     "output_type": "stream",
     "text": [
      "/home/gama/anaconda3/envs/bio/lib/python3.11/site-packages/umap/umap_.py:1943: UserWarning: n_jobs value -1 overridden to 1 by setting random_state. Use no seed for parallelism.\n",
      "  warn(f\"n_jobs value {self.n_jobs} overridden to 1 by setting random_state. Use no seed for parallelism.\")\n"
     ]
    },
    {
     "name": "stdout",
     "output_type": "stream",
     "text": [
      "Thu Apr 18 18:27:01 2024 Construct fuzzy simplicial set\n",
      "Thu Apr 18 18:27:01 2024 Finding Nearest Neighbors\n",
      "Thu Apr 18 18:27:01 2024 Building RP forest with 13 trees\n",
      "Thu Apr 18 18:27:02 2024 NN descent for 15 iterations\n",
      "\t 1  /  15\n",
      "\t 2  /  15\n",
      "\t 3  /  15\n",
      "\tStopping threshold met -- exiting after 3 iterations\n",
      "Thu Apr 18 18:27:35 2024 Finished Nearest Neighbor Search\n",
      "Thu Apr 18 18:27:37 2024 Construct embedding\n"
     ]
    },
    {
     "data": {
      "application/vnd.jupyter.widget-view+json": {
       "model_id": "dd84b65110624bac955162ad873a74b1",
       "version_major": 2,
       "version_minor": 0
      },
      "text/plain": [
       "Epochs completed:   0%|            0/2000 [00:00]"
      ]
     },
     "metadata": {},
     "output_type": "display_data"
    },
    {
     "name": "stdout",
     "output_type": "stream",
     "text": [
      "\tcompleted  0  /  2000 epochs\n",
      "\tcompleted  200  /  2000 epochs\n",
      "\tcompleted  400  /  2000 epochs\n",
      "\tcompleted  600  /  2000 epochs\n",
      "\tcompleted  800  /  2000 epochs\n",
      "\tcompleted  1000  /  2000 epochs\n",
      "\tcompleted  1200  /  2000 epochs\n",
      "\tcompleted  1400  /  2000 epochs\n",
      "\tcompleted  1600  /  2000 epochs\n",
      "\tcompleted  1800  /  2000 epochs\n",
      "Thu Apr 18 18:31:24 2024 Finished embedding\n",
      "Input embedding dimention: 1024\n",
      "Data points: 25961\n",
      "Results saved at: ../bldb/lowdim/umap/umap_sbl_t5xlu50_300.csv\n",
      "\n",
      "#################################################################\n",
      "                            t5xlu50                              \n",
      "#################################################################\n",
      "      Running UMAP with n_neighbors = 400 | dataset = SBL\n",
      "#################################################################\n",
      "\n",
      "UMAP(angular_rp_forest=True, metric='cosine', min_dist=0.2, n_epochs=2000, n_neighbors=400, random_state=42, spread=0.2, verbose=True)\n",
      "Thu Apr 18 18:31:25 2024 Construct fuzzy simplicial set\n",
      "Thu Apr 18 18:31:25 2024 Finding Nearest Neighbors\n",
      "Thu Apr 18 18:31:25 2024 Building RP forest with 13 trees\n"
     ]
    },
    {
     "name": "stderr",
     "output_type": "stream",
     "text": [
      "/home/gama/anaconda3/envs/bio/lib/python3.11/site-packages/umap/umap_.py:1943: UserWarning: n_jobs value -1 overridden to 1 by setting random_state. Use no seed for parallelism.\n",
      "  warn(f\"n_jobs value {self.n_jobs} overridden to 1 by setting random_state. Use no seed for parallelism.\")\n"
     ]
    },
    {
     "name": "stdout",
     "output_type": "stream",
     "text": [
      "Thu Apr 18 18:31:25 2024 NN descent for 15 iterations\n",
      "\t 1  /  15\n",
      "\t 2  /  15\n",
      "\t 3  /  15\n",
      "\tStopping threshold met -- exiting after 3 iterations\n",
      "Thu Apr 18 18:32:03 2024 Finished Nearest Neighbor Search\n",
      "Thu Apr 18 18:32:05 2024 Construct embedding\n"
     ]
    },
    {
     "data": {
      "application/vnd.jupyter.widget-view+json": {
       "model_id": "f6f4c546de244590a97b3d8f5639fe4a",
       "version_major": 2,
       "version_minor": 0
      },
      "text/plain": [
       "Epochs completed:   0%|            0/2000 [00:00]"
      ]
     },
     "metadata": {},
     "output_type": "display_data"
    },
    {
     "name": "stdout",
     "output_type": "stream",
     "text": [
      "\tcompleted  0  /  2000 epochs\n",
      "\tcompleted  200  /  2000 epochs\n",
      "\tcompleted  400  /  2000 epochs\n",
      "\tcompleted  600  /  2000 epochs\n",
      "\tcompleted  800  /  2000 epochs\n",
      "\tcompleted  1000  /  2000 epochs\n",
      "\tcompleted  1200  /  2000 epochs\n",
      "\tcompleted  1400  /  2000 epochs\n",
      "\tcompleted  1600  /  2000 epochs\n",
      "\tcompleted  1800  /  2000 epochs\n",
      "Thu Apr 18 18:36:09 2024 Finished embedding\n",
      "Input embedding dimention: 1024\n",
      "Data points: 25961\n",
      "Results saved at: ../bldb/lowdim/umap/umap_sbl_t5xlu50_400.csv\n",
      "\n",
      "#################################################################\n",
      "                            t5xlu50                              \n",
      "#################################################################\n",
      "      Running UMAP with n_neighbors = 500 | dataset = SBL\n",
      "#################################################################\n",
      "\n",
      "UMAP(angular_rp_forest=True, metric='cosine', min_dist=0.2, n_epochs=2000, n_neighbors=500, random_state=42, spread=0.2, verbose=True)\n"
     ]
    },
    {
     "name": "stderr",
     "output_type": "stream",
     "text": [
      "/home/gama/anaconda3/envs/bio/lib/python3.11/site-packages/umap/umap_.py:1943: UserWarning: n_jobs value -1 overridden to 1 by setting random_state. Use no seed for parallelism.\n",
      "  warn(f\"n_jobs value {self.n_jobs} overridden to 1 by setting random_state. Use no seed for parallelism.\")\n"
     ]
    },
    {
     "name": "stdout",
     "output_type": "stream",
     "text": [
      "Thu Apr 18 18:36:09 2024 Construct fuzzy simplicial set\n",
      "Thu Apr 18 18:36:09 2024 Finding Nearest Neighbors\n",
      "Thu Apr 18 18:36:09 2024 Building RP forest with 13 trees\n",
      "Thu Apr 18 18:36:10 2024 NN descent for 15 iterations\n",
      "\t 1  /  15\n",
      "\t 2  /  15\n",
      "\t 3  /  15\n",
      "\t 4  /  15\n",
      "\tStopping threshold met -- exiting after 4 iterations\n",
      "Thu Apr 18 18:37:05 2024 Finished Nearest Neighbor Search\n",
      "Thu Apr 18 18:37:08 2024 Construct embedding\n"
     ]
    },
    {
     "data": {
      "application/vnd.jupyter.widget-view+json": {
       "model_id": "6bd85dbf22d0452b85d7922479b807a8",
       "version_major": 2,
       "version_minor": 0
      },
      "text/plain": [
       "Epochs completed:   0%|            0/2000 [00:00]"
      ]
     },
     "metadata": {},
     "output_type": "display_data"
    },
    {
     "name": "stdout",
     "output_type": "stream",
     "text": [
      "\tcompleted  0  /  2000 epochs\n",
      "\tcompleted  200  /  2000 epochs\n",
      "\tcompleted  400  /  2000 epochs\n",
      "\tcompleted  600  /  2000 epochs\n",
      "\tcompleted  800  /  2000 epochs\n",
      "\tcompleted  1000  /  2000 epochs\n",
      "\tcompleted  1200  /  2000 epochs\n",
      "\tcompleted  1400  /  2000 epochs\n",
      "\tcompleted  1600  /  2000 epochs\n",
      "\tcompleted  1800  /  2000 epochs\n",
      "Thu Apr 18 18:41:29 2024 Finished embedding\n",
      "Input embedding dimention: 1024\n",
      "Data points: 25961\n",
      "Results saved at: ../bldb/lowdim/umap/umap_sbl_t5xlu50_500.csv\n",
      "\n",
      "#################################################################\n",
      "                            t5xlu50                              \n",
      "#################################################################\n",
      "      Running UMAP with n_neighbors = 600 | dataset = SBL\n",
      "#################################################################\n",
      "\n",
      "UMAP(angular_rp_forest=True, metric='cosine', min_dist=0.2, n_epochs=2000, n_neighbors=600, random_state=42, spread=0.2, verbose=True)\n",
      "Thu Apr 18 18:41:30 2024 Construct fuzzy simplicial set\n",
      "Thu Apr 18 18:41:30 2024 Finding Nearest Neighbors\n",
      "Thu Apr 18 18:41:30 2024 Building RP forest with 13 trees\n"
     ]
    },
    {
     "name": "stderr",
     "output_type": "stream",
     "text": [
      "/home/gama/anaconda3/envs/bio/lib/python3.11/site-packages/umap/umap_.py:1943: UserWarning: n_jobs value -1 overridden to 1 by setting random_state. Use no seed for parallelism.\n",
      "  warn(f\"n_jobs value {self.n_jobs} overridden to 1 by setting random_state. Use no seed for parallelism.\")\n"
     ]
    },
    {
     "name": "stdout",
     "output_type": "stream",
     "text": [
      "Thu Apr 18 18:41:30 2024 NN descent for 15 iterations\n",
      "\t 1  /  15\n",
      "\t 2  /  15\n",
      "\t 3  /  15\n",
      "\t 4  /  15\n",
      "\tStopping threshold met -- exiting after 4 iterations\n",
      "Thu Apr 18 18:42:31 2024 Finished Nearest Neighbor Search\n",
      "Thu Apr 18 18:42:35 2024 Construct embedding\n"
     ]
    },
    {
     "data": {
      "application/vnd.jupyter.widget-view+json": {
       "model_id": "5059b7742d464eeaa0917d0cc2c9a69a",
       "version_major": 2,
       "version_minor": 0
      },
      "text/plain": [
       "Epochs completed:   0%|            0/2000 [00:00]"
      ]
     },
     "metadata": {},
     "output_type": "display_data"
    },
    {
     "name": "stdout",
     "output_type": "stream",
     "text": [
      "\tcompleted  0  /  2000 epochs\n",
      "\tcompleted  200  /  2000 epochs\n",
      "\tcompleted  400  /  2000 epochs\n",
      "\tcompleted  600  /  2000 epochs\n",
      "\tcompleted  800  /  2000 epochs\n",
      "\tcompleted  1000  /  2000 epochs\n",
      "\tcompleted  1200  /  2000 epochs\n",
      "\tcompleted  1400  /  2000 epochs\n",
      "\tcompleted  1600  /  2000 epochs\n",
      "\tcompleted  1800  /  2000 epochs\n",
      "Thu Apr 18 18:47:04 2024 Finished embedding\n",
      "Input embedding dimention: 1024\n",
      "Data points: 25961\n",
      "Results saved at: ../bldb/lowdim/umap/umap_sbl_t5xlu50_600.csv\n",
      "\n",
      "#################################################################\n",
      "                            t5xlu50                              \n",
      "#################################################################\n",
      "      Running UMAP with n_neighbors = 700 | dataset = SBL\n",
      "#################################################################\n",
      "\n",
      "UMAP(angular_rp_forest=True, metric='cosine', min_dist=0.2, n_epochs=2000, n_neighbors=700, random_state=42, spread=0.2, verbose=True)\n",
      "Thu Apr 18 18:47:04 2024 Construct fuzzy simplicial set\n",
      "Thu Apr 18 18:47:05 2024 Finding Nearest Neighbors\n",
      "Thu Apr 18 18:47:05 2024 Building RP forest with 13 trees\n"
     ]
    },
    {
     "name": "stderr",
     "output_type": "stream",
     "text": [
      "/home/gama/anaconda3/envs/bio/lib/python3.11/site-packages/umap/umap_.py:1943: UserWarning: n_jobs value -1 overridden to 1 by setting random_state. Use no seed for parallelism.\n",
      "  warn(f\"n_jobs value {self.n_jobs} overridden to 1 by setting random_state. Use no seed for parallelism.\")\n"
     ]
    },
    {
     "name": "stdout",
     "output_type": "stream",
     "text": [
      "Thu Apr 18 18:47:05 2024 NN descent for 15 iterations\n",
      "\t 1  /  15\n",
      "\t 2  /  15\n",
      "\t 3  /  15\n",
      "\t 4  /  15\n",
      "\tStopping threshold met -- exiting after 4 iterations\n",
      "Thu Apr 18 18:48:18 2024 Finished Nearest Neighbor Search\n",
      "Thu Apr 18 18:48:23 2024 Construct embedding\n"
     ]
    },
    {
     "data": {
      "application/vnd.jupyter.widget-view+json": {
       "model_id": "5ef2418c0ddb4d98be90b5a447a29d3f",
       "version_major": 2,
       "version_minor": 0
      },
      "text/plain": [
       "Epochs completed:   0%|            0/2000 [00:00]"
      ]
     },
     "metadata": {},
     "output_type": "display_data"
    },
    {
     "name": "stdout",
     "output_type": "stream",
     "text": [
      "\tcompleted  0  /  2000 epochs\n",
      "\tcompleted  200  /  2000 epochs\n",
      "\tcompleted  400  /  2000 epochs\n",
      "\tcompleted  600  /  2000 epochs\n",
      "\tcompleted  800  /  2000 epochs\n",
      "\tcompleted  1000  /  2000 epochs\n",
      "\tcompleted  1200  /  2000 epochs\n",
      "\tcompleted  1400  /  2000 epochs\n",
      "\tcompleted  1600  /  2000 epochs\n",
      "\tcompleted  1800  /  2000 epochs\n",
      "Thu Apr 18 18:53:04 2024 Finished embedding\n",
      "Input embedding dimention: 1024\n",
      "Data points: 25961\n",
      "Results saved at: ../bldb/lowdim/umap/umap_sbl_t5xlu50_700.csv\n",
      "\n",
      "#################################################################\n",
      "                            t5xlu50                              \n",
      "#################################################################\n",
      "      Running UMAP with n_neighbors = 800 | dataset = SBL\n",
      "#################################################################\n",
      "\n",
      "UMAP(angular_rp_forest=True, metric='cosine', min_dist=0.2, n_epochs=2000, n_neighbors=800, random_state=42, spread=0.2, verbose=True)\n"
     ]
    },
    {
     "name": "stderr",
     "output_type": "stream",
     "text": [
      "/home/gama/anaconda3/envs/bio/lib/python3.11/site-packages/umap/umap_.py:1943: UserWarning: n_jobs value -1 overridden to 1 by setting random_state. Use no seed for parallelism.\n",
      "  warn(f\"n_jobs value {self.n_jobs} overridden to 1 by setting random_state. Use no seed for parallelism.\")\n"
     ]
    },
    {
     "name": "stdout",
     "output_type": "stream",
     "text": [
      "Thu Apr 18 18:53:04 2024 Construct fuzzy simplicial set\n",
      "Thu Apr 18 18:53:04 2024 Finding Nearest Neighbors\n",
      "Thu Apr 18 18:53:04 2024 Building RP forest with 13 trees\n",
      "Thu Apr 18 18:53:04 2024 NN descent for 15 iterations\n",
      "\t 1  /  15\n",
      "\t 2  /  15\n",
      "\t 3  /  15\n",
      "\t 4  /  15\n",
      "\tStopping threshold met -- exiting after 4 iterations\n",
      "Thu Apr 18 18:54:22 2024 Finished Nearest Neighbor Search\n",
      "Thu Apr 18 18:54:28 2024 Construct embedding\n"
     ]
    },
    {
     "data": {
      "application/vnd.jupyter.widget-view+json": {
       "model_id": "ff0d8d56af3b4e498f244528cdb041a2",
       "version_major": 2,
       "version_minor": 0
      },
      "text/plain": [
       "Epochs completed:   0%|            0/2000 [00:00]"
      ]
     },
     "metadata": {},
     "output_type": "display_data"
    },
    {
     "name": "stdout",
     "output_type": "stream",
     "text": [
      "\tcompleted  0  /  2000 epochs\n",
      "\tcompleted  200  /  2000 epochs\n",
      "\tcompleted  400  /  2000 epochs\n",
      "\tcompleted  600  /  2000 epochs\n",
      "\tcompleted  800  /  2000 epochs\n",
      "\tcompleted  1000  /  2000 epochs\n",
      "\tcompleted  1200  /  2000 epochs\n",
      "\tcompleted  1400  /  2000 epochs\n",
      "\tcompleted  1600  /  2000 epochs\n",
      "\tcompleted  1800  /  2000 epochs\n",
      "Thu Apr 18 18:59:18 2024 Finished embedding\n",
      "Input embedding dimention: 1024\n",
      "Data points: 25961\n",
      "Results saved at: ../bldb/lowdim/umap/umap_sbl_t5xlu50_800.csv\n",
      "\n",
      "#################################################################\n",
      "                            t5xlu50                              \n",
      "#################################################################\n",
      "      Running UMAP with n_neighbors = 900 | dataset = SBL\n",
      "#################################################################\n",
      "\n",
      "UMAP(angular_rp_forest=True, metric='cosine', min_dist=0.2, n_epochs=2000, n_neighbors=900, random_state=42, spread=0.2, verbose=True)\n",
      "Thu Apr 18 18:59:19 2024 Construct fuzzy simplicial set\n",
      "Thu Apr 18 18:59:19 2024 Finding Nearest Neighbors\n",
      "Thu Apr 18 18:59:19 2024 Building RP forest with 13 trees\n"
     ]
    },
    {
     "name": "stderr",
     "output_type": "stream",
     "text": [
      "/home/gama/anaconda3/envs/bio/lib/python3.11/site-packages/umap/umap_.py:1943: UserWarning: n_jobs value -1 overridden to 1 by setting random_state. Use no seed for parallelism.\n",
      "  warn(f\"n_jobs value {self.n_jobs} overridden to 1 by setting random_state. Use no seed for parallelism.\")\n"
     ]
    },
    {
     "name": "stdout",
     "output_type": "stream",
     "text": [
      "Thu Apr 18 18:59:19 2024 NN descent for 15 iterations\n",
      "\t 1  /  15\n",
      "\t 2  /  15\n",
      "\t 3  /  15\n",
      "\t 4  /  15\n",
      "\tStopping threshold met -- exiting after 4 iterations\n",
      "Thu Apr 18 19:00:46 2024 Finished Nearest Neighbor Search\n",
      "Thu Apr 18 19:00:52 2024 Construct embedding\n"
     ]
    },
    {
     "data": {
      "application/vnd.jupyter.widget-view+json": {
       "model_id": "4c95c936c208416c8ad2270e34e241db",
       "version_major": 2,
       "version_minor": 0
      },
      "text/plain": [
       "Epochs completed:   0%|            0/2000 [00:00]"
      ]
     },
     "metadata": {},
     "output_type": "display_data"
    },
    {
     "name": "stdout",
     "output_type": "stream",
     "text": [
      "\tcompleted  0  /  2000 epochs\n",
      "\tcompleted  200  /  2000 epochs\n",
      "\tcompleted  400  /  2000 epochs\n",
      "\tcompleted  600  /  2000 epochs\n",
      "\tcompleted  800  /  2000 epochs\n",
      "\tcompleted  1000  /  2000 epochs\n",
      "\tcompleted  1200  /  2000 epochs\n",
      "\tcompleted  1400  /  2000 epochs\n",
      "\tcompleted  1600  /  2000 epochs\n",
      "\tcompleted  1800  /  2000 epochs\n",
      "Thu Apr 18 19:05:48 2024 Finished embedding\n",
      "Input embedding dimention: 1024\n",
      "Data points: 25961\n",
      "Results saved at: ../bldb/lowdim/umap/umap_sbl_t5xlu50_900.csv\n",
      "\n",
      "#################################################################\n",
      "                            t5xlu50                              \n",
      "#################################################################\n",
      "      Running UMAP with n_neighbors = 1000 | dataset = SBL\n",
      "#################################################################\n",
      "\n",
      "UMAP(angular_rp_forest=True, metric='cosine', min_dist=0.2, n_epochs=2000, n_neighbors=1000, random_state=42, spread=0.2, verbose=True)\n"
     ]
    },
    {
     "name": "stderr",
     "output_type": "stream",
     "text": [
      "/home/gama/anaconda3/envs/bio/lib/python3.11/site-packages/umap/umap_.py:1943: UserWarning: n_jobs value -1 overridden to 1 by setting random_state. Use no seed for parallelism.\n",
      "  warn(f\"n_jobs value {self.n_jobs} overridden to 1 by setting random_state. Use no seed for parallelism.\")\n"
     ]
    },
    {
     "name": "stdout",
     "output_type": "stream",
     "text": [
      "Thu Apr 18 19:05:48 2024 Construct fuzzy simplicial set\n",
      "Thu Apr 18 19:05:48 2024 Finding Nearest Neighbors\n",
      "Thu Apr 18 19:05:48 2024 Building RP forest with 13 trees\n",
      "Thu Apr 18 19:05:48 2024 NN descent for 15 iterations\n",
      "\t 1  /  15\n",
      "\t 2  /  15\n",
      "\t 3  /  15\n",
      "\t 4  /  15\n",
      "\tStopping threshold met -- exiting after 4 iterations\n",
      "Thu Apr 18 19:07:23 2024 Finished Nearest Neighbor Search\n",
      "Thu Apr 18 19:07:31 2024 Construct embedding\n"
     ]
    },
    {
     "data": {
      "application/vnd.jupyter.widget-view+json": {
       "model_id": "9a3486a517904808847cd1af00626193",
       "version_major": 2,
       "version_minor": 0
      },
      "text/plain": [
       "Epochs completed:   0%|            0/2000 [00:00]"
      ]
     },
     "metadata": {},
     "output_type": "display_data"
    },
    {
     "name": "stdout",
     "output_type": "stream",
     "text": [
      "\tcompleted  0  /  2000 epochs\n",
      "\tcompleted  200  /  2000 epochs\n",
      "\tcompleted  400  /  2000 epochs\n",
      "\tcompleted  600  /  2000 epochs\n",
      "\tcompleted  800  /  2000 epochs\n",
      "\tcompleted  1000  /  2000 epochs\n",
      "\tcompleted  1200  /  2000 epochs\n",
      "\tcompleted  1400  /  2000 epochs\n",
      "\tcompleted  1600  /  2000 epochs\n",
      "\tcompleted  1800  /  2000 epochs\n",
      "Thu Apr 18 19:12:35 2024 Finished embedding\n",
      "Input embedding dimention: 1024\n",
      "Data points: 25961\n",
      "Results saved at: ../bldb/lowdim/umap/umap_sbl_t5xlu50_1000.csv\n",
      "\n"
     ]
    }
   ],
   "source": [
    "sbl_arrays = {\n",
    "    \"esm1b\"    : esm1b_sbl,\n",
    "    \"esm2_650m\": esm2_650m_sbl,\n",
    "    \"esm2_3b\"  : esm2_3b_sbl,\n",
    "    \"carp\"     : carp_sbl,\n",
    "    \"t5xlu50\"  : t5xlu50_sbl\n",
    "}\n",
    "\n",
    "# iterate over data to create input labels \n",
    "for model in models:\n",
    "    for n in nn:\n",
    "        name1 = \"umap1_\" + model\n",
    "        name2 = \"umap2_\" + model\n",
    "        csv = \"../bldb/lowdim/umap/umap_sbl_\" + model + \"_\" + str(n) + \".csv\"\n",
    "\n",
    "        # get the dataset based on the model name \n",
    "        input_embeddings = sbl_arrays[model]\n",
    "\n",
    "        # logs\n",
    "        print(f\"#################################################################\")\n",
    "        print(f\"                            {model}                              \")\n",
    "\n",
    "        # Run the function\n",
    "        run_umap(array=input_embeddings, n_neighbors=n, dim1=name1, dim2=name2, dataset=\"SBL\", csv_name=csv)"
   ]
  },
  {
   "cell_type": "markdown",
   "id": "afbb219c-3551-4fd8-b7ea-5ff9c129bea2",
   "metadata": {},
   "source": [
    "# MBL"
   ]
  },
  {
   "cell_type": "code",
   "execution_count": 8,
   "id": "9fef9801-a707-4ead-825b-f05cb4222ba3",
   "metadata": {},
   "outputs": [],
   "source": [
    "mbl[[\"seq_id\"]].to_csv(\"../bldb/lowdim/umap/mbl_ids.csv\", index=False)"
   ]
  },
  {
   "cell_type": "code",
   "execution_count": 9,
   "id": "41997ccd-f035-4eff-a001-d06015f482c3",
   "metadata": {
    "scrolled": true
   },
   "outputs": [
    {
     "name": "stdout",
     "output_type": "stream",
     "text": [
      "#################################################################\n",
      "                            esm1b                              \n",
      "#################################################################\n",
      "      Running UMAP with n_neighbors = 30 | dataset = MBL\n",
      "#################################################################\n",
      "\n",
      "UMAP(angular_rp_forest=True, metric='cosine', min_dist=0.2, n_epochs=2000, n_neighbors=30, random_state=42, spread=0.2, verbose=True)\n",
      "Thu Apr 18 19:12:36 2024 Construct fuzzy simplicial set\n"
     ]
    },
    {
     "name": "stderr",
     "output_type": "stream",
     "text": [
      "/home/gama/anaconda3/envs/bio/lib/python3.11/site-packages/umap/umap_.py:1943: UserWarning: n_jobs value -1 overridden to 1 by setting random_state. Use no seed for parallelism.\n",
      "  warn(f\"n_jobs value {self.n_jobs} overridden to 1 by setting random_state. Use no seed for parallelism.\")\n"
     ]
    },
    {
     "name": "stdout",
     "output_type": "stream",
     "text": [
      "Thu Apr 18 19:12:48 2024 Finding Nearest Neighbors\n",
      "Thu Apr 18 19:12:49 2024 Finished Nearest Neighbor Search\n",
      "Thu Apr 18 19:12:49 2024 Construct embedding\n"
     ]
    },
    {
     "data": {
      "application/vnd.jupyter.widget-view+json": {
       "model_id": "2518c3d19c6242aab23abe030089c41c",
       "version_major": 2,
       "version_minor": 0
      },
      "text/plain": [
       "Epochs completed:   0%|            0/2000 [00:00]"
      ]
     },
     "metadata": {},
     "output_type": "display_data"
    },
    {
     "name": "stdout",
     "output_type": "stream",
     "text": [
      "\tcompleted  0  /  2000 epochs\n",
      "\tcompleted  200  /  2000 epochs\n",
      "\tcompleted  400  /  2000 epochs\n",
      "\tcompleted  600  /  2000 epochs\n",
      "\tcompleted  800  /  2000 epochs\n",
      "\tcompleted  1000  /  2000 epochs\n",
      "\tcompleted  1200  /  2000 epochs\n",
      "\tcompleted  1400  /  2000 epochs\n",
      "\tcompleted  1600  /  2000 epochs\n",
      "\tcompleted  1800  /  2000 epochs\n",
      "Thu Apr 18 19:13:03 2024 Finished embedding\n",
      "Input embedding dimention: 1280\n",
      "Data points: 3468\n",
      "Results saved at: ../bldb/lowdim/umap/umap_mbl_esm1b_30.csv\n",
      "\n",
      "#################################################################\n",
      "                            esm1b                              \n",
      "#################################################################\n",
      "      Running UMAP with n_neighbors = 50 | dataset = MBL\n",
      "#################################################################\n",
      "\n",
      "UMAP(angular_rp_forest=True, metric='cosine', min_dist=0.2, n_epochs=2000, n_neighbors=50, random_state=42, spread=0.2, verbose=True)\n",
      "Thu Apr 18 19:13:03 2024 Construct fuzzy simplicial set\n"
     ]
    },
    {
     "name": "stderr",
     "output_type": "stream",
     "text": [
      "/home/gama/anaconda3/envs/bio/lib/python3.11/site-packages/umap/umap_.py:1943: UserWarning: n_jobs value -1 overridden to 1 by setting random_state. Use no seed for parallelism.\n",
      "  warn(f\"n_jobs value {self.n_jobs} overridden to 1 by setting random_state. Use no seed for parallelism.\")\n"
     ]
    },
    {
     "name": "stdout",
     "output_type": "stream",
     "text": [
      "Thu Apr 18 19:13:15 2024 Finding Nearest Neighbors\n",
      "Thu Apr 18 19:13:15 2024 Finished Nearest Neighbor Search\n",
      "Thu Apr 18 19:13:15 2024 Construct embedding\n"
     ]
    },
    {
     "data": {
      "application/vnd.jupyter.widget-view+json": {
       "model_id": "8fe911fe927148c8b9aff627e9c719fe",
       "version_major": 2,
       "version_minor": 0
      },
      "text/plain": [
       "Epochs completed:   0%|            0/2000 [00:00]"
      ]
     },
     "metadata": {},
     "output_type": "display_data"
    },
    {
     "name": "stdout",
     "output_type": "stream",
     "text": [
      "\tcompleted  0  /  2000 epochs\n",
      "\tcompleted  200  /  2000 epochs\n",
      "\tcompleted  400  /  2000 epochs\n",
      "\tcompleted  600  /  2000 epochs\n",
      "\tcompleted  800  /  2000 epochs\n",
      "\tcompleted  1000  /  2000 epochs\n",
      "\tcompleted  1200  /  2000 epochs\n",
      "\tcompleted  1400  /  2000 epochs\n",
      "\tcompleted  1600  /  2000 epochs\n",
      "\tcompleted  1800  /  2000 epochs\n",
      "Thu Apr 18 19:13:32 2024 Finished embedding\n",
      "Input embedding dimention: 1280\n",
      "Data points: 3468\n",
      "Results saved at: ../bldb/lowdim/umap/umap_mbl_esm1b_50.csv\n",
      "\n",
      "#################################################################\n",
      "                            esm1b                              \n",
      "#################################################################\n",
      "      Running UMAP with n_neighbors = 100 | dataset = MBL\n",
      "#################################################################\n",
      "\n",
      "UMAP(angular_rp_forest=True, metric='cosine', min_dist=0.2, n_epochs=2000, n_neighbors=100, random_state=42, spread=0.2, verbose=True)\n",
      "Thu Apr 18 19:13:33 2024 Construct fuzzy simplicial set\n"
     ]
    },
    {
     "name": "stderr",
     "output_type": "stream",
     "text": [
      "/home/gama/anaconda3/envs/bio/lib/python3.11/site-packages/umap/umap_.py:1943: UserWarning: n_jobs value -1 overridden to 1 by setting random_state. Use no seed for parallelism.\n",
      "  warn(f\"n_jobs value {self.n_jobs} overridden to 1 by setting random_state. Use no seed for parallelism.\")\n"
     ]
    },
    {
     "name": "stdout",
     "output_type": "stream",
     "text": [
      "Thu Apr 18 19:13:44 2024 Finding Nearest Neighbors\n",
      "Thu Apr 18 19:13:44 2024 Finished Nearest Neighbor Search\n",
      "Thu Apr 18 19:13:44 2024 Construct embedding\n"
     ]
    },
    {
     "data": {
      "application/vnd.jupyter.widget-view+json": {
       "model_id": "3ddc3b63e9ef4b3d9dc47d42a632ce19",
       "version_major": 2,
       "version_minor": 0
      },
      "text/plain": [
       "Epochs completed:   0%|            0/2000 [00:00]"
      ]
     },
     "metadata": {},
     "output_type": "display_data"
    },
    {
     "name": "stdout",
     "output_type": "stream",
     "text": [
      "\tcompleted  0  /  2000 epochs\n",
      "\tcompleted  200  /  2000 epochs\n",
      "\tcompleted  400  /  2000 epochs\n",
      "\tcompleted  600  /  2000 epochs\n",
      "\tcompleted  800  /  2000 epochs\n",
      "\tcompleted  1000  /  2000 epochs\n",
      "\tcompleted  1200  /  2000 epochs\n",
      "\tcompleted  1400  /  2000 epochs\n",
      "\tcompleted  1600  /  2000 epochs\n",
      "\tcompleted  1800  /  2000 epochs\n",
      "Thu Apr 18 19:14:05 2024 Finished embedding\n",
      "Input embedding dimention: 1280\n",
      "Data points: 3468\n",
      "Results saved at: ../bldb/lowdim/umap/umap_mbl_esm1b_100.csv\n",
      "\n",
      "#################################################################\n",
      "                            esm1b                              \n",
      "#################################################################\n",
      "      Running UMAP with n_neighbors = 200 | dataset = MBL\n",
      "#################################################################\n",
      "\n",
      "UMAP(angular_rp_forest=True, metric='cosine', min_dist=0.2, n_epochs=2000, n_neighbors=200, random_state=42, spread=0.2, verbose=True)\n",
      "Thu Apr 18 19:14:06 2024 Construct fuzzy simplicial set\n"
     ]
    },
    {
     "name": "stderr",
     "output_type": "stream",
     "text": [
      "/home/gama/anaconda3/envs/bio/lib/python3.11/site-packages/umap/umap_.py:1943: UserWarning: n_jobs value -1 overridden to 1 by setting random_state. Use no seed for parallelism.\n",
      "  warn(f\"n_jobs value {self.n_jobs} overridden to 1 by setting random_state. Use no seed for parallelism.\")\n"
     ]
    },
    {
     "name": "stdout",
     "output_type": "stream",
     "text": [
      "Thu Apr 18 19:14:17 2024 Finding Nearest Neighbors\n",
      "Thu Apr 18 19:14:17 2024 Finished Nearest Neighbor Search\n",
      "Thu Apr 18 19:14:18 2024 Construct embedding\n"
     ]
    },
    {
     "data": {
      "application/vnd.jupyter.widget-view+json": {
       "model_id": "5115c832171d4b5999bc7d897f6500e0",
       "version_major": 2,
       "version_minor": 0
      },
      "text/plain": [
       "Epochs completed:   0%|            0/2000 [00:00]"
      ]
     },
     "metadata": {},
     "output_type": "display_data"
    },
    {
     "name": "stdout",
     "output_type": "stream",
     "text": [
      "\tcompleted  0  /  2000 epochs\n",
      "\tcompleted  200  /  2000 epochs\n",
      "\tcompleted  400  /  2000 epochs\n",
      "\tcompleted  600  /  2000 epochs\n",
      "\tcompleted  800  /  2000 epochs\n",
      "\tcompleted  1000  /  2000 epochs\n",
      "\tcompleted  1200  /  2000 epochs\n",
      "\tcompleted  1400  /  2000 epochs\n",
      "\tcompleted  1600  /  2000 epochs\n",
      "\tcompleted  1800  /  2000 epochs\n",
      "Thu Apr 18 19:14:43 2024 Finished embedding\n",
      "Input embedding dimention: 1280\n",
      "Data points: 3468\n",
      "Results saved at: ../bldb/lowdim/umap/umap_mbl_esm1b_200.csv\n",
      "\n",
      "#################################################################\n",
      "                            esm1b                              \n",
      "#################################################################\n",
      "      Running UMAP with n_neighbors = 300 | dataset = MBL\n",
      "#################################################################\n",
      "\n",
      "UMAP(angular_rp_forest=True, metric='cosine', min_dist=0.2, n_epochs=2000, n_neighbors=300, random_state=42, spread=0.2, verbose=True)\n",
      "Thu Apr 18 19:14:43 2024 Construct fuzzy simplicial set\n"
     ]
    },
    {
     "name": "stderr",
     "output_type": "stream",
     "text": [
      "/home/gama/anaconda3/envs/bio/lib/python3.11/site-packages/umap/umap_.py:1943: UserWarning: n_jobs value -1 overridden to 1 by setting random_state. Use no seed for parallelism.\n",
      "  warn(f\"n_jobs value {self.n_jobs} overridden to 1 by setting random_state. Use no seed for parallelism.\")\n"
     ]
    },
    {
     "name": "stdout",
     "output_type": "stream",
     "text": [
      "Thu Apr 18 19:14:55 2024 Finding Nearest Neighbors\n",
      "Thu Apr 18 19:14:55 2024 Finished Nearest Neighbor Search\n",
      "Thu Apr 18 19:14:55 2024 Construct embedding\n"
     ]
    },
    {
     "data": {
      "application/vnd.jupyter.widget-view+json": {
       "model_id": "82ef01bae23542b9ac48135277421d47",
       "version_major": 2,
       "version_minor": 0
      },
      "text/plain": [
       "Epochs completed:   0%|            0/2000 [00:00]"
      ]
     },
     "metadata": {},
     "output_type": "display_data"
    },
    {
     "name": "stdout",
     "output_type": "stream",
     "text": [
      "\tcompleted  0  /  2000 epochs\n",
      "\tcompleted  200  /  2000 epochs\n",
      "\tcompleted  400  /  2000 epochs\n",
      "\tcompleted  600  /  2000 epochs\n",
      "\tcompleted  800  /  2000 epochs\n",
      "\tcompleted  1000  /  2000 epochs\n",
      "\tcompleted  1200  /  2000 epochs\n",
      "\tcompleted  1400  /  2000 epochs\n",
      "\tcompleted  1600  /  2000 epochs\n",
      "\tcompleted  1800  /  2000 epochs\n",
      "Thu Apr 18 19:15:25 2024 Finished embedding\n",
      "Input embedding dimention: 1280\n",
      "Data points: 3468\n",
      "Results saved at: ../bldb/lowdim/umap/umap_mbl_esm1b_300.csv\n",
      "\n",
      "#################################################################\n",
      "                            esm1b                              \n",
      "#################################################################\n",
      "      Running UMAP with n_neighbors = 400 | dataset = MBL\n",
      "#################################################################\n",
      "\n",
      "UMAP(angular_rp_forest=True, metric='cosine', min_dist=0.2, n_epochs=2000, n_neighbors=400, random_state=42, spread=0.2, verbose=True)\n",
      "Thu Apr 18 19:15:25 2024 Construct fuzzy simplicial set\n"
     ]
    },
    {
     "name": "stderr",
     "output_type": "stream",
     "text": [
      "/home/gama/anaconda3/envs/bio/lib/python3.11/site-packages/umap/umap_.py:1943: UserWarning: n_jobs value -1 overridden to 1 by setting random_state. Use no seed for parallelism.\n",
      "  warn(f\"n_jobs value {self.n_jobs} overridden to 1 by setting random_state. Use no seed for parallelism.\")\n"
     ]
    },
    {
     "name": "stdout",
     "output_type": "stream",
     "text": [
      "Thu Apr 18 19:15:36 2024 Finding Nearest Neighbors\n",
      "Thu Apr 18 19:15:36 2024 Finished Nearest Neighbor Search\n",
      "Thu Apr 18 19:15:37 2024 Construct embedding\n"
     ]
    },
    {
     "data": {
      "application/vnd.jupyter.widget-view+json": {
       "model_id": "121e6db796a140a39b6a3be93c6e6368",
       "version_major": 2,
       "version_minor": 0
      },
      "text/plain": [
       "Epochs completed:   0%|            0/2000 [00:00]"
      ]
     },
     "metadata": {},
     "output_type": "display_data"
    },
    {
     "name": "stdout",
     "output_type": "stream",
     "text": [
      "\tcompleted  0  /  2000 epochs\n",
      "\tcompleted  200  /  2000 epochs\n",
      "\tcompleted  400  /  2000 epochs\n",
      "\tcompleted  600  /  2000 epochs\n",
      "\tcompleted  800  /  2000 epochs\n",
      "\tcompleted  1000  /  2000 epochs\n",
      "\tcompleted  1200  /  2000 epochs\n",
      "\tcompleted  1400  /  2000 epochs\n",
      "\tcompleted  1600  /  2000 epochs\n",
      "\tcompleted  1800  /  2000 epochs\n",
      "Thu Apr 18 19:16:08 2024 Finished embedding\n",
      "Input embedding dimention: 1280\n",
      "Data points: 3468\n",
      "Results saved at: ../bldb/lowdim/umap/umap_mbl_esm1b_400.csv\n",
      "\n",
      "#################################################################\n",
      "                            esm1b                              \n",
      "#################################################################\n",
      "      Running UMAP with n_neighbors = 500 | dataset = MBL\n",
      "#################################################################\n",
      "\n",
      "UMAP(angular_rp_forest=True, metric='cosine', min_dist=0.2, n_epochs=2000, n_neighbors=500, random_state=42, spread=0.2, verbose=True)\n",
      "Thu Apr 18 19:16:08 2024 Construct fuzzy simplicial set\n"
     ]
    },
    {
     "name": "stderr",
     "output_type": "stream",
     "text": [
      "/home/gama/anaconda3/envs/bio/lib/python3.11/site-packages/umap/umap_.py:1943: UserWarning: n_jobs value -1 overridden to 1 by setting random_state. Use no seed for parallelism.\n",
      "  warn(f\"n_jobs value {self.n_jobs} overridden to 1 by setting random_state. Use no seed for parallelism.\")\n"
     ]
    },
    {
     "name": "stdout",
     "output_type": "stream",
     "text": [
      "Thu Apr 18 19:16:20 2024 Finding Nearest Neighbors\n",
      "Thu Apr 18 19:16:20 2024 Finished Nearest Neighbor Search\n",
      "Thu Apr 18 19:16:21 2024 Construct embedding\n"
     ]
    },
    {
     "data": {
      "application/vnd.jupyter.widget-view+json": {
       "model_id": "945f4fdadc374a70b010435b656bc517",
       "version_major": 2,
       "version_minor": 0
      },
      "text/plain": [
       "Epochs completed:   0%|            0/2000 [00:00]"
      ]
     },
     "metadata": {},
     "output_type": "display_data"
    },
    {
     "name": "stdout",
     "output_type": "stream",
     "text": [
      "\tcompleted  0  /  2000 epochs\n",
      "\tcompleted  200  /  2000 epochs\n",
      "\tcompleted  400  /  2000 epochs\n",
      "\tcompleted  600  /  2000 epochs\n",
      "\tcompleted  800  /  2000 epochs\n",
      "\tcompleted  1000  /  2000 epochs\n",
      "\tcompleted  1200  /  2000 epochs\n",
      "\tcompleted  1400  /  2000 epochs\n",
      "\tcompleted  1600  /  2000 epochs\n",
      "\tcompleted  1800  /  2000 epochs\n",
      "Thu Apr 18 19:16:54 2024 Finished embedding\n",
      "Input embedding dimention: 1280\n",
      "Data points: 3468\n",
      "Results saved at: ../bldb/lowdim/umap/umap_mbl_esm1b_500.csv\n",
      "\n",
      "#################################################################\n",
      "                            esm1b                              \n",
      "#################################################################\n",
      "      Running UMAP with n_neighbors = 600 | dataset = MBL\n",
      "#################################################################\n",
      "\n",
      "UMAP(angular_rp_forest=True, metric='cosine', min_dist=0.2, n_epochs=2000, n_neighbors=600, random_state=42, spread=0.2, verbose=True)\n",
      "Thu Apr 18 19:16:54 2024 Construct fuzzy simplicial set\n"
     ]
    },
    {
     "name": "stderr",
     "output_type": "stream",
     "text": [
      "/home/gama/anaconda3/envs/bio/lib/python3.11/site-packages/umap/umap_.py:1943: UserWarning: n_jobs value -1 overridden to 1 by setting random_state. Use no seed for parallelism.\n",
      "  warn(f\"n_jobs value {self.n_jobs} overridden to 1 by setting random_state. Use no seed for parallelism.\")\n"
     ]
    },
    {
     "name": "stdout",
     "output_type": "stream",
     "text": [
      "Thu Apr 18 19:17:05 2024 Finding Nearest Neighbors\n",
      "Thu Apr 18 19:17:06 2024 Finished Nearest Neighbor Search\n",
      "Thu Apr 18 19:17:06 2024 Construct embedding\n"
     ]
    },
    {
     "data": {
      "application/vnd.jupyter.widget-view+json": {
       "model_id": "c660f8f24c1942ada15b4c3ecff18fe2",
       "version_major": 2,
       "version_minor": 0
      },
      "text/plain": [
       "Epochs completed:   0%|            0/2000 [00:00]"
      ]
     },
     "metadata": {},
     "output_type": "display_data"
    },
    {
     "name": "stdout",
     "output_type": "stream",
     "text": [
      "\tcompleted  0  /  2000 epochs\n",
      "\tcompleted  200  /  2000 epochs\n",
      "\tcompleted  400  /  2000 epochs\n",
      "\tcompleted  600  /  2000 epochs\n",
      "\tcompleted  800  /  2000 epochs\n",
      "\tcompleted  1000  /  2000 epochs\n",
      "\tcompleted  1200  /  2000 epochs\n",
      "\tcompleted  1400  /  2000 epochs\n",
      "\tcompleted  1600  /  2000 epochs\n",
      "\tcompleted  1800  /  2000 epochs\n",
      "Thu Apr 18 19:17:41 2024 Finished embedding\n",
      "Input embedding dimention: 1280\n",
      "Data points: 3468\n",
      "Results saved at: ../bldb/lowdim/umap/umap_mbl_esm1b_600.csv\n",
      "\n",
      "#################################################################\n",
      "                            esm1b                              \n",
      "#################################################################\n",
      "      Running UMAP with n_neighbors = 700 | dataset = MBL\n",
      "#################################################################\n",
      "\n",
      "UMAP(angular_rp_forest=True, metric='cosine', min_dist=0.2, n_epochs=2000, n_neighbors=700, random_state=42, spread=0.2, verbose=True)\n",
      "Thu Apr 18 19:17:41 2024 Construct fuzzy simplicial set\n"
     ]
    },
    {
     "name": "stderr",
     "output_type": "stream",
     "text": [
      "/home/gama/anaconda3/envs/bio/lib/python3.11/site-packages/umap/umap_.py:1943: UserWarning: n_jobs value -1 overridden to 1 by setting random_state. Use no seed for parallelism.\n",
      "  warn(f\"n_jobs value {self.n_jobs} overridden to 1 by setting random_state. Use no seed for parallelism.\")\n"
     ]
    },
    {
     "name": "stdout",
     "output_type": "stream",
     "text": [
      "Thu Apr 18 19:17:53 2024 Finding Nearest Neighbors\n",
      "Thu Apr 18 19:17:53 2024 Finished Nearest Neighbor Search\n",
      "Thu Apr 18 19:17:54 2024 Construct embedding\n"
     ]
    },
    {
     "data": {
      "application/vnd.jupyter.widget-view+json": {
       "model_id": "77e68be69046474186813df85fd28cea",
       "version_major": 2,
       "version_minor": 0
      },
      "text/plain": [
       "Epochs completed:   0%|            0/2000 [00:00]"
      ]
     },
     "metadata": {},
     "output_type": "display_data"
    },
    {
     "name": "stdout",
     "output_type": "stream",
     "text": [
      "\tcompleted  0  /  2000 epochs\n",
      "\tcompleted  200  /  2000 epochs\n",
      "\tcompleted  400  /  2000 epochs\n",
      "\tcompleted  600  /  2000 epochs\n",
      "\tcompleted  800  /  2000 epochs\n",
      "\tcompleted  1000  /  2000 epochs\n",
      "\tcompleted  1200  /  2000 epochs\n",
      "\tcompleted  1400  /  2000 epochs\n",
      "\tcompleted  1600  /  2000 epochs\n",
      "\tcompleted  1800  /  2000 epochs\n",
      "Thu Apr 18 19:18:30 2024 Finished embedding\n",
      "Input embedding dimention: 1280\n",
      "Data points: 3468\n",
      "Results saved at: ../bldb/lowdim/umap/umap_mbl_esm1b_700.csv\n",
      "\n",
      "#################################################################\n",
      "                            esm1b                              \n",
      "#################################################################\n",
      "      Running UMAP with n_neighbors = 800 | dataset = MBL\n",
      "#################################################################\n",
      "\n",
      "UMAP(angular_rp_forest=True, metric='cosine', min_dist=0.2, n_epochs=2000, n_neighbors=800, random_state=42, spread=0.2, verbose=True)\n",
      "Thu Apr 18 19:18:30 2024 Construct fuzzy simplicial set\n"
     ]
    },
    {
     "name": "stderr",
     "output_type": "stream",
     "text": [
      "/home/gama/anaconda3/envs/bio/lib/python3.11/site-packages/umap/umap_.py:1943: UserWarning: n_jobs value -1 overridden to 1 by setting random_state. Use no seed for parallelism.\n",
      "  warn(f\"n_jobs value {self.n_jobs} overridden to 1 by setting random_state. Use no seed for parallelism.\")\n"
     ]
    },
    {
     "name": "stdout",
     "output_type": "stream",
     "text": [
      "Thu Apr 18 19:18:41 2024 Finding Nearest Neighbors\n",
      "Thu Apr 18 19:18:41 2024 Finished Nearest Neighbor Search\n",
      "Thu Apr 18 19:18:42 2024 Construct embedding\n"
     ]
    },
    {
     "data": {
      "application/vnd.jupyter.widget-view+json": {
       "model_id": "d4b3fccddceb4ef9a116f7b7ae010b26",
       "version_major": 2,
       "version_minor": 0
      },
      "text/plain": [
       "Epochs completed:   0%|            0/2000 [00:00]"
      ]
     },
     "metadata": {},
     "output_type": "display_data"
    },
    {
     "name": "stdout",
     "output_type": "stream",
     "text": [
      "\tcompleted  0  /  2000 epochs\n",
      "\tcompleted  200  /  2000 epochs\n",
      "\tcompleted  400  /  2000 epochs\n",
      "\tcompleted  600  /  2000 epochs\n",
      "\tcompleted  800  /  2000 epochs\n",
      "\tcompleted  1000  /  2000 epochs\n",
      "\tcompleted  1200  /  2000 epochs\n",
      "\tcompleted  1400  /  2000 epochs\n",
      "\tcompleted  1600  /  2000 epochs\n",
      "\tcompleted  1800  /  2000 epochs\n",
      "Thu Apr 18 19:19:19 2024 Finished embedding\n",
      "Input embedding dimention: 1280\n",
      "Data points: 3468\n",
      "Results saved at: ../bldb/lowdim/umap/umap_mbl_esm1b_800.csv\n",
      "\n",
      "#################################################################\n",
      "                            esm1b                              \n",
      "#################################################################\n",
      "      Running UMAP with n_neighbors = 900 | dataset = MBL\n",
      "#################################################################\n",
      "\n",
      "UMAP(angular_rp_forest=True, metric='cosine', min_dist=0.2, n_epochs=2000, n_neighbors=900, random_state=42, spread=0.2, verbose=True)\n",
      "Thu Apr 18 19:19:20 2024 Construct fuzzy simplicial set\n"
     ]
    },
    {
     "name": "stderr",
     "output_type": "stream",
     "text": [
      "/home/gama/anaconda3/envs/bio/lib/python3.11/site-packages/umap/umap_.py:1943: UserWarning: n_jobs value -1 overridden to 1 by setting random_state. Use no seed for parallelism.\n",
      "  warn(f\"n_jobs value {self.n_jobs} overridden to 1 by setting random_state. Use no seed for parallelism.\")\n"
     ]
    },
    {
     "name": "stdout",
     "output_type": "stream",
     "text": [
      "Thu Apr 18 19:19:31 2024 Finding Nearest Neighbors\n",
      "Thu Apr 18 19:19:31 2024 Finished Nearest Neighbor Search\n",
      "Thu Apr 18 19:19:32 2024 Construct embedding\n"
     ]
    },
    {
     "data": {
      "application/vnd.jupyter.widget-view+json": {
       "model_id": "81d1557ded7245af98daf6fbef07727d",
       "version_major": 2,
       "version_minor": 0
      },
      "text/plain": [
       "Epochs completed:   0%|            0/2000 [00:00]"
      ]
     },
     "metadata": {},
     "output_type": "display_data"
    },
    {
     "name": "stdout",
     "output_type": "stream",
     "text": [
      "\tcompleted  0  /  2000 epochs\n",
      "\tcompleted  200  /  2000 epochs\n",
      "\tcompleted  400  /  2000 epochs\n",
      "\tcompleted  600  /  2000 epochs\n",
      "\tcompleted  800  /  2000 epochs\n",
      "\tcompleted  1000  /  2000 epochs\n",
      "\tcompleted  1200  /  2000 epochs\n",
      "\tcompleted  1400  /  2000 epochs\n",
      "\tcompleted  1600  /  2000 epochs\n",
      "\tcompleted  1800  /  2000 epochs\n",
      "Thu Apr 18 19:20:10 2024 Finished embedding\n",
      "Input embedding dimention: 1280\n",
      "Data points: 3468\n",
      "Results saved at: ../bldb/lowdim/umap/umap_mbl_esm1b_900.csv\n",
      "\n",
      "#################################################################\n",
      "                            esm1b                              \n",
      "#################################################################\n",
      "      Running UMAP with n_neighbors = 1000 | dataset = MBL\n",
      "#################################################################\n",
      "\n",
      "UMAP(angular_rp_forest=True, metric='cosine', min_dist=0.2, n_epochs=2000, n_neighbors=1000, random_state=42, spread=0.2, verbose=True)\n",
      "Thu Apr 18 19:20:10 2024 Construct fuzzy simplicial set\n"
     ]
    },
    {
     "name": "stderr",
     "output_type": "stream",
     "text": [
      "/home/gama/anaconda3/envs/bio/lib/python3.11/site-packages/umap/umap_.py:1943: UserWarning: n_jobs value -1 overridden to 1 by setting random_state. Use no seed for parallelism.\n",
      "  warn(f\"n_jobs value {self.n_jobs} overridden to 1 by setting random_state. Use no seed for parallelism.\")\n"
     ]
    },
    {
     "name": "stdout",
     "output_type": "stream",
     "text": [
      "Thu Apr 18 19:20:21 2024 Finding Nearest Neighbors\n",
      "Thu Apr 18 19:20:21 2024 Finished Nearest Neighbor Search\n",
      "Thu Apr 18 19:20:22 2024 Construct embedding\n"
     ]
    },
    {
     "data": {
      "application/vnd.jupyter.widget-view+json": {
       "model_id": "171c7888a2014582b017971522cf1e0a",
       "version_major": 2,
       "version_minor": 0
      },
      "text/plain": [
       "Epochs completed:   0%|            0/2000 [00:00]"
      ]
     },
     "metadata": {},
     "output_type": "display_data"
    },
    {
     "name": "stdout",
     "output_type": "stream",
     "text": [
      "\tcompleted  0  /  2000 epochs\n",
      "\tcompleted  200  /  2000 epochs\n",
      "\tcompleted  400  /  2000 epochs\n",
      "\tcompleted  600  /  2000 epochs\n",
      "\tcompleted  800  /  2000 epochs\n",
      "\tcompleted  1000  /  2000 epochs\n",
      "\tcompleted  1200  /  2000 epochs\n",
      "\tcompleted  1400  /  2000 epochs\n",
      "\tcompleted  1600  /  2000 epochs\n",
      "\tcompleted  1800  /  2000 epochs\n",
      "Thu Apr 18 19:21:01 2024 Finished embedding\n",
      "Input embedding dimention: 1280\n",
      "Data points: 3468\n",
      "Results saved at: ../bldb/lowdim/umap/umap_mbl_esm1b_1000.csv\n",
      "\n",
      "#################################################################\n",
      "                            esm2_650m                              \n",
      "#################################################################\n",
      "      Running UMAP with n_neighbors = 30 | dataset = MBL\n",
      "#################################################################\n",
      "\n",
      "UMAP(angular_rp_forest=True, metric='cosine', min_dist=0.2, n_epochs=2000, n_neighbors=30, random_state=42, spread=0.2, verbose=True)\n",
      "Thu Apr 18 19:21:01 2024 Construct fuzzy simplicial set\n"
     ]
    },
    {
     "name": "stderr",
     "output_type": "stream",
     "text": [
      "/home/gama/anaconda3/envs/bio/lib/python3.11/site-packages/umap/umap_.py:1943: UserWarning: n_jobs value -1 overridden to 1 by setting random_state. Use no seed for parallelism.\n",
      "  warn(f\"n_jobs value {self.n_jobs} overridden to 1 by setting random_state. Use no seed for parallelism.\")\n"
     ]
    },
    {
     "name": "stdout",
     "output_type": "stream",
     "text": [
      "Thu Apr 18 19:21:12 2024 Finding Nearest Neighbors\n",
      "Thu Apr 18 19:21:12 2024 Finished Nearest Neighbor Search\n",
      "Thu Apr 18 19:21:12 2024 Construct embedding\n"
     ]
    },
    {
     "data": {
      "application/vnd.jupyter.widget-view+json": {
       "model_id": "2aa137ee516e4681a3cf07709d4de478",
       "version_major": 2,
       "version_minor": 0
      },
      "text/plain": [
       "Epochs completed:   0%|            0/2000 [00:00]"
      ]
     },
     "metadata": {},
     "output_type": "display_data"
    },
    {
     "name": "stdout",
     "output_type": "stream",
     "text": [
      "\tcompleted  0  /  2000 epochs\n",
      "\tcompleted  200  /  2000 epochs\n",
      "\tcompleted  400  /  2000 epochs\n",
      "\tcompleted  600  /  2000 epochs\n",
      "\tcompleted  800  /  2000 epochs\n",
      "\tcompleted  1000  /  2000 epochs\n",
      "\tcompleted  1200  /  2000 epochs\n",
      "\tcompleted  1400  /  2000 epochs\n",
      "\tcompleted  1600  /  2000 epochs\n",
      "\tcompleted  1800  /  2000 epochs\n",
      "Thu Apr 18 19:21:27 2024 Finished embedding\n",
      "Input embedding dimention: 1280\n",
      "Data points: 3468\n",
      "Results saved at: ../bldb/lowdim/umap/umap_mbl_esm2_650m_30.csv\n",
      "\n",
      "#################################################################\n",
      "                            esm2_650m                              \n",
      "#################################################################\n",
      "      Running UMAP with n_neighbors = 50 | dataset = MBL\n",
      "#################################################################\n",
      "\n",
      "UMAP(angular_rp_forest=True, metric='cosine', min_dist=0.2, n_epochs=2000, n_neighbors=50, random_state=42, spread=0.2, verbose=True)\n",
      "Thu Apr 18 19:21:27 2024 Construct fuzzy simplicial set\n"
     ]
    },
    {
     "name": "stderr",
     "output_type": "stream",
     "text": [
      "/home/gama/anaconda3/envs/bio/lib/python3.11/site-packages/umap/umap_.py:1943: UserWarning: n_jobs value -1 overridden to 1 by setting random_state. Use no seed for parallelism.\n",
      "  warn(f\"n_jobs value {self.n_jobs} overridden to 1 by setting random_state. Use no seed for parallelism.\")\n"
     ]
    },
    {
     "name": "stdout",
     "output_type": "stream",
     "text": [
      "Thu Apr 18 19:21:39 2024 Finding Nearest Neighbors\n",
      "Thu Apr 18 19:21:39 2024 Finished Nearest Neighbor Search\n",
      "Thu Apr 18 19:21:39 2024 Construct embedding\n"
     ]
    },
    {
     "data": {
      "application/vnd.jupyter.widget-view+json": {
       "model_id": "55388f5c0d334954804179966916997b",
       "version_major": 2,
       "version_minor": 0
      },
      "text/plain": [
       "Epochs completed:   0%|            0/2000 [00:00]"
      ]
     },
     "metadata": {},
     "output_type": "display_data"
    },
    {
     "name": "stdout",
     "output_type": "stream",
     "text": [
      "\tcompleted  0  /  2000 epochs\n",
      "\tcompleted  200  /  2000 epochs\n",
      "\tcompleted  400  /  2000 epochs\n",
      "\tcompleted  600  /  2000 epochs\n",
      "\tcompleted  800  /  2000 epochs\n",
      "\tcompleted  1000  /  2000 epochs\n",
      "\tcompleted  1200  /  2000 epochs\n",
      "\tcompleted  1400  /  2000 epochs\n",
      "\tcompleted  1600  /  2000 epochs\n",
      "\tcompleted  1800  /  2000 epochs\n",
      "Thu Apr 18 19:21:56 2024 Finished embedding\n",
      "Input embedding dimention: 1280\n",
      "Data points: 3468\n",
      "Results saved at: ../bldb/lowdim/umap/umap_mbl_esm2_650m_50.csv\n",
      "\n",
      "#################################################################\n",
      "                            esm2_650m                              \n",
      "#################################################################\n",
      "      Running UMAP with n_neighbors = 100 | dataset = MBL\n",
      "#################################################################\n",
      "\n",
      "UMAP(angular_rp_forest=True, metric='cosine', min_dist=0.2, n_epochs=2000, n_neighbors=100, random_state=42, spread=0.2, verbose=True)\n",
      "Thu Apr 18 19:21:56 2024 Construct fuzzy simplicial set\n"
     ]
    },
    {
     "name": "stderr",
     "output_type": "stream",
     "text": [
      "/home/gama/anaconda3/envs/bio/lib/python3.11/site-packages/umap/umap_.py:1943: UserWarning: n_jobs value -1 overridden to 1 by setting random_state. Use no seed for parallelism.\n",
      "  warn(f\"n_jobs value {self.n_jobs} overridden to 1 by setting random_state. Use no seed for parallelism.\")\n"
     ]
    },
    {
     "name": "stdout",
     "output_type": "stream",
     "text": [
      "Thu Apr 18 19:22:08 2024 Finding Nearest Neighbors\n",
      "Thu Apr 18 19:22:08 2024 Finished Nearest Neighbor Search\n",
      "Thu Apr 18 19:22:08 2024 Construct embedding\n"
     ]
    },
    {
     "data": {
      "application/vnd.jupyter.widget-view+json": {
       "model_id": "25e796350de84f9599bfe223b103ff3f",
       "version_major": 2,
       "version_minor": 0
      },
      "text/plain": [
       "Epochs completed:   0%|            0/2000 [00:00]"
      ]
     },
     "metadata": {},
     "output_type": "display_data"
    },
    {
     "name": "stdout",
     "output_type": "stream",
     "text": [
      "\tcompleted  0  /  2000 epochs\n",
      "\tcompleted  200  /  2000 epochs\n",
      "\tcompleted  400  /  2000 epochs\n",
      "\tcompleted  600  /  2000 epochs\n",
      "\tcompleted  800  /  2000 epochs\n",
      "\tcompleted  1000  /  2000 epochs\n",
      "\tcompleted  1200  /  2000 epochs\n",
      "\tcompleted  1400  /  2000 epochs\n",
      "\tcompleted  1600  /  2000 epochs\n",
      "\tcompleted  1800  /  2000 epochs\n",
      "Thu Apr 18 19:22:29 2024 Finished embedding\n",
      "Input embedding dimention: 1280\n",
      "Data points: 3468\n",
      "Results saved at: ../bldb/lowdim/umap/umap_mbl_esm2_650m_100.csv\n",
      "\n",
      "#################################################################\n",
      "                            esm2_650m                              \n",
      "#################################################################\n",
      "      Running UMAP with n_neighbors = 200 | dataset = MBL\n",
      "#################################################################\n",
      "\n",
      "UMAP(angular_rp_forest=True, metric='cosine', min_dist=0.2, n_epochs=2000, n_neighbors=200, random_state=42, spread=0.2, verbose=True)\n",
      "Thu Apr 18 19:22:29 2024 Construct fuzzy simplicial set\n"
     ]
    },
    {
     "name": "stderr",
     "output_type": "stream",
     "text": [
      "/home/gama/anaconda3/envs/bio/lib/python3.11/site-packages/umap/umap_.py:1943: UserWarning: n_jobs value -1 overridden to 1 by setting random_state. Use no seed for parallelism.\n",
      "  warn(f\"n_jobs value {self.n_jobs} overridden to 1 by setting random_state. Use no seed for parallelism.\")\n"
     ]
    },
    {
     "name": "stdout",
     "output_type": "stream",
     "text": [
      "Thu Apr 18 19:22:41 2024 Finding Nearest Neighbors\n",
      "Thu Apr 18 19:22:41 2024 Finished Nearest Neighbor Search\n",
      "Thu Apr 18 19:22:41 2024 Construct embedding\n"
     ]
    },
    {
     "data": {
      "application/vnd.jupyter.widget-view+json": {
       "model_id": "86aeadf1531249a6bd1da5e47aec2f29",
       "version_major": 2,
       "version_minor": 0
      },
      "text/plain": [
       "Epochs completed:   0%|            0/2000 [00:00]"
      ]
     },
     "metadata": {},
     "output_type": "display_data"
    },
    {
     "name": "stdout",
     "output_type": "stream",
     "text": [
      "\tcompleted  0  /  2000 epochs\n",
      "\tcompleted  200  /  2000 epochs\n",
      "\tcompleted  400  /  2000 epochs\n",
      "\tcompleted  600  /  2000 epochs\n",
      "\tcompleted  800  /  2000 epochs\n",
      "\tcompleted  1000  /  2000 epochs\n",
      "\tcompleted  1200  /  2000 epochs\n",
      "\tcompleted  1400  /  2000 epochs\n",
      "\tcompleted  1600  /  2000 epochs\n",
      "\tcompleted  1800  /  2000 epochs\n",
      "Thu Apr 18 19:23:07 2024 Finished embedding\n",
      "Input embedding dimention: 1280\n",
      "Data points: 3468\n",
      "Results saved at: ../bldb/lowdim/umap/umap_mbl_esm2_650m_200.csv\n",
      "\n",
      "#################################################################\n",
      "                            esm2_650m                              \n",
      "#################################################################\n",
      "      Running UMAP with n_neighbors = 300 | dataset = MBL\n",
      "#################################################################\n",
      "\n",
      "UMAP(angular_rp_forest=True, metric='cosine', min_dist=0.2, n_epochs=2000, n_neighbors=300, random_state=42, spread=0.2, verbose=True)\n",
      "Thu Apr 18 19:23:07 2024 Construct fuzzy simplicial set\n"
     ]
    },
    {
     "name": "stderr",
     "output_type": "stream",
     "text": [
      "/home/gama/anaconda3/envs/bio/lib/python3.11/site-packages/umap/umap_.py:1943: UserWarning: n_jobs value -1 overridden to 1 by setting random_state. Use no seed for parallelism.\n",
      "  warn(f\"n_jobs value {self.n_jobs} overridden to 1 by setting random_state. Use no seed for parallelism.\")\n"
     ]
    },
    {
     "name": "stdout",
     "output_type": "stream",
     "text": [
      "Thu Apr 18 19:23:19 2024 Finding Nearest Neighbors\n",
      "Thu Apr 18 19:23:19 2024 Finished Nearest Neighbor Search\n",
      "Thu Apr 18 19:23:19 2024 Construct embedding\n"
     ]
    },
    {
     "data": {
      "application/vnd.jupyter.widget-view+json": {
       "model_id": "389c02449ca64618b8a5593e27cefd5d",
       "version_major": 2,
       "version_minor": 0
      },
      "text/plain": [
       "Epochs completed:   0%|            0/2000 [00:00]"
      ]
     },
     "metadata": {},
     "output_type": "display_data"
    },
    {
     "name": "stdout",
     "output_type": "stream",
     "text": [
      "\tcompleted  0  /  2000 epochs\n",
      "\tcompleted  200  /  2000 epochs\n",
      "\tcompleted  400  /  2000 epochs\n",
      "\tcompleted  600  /  2000 epochs\n",
      "\tcompleted  800  /  2000 epochs\n",
      "\tcompleted  1000  /  2000 epochs\n",
      "\tcompleted  1200  /  2000 epochs\n",
      "\tcompleted  1400  /  2000 epochs\n",
      "\tcompleted  1600  /  2000 epochs\n",
      "\tcompleted  1800  /  2000 epochs\n",
      "Thu Apr 18 19:23:48 2024 Finished embedding\n",
      "Input embedding dimention: 1280\n",
      "Data points: 3468\n",
      "Results saved at: ../bldb/lowdim/umap/umap_mbl_esm2_650m_300.csv\n",
      "\n",
      "#################################################################\n",
      "                            esm2_650m                              \n",
      "#################################################################\n",
      "      Running UMAP with n_neighbors = 400 | dataset = MBL\n",
      "#################################################################\n",
      "\n",
      "UMAP(angular_rp_forest=True, metric='cosine', min_dist=0.2, n_epochs=2000, n_neighbors=400, random_state=42, spread=0.2, verbose=True)\n",
      "Thu Apr 18 19:23:48 2024 Construct fuzzy simplicial set\n"
     ]
    },
    {
     "name": "stderr",
     "output_type": "stream",
     "text": [
      "/home/gama/anaconda3/envs/bio/lib/python3.11/site-packages/umap/umap_.py:1943: UserWarning: n_jobs value -1 overridden to 1 by setting random_state. Use no seed for parallelism.\n",
      "  warn(f\"n_jobs value {self.n_jobs} overridden to 1 by setting random_state. Use no seed for parallelism.\")\n"
     ]
    },
    {
     "name": "stdout",
     "output_type": "stream",
     "text": [
      "Thu Apr 18 19:24:00 2024 Finding Nearest Neighbors\n",
      "Thu Apr 18 19:24:00 2024 Finished Nearest Neighbor Search\n",
      "Thu Apr 18 19:24:00 2024 Construct embedding\n"
     ]
    },
    {
     "data": {
      "application/vnd.jupyter.widget-view+json": {
       "model_id": "05e635b30c1744bd97547c9aebf476f8",
       "version_major": 2,
       "version_minor": 0
      },
      "text/plain": [
       "Epochs completed:   0%|            0/2000 [00:00]"
      ]
     },
     "metadata": {},
     "output_type": "display_data"
    },
    {
     "name": "stdout",
     "output_type": "stream",
     "text": [
      "\tcompleted  0  /  2000 epochs\n",
      "\tcompleted  200  /  2000 epochs\n",
      "\tcompleted  400  /  2000 epochs\n",
      "\tcompleted  600  /  2000 epochs\n",
      "\tcompleted  800  /  2000 epochs\n",
      "\tcompleted  1000  /  2000 epochs\n",
      "\tcompleted  1200  /  2000 epochs\n",
      "\tcompleted  1400  /  2000 epochs\n",
      "\tcompleted  1600  /  2000 epochs\n",
      "\tcompleted  1800  /  2000 epochs\n",
      "Thu Apr 18 19:24:32 2024 Finished embedding\n",
      "Input embedding dimention: 1280\n",
      "Data points: 3468\n",
      "Results saved at: ../bldb/lowdim/umap/umap_mbl_esm2_650m_400.csv\n",
      "\n",
      "#################################################################\n",
      "                            esm2_650m                              \n",
      "#################################################################\n",
      "      Running UMAP with n_neighbors = 500 | dataset = MBL\n",
      "#################################################################\n",
      "\n",
      "UMAP(angular_rp_forest=True, metric='cosine', min_dist=0.2, n_epochs=2000, n_neighbors=500, random_state=42, spread=0.2, verbose=True)\n",
      "Thu Apr 18 19:24:32 2024 Construct fuzzy simplicial set\n"
     ]
    },
    {
     "name": "stderr",
     "output_type": "stream",
     "text": [
      "/home/gama/anaconda3/envs/bio/lib/python3.11/site-packages/umap/umap_.py:1943: UserWarning: n_jobs value -1 overridden to 1 by setting random_state. Use no seed for parallelism.\n",
      "  warn(f\"n_jobs value {self.n_jobs} overridden to 1 by setting random_state. Use no seed for parallelism.\")\n"
     ]
    },
    {
     "name": "stdout",
     "output_type": "stream",
     "text": [
      "Thu Apr 18 19:24:44 2024 Finding Nearest Neighbors\n",
      "Thu Apr 18 19:24:44 2024 Finished Nearest Neighbor Search\n",
      "Thu Apr 18 19:24:44 2024 Construct embedding\n"
     ]
    },
    {
     "data": {
      "application/vnd.jupyter.widget-view+json": {
       "model_id": "dce9fd25d13e4ecd9e9e2a3ff20eb3ca",
       "version_major": 2,
       "version_minor": 0
      },
      "text/plain": [
       "Epochs completed:   0%|            0/2000 [00:00]"
      ]
     },
     "metadata": {},
     "output_type": "display_data"
    },
    {
     "name": "stdout",
     "output_type": "stream",
     "text": [
      "\tcompleted  0  /  2000 epochs\n",
      "\tcompleted  200  /  2000 epochs\n",
      "\tcompleted  400  /  2000 epochs\n",
      "\tcompleted  600  /  2000 epochs\n",
      "\tcompleted  800  /  2000 epochs\n",
      "\tcompleted  1000  /  2000 epochs\n",
      "\tcompleted  1200  /  2000 epochs\n",
      "\tcompleted  1400  /  2000 epochs\n",
      "\tcompleted  1600  /  2000 epochs\n",
      "\tcompleted  1800  /  2000 epochs\n",
      "Thu Apr 18 19:25:17 2024 Finished embedding\n",
      "Input embedding dimention: 1280\n",
      "Data points: 3468\n",
      "Results saved at: ../bldb/lowdim/umap/umap_mbl_esm2_650m_500.csv\n",
      "\n",
      "#################################################################\n",
      "                            esm2_650m                              \n",
      "#################################################################\n",
      "      Running UMAP with n_neighbors = 600 | dataset = MBL\n",
      "#################################################################\n",
      "\n",
      "UMAP(angular_rp_forest=True, metric='cosine', min_dist=0.2, n_epochs=2000, n_neighbors=600, random_state=42, spread=0.2, verbose=True)\n",
      "Thu Apr 18 19:25:18 2024 Construct fuzzy simplicial set\n"
     ]
    },
    {
     "name": "stderr",
     "output_type": "stream",
     "text": [
      "/home/gama/anaconda3/envs/bio/lib/python3.11/site-packages/umap/umap_.py:1943: UserWarning: n_jobs value -1 overridden to 1 by setting random_state. Use no seed for parallelism.\n",
      "  warn(f\"n_jobs value {self.n_jobs} overridden to 1 by setting random_state. Use no seed for parallelism.\")\n"
     ]
    },
    {
     "name": "stdout",
     "output_type": "stream",
     "text": [
      "Thu Apr 18 19:25:30 2024 Finding Nearest Neighbors\n",
      "Thu Apr 18 19:25:30 2024 Finished Nearest Neighbor Search\n",
      "Thu Apr 18 19:25:30 2024 Construct embedding\n"
     ]
    },
    {
     "data": {
      "application/vnd.jupyter.widget-view+json": {
       "model_id": "bfa1c394ede84e81981f9b521b28bbcc",
       "version_major": 2,
       "version_minor": 0
      },
      "text/plain": [
       "Epochs completed:   0%|            0/2000 [00:00]"
      ]
     },
     "metadata": {},
     "output_type": "display_data"
    },
    {
     "name": "stdout",
     "output_type": "stream",
     "text": [
      "\tcompleted  0  /  2000 epochs\n",
      "\tcompleted  200  /  2000 epochs\n",
      "\tcompleted  400  /  2000 epochs\n",
      "\tcompleted  600  /  2000 epochs\n",
      "\tcompleted  800  /  2000 epochs\n",
      "\tcompleted  1000  /  2000 epochs\n",
      "\tcompleted  1200  /  2000 epochs\n",
      "\tcompleted  1400  /  2000 epochs\n",
      "\tcompleted  1600  /  2000 epochs\n",
      "\tcompleted  1800  /  2000 epochs\n",
      "Thu Apr 18 19:26:05 2024 Finished embedding\n",
      "Input embedding dimention: 1280\n",
      "Data points: 3468\n",
      "Results saved at: ../bldb/lowdim/umap/umap_mbl_esm2_650m_600.csv\n",
      "\n",
      "#################################################################\n",
      "                            esm2_650m                              \n",
      "#################################################################\n",
      "      Running UMAP with n_neighbors = 700 | dataset = MBL\n",
      "#################################################################\n",
      "\n",
      "UMAP(angular_rp_forest=True, metric='cosine', min_dist=0.2, n_epochs=2000, n_neighbors=700, random_state=42, spread=0.2, verbose=True)\n",
      "Thu Apr 18 19:26:05 2024 Construct fuzzy simplicial set\n"
     ]
    },
    {
     "name": "stderr",
     "output_type": "stream",
     "text": [
      "/home/gama/anaconda3/envs/bio/lib/python3.11/site-packages/umap/umap_.py:1943: UserWarning: n_jobs value -1 overridden to 1 by setting random_state. Use no seed for parallelism.\n",
      "  warn(f\"n_jobs value {self.n_jobs} overridden to 1 by setting random_state. Use no seed for parallelism.\")\n"
     ]
    },
    {
     "name": "stdout",
     "output_type": "stream",
     "text": [
      "Thu Apr 18 19:26:17 2024 Finding Nearest Neighbors\n",
      "Thu Apr 18 19:26:17 2024 Finished Nearest Neighbor Search\n",
      "Thu Apr 18 19:26:17 2024 Construct embedding\n"
     ]
    },
    {
     "data": {
      "application/vnd.jupyter.widget-view+json": {
       "model_id": "e27617eaf64a4000a44b193f10637483",
       "version_major": 2,
       "version_minor": 0
      },
      "text/plain": [
       "Epochs completed:   0%|            0/2000 [00:00]"
      ]
     },
     "metadata": {},
     "output_type": "display_data"
    },
    {
     "name": "stdout",
     "output_type": "stream",
     "text": [
      "\tcompleted  0  /  2000 epochs\n",
      "\tcompleted  200  /  2000 epochs\n",
      "\tcompleted  400  /  2000 epochs\n",
      "\tcompleted  600  /  2000 epochs\n",
      "\tcompleted  800  /  2000 epochs\n",
      "\tcompleted  1000  /  2000 epochs\n",
      "\tcompleted  1200  /  2000 epochs\n",
      "\tcompleted  1400  /  2000 epochs\n",
      "\tcompleted  1600  /  2000 epochs\n",
      "\tcompleted  1800  /  2000 epochs\n",
      "Thu Apr 18 19:26:53 2024 Finished embedding\n",
      "Input embedding dimention: 1280\n",
      "Data points: 3468\n",
      "Results saved at: ../bldb/lowdim/umap/umap_mbl_esm2_650m_700.csv\n",
      "\n",
      "#################################################################\n",
      "                            esm2_650m                              \n",
      "#################################################################\n",
      "      Running UMAP with n_neighbors = 800 | dataset = MBL\n",
      "#################################################################\n",
      "\n",
      "UMAP(angular_rp_forest=True, metric='cosine', min_dist=0.2, n_epochs=2000, n_neighbors=800, random_state=42, spread=0.2, verbose=True)\n",
      "Thu Apr 18 19:26:53 2024 Construct fuzzy simplicial set\n"
     ]
    },
    {
     "name": "stderr",
     "output_type": "stream",
     "text": [
      "/home/gama/anaconda3/envs/bio/lib/python3.11/site-packages/umap/umap_.py:1943: UserWarning: n_jobs value -1 overridden to 1 by setting random_state. Use no seed for parallelism.\n",
      "  warn(f\"n_jobs value {self.n_jobs} overridden to 1 by setting random_state. Use no seed for parallelism.\")\n"
     ]
    },
    {
     "name": "stdout",
     "output_type": "stream",
     "text": [
      "Thu Apr 18 19:27:05 2024 Finding Nearest Neighbors\n",
      "Thu Apr 18 19:27:05 2024 Finished Nearest Neighbor Search\n",
      "Thu Apr 18 19:27:06 2024 Construct embedding\n"
     ]
    },
    {
     "data": {
      "application/vnd.jupyter.widget-view+json": {
       "model_id": "c6e053d75b1140b2886000221a2ea64e",
       "version_major": 2,
       "version_minor": 0
      },
      "text/plain": [
       "Epochs completed:   0%|            0/2000 [00:00]"
      ]
     },
     "metadata": {},
     "output_type": "display_data"
    },
    {
     "name": "stdout",
     "output_type": "stream",
     "text": [
      "\tcompleted  0  /  2000 epochs\n",
      "\tcompleted  200  /  2000 epochs\n",
      "\tcompleted  400  /  2000 epochs\n",
      "\tcompleted  600  /  2000 epochs\n",
      "\tcompleted  800  /  2000 epochs\n",
      "\tcompleted  1000  /  2000 epochs\n",
      "\tcompleted  1200  /  2000 epochs\n",
      "\tcompleted  1400  /  2000 epochs\n",
      "\tcompleted  1600  /  2000 epochs\n",
      "\tcompleted  1800  /  2000 epochs\n",
      "Thu Apr 18 19:27:43 2024 Finished embedding\n",
      "Input embedding dimention: 1280\n",
      "Data points: 3468\n",
      "Results saved at: ../bldb/lowdim/umap/umap_mbl_esm2_650m_800.csv\n",
      "\n",
      "#################################################################\n",
      "                            esm2_650m                              \n",
      "#################################################################\n",
      "      Running UMAP with n_neighbors = 900 | dataset = MBL\n",
      "#################################################################\n",
      "\n",
      "UMAP(angular_rp_forest=True, metric='cosine', min_dist=0.2, n_epochs=2000, n_neighbors=900, random_state=42, spread=0.2, verbose=True)\n",
      "Thu Apr 18 19:27:43 2024 Construct fuzzy simplicial set\n"
     ]
    },
    {
     "name": "stderr",
     "output_type": "stream",
     "text": [
      "/home/gama/anaconda3/envs/bio/lib/python3.11/site-packages/umap/umap_.py:1943: UserWarning: n_jobs value -1 overridden to 1 by setting random_state. Use no seed for parallelism.\n",
      "  warn(f\"n_jobs value {self.n_jobs} overridden to 1 by setting random_state. Use no seed for parallelism.\")\n"
     ]
    },
    {
     "name": "stdout",
     "output_type": "stream",
     "text": [
      "Thu Apr 18 19:27:54 2024 Finding Nearest Neighbors\n",
      "Thu Apr 18 19:27:55 2024 Finished Nearest Neighbor Search\n",
      "Thu Apr 18 19:27:55 2024 Construct embedding\n"
     ]
    },
    {
     "data": {
      "application/vnd.jupyter.widget-view+json": {
       "model_id": "9f90a5aa05824a96828a1cc7c800783a",
       "version_major": 2,
       "version_minor": 0
      },
      "text/plain": [
       "Epochs completed:   0%|            0/2000 [00:00]"
      ]
     },
     "metadata": {},
     "output_type": "display_data"
    },
    {
     "name": "stdout",
     "output_type": "stream",
     "text": [
      "\tcompleted  0  /  2000 epochs\n",
      "\tcompleted  200  /  2000 epochs\n",
      "\tcompleted  400  /  2000 epochs\n",
      "\tcompleted  600  /  2000 epochs\n",
      "\tcompleted  800  /  2000 epochs\n",
      "\tcompleted  1000  /  2000 epochs\n",
      "\tcompleted  1200  /  2000 epochs\n",
      "\tcompleted  1400  /  2000 epochs\n",
      "\tcompleted  1600  /  2000 epochs\n",
      "\tcompleted  1800  /  2000 epochs\n",
      "Thu Apr 18 19:28:33 2024 Finished embedding\n",
      "Input embedding dimention: 1280\n",
      "Data points: 3468\n",
      "Results saved at: ../bldb/lowdim/umap/umap_mbl_esm2_650m_900.csv\n",
      "\n",
      "#################################################################\n",
      "                            esm2_650m                              \n",
      "#################################################################\n",
      "      Running UMAP with n_neighbors = 1000 | dataset = MBL\n",
      "#################################################################\n",
      "\n",
      "UMAP(angular_rp_forest=True, metric='cosine', min_dist=0.2, n_epochs=2000, n_neighbors=1000, random_state=42, spread=0.2, verbose=True)\n",
      "Thu Apr 18 19:28:33 2024 Construct fuzzy simplicial set\n"
     ]
    },
    {
     "name": "stderr",
     "output_type": "stream",
     "text": [
      "/home/gama/anaconda3/envs/bio/lib/python3.11/site-packages/umap/umap_.py:1943: UserWarning: n_jobs value -1 overridden to 1 by setting random_state. Use no seed for parallelism.\n",
      "  warn(f\"n_jobs value {self.n_jobs} overridden to 1 by setting random_state. Use no seed for parallelism.\")\n"
     ]
    },
    {
     "name": "stdout",
     "output_type": "stream",
     "text": [
      "Thu Apr 18 19:28:45 2024 Finding Nearest Neighbors\n",
      "Thu Apr 18 19:28:45 2024 Finished Nearest Neighbor Search\n",
      "Thu Apr 18 19:28:46 2024 Construct embedding\n"
     ]
    },
    {
     "data": {
      "application/vnd.jupyter.widget-view+json": {
       "model_id": "c659628fe3cc47429d7c16ec2357b247",
       "version_major": 2,
       "version_minor": 0
      },
      "text/plain": [
       "Epochs completed:   0%|            0/2000 [00:00]"
      ]
     },
     "metadata": {},
     "output_type": "display_data"
    },
    {
     "name": "stdout",
     "output_type": "stream",
     "text": [
      "\tcompleted  0  /  2000 epochs\n",
      "\tcompleted  200  /  2000 epochs\n",
      "\tcompleted  400  /  2000 epochs\n",
      "\tcompleted  600  /  2000 epochs\n",
      "\tcompleted  800  /  2000 epochs\n",
      "\tcompleted  1000  /  2000 epochs\n",
      "\tcompleted  1200  /  2000 epochs\n",
      "\tcompleted  1400  /  2000 epochs\n",
      "\tcompleted  1600  /  2000 epochs\n",
      "\tcompleted  1800  /  2000 epochs\n",
      "Thu Apr 18 19:29:24 2024 Finished embedding\n",
      "Input embedding dimention: 1280\n",
      "Data points: 3468\n",
      "Results saved at: ../bldb/lowdim/umap/umap_mbl_esm2_650m_1000.csv\n",
      "\n",
      "#################################################################\n",
      "                            esm2_3b                              \n",
      "#################################################################\n",
      "      Running UMAP with n_neighbors = 30 | dataset = MBL\n",
      "#################################################################\n",
      "\n",
      "UMAP(angular_rp_forest=True, metric='cosine', min_dist=0.2, n_epochs=2000, n_neighbors=30, random_state=42, spread=0.2, verbose=True)\n",
      "Thu Apr 18 19:29:24 2024 Construct fuzzy simplicial set\n"
     ]
    },
    {
     "name": "stderr",
     "output_type": "stream",
     "text": [
      "/home/gama/anaconda3/envs/bio/lib/python3.11/site-packages/umap/umap_.py:1943: UserWarning: n_jobs value -1 overridden to 1 by setting random_state. Use no seed for parallelism.\n",
      "  warn(f\"n_jobs value {self.n_jobs} overridden to 1 by setting random_state. Use no seed for parallelism.\")\n"
     ]
    },
    {
     "name": "stdout",
     "output_type": "stream",
     "text": [
      "Thu Apr 18 19:29:43 2024 Finding Nearest Neighbors\n",
      "Thu Apr 18 19:29:43 2024 Finished Nearest Neighbor Search\n",
      "Thu Apr 18 19:29:43 2024 Construct embedding\n"
     ]
    },
    {
     "data": {
      "application/vnd.jupyter.widget-view+json": {
       "model_id": "1e84bd262c404f78bdf73d2d684c8751",
       "version_major": 2,
       "version_minor": 0
      },
      "text/plain": [
       "Epochs completed:   0%|            0/2000 [00:00]"
      ]
     },
     "metadata": {},
     "output_type": "display_data"
    },
    {
     "name": "stdout",
     "output_type": "stream",
     "text": [
      "\tcompleted  0  /  2000 epochs\n",
      "\tcompleted  200  /  2000 epochs\n",
      "\tcompleted  400  /  2000 epochs\n",
      "\tcompleted  600  /  2000 epochs\n",
      "\tcompleted  800  /  2000 epochs\n",
      "\tcompleted  1000  /  2000 epochs\n",
      "\tcompleted  1200  /  2000 epochs\n",
      "\tcompleted  1400  /  2000 epochs\n",
      "\tcompleted  1600  /  2000 epochs\n",
      "\tcompleted  1800  /  2000 epochs\n",
      "Thu Apr 18 19:29:58 2024 Finished embedding\n",
      "Input embedding dimention: 2560\n",
      "Data points: 3468\n",
      "Results saved at: ../bldb/lowdim/umap/umap_mbl_esm2_3b_30.csv\n",
      "\n",
      "#################################################################\n",
      "                            esm2_3b                              \n",
      "#################################################################\n",
      "      Running UMAP with n_neighbors = 50 | dataset = MBL\n",
      "#################################################################\n",
      "\n",
      "UMAP(angular_rp_forest=True, metric='cosine', min_dist=0.2, n_epochs=2000, n_neighbors=50, random_state=42, spread=0.2, verbose=True)\n",
      "Thu Apr 18 19:29:58 2024 Construct fuzzy simplicial set\n"
     ]
    },
    {
     "name": "stderr",
     "output_type": "stream",
     "text": [
      "/home/gama/anaconda3/envs/bio/lib/python3.11/site-packages/umap/umap_.py:1943: UserWarning: n_jobs value -1 overridden to 1 by setting random_state. Use no seed for parallelism.\n",
      "  warn(f\"n_jobs value {self.n_jobs} overridden to 1 by setting random_state. Use no seed for parallelism.\")\n"
     ]
    },
    {
     "name": "stdout",
     "output_type": "stream",
     "text": [
      "Thu Apr 18 19:30:16 2024 Finding Nearest Neighbors\n",
      "Thu Apr 18 19:30:16 2024 Finished Nearest Neighbor Search\n",
      "Thu Apr 18 19:30:16 2024 Construct embedding\n"
     ]
    },
    {
     "data": {
      "application/vnd.jupyter.widget-view+json": {
       "model_id": "222080b492bb4e2ba437b3eca87f4593",
       "version_major": 2,
       "version_minor": 0
      },
      "text/plain": [
       "Epochs completed:   0%|            0/2000 [00:00]"
      ]
     },
     "metadata": {},
     "output_type": "display_data"
    },
    {
     "name": "stdout",
     "output_type": "stream",
     "text": [
      "\tcompleted  0  /  2000 epochs\n",
      "\tcompleted  200  /  2000 epochs\n",
      "\tcompleted  400  /  2000 epochs\n",
      "\tcompleted  600  /  2000 epochs\n",
      "\tcompleted  800  /  2000 epochs\n",
      "\tcompleted  1000  /  2000 epochs\n",
      "\tcompleted  1200  /  2000 epochs\n",
      "\tcompleted  1400  /  2000 epochs\n",
      "\tcompleted  1600  /  2000 epochs\n",
      "\tcompleted  1800  /  2000 epochs\n",
      "Thu Apr 18 19:30:33 2024 Finished embedding\n",
      "Input embedding dimention: 2560\n",
      "Data points: 3468\n",
      "Results saved at: ../bldb/lowdim/umap/umap_mbl_esm2_3b_50.csv\n",
      "\n",
      "#################################################################\n",
      "                            esm2_3b                              \n",
      "#################################################################\n",
      "      Running UMAP with n_neighbors = 100 | dataset = MBL\n",
      "#################################################################\n",
      "\n",
      "UMAP(angular_rp_forest=True, metric='cosine', min_dist=0.2, n_epochs=2000, n_neighbors=100, random_state=42, spread=0.2, verbose=True)\n",
      "Thu Apr 18 19:30:34 2024 Construct fuzzy simplicial set\n"
     ]
    },
    {
     "name": "stderr",
     "output_type": "stream",
     "text": [
      "/home/gama/anaconda3/envs/bio/lib/python3.11/site-packages/umap/umap_.py:1943: UserWarning: n_jobs value -1 overridden to 1 by setting random_state. Use no seed for parallelism.\n",
      "  warn(f\"n_jobs value {self.n_jobs} overridden to 1 by setting random_state. Use no seed for parallelism.\")\n"
     ]
    },
    {
     "name": "stdout",
     "output_type": "stream",
     "text": [
      "Thu Apr 18 19:30:53 2024 Finding Nearest Neighbors\n",
      "Thu Apr 18 19:30:53 2024 Finished Nearest Neighbor Search\n",
      "Thu Apr 18 19:30:53 2024 Construct embedding\n"
     ]
    },
    {
     "data": {
      "application/vnd.jupyter.widget-view+json": {
       "model_id": "bb866f504f624a98b8e0a9ccb43c22aa",
       "version_major": 2,
       "version_minor": 0
      },
      "text/plain": [
       "Epochs completed:   0%|            0/2000 [00:00]"
      ]
     },
     "metadata": {},
     "output_type": "display_data"
    },
    {
     "name": "stdout",
     "output_type": "stream",
     "text": [
      "\tcompleted  0  /  2000 epochs\n",
      "\tcompleted  200  /  2000 epochs\n",
      "\tcompleted  400  /  2000 epochs\n",
      "\tcompleted  600  /  2000 epochs\n",
      "\tcompleted  800  /  2000 epochs\n",
      "\tcompleted  1000  /  2000 epochs\n",
      "\tcompleted  1200  /  2000 epochs\n",
      "\tcompleted  1400  /  2000 epochs\n",
      "\tcompleted  1600  /  2000 epochs\n",
      "\tcompleted  1800  /  2000 epochs\n",
      "Thu Apr 18 19:31:14 2024 Finished embedding\n",
      "Input embedding dimention: 2560\n",
      "Data points: 3468\n",
      "Results saved at: ../bldb/lowdim/umap/umap_mbl_esm2_3b_100.csv\n",
      "\n",
      "#################################################################\n",
      "                            esm2_3b                              \n",
      "#################################################################\n",
      "      Running UMAP with n_neighbors = 200 | dataset = MBL\n",
      "#################################################################\n",
      "\n",
      "UMAP(angular_rp_forest=True, metric='cosine', min_dist=0.2, n_epochs=2000, n_neighbors=200, random_state=42, spread=0.2, verbose=True)\n",
      "Thu Apr 18 19:31:14 2024 Construct fuzzy simplicial set\n"
     ]
    },
    {
     "name": "stderr",
     "output_type": "stream",
     "text": [
      "/home/gama/anaconda3/envs/bio/lib/python3.11/site-packages/umap/umap_.py:1943: UserWarning: n_jobs value -1 overridden to 1 by setting random_state. Use no seed for parallelism.\n",
      "  warn(f\"n_jobs value {self.n_jobs} overridden to 1 by setting random_state. Use no seed for parallelism.\")\n"
     ]
    },
    {
     "name": "stdout",
     "output_type": "stream",
     "text": [
      "Thu Apr 18 19:31:33 2024 Finding Nearest Neighbors\n",
      "Thu Apr 18 19:31:33 2024 Finished Nearest Neighbor Search\n",
      "Thu Apr 18 19:31:33 2024 Construct embedding\n"
     ]
    },
    {
     "data": {
      "application/vnd.jupyter.widget-view+json": {
       "model_id": "0d074685bf3343b0ab5379f135a3f48e",
       "version_major": 2,
       "version_minor": 0
      },
      "text/plain": [
       "Epochs completed:   0%|            0/2000 [00:00]"
      ]
     },
     "metadata": {},
     "output_type": "display_data"
    },
    {
     "name": "stdout",
     "output_type": "stream",
     "text": [
      "\tcompleted  0  /  2000 epochs\n",
      "\tcompleted  200  /  2000 epochs\n",
      "\tcompleted  400  /  2000 epochs\n",
      "\tcompleted  600  /  2000 epochs\n",
      "\tcompleted  800  /  2000 epochs\n",
      "\tcompleted  1000  /  2000 epochs\n",
      "\tcompleted  1200  /  2000 epochs\n",
      "\tcompleted  1400  /  2000 epochs\n",
      "\tcompleted  1600  /  2000 epochs\n",
      "\tcompleted  1800  /  2000 epochs\n",
      "Thu Apr 18 19:31:59 2024 Finished embedding\n",
      "Input embedding dimention: 2560\n",
      "Data points: 3468\n",
      "Results saved at: ../bldb/lowdim/umap/umap_mbl_esm2_3b_200.csv\n",
      "\n",
      "#################################################################\n",
      "                            esm2_3b                              \n",
      "#################################################################\n",
      "      Running UMAP with n_neighbors = 300 | dataset = MBL\n",
      "#################################################################\n",
      "\n",
      "UMAP(angular_rp_forest=True, metric='cosine', min_dist=0.2, n_epochs=2000, n_neighbors=300, random_state=42, spread=0.2, verbose=True)\n",
      "Thu Apr 18 19:31:59 2024 Construct fuzzy simplicial set\n"
     ]
    },
    {
     "name": "stderr",
     "output_type": "stream",
     "text": [
      "/home/gama/anaconda3/envs/bio/lib/python3.11/site-packages/umap/umap_.py:1943: UserWarning: n_jobs value -1 overridden to 1 by setting random_state. Use no seed for parallelism.\n",
      "  warn(f\"n_jobs value {self.n_jobs} overridden to 1 by setting random_state. Use no seed for parallelism.\")\n"
     ]
    },
    {
     "name": "stdout",
     "output_type": "stream",
     "text": [
      "Thu Apr 18 19:32:18 2024 Finding Nearest Neighbors\n",
      "Thu Apr 18 19:32:18 2024 Finished Nearest Neighbor Search\n",
      "Thu Apr 18 19:32:19 2024 Construct embedding\n"
     ]
    },
    {
     "data": {
      "application/vnd.jupyter.widget-view+json": {
       "model_id": "8ee49db3f1cf4f97ab8040aad5e13d6b",
       "version_major": 2,
       "version_minor": 0
      },
      "text/plain": [
       "Epochs completed:   0%|            0/2000 [00:00]"
      ]
     },
     "metadata": {},
     "output_type": "display_data"
    },
    {
     "name": "stdout",
     "output_type": "stream",
     "text": [
      "\tcompleted  0  /  2000 epochs\n",
      "\tcompleted  200  /  2000 epochs\n",
      "\tcompleted  400  /  2000 epochs\n",
      "\tcompleted  600  /  2000 epochs\n",
      "\tcompleted  800  /  2000 epochs\n",
      "\tcompleted  1000  /  2000 epochs\n",
      "\tcompleted  1200  /  2000 epochs\n",
      "\tcompleted  1400  /  2000 epochs\n",
      "\tcompleted  1600  /  2000 epochs\n",
      "\tcompleted  1800  /  2000 epochs\n",
      "Thu Apr 18 19:32:47 2024 Finished embedding\n",
      "Input embedding dimention: 2560\n",
      "Data points: 3468\n",
      "Results saved at: ../bldb/lowdim/umap/umap_mbl_esm2_3b_300.csv\n",
      "\n",
      "#################################################################\n",
      "                            esm2_3b                              \n",
      "#################################################################\n",
      "      Running UMAP with n_neighbors = 400 | dataset = MBL\n",
      "#################################################################\n",
      "\n",
      "UMAP(angular_rp_forest=True, metric='cosine', min_dist=0.2, n_epochs=2000, n_neighbors=400, random_state=42, spread=0.2, verbose=True)\n",
      "Thu Apr 18 19:32:47 2024 Construct fuzzy simplicial set\n"
     ]
    },
    {
     "name": "stderr",
     "output_type": "stream",
     "text": [
      "/home/gama/anaconda3/envs/bio/lib/python3.11/site-packages/umap/umap_.py:1943: UserWarning: n_jobs value -1 overridden to 1 by setting random_state. Use no seed for parallelism.\n",
      "  warn(f\"n_jobs value {self.n_jobs} overridden to 1 by setting random_state. Use no seed for parallelism.\")\n"
     ]
    },
    {
     "name": "stdout",
     "output_type": "stream",
     "text": [
      "Thu Apr 18 19:33:06 2024 Finding Nearest Neighbors\n",
      "Thu Apr 18 19:33:06 2024 Finished Nearest Neighbor Search\n",
      "Thu Apr 18 19:33:07 2024 Construct embedding\n"
     ]
    },
    {
     "data": {
      "application/vnd.jupyter.widget-view+json": {
       "model_id": "183564e0990543bcafd7baf960dddfb6",
       "version_major": 2,
       "version_minor": 0
      },
      "text/plain": [
       "Epochs completed:   0%|            0/2000 [00:00]"
      ]
     },
     "metadata": {},
     "output_type": "display_data"
    },
    {
     "name": "stdout",
     "output_type": "stream",
     "text": [
      "\tcompleted  0  /  2000 epochs\n",
      "\tcompleted  200  /  2000 epochs\n",
      "\tcompleted  400  /  2000 epochs\n",
      "\tcompleted  600  /  2000 epochs\n",
      "\tcompleted  800  /  2000 epochs\n",
      "\tcompleted  1000  /  2000 epochs\n",
      "\tcompleted  1200  /  2000 epochs\n",
      "\tcompleted  1400  /  2000 epochs\n",
      "\tcompleted  1600  /  2000 epochs\n",
      "\tcompleted  1800  /  2000 epochs\n",
      "Thu Apr 18 19:33:38 2024 Finished embedding\n",
      "Input embedding dimention: 2560\n",
      "Data points: 3468\n",
      "Results saved at: ../bldb/lowdim/umap/umap_mbl_esm2_3b_400.csv\n",
      "\n",
      "#################################################################\n",
      "                            esm2_3b                              \n",
      "#################################################################\n",
      "      Running UMAP with n_neighbors = 500 | dataset = MBL\n",
      "#################################################################\n",
      "\n",
      "UMAP(angular_rp_forest=True, metric='cosine', min_dist=0.2, n_epochs=2000, n_neighbors=500, random_state=42, spread=0.2, verbose=True)\n",
      "Thu Apr 18 19:33:38 2024 Construct fuzzy simplicial set\n"
     ]
    },
    {
     "name": "stderr",
     "output_type": "stream",
     "text": [
      "/home/gama/anaconda3/envs/bio/lib/python3.11/site-packages/umap/umap_.py:1943: UserWarning: n_jobs value -1 overridden to 1 by setting random_state. Use no seed for parallelism.\n",
      "  warn(f\"n_jobs value {self.n_jobs} overridden to 1 by setting random_state. Use no seed for parallelism.\")\n"
     ]
    },
    {
     "name": "stdout",
     "output_type": "stream",
     "text": [
      "Thu Apr 18 19:33:57 2024 Finding Nearest Neighbors\n",
      "Thu Apr 18 19:33:57 2024 Finished Nearest Neighbor Search\n",
      "Thu Apr 18 19:33:58 2024 Construct embedding\n"
     ]
    },
    {
     "data": {
      "application/vnd.jupyter.widget-view+json": {
       "model_id": "bb769c22de0141218bbb7f6ef0d5e032",
       "version_major": 2,
       "version_minor": 0
      },
      "text/plain": [
       "Epochs completed:   0%|            0/2000 [00:00]"
      ]
     },
     "metadata": {},
     "output_type": "display_data"
    },
    {
     "name": "stdout",
     "output_type": "stream",
     "text": [
      "\tcompleted  0  /  2000 epochs\n",
      "\tcompleted  200  /  2000 epochs\n",
      "\tcompleted  400  /  2000 epochs\n",
      "\tcompleted  600  /  2000 epochs\n",
      "\tcompleted  800  /  2000 epochs\n",
      "\tcompleted  1000  /  2000 epochs\n",
      "\tcompleted  1200  /  2000 epochs\n",
      "\tcompleted  1400  /  2000 epochs\n",
      "\tcompleted  1600  /  2000 epochs\n",
      "\tcompleted  1800  /  2000 epochs\n",
      "Thu Apr 18 19:34:30 2024 Finished embedding\n",
      "Input embedding dimention: 2560\n",
      "Data points: 3468\n",
      "Results saved at: ../bldb/lowdim/umap/umap_mbl_esm2_3b_500.csv\n",
      "\n",
      "#################################################################\n",
      "                            esm2_3b                              \n",
      "#################################################################\n",
      "      Running UMAP with n_neighbors = 600 | dataset = MBL\n",
      "#################################################################\n",
      "\n",
      "UMAP(angular_rp_forest=True, metric='cosine', min_dist=0.2, n_epochs=2000, n_neighbors=600, random_state=42, spread=0.2, verbose=True)\n",
      "Thu Apr 18 19:34:30 2024 Construct fuzzy simplicial set\n"
     ]
    },
    {
     "name": "stderr",
     "output_type": "stream",
     "text": [
      "/home/gama/anaconda3/envs/bio/lib/python3.11/site-packages/umap/umap_.py:1943: UserWarning: n_jobs value -1 overridden to 1 by setting random_state. Use no seed for parallelism.\n",
      "  warn(f\"n_jobs value {self.n_jobs} overridden to 1 by setting random_state. Use no seed for parallelism.\")\n"
     ]
    },
    {
     "name": "stdout",
     "output_type": "stream",
     "text": [
      "Thu Apr 18 19:34:50 2024 Finding Nearest Neighbors\n",
      "Thu Apr 18 19:34:50 2024 Finished Nearest Neighbor Search\n",
      "Thu Apr 18 19:34:50 2024 Construct embedding\n"
     ]
    },
    {
     "data": {
      "application/vnd.jupyter.widget-view+json": {
       "model_id": "b52c4a34c9f14d9c82ca7e05b1d4faf4",
       "version_major": 2,
       "version_minor": 0
      },
      "text/plain": [
       "Epochs completed:   0%|            0/2000 [00:00]"
      ]
     },
     "metadata": {},
     "output_type": "display_data"
    },
    {
     "name": "stdout",
     "output_type": "stream",
     "text": [
      "\tcompleted  0  /  2000 epochs\n",
      "\tcompleted  200  /  2000 epochs\n",
      "\tcompleted  400  /  2000 epochs\n",
      "\tcompleted  600  /  2000 epochs\n",
      "\tcompleted  800  /  2000 epochs\n",
      "\tcompleted  1000  /  2000 epochs\n",
      "\tcompleted  1200  /  2000 epochs\n",
      "\tcompleted  1400  /  2000 epochs\n",
      "\tcompleted  1600  /  2000 epochs\n",
      "\tcompleted  1800  /  2000 epochs\n",
      "Thu Apr 18 19:35:24 2024 Finished embedding\n",
      "Input embedding dimention: 2560\n",
      "Data points: 3468\n",
      "Results saved at: ../bldb/lowdim/umap/umap_mbl_esm2_3b_600.csv\n",
      "\n",
      "#################################################################\n",
      "                            esm2_3b                              \n",
      "#################################################################\n",
      "      Running UMAP with n_neighbors = 700 | dataset = MBL\n",
      "#################################################################\n",
      "\n",
      "UMAP(angular_rp_forest=True, metric='cosine', min_dist=0.2, n_epochs=2000, n_neighbors=700, random_state=42, spread=0.2, verbose=True)\n",
      "Thu Apr 18 19:35:24 2024 Construct fuzzy simplicial set\n"
     ]
    },
    {
     "name": "stderr",
     "output_type": "stream",
     "text": [
      "/home/gama/anaconda3/envs/bio/lib/python3.11/site-packages/umap/umap_.py:1943: UserWarning: n_jobs value -1 overridden to 1 by setting random_state. Use no seed for parallelism.\n",
      "  warn(f\"n_jobs value {self.n_jobs} overridden to 1 by setting random_state. Use no seed for parallelism.\")\n"
     ]
    },
    {
     "name": "stdout",
     "output_type": "stream",
     "text": [
      "Thu Apr 18 19:35:43 2024 Finding Nearest Neighbors\n",
      "Thu Apr 18 19:35:43 2024 Finished Nearest Neighbor Search\n",
      "Thu Apr 18 19:35:44 2024 Construct embedding\n"
     ]
    },
    {
     "data": {
      "application/vnd.jupyter.widget-view+json": {
       "model_id": "e5611119d4fa42898102b20e79ed17de",
       "version_major": 2,
       "version_minor": 0
      },
      "text/plain": [
       "Epochs completed:   0%|            0/2000 [00:00]"
      ]
     },
     "metadata": {},
     "output_type": "display_data"
    },
    {
     "name": "stdout",
     "output_type": "stream",
     "text": [
      "\tcompleted  0  /  2000 epochs\n",
      "\tcompleted  200  /  2000 epochs\n",
      "\tcompleted  400  /  2000 epochs\n",
      "\tcompleted  600  /  2000 epochs\n",
      "\tcompleted  800  /  2000 epochs\n",
      "\tcompleted  1000  /  2000 epochs\n",
      "\tcompleted  1200  /  2000 epochs\n",
      "\tcompleted  1400  /  2000 epochs\n",
      "\tcompleted  1600  /  2000 epochs\n",
      "\tcompleted  1800  /  2000 epochs\n",
      "Thu Apr 18 19:36:19 2024 Finished embedding\n",
      "Input embedding dimention: 2560\n",
      "Data points: 3468\n",
      "Results saved at: ../bldb/lowdim/umap/umap_mbl_esm2_3b_700.csv\n",
      "\n",
      "#################################################################\n",
      "                            esm2_3b                              \n",
      "#################################################################\n",
      "      Running UMAP with n_neighbors = 800 | dataset = MBL\n",
      "#################################################################\n",
      "\n",
      "UMAP(angular_rp_forest=True, metric='cosine', min_dist=0.2, n_epochs=2000, n_neighbors=800, random_state=42, spread=0.2, verbose=True)\n",
      "Thu Apr 18 19:36:19 2024 Construct fuzzy simplicial set\n"
     ]
    },
    {
     "name": "stderr",
     "output_type": "stream",
     "text": [
      "/home/gama/anaconda3/envs/bio/lib/python3.11/site-packages/umap/umap_.py:1943: UserWarning: n_jobs value -1 overridden to 1 by setting random_state. Use no seed for parallelism.\n",
      "  warn(f\"n_jobs value {self.n_jobs} overridden to 1 by setting random_state. Use no seed for parallelism.\")\n"
     ]
    },
    {
     "name": "stdout",
     "output_type": "stream",
     "text": [
      "Thu Apr 18 19:36:39 2024 Finding Nearest Neighbors\n",
      "Thu Apr 18 19:36:39 2024 Finished Nearest Neighbor Search\n",
      "Thu Apr 18 19:36:40 2024 Construct embedding\n"
     ]
    },
    {
     "data": {
      "application/vnd.jupyter.widget-view+json": {
       "model_id": "6d00a48ad6694ab0b9da13240658a4de",
       "version_major": 2,
       "version_minor": 0
      },
      "text/plain": [
       "Epochs completed:   0%|            0/2000 [00:00]"
      ]
     },
     "metadata": {},
     "output_type": "display_data"
    },
    {
     "name": "stdout",
     "output_type": "stream",
     "text": [
      "\tcompleted  0  /  2000 epochs\n",
      "\tcompleted  200  /  2000 epochs\n",
      "\tcompleted  400  /  2000 epochs\n",
      "\tcompleted  600  /  2000 epochs\n",
      "\tcompleted  800  /  2000 epochs\n",
      "\tcompleted  1000  /  2000 epochs\n",
      "\tcompleted  1200  /  2000 epochs\n",
      "\tcompleted  1400  /  2000 epochs\n",
      "\tcompleted  1600  /  2000 epochs\n",
      "\tcompleted  1800  /  2000 epochs\n",
      "Thu Apr 18 19:37:16 2024 Finished embedding\n",
      "Input embedding dimention: 2560\n",
      "Data points: 3468\n",
      "Results saved at: ../bldb/lowdim/umap/umap_mbl_esm2_3b_800.csv\n",
      "\n",
      "#################################################################\n",
      "                            esm2_3b                              \n",
      "#################################################################\n",
      "      Running UMAP with n_neighbors = 900 | dataset = MBL\n",
      "#################################################################\n",
      "\n",
      "UMAP(angular_rp_forest=True, metric='cosine', min_dist=0.2, n_epochs=2000, n_neighbors=900, random_state=42, spread=0.2, verbose=True)\n",
      "Thu Apr 18 19:37:17 2024 Construct fuzzy simplicial set\n"
     ]
    },
    {
     "name": "stderr",
     "output_type": "stream",
     "text": [
      "/home/gama/anaconda3/envs/bio/lib/python3.11/site-packages/umap/umap_.py:1943: UserWarning: n_jobs value -1 overridden to 1 by setting random_state. Use no seed for parallelism.\n",
      "  warn(f\"n_jobs value {self.n_jobs} overridden to 1 by setting random_state. Use no seed for parallelism.\")\n"
     ]
    },
    {
     "name": "stdout",
     "output_type": "stream",
     "text": [
      "Thu Apr 18 19:37:36 2024 Finding Nearest Neighbors\n",
      "Thu Apr 18 19:37:36 2024 Finished Nearest Neighbor Search\n",
      "Thu Apr 18 19:37:37 2024 Construct embedding\n"
     ]
    },
    {
     "data": {
      "application/vnd.jupyter.widget-view+json": {
       "model_id": "fcffc0a42171454c941aad9140da4526",
       "version_major": 2,
       "version_minor": 0
      },
      "text/plain": [
       "Epochs completed:   0%|            0/2000 [00:00]"
      ]
     },
     "metadata": {},
     "output_type": "display_data"
    },
    {
     "name": "stdout",
     "output_type": "stream",
     "text": [
      "\tcompleted  0  /  2000 epochs\n",
      "\tcompleted  200  /  2000 epochs\n",
      "\tcompleted  400  /  2000 epochs\n",
      "\tcompleted  600  /  2000 epochs\n",
      "\tcompleted  800  /  2000 epochs\n",
      "\tcompleted  1000  /  2000 epochs\n",
      "\tcompleted  1200  /  2000 epochs\n",
      "\tcompleted  1400  /  2000 epochs\n",
      "\tcompleted  1600  /  2000 epochs\n",
      "\tcompleted  1800  /  2000 epochs\n",
      "Thu Apr 18 19:38:14 2024 Finished embedding\n",
      "Input embedding dimention: 2560\n",
      "Data points: 3468\n",
      "Results saved at: ../bldb/lowdim/umap/umap_mbl_esm2_3b_900.csv\n",
      "\n",
      "#################################################################\n",
      "                            esm2_3b                              \n",
      "#################################################################\n",
      "      Running UMAP with n_neighbors = 1000 | dataset = MBL\n",
      "#################################################################\n",
      "\n",
      "UMAP(angular_rp_forest=True, metric='cosine', min_dist=0.2, n_epochs=2000, n_neighbors=1000, random_state=42, spread=0.2, verbose=True)\n",
      "Thu Apr 18 19:38:14 2024 Construct fuzzy simplicial set\n"
     ]
    },
    {
     "name": "stderr",
     "output_type": "stream",
     "text": [
      "/home/gama/anaconda3/envs/bio/lib/python3.11/site-packages/umap/umap_.py:1943: UserWarning: n_jobs value -1 overridden to 1 by setting random_state. Use no seed for parallelism.\n",
      "  warn(f\"n_jobs value {self.n_jobs} overridden to 1 by setting random_state. Use no seed for parallelism.\")\n"
     ]
    },
    {
     "name": "stdout",
     "output_type": "stream",
     "text": [
      "Thu Apr 18 19:38:33 2024 Finding Nearest Neighbors\n",
      "Thu Apr 18 19:38:33 2024 Finished Nearest Neighbor Search\n",
      "Thu Apr 18 19:38:34 2024 Construct embedding\n"
     ]
    },
    {
     "data": {
      "application/vnd.jupyter.widget-view+json": {
       "model_id": "fe51bed07672474dbf75685ae901d9d4",
       "version_major": 2,
       "version_minor": 0
      },
      "text/plain": [
       "Epochs completed:   0%|            0/2000 [00:00]"
      ]
     },
     "metadata": {},
     "output_type": "display_data"
    },
    {
     "name": "stdout",
     "output_type": "stream",
     "text": [
      "\tcompleted  0  /  2000 epochs\n",
      "\tcompleted  200  /  2000 epochs\n",
      "\tcompleted  400  /  2000 epochs\n",
      "\tcompleted  600  /  2000 epochs\n",
      "\tcompleted  800  /  2000 epochs\n",
      "\tcompleted  1000  /  2000 epochs\n",
      "\tcompleted  1200  /  2000 epochs\n",
      "\tcompleted  1400  /  2000 epochs\n",
      "\tcompleted  1600  /  2000 epochs\n",
      "\tcompleted  1800  /  2000 epochs\n",
      "Thu Apr 18 19:39:12 2024 Finished embedding\n",
      "Input embedding dimention: 2560\n",
      "Data points: 3468\n",
      "Results saved at: ../bldb/lowdim/umap/umap_mbl_esm2_3b_1000.csv\n",
      "\n",
      "#################################################################\n",
      "                            carp                              \n",
      "#################################################################\n",
      "      Running UMAP with n_neighbors = 30 | dataset = MBL\n",
      "#################################################################\n",
      "\n",
      "UMAP(angular_rp_forest=True, metric='cosine', min_dist=0.2, n_epochs=2000, n_neighbors=30, random_state=42, spread=0.2, verbose=True)\n",
      "Thu Apr 18 19:39:12 2024 Construct fuzzy simplicial set\n"
     ]
    },
    {
     "name": "stderr",
     "output_type": "stream",
     "text": [
      "/home/gama/anaconda3/envs/bio/lib/python3.11/site-packages/umap/umap_.py:1943: UserWarning: n_jobs value -1 overridden to 1 by setting random_state. Use no seed for parallelism.\n",
      "  warn(f\"n_jobs value {self.n_jobs} overridden to 1 by setting random_state. Use no seed for parallelism.\")\n"
     ]
    },
    {
     "name": "stdout",
     "output_type": "stream",
     "text": [
      "Thu Apr 18 19:39:24 2024 Finding Nearest Neighbors\n",
      "Thu Apr 18 19:39:24 2024 Finished Nearest Neighbor Search\n",
      "Thu Apr 18 19:39:24 2024 Construct embedding\n"
     ]
    },
    {
     "data": {
      "application/vnd.jupyter.widget-view+json": {
       "model_id": "5debf790021e46288ef4427f4c13a80d",
       "version_major": 2,
       "version_minor": 0
      },
      "text/plain": [
       "Epochs completed:   0%|            0/2000 [00:00]"
      ]
     },
     "metadata": {},
     "output_type": "display_data"
    },
    {
     "name": "stdout",
     "output_type": "stream",
     "text": [
      "\tcompleted  0  /  2000 epochs\n",
      "\tcompleted  200  /  2000 epochs\n",
      "\tcompleted  400  /  2000 epochs\n",
      "\tcompleted  600  /  2000 epochs\n",
      "\tcompleted  800  /  2000 epochs\n",
      "\tcompleted  1000  /  2000 epochs\n",
      "\tcompleted  1200  /  2000 epochs\n",
      "\tcompleted  1400  /  2000 epochs\n",
      "\tcompleted  1600  /  2000 epochs\n",
      "\tcompleted  1800  /  2000 epochs\n",
      "Thu Apr 18 19:39:40 2024 Finished embedding\n",
      "Input embedding dimention: 1280\n",
      "Data points: 3468\n",
      "Results saved at: ../bldb/lowdim/umap/umap_mbl_carp_30.csv\n",
      "\n",
      "#################################################################\n",
      "                            carp                              \n",
      "#################################################################\n",
      "      Running UMAP with n_neighbors = 50 | dataset = MBL\n",
      "#################################################################\n",
      "\n",
      "UMAP(angular_rp_forest=True, metric='cosine', min_dist=0.2, n_epochs=2000, n_neighbors=50, random_state=42, spread=0.2, verbose=True)\n",
      "Thu Apr 18 19:39:40 2024 Construct fuzzy simplicial set\n"
     ]
    },
    {
     "name": "stderr",
     "output_type": "stream",
     "text": [
      "/home/gama/anaconda3/envs/bio/lib/python3.11/site-packages/umap/umap_.py:1943: UserWarning: n_jobs value -1 overridden to 1 by setting random_state. Use no seed for parallelism.\n",
      "  warn(f\"n_jobs value {self.n_jobs} overridden to 1 by setting random_state. Use no seed for parallelism.\")\n"
     ]
    },
    {
     "name": "stdout",
     "output_type": "stream",
     "text": [
      "Thu Apr 18 19:39:51 2024 Finding Nearest Neighbors\n",
      "Thu Apr 18 19:39:51 2024 Finished Nearest Neighbor Search\n",
      "Thu Apr 18 19:39:51 2024 Construct embedding\n"
     ]
    },
    {
     "data": {
      "application/vnd.jupyter.widget-view+json": {
       "model_id": "898de81a131441b3a3730e6cd778f5fb",
       "version_major": 2,
       "version_minor": 0
      },
      "text/plain": [
       "Epochs completed:   0%|            0/2000 [00:00]"
      ]
     },
     "metadata": {},
     "output_type": "display_data"
    },
    {
     "name": "stdout",
     "output_type": "stream",
     "text": [
      "\tcompleted  0  /  2000 epochs\n",
      "\tcompleted  200  /  2000 epochs\n",
      "\tcompleted  400  /  2000 epochs\n",
      "\tcompleted  600  /  2000 epochs\n",
      "\tcompleted  800  /  2000 epochs\n",
      "\tcompleted  1000  /  2000 epochs\n",
      "\tcompleted  1200  /  2000 epochs\n",
      "\tcompleted  1400  /  2000 epochs\n",
      "\tcompleted  1600  /  2000 epochs\n",
      "\tcompleted  1800  /  2000 epochs\n",
      "Thu Apr 18 19:40:09 2024 Finished embedding\n",
      "Input embedding dimention: 1280\n",
      "Data points: 3468\n",
      "Results saved at: ../bldb/lowdim/umap/umap_mbl_carp_50.csv\n",
      "\n",
      "#################################################################\n",
      "                            carp                              \n",
      "#################################################################\n",
      "      Running UMAP with n_neighbors = 100 | dataset = MBL\n",
      "#################################################################\n",
      "\n",
      "UMAP(angular_rp_forest=True, metric='cosine', min_dist=0.2, n_epochs=2000, n_neighbors=100, random_state=42, spread=0.2, verbose=True)\n",
      "Thu Apr 18 19:40:09 2024 Construct fuzzy simplicial set\n"
     ]
    },
    {
     "name": "stderr",
     "output_type": "stream",
     "text": [
      "/home/gama/anaconda3/envs/bio/lib/python3.11/site-packages/umap/umap_.py:1943: UserWarning: n_jobs value -1 overridden to 1 by setting random_state. Use no seed for parallelism.\n",
      "  warn(f\"n_jobs value {self.n_jobs} overridden to 1 by setting random_state. Use no seed for parallelism.\")\n"
     ]
    },
    {
     "name": "stdout",
     "output_type": "stream",
     "text": [
      "Thu Apr 18 19:40:21 2024 Finding Nearest Neighbors\n",
      "Thu Apr 18 19:40:21 2024 Finished Nearest Neighbor Search\n",
      "Thu Apr 18 19:40:21 2024 Construct embedding\n"
     ]
    },
    {
     "data": {
      "application/vnd.jupyter.widget-view+json": {
       "model_id": "979dff6f1f1846078c77fbcd4ce7dfeb",
       "version_major": 2,
       "version_minor": 0
      },
      "text/plain": [
       "Epochs completed:   0%|            0/2000 [00:00]"
      ]
     },
     "metadata": {},
     "output_type": "display_data"
    },
    {
     "name": "stdout",
     "output_type": "stream",
     "text": [
      "\tcompleted  0  /  2000 epochs\n",
      "\tcompleted  200  /  2000 epochs\n",
      "\tcompleted  400  /  2000 epochs\n",
      "\tcompleted  600  /  2000 epochs\n",
      "\tcompleted  800  /  2000 epochs\n",
      "\tcompleted  1000  /  2000 epochs\n",
      "\tcompleted  1200  /  2000 epochs\n",
      "\tcompleted  1400  /  2000 epochs\n",
      "\tcompleted  1600  /  2000 epochs\n",
      "\tcompleted  1800  /  2000 epochs\n",
      "Thu Apr 18 19:40:43 2024 Finished embedding\n",
      "Input embedding dimention: 1280\n",
      "Data points: 3468\n",
      "Results saved at: ../bldb/lowdim/umap/umap_mbl_carp_100.csv\n",
      "\n",
      "#################################################################\n",
      "                            carp                              \n",
      "#################################################################\n",
      "      Running UMAP with n_neighbors = 200 | dataset = MBL\n",
      "#################################################################\n",
      "\n",
      "UMAP(angular_rp_forest=True, metric='cosine', min_dist=0.2, n_epochs=2000, n_neighbors=200, random_state=42, spread=0.2, verbose=True)\n",
      "Thu Apr 18 19:40:43 2024 Construct fuzzy simplicial set\n"
     ]
    },
    {
     "name": "stderr",
     "output_type": "stream",
     "text": [
      "/home/gama/anaconda3/envs/bio/lib/python3.11/site-packages/umap/umap_.py:1943: UserWarning: n_jobs value -1 overridden to 1 by setting random_state. Use no seed for parallelism.\n",
      "  warn(f\"n_jobs value {self.n_jobs} overridden to 1 by setting random_state. Use no seed for parallelism.\")\n"
     ]
    },
    {
     "name": "stdout",
     "output_type": "stream",
     "text": [
      "Thu Apr 18 19:40:55 2024 Finding Nearest Neighbors\n",
      "Thu Apr 18 19:40:55 2024 Finished Nearest Neighbor Search\n",
      "Thu Apr 18 19:40:55 2024 Construct embedding\n"
     ]
    },
    {
     "data": {
      "application/vnd.jupyter.widget-view+json": {
       "model_id": "5eb07d5e7fc843459b84012c06f235f1",
       "version_major": 2,
       "version_minor": 0
      },
      "text/plain": [
       "Epochs completed:   0%|            0/2000 [00:00]"
      ]
     },
     "metadata": {},
     "output_type": "display_data"
    },
    {
     "name": "stdout",
     "output_type": "stream",
     "text": [
      "\tcompleted  0  /  2000 epochs\n",
      "\tcompleted  200  /  2000 epochs\n",
      "\tcompleted  400  /  2000 epochs\n",
      "\tcompleted  600  /  2000 epochs\n",
      "\tcompleted  800  /  2000 epochs\n",
      "\tcompleted  1000  /  2000 epochs\n",
      "\tcompleted  1200  /  2000 epochs\n",
      "\tcompleted  1400  /  2000 epochs\n",
      "\tcompleted  1600  /  2000 epochs\n",
      "\tcompleted  1800  /  2000 epochs\n",
      "Thu Apr 18 19:41:21 2024 Finished embedding\n",
      "Input embedding dimention: 1280\n",
      "Data points: 3468\n",
      "Results saved at: ../bldb/lowdim/umap/umap_mbl_carp_200.csv\n",
      "\n",
      "#################################################################\n",
      "                            carp                              \n",
      "#################################################################\n",
      "      Running UMAP with n_neighbors = 300 | dataset = MBL\n",
      "#################################################################\n",
      "\n",
      "UMAP(angular_rp_forest=True, metric='cosine', min_dist=0.2, n_epochs=2000, n_neighbors=300, random_state=42, spread=0.2, verbose=True)\n",
      "Thu Apr 18 19:41:21 2024 Construct fuzzy simplicial set\n"
     ]
    },
    {
     "name": "stderr",
     "output_type": "stream",
     "text": [
      "/home/gama/anaconda3/envs/bio/lib/python3.11/site-packages/umap/umap_.py:1943: UserWarning: n_jobs value -1 overridden to 1 by setting random_state. Use no seed for parallelism.\n",
      "  warn(f\"n_jobs value {self.n_jobs} overridden to 1 by setting random_state. Use no seed for parallelism.\")\n"
     ]
    },
    {
     "name": "stdout",
     "output_type": "stream",
     "text": [
      "Thu Apr 18 19:41:33 2024 Finding Nearest Neighbors\n",
      "Thu Apr 18 19:41:33 2024 Finished Nearest Neighbor Search\n",
      "Thu Apr 18 19:41:34 2024 Construct embedding\n"
     ]
    },
    {
     "data": {
      "application/vnd.jupyter.widget-view+json": {
       "model_id": "470bf82a7e744bbb96b95137e57a7b29",
       "version_major": 2,
       "version_minor": 0
      },
      "text/plain": [
       "Epochs completed:   0%|            0/2000 [00:00]"
      ]
     },
     "metadata": {},
     "output_type": "display_data"
    },
    {
     "name": "stdout",
     "output_type": "stream",
     "text": [
      "\tcompleted  0  /  2000 epochs\n",
      "\tcompleted  200  /  2000 epochs\n",
      "\tcompleted  400  /  2000 epochs\n",
      "\tcompleted  600  /  2000 epochs\n",
      "\tcompleted  800  /  2000 epochs\n",
      "\tcompleted  1000  /  2000 epochs\n",
      "\tcompleted  1200  /  2000 epochs\n",
      "\tcompleted  1400  /  2000 epochs\n",
      "\tcompleted  1600  /  2000 epochs\n",
      "\tcompleted  1800  /  2000 epochs\n",
      "Thu Apr 18 19:42:03 2024 Finished embedding\n",
      "Input embedding dimention: 1280\n",
      "Data points: 3468\n",
      "Results saved at: ../bldb/lowdim/umap/umap_mbl_carp_300.csv\n",
      "\n",
      "#################################################################\n",
      "                            carp                              \n",
      "#################################################################\n",
      "      Running UMAP with n_neighbors = 400 | dataset = MBL\n",
      "#################################################################\n",
      "\n",
      "UMAP(angular_rp_forest=True, metric='cosine', min_dist=0.2, n_epochs=2000, n_neighbors=400, random_state=42, spread=0.2, verbose=True)\n",
      "Thu Apr 18 19:42:03 2024 Construct fuzzy simplicial set\n"
     ]
    },
    {
     "name": "stderr",
     "output_type": "stream",
     "text": [
      "/home/gama/anaconda3/envs/bio/lib/python3.11/site-packages/umap/umap_.py:1943: UserWarning: n_jobs value -1 overridden to 1 by setting random_state. Use no seed for parallelism.\n",
      "  warn(f\"n_jobs value {self.n_jobs} overridden to 1 by setting random_state. Use no seed for parallelism.\")\n"
     ]
    },
    {
     "name": "stdout",
     "output_type": "stream",
     "text": [
      "Thu Apr 18 19:42:15 2024 Finding Nearest Neighbors\n",
      "Thu Apr 18 19:42:15 2024 Finished Nearest Neighbor Search\n",
      "Thu Apr 18 19:42:15 2024 Construct embedding\n"
     ]
    },
    {
     "data": {
      "application/vnd.jupyter.widget-view+json": {
       "model_id": "151a71e37a464da58d389da3b5be1e98",
       "version_major": 2,
       "version_minor": 0
      },
      "text/plain": [
       "Epochs completed:   0%|            0/2000 [00:00]"
      ]
     },
     "metadata": {},
     "output_type": "display_data"
    },
    {
     "name": "stdout",
     "output_type": "stream",
     "text": [
      "\tcompleted  0  /  2000 epochs\n",
      "\tcompleted  200  /  2000 epochs\n",
      "\tcompleted  400  /  2000 epochs\n",
      "\tcompleted  600  /  2000 epochs\n",
      "\tcompleted  800  /  2000 epochs\n",
      "\tcompleted  1000  /  2000 epochs\n",
      "\tcompleted  1200  /  2000 epochs\n",
      "\tcompleted  1400  /  2000 epochs\n",
      "\tcompleted  1600  /  2000 epochs\n",
      "\tcompleted  1800  /  2000 epochs\n",
      "Thu Apr 18 19:42:47 2024 Finished embedding\n",
      "Input embedding dimention: 1280\n",
      "Data points: 3468\n",
      "Results saved at: ../bldb/lowdim/umap/umap_mbl_carp_400.csv\n",
      "\n",
      "#################################################################\n",
      "                            carp                              \n",
      "#################################################################\n",
      "      Running UMAP with n_neighbors = 500 | dataset = MBL\n",
      "#################################################################\n",
      "\n",
      "UMAP(angular_rp_forest=True, metric='cosine', min_dist=0.2, n_epochs=2000, n_neighbors=500, random_state=42, spread=0.2, verbose=True)\n",
      "Thu Apr 18 19:42:47 2024 Construct fuzzy simplicial set\n"
     ]
    },
    {
     "name": "stderr",
     "output_type": "stream",
     "text": [
      "/home/gama/anaconda3/envs/bio/lib/python3.11/site-packages/umap/umap_.py:1943: UserWarning: n_jobs value -1 overridden to 1 by setting random_state. Use no seed for parallelism.\n",
      "  warn(f\"n_jobs value {self.n_jobs} overridden to 1 by setting random_state. Use no seed for parallelism.\")\n"
     ]
    },
    {
     "name": "stdout",
     "output_type": "stream",
     "text": [
      "Thu Apr 18 19:42:59 2024 Finding Nearest Neighbors\n",
      "Thu Apr 18 19:42:59 2024 Finished Nearest Neighbor Search\n",
      "Thu Apr 18 19:43:00 2024 Construct embedding\n"
     ]
    },
    {
     "data": {
      "application/vnd.jupyter.widget-view+json": {
       "model_id": "697286dea2a04e988f0bd1294812aa25",
       "version_major": 2,
       "version_minor": 0
      },
      "text/plain": [
       "Epochs completed:   0%|            0/2000 [00:00]"
      ]
     },
     "metadata": {},
     "output_type": "display_data"
    },
    {
     "name": "stdout",
     "output_type": "stream",
     "text": [
      "\tcompleted  0  /  2000 epochs\n",
      "\tcompleted  200  /  2000 epochs\n",
      "\tcompleted  400  /  2000 epochs\n",
      "\tcompleted  600  /  2000 epochs\n",
      "\tcompleted  800  /  2000 epochs\n",
      "\tcompleted  1000  /  2000 epochs\n",
      "\tcompleted  1200  /  2000 epochs\n",
      "\tcompleted  1400  /  2000 epochs\n",
      "\tcompleted  1600  /  2000 epochs\n",
      "\tcompleted  1800  /  2000 epochs\n",
      "Thu Apr 18 19:43:33 2024 Finished embedding\n",
      "Input embedding dimention: 1280\n",
      "Data points: 3468\n",
      "Results saved at: ../bldb/lowdim/umap/umap_mbl_carp_500.csv\n",
      "\n",
      "#################################################################\n",
      "                            carp                              \n",
      "#################################################################\n",
      "      Running UMAP with n_neighbors = 600 | dataset = MBL\n",
      "#################################################################\n",
      "\n",
      "UMAP(angular_rp_forest=True, metric='cosine', min_dist=0.2, n_epochs=2000, n_neighbors=600, random_state=42, spread=0.2, verbose=True)\n",
      "Thu Apr 18 19:43:33 2024 Construct fuzzy simplicial set\n"
     ]
    },
    {
     "name": "stderr",
     "output_type": "stream",
     "text": [
      "/home/gama/anaconda3/envs/bio/lib/python3.11/site-packages/umap/umap_.py:1943: UserWarning: n_jobs value -1 overridden to 1 by setting random_state. Use no seed for parallelism.\n",
      "  warn(f\"n_jobs value {self.n_jobs} overridden to 1 by setting random_state. Use no seed for parallelism.\")\n"
     ]
    },
    {
     "name": "stdout",
     "output_type": "stream",
     "text": [
      "Thu Apr 18 19:43:45 2024 Finding Nearest Neighbors\n",
      "Thu Apr 18 19:43:45 2024 Finished Nearest Neighbor Search\n",
      "Thu Apr 18 19:43:45 2024 Construct embedding\n"
     ]
    },
    {
     "data": {
      "application/vnd.jupyter.widget-view+json": {
       "model_id": "edaca73dc7774ceca94577f649f8934e",
       "version_major": 2,
       "version_minor": 0
      },
      "text/plain": [
       "Epochs completed:   0%|            0/2000 [00:00]"
      ]
     },
     "metadata": {},
     "output_type": "display_data"
    },
    {
     "name": "stdout",
     "output_type": "stream",
     "text": [
      "\tcompleted  0  /  2000 epochs\n",
      "\tcompleted  200  /  2000 epochs\n",
      "\tcompleted  400  /  2000 epochs\n",
      "\tcompleted  600  /  2000 epochs\n",
      "\tcompleted  800  /  2000 epochs\n",
      "\tcompleted  1000  /  2000 epochs\n",
      "\tcompleted  1200  /  2000 epochs\n",
      "\tcompleted  1400  /  2000 epochs\n",
      "\tcompleted  1600  /  2000 epochs\n",
      "\tcompleted  1800  /  2000 epochs\n",
      "Thu Apr 18 19:44:19 2024 Finished embedding\n",
      "Input embedding dimention: 1280\n",
      "Data points: 3468\n",
      "Results saved at: ../bldb/lowdim/umap/umap_mbl_carp_600.csv\n",
      "\n",
      "#################################################################\n",
      "                            carp                              \n",
      "#################################################################\n",
      "      Running UMAP with n_neighbors = 700 | dataset = MBL\n",
      "#################################################################\n",
      "\n",
      "UMAP(angular_rp_forest=True, metric='cosine', min_dist=0.2, n_epochs=2000, n_neighbors=700, random_state=42, spread=0.2, verbose=True)\n",
      "Thu Apr 18 19:44:19 2024 Construct fuzzy simplicial set\n"
     ]
    },
    {
     "name": "stderr",
     "output_type": "stream",
     "text": [
      "/home/gama/anaconda3/envs/bio/lib/python3.11/site-packages/umap/umap_.py:1943: UserWarning: n_jobs value -1 overridden to 1 by setting random_state. Use no seed for parallelism.\n",
      "  warn(f\"n_jobs value {self.n_jobs} overridden to 1 by setting random_state. Use no seed for parallelism.\")\n"
     ]
    },
    {
     "name": "stdout",
     "output_type": "stream",
     "text": [
      "Thu Apr 18 19:44:31 2024 Finding Nearest Neighbors\n",
      "Thu Apr 18 19:44:31 2024 Finished Nearest Neighbor Search\n",
      "Thu Apr 18 19:44:32 2024 Construct embedding\n"
     ]
    },
    {
     "data": {
      "application/vnd.jupyter.widget-view+json": {
       "model_id": "a393972e1917477c9603c7fb3edc37cd",
       "version_major": 2,
       "version_minor": 0
      },
      "text/plain": [
       "Epochs completed:   0%|            0/2000 [00:00]"
      ]
     },
     "metadata": {},
     "output_type": "display_data"
    },
    {
     "name": "stdout",
     "output_type": "stream",
     "text": [
      "\tcompleted  0  /  2000 epochs\n",
      "\tcompleted  200  /  2000 epochs\n",
      "\tcompleted  400  /  2000 epochs\n",
      "\tcompleted  600  /  2000 epochs\n",
      "\tcompleted  800  /  2000 epochs\n",
      "\tcompleted  1000  /  2000 epochs\n",
      "\tcompleted  1200  /  2000 epochs\n",
      "\tcompleted  1400  /  2000 epochs\n",
      "\tcompleted  1600  /  2000 epochs\n",
      "\tcompleted  1800  /  2000 epochs\n",
      "Thu Apr 18 19:45:07 2024 Finished embedding\n",
      "Input embedding dimention: 1280\n",
      "Data points: 3468\n",
      "Results saved at: ../bldb/lowdim/umap/umap_mbl_carp_700.csv\n",
      "\n",
      "#################################################################\n",
      "                            carp                              \n",
      "#################################################################\n",
      "      Running UMAP with n_neighbors = 800 | dataset = MBL\n",
      "#################################################################\n",
      "\n",
      "UMAP(angular_rp_forest=True, metric='cosine', min_dist=0.2, n_epochs=2000, n_neighbors=800, random_state=42, spread=0.2, verbose=True)\n",
      "Thu Apr 18 19:45:07 2024 Construct fuzzy simplicial set\n"
     ]
    },
    {
     "name": "stderr",
     "output_type": "stream",
     "text": [
      "/home/gama/anaconda3/envs/bio/lib/python3.11/site-packages/umap/umap_.py:1943: UserWarning: n_jobs value -1 overridden to 1 by setting random_state. Use no seed for parallelism.\n",
      "  warn(f\"n_jobs value {self.n_jobs} overridden to 1 by setting random_state. Use no seed for parallelism.\")\n"
     ]
    },
    {
     "name": "stdout",
     "output_type": "stream",
     "text": [
      "Thu Apr 18 19:45:19 2024 Finding Nearest Neighbors\n",
      "Thu Apr 18 19:45:19 2024 Finished Nearest Neighbor Search\n",
      "Thu Apr 18 19:45:20 2024 Construct embedding\n"
     ]
    },
    {
     "data": {
      "application/vnd.jupyter.widget-view+json": {
       "model_id": "9945b26e50094b7abb8aa9ae68bca412",
       "version_major": 2,
       "version_minor": 0
      },
      "text/plain": [
       "Epochs completed:   0%|            0/2000 [00:00]"
      ]
     },
     "metadata": {},
     "output_type": "display_data"
    },
    {
     "name": "stdout",
     "output_type": "stream",
     "text": [
      "\tcompleted  0  /  2000 epochs\n",
      "\tcompleted  200  /  2000 epochs\n",
      "\tcompleted  400  /  2000 epochs\n",
      "\tcompleted  600  /  2000 epochs\n",
      "\tcompleted  800  /  2000 epochs\n",
      "\tcompleted  1000  /  2000 epochs\n",
      "\tcompleted  1200  /  2000 epochs\n",
      "\tcompleted  1400  /  2000 epochs\n",
      "\tcompleted  1600  /  2000 epochs\n",
      "\tcompleted  1800  /  2000 epochs\n",
      "Thu Apr 18 19:45:56 2024 Finished embedding\n",
      "Input embedding dimention: 1280\n",
      "Data points: 3468\n",
      "Results saved at: ../bldb/lowdim/umap/umap_mbl_carp_800.csv\n",
      "\n",
      "#################################################################\n",
      "                            carp                              \n",
      "#################################################################\n",
      "      Running UMAP with n_neighbors = 900 | dataset = MBL\n",
      "#################################################################\n",
      "\n",
      "UMAP(angular_rp_forest=True, metric='cosine', min_dist=0.2, n_epochs=2000, n_neighbors=900, random_state=42, spread=0.2, verbose=True)\n",
      "Thu Apr 18 19:45:56 2024 Construct fuzzy simplicial set\n"
     ]
    },
    {
     "name": "stderr",
     "output_type": "stream",
     "text": [
      "/home/gama/anaconda3/envs/bio/lib/python3.11/site-packages/umap/umap_.py:1943: UserWarning: n_jobs value -1 overridden to 1 by setting random_state. Use no seed for parallelism.\n",
      "  warn(f\"n_jobs value {self.n_jobs} overridden to 1 by setting random_state. Use no seed for parallelism.\")\n"
     ]
    },
    {
     "name": "stdout",
     "output_type": "stream",
     "text": [
      "Thu Apr 18 19:46:08 2024 Finding Nearest Neighbors\n",
      "Thu Apr 18 19:46:08 2024 Finished Nearest Neighbor Search\n",
      "Thu Apr 18 19:46:08 2024 Construct embedding\n"
     ]
    },
    {
     "data": {
      "application/vnd.jupyter.widget-view+json": {
       "model_id": "ede6833bca104019b0750181125457b1",
       "version_major": 2,
       "version_minor": 0
      },
      "text/plain": [
       "Epochs completed:   0%|            0/2000 [00:00]"
      ]
     },
     "metadata": {},
     "output_type": "display_data"
    },
    {
     "name": "stdout",
     "output_type": "stream",
     "text": [
      "\tcompleted  0  /  2000 epochs\n",
      "\tcompleted  200  /  2000 epochs\n",
      "\tcompleted  400  /  2000 epochs\n",
      "\tcompleted  600  /  2000 epochs\n",
      "\tcompleted  800  /  2000 epochs\n",
      "\tcompleted  1000  /  2000 epochs\n",
      "\tcompleted  1200  /  2000 epochs\n",
      "\tcompleted  1400  /  2000 epochs\n",
      "\tcompleted  1600  /  2000 epochs\n",
      "\tcompleted  1800  /  2000 epochs\n",
      "Thu Apr 18 19:46:46 2024 Finished embedding\n",
      "Input embedding dimention: 1280\n",
      "Data points: 3468\n",
      "Results saved at: ../bldb/lowdim/umap/umap_mbl_carp_900.csv\n",
      "\n",
      "#################################################################\n",
      "                            carp                              \n",
      "#################################################################\n",
      "      Running UMAP with n_neighbors = 1000 | dataset = MBL\n",
      "#################################################################\n",
      "\n",
      "UMAP(angular_rp_forest=True, metric='cosine', min_dist=0.2, n_epochs=2000, n_neighbors=1000, random_state=42, spread=0.2, verbose=True)\n",
      "Thu Apr 18 19:46:46 2024 Construct fuzzy simplicial set\n"
     ]
    },
    {
     "name": "stderr",
     "output_type": "stream",
     "text": [
      "/home/gama/anaconda3/envs/bio/lib/python3.11/site-packages/umap/umap_.py:1943: UserWarning: n_jobs value -1 overridden to 1 by setting random_state. Use no seed for parallelism.\n",
      "  warn(f\"n_jobs value {self.n_jobs} overridden to 1 by setting random_state. Use no seed for parallelism.\")\n"
     ]
    },
    {
     "name": "stdout",
     "output_type": "stream",
     "text": [
      "Thu Apr 18 19:46:58 2024 Finding Nearest Neighbors\n",
      "Thu Apr 18 19:46:58 2024 Finished Nearest Neighbor Search\n",
      "Thu Apr 18 19:46:59 2024 Construct embedding\n"
     ]
    },
    {
     "data": {
      "application/vnd.jupyter.widget-view+json": {
       "model_id": "b6306f58f7c9472fab1fbc6611ede69b",
       "version_major": 2,
       "version_minor": 0
      },
      "text/plain": [
       "Epochs completed:   0%|            0/2000 [00:00]"
      ]
     },
     "metadata": {},
     "output_type": "display_data"
    },
    {
     "name": "stdout",
     "output_type": "stream",
     "text": [
      "\tcompleted  0  /  2000 epochs\n",
      "\tcompleted  200  /  2000 epochs\n",
      "\tcompleted  400  /  2000 epochs\n",
      "\tcompleted  600  /  2000 epochs\n",
      "\tcompleted  800  /  2000 epochs\n",
      "\tcompleted  1000  /  2000 epochs\n",
      "\tcompleted  1200  /  2000 epochs\n",
      "\tcompleted  1400  /  2000 epochs\n",
      "\tcompleted  1600  /  2000 epochs\n",
      "\tcompleted  1800  /  2000 epochs\n",
      "Thu Apr 18 19:47:36 2024 Finished embedding\n",
      "Input embedding dimention: 1280\n",
      "Data points: 3468\n",
      "Results saved at: ../bldb/lowdim/umap/umap_mbl_carp_1000.csv\n",
      "\n",
      "#################################################################\n",
      "                            t5xlu50                              \n",
      "#################################################################\n",
      "      Running UMAP with n_neighbors = 30 | dataset = MBL\n",
      "#################################################################\n",
      "\n",
      "UMAP(angular_rp_forest=True, metric='cosine', min_dist=0.2, n_epochs=2000, n_neighbors=30, random_state=42, spread=0.2, verbose=True)\n",
      "Thu Apr 18 19:47:36 2024 Construct fuzzy simplicial set\n"
     ]
    },
    {
     "name": "stderr",
     "output_type": "stream",
     "text": [
      "/home/gama/anaconda3/envs/bio/lib/python3.11/site-packages/umap/umap_.py:1943: UserWarning: n_jobs value -1 overridden to 1 by setting random_state. Use no seed for parallelism.\n",
      "  warn(f\"n_jobs value {self.n_jobs} overridden to 1 by setting random_state. Use no seed for parallelism.\")\n"
     ]
    },
    {
     "name": "stdout",
     "output_type": "stream",
     "text": [
      "Thu Apr 18 19:47:47 2024 Finding Nearest Neighbors\n",
      "Thu Apr 18 19:47:47 2024 Finished Nearest Neighbor Search\n",
      "Thu Apr 18 19:47:47 2024 Construct embedding\n"
     ]
    },
    {
     "data": {
      "application/vnd.jupyter.widget-view+json": {
       "model_id": "dc77fc8f15d44986b603fce738768164",
       "version_major": 2,
       "version_minor": 0
      },
      "text/plain": [
       "Epochs completed:   0%|            0/2000 [00:00]"
      ]
     },
     "metadata": {},
     "output_type": "display_data"
    },
    {
     "name": "stdout",
     "output_type": "stream",
     "text": [
      "\tcompleted  0  /  2000 epochs\n",
      "\tcompleted  200  /  2000 epochs\n",
      "\tcompleted  400  /  2000 epochs\n",
      "\tcompleted  600  /  2000 epochs\n",
      "\tcompleted  800  /  2000 epochs\n",
      "\tcompleted  1000  /  2000 epochs\n",
      "\tcompleted  1200  /  2000 epochs\n",
      "\tcompleted  1400  /  2000 epochs\n",
      "\tcompleted  1600  /  2000 epochs\n",
      "\tcompleted  1800  /  2000 epochs\n",
      "Thu Apr 18 19:48:01 2024 Finished embedding\n",
      "Input embedding dimention: 1024\n",
      "Data points: 3468\n",
      "Results saved at: ../bldb/lowdim/umap/umap_mbl_t5xlu50_30.csv\n",
      "\n",
      "#################################################################\n",
      "                            t5xlu50                              \n",
      "#################################################################\n",
      "      Running UMAP with n_neighbors = 50 | dataset = MBL\n",
      "#################################################################\n",
      "\n",
      "UMAP(angular_rp_forest=True, metric='cosine', min_dist=0.2, n_epochs=2000, n_neighbors=50, random_state=42, spread=0.2, verbose=True)\n",
      "Thu Apr 18 19:48:01 2024 Construct fuzzy simplicial set\n"
     ]
    },
    {
     "name": "stderr",
     "output_type": "stream",
     "text": [
      "/home/gama/anaconda3/envs/bio/lib/python3.11/site-packages/umap/umap_.py:1943: UserWarning: n_jobs value -1 overridden to 1 by setting random_state. Use no seed for parallelism.\n",
      "  warn(f\"n_jobs value {self.n_jobs} overridden to 1 by setting random_state. Use no seed for parallelism.\")\n"
     ]
    },
    {
     "name": "stdout",
     "output_type": "stream",
     "text": [
      "Thu Apr 18 19:48:12 2024 Finding Nearest Neighbors\n",
      "Thu Apr 18 19:48:12 2024 Finished Nearest Neighbor Search\n",
      "Thu Apr 18 19:48:12 2024 Construct embedding\n"
     ]
    },
    {
     "data": {
      "application/vnd.jupyter.widget-view+json": {
       "model_id": "5b873245fb6b42d28f38d0a5641b12e1",
       "version_major": 2,
       "version_minor": 0
      },
      "text/plain": [
       "Epochs completed:   0%|            0/2000 [00:00]"
      ]
     },
     "metadata": {},
     "output_type": "display_data"
    },
    {
     "name": "stdout",
     "output_type": "stream",
     "text": [
      "\tcompleted  0  /  2000 epochs\n",
      "\tcompleted  200  /  2000 epochs\n",
      "\tcompleted  400  /  2000 epochs\n",
      "\tcompleted  600  /  2000 epochs\n",
      "\tcompleted  800  /  2000 epochs\n",
      "\tcompleted  1000  /  2000 epochs\n",
      "\tcompleted  1200  /  2000 epochs\n",
      "\tcompleted  1400  /  2000 epochs\n",
      "\tcompleted  1600  /  2000 epochs\n",
      "\tcompleted  1800  /  2000 epochs\n",
      "Thu Apr 18 19:48:29 2024 Finished embedding\n",
      "Input embedding dimention: 1024\n",
      "Data points: 3468\n",
      "Results saved at: ../bldb/lowdim/umap/umap_mbl_t5xlu50_50.csv\n",
      "\n",
      "#################################################################\n",
      "                            t5xlu50                              \n",
      "#################################################################\n",
      "      Running UMAP with n_neighbors = 100 | dataset = MBL\n",
      "#################################################################\n",
      "\n",
      "UMAP(angular_rp_forest=True, metric='cosine', min_dist=0.2, n_epochs=2000, n_neighbors=100, random_state=42, spread=0.2, verbose=True)\n",
      "Thu Apr 18 19:48:30 2024 Construct fuzzy simplicial set\n"
     ]
    },
    {
     "name": "stderr",
     "output_type": "stream",
     "text": [
      "/home/gama/anaconda3/envs/bio/lib/python3.11/site-packages/umap/umap_.py:1943: UserWarning: n_jobs value -1 overridden to 1 by setting random_state. Use no seed for parallelism.\n",
      "  warn(f\"n_jobs value {self.n_jobs} overridden to 1 by setting random_state. Use no seed for parallelism.\")\n"
     ]
    },
    {
     "name": "stdout",
     "output_type": "stream",
     "text": [
      "Thu Apr 18 19:48:40 2024 Finding Nearest Neighbors\n",
      "Thu Apr 18 19:48:40 2024 Finished Nearest Neighbor Search\n",
      "Thu Apr 18 19:48:40 2024 Construct embedding\n"
     ]
    },
    {
     "data": {
      "application/vnd.jupyter.widget-view+json": {
       "model_id": "6decfc05ea2f47f0a55c7f1a5afd263b",
       "version_major": 2,
       "version_minor": 0
      },
      "text/plain": [
       "Epochs completed:   0%|            0/2000 [00:00]"
      ]
     },
     "metadata": {},
     "output_type": "display_data"
    },
    {
     "name": "stdout",
     "output_type": "stream",
     "text": [
      "\tcompleted  0  /  2000 epochs\n",
      "\tcompleted  200  /  2000 epochs\n",
      "\tcompleted  400  /  2000 epochs\n",
      "\tcompleted  600  /  2000 epochs\n",
      "\tcompleted  800  /  2000 epochs\n",
      "\tcompleted  1000  /  2000 epochs\n",
      "\tcompleted  1200  /  2000 epochs\n",
      "\tcompleted  1400  /  2000 epochs\n",
      "\tcompleted  1600  /  2000 epochs\n",
      "\tcompleted  1800  /  2000 epochs\n",
      "Thu Apr 18 19:49:02 2024 Finished embedding\n",
      "Input embedding dimention: 1024\n",
      "Data points: 3468\n",
      "Results saved at: ../bldb/lowdim/umap/umap_mbl_t5xlu50_100.csv\n",
      "\n",
      "#################################################################\n",
      "                            t5xlu50                              \n",
      "#################################################################\n",
      "      Running UMAP with n_neighbors = 200 | dataset = MBL\n",
      "#################################################################\n",
      "\n",
      "UMAP(angular_rp_forest=True, metric='cosine', min_dist=0.2, n_epochs=2000, n_neighbors=200, random_state=42, spread=0.2, verbose=True)\n",
      "Thu Apr 18 19:49:02 2024 Construct fuzzy simplicial set\n"
     ]
    },
    {
     "name": "stderr",
     "output_type": "stream",
     "text": [
      "/home/gama/anaconda3/envs/bio/lib/python3.11/site-packages/umap/umap_.py:1943: UserWarning: n_jobs value -1 overridden to 1 by setting random_state. Use no seed for parallelism.\n",
      "  warn(f\"n_jobs value {self.n_jobs} overridden to 1 by setting random_state. Use no seed for parallelism.\")\n"
     ]
    },
    {
     "name": "stdout",
     "output_type": "stream",
     "text": [
      "Thu Apr 18 19:49:12 2024 Finding Nearest Neighbors\n",
      "Thu Apr 18 19:49:12 2024 Finished Nearest Neighbor Search\n",
      "Thu Apr 18 19:49:12 2024 Construct embedding\n"
     ]
    },
    {
     "data": {
      "application/vnd.jupyter.widget-view+json": {
       "model_id": "2831ae939c3b49d3ad20a0d1739f1df2",
       "version_major": 2,
       "version_minor": 0
      },
      "text/plain": [
       "Epochs completed:   0%|            0/2000 [00:00]"
      ]
     },
     "metadata": {},
     "output_type": "display_data"
    },
    {
     "name": "stdout",
     "output_type": "stream",
     "text": [
      "\tcompleted  0  /  2000 epochs\n",
      "\tcompleted  200  /  2000 epochs\n",
      "\tcompleted  400  /  2000 epochs\n",
      "\tcompleted  600  /  2000 epochs\n",
      "\tcompleted  800  /  2000 epochs\n",
      "\tcompleted  1000  /  2000 epochs\n",
      "\tcompleted  1200  /  2000 epochs\n",
      "\tcompleted  1400  /  2000 epochs\n",
      "\tcompleted  1600  /  2000 epochs\n",
      "\tcompleted  1800  /  2000 epochs\n",
      "Thu Apr 18 19:49:39 2024 Finished embedding\n",
      "Input embedding dimention: 1024\n",
      "Data points: 3468\n",
      "Results saved at: ../bldb/lowdim/umap/umap_mbl_t5xlu50_200.csv\n",
      "\n",
      "#################################################################\n",
      "                            t5xlu50                              \n",
      "#################################################################\n",
      "      Running UMAP with n_neighbors = 300 | dataset = MBL\n",
      "#################################################################\n",
      "\n",
      "UMAP(angular_rp_forest=True, metric='cosine', min_dist=0.2, n_epochs=2000, n_neighbors=300, random_state=42, spread=0.2, verbose=True)\n",
      "Thu Apr 18 19:49:39 2024 Construct fuzzy simplicial set\n"
     ]
    },
    {
     "name": "stderr",
     "output_type": "stream",
     "text": [
      "/home/gama/anaconda3/envs/bio/lib/python3.11/site-packages/umap/umap_.py:1943: UserWarning: n_jobs value -1 overridden to 1 by setting random_state. Use no seed for parallelism.\n",
      "  warn(f\"n_jobs value {self.n_jobs} overridden to 1 by setting random_state. Use no seed for parallelism.\")\n"
     ]
    },
    {
     "name": "stdout",
     "output_type": "stream",
     "text": [
      "Thu Apr 18 19:49:49 2024 Finding Nearest Neighbors\n",
      "Thu Apr 18 19:49:49 2024 Finished Nearest Neighbor Search\n",
      "Thu Apr 18 19:49:50 2024 Construct embedding\n"
     ]
    },
    {
     "data": {
      "application/vnd.jupyter.widget-view+json": {
       "model_id": "349f248b8b8b4a5fa0a04d3185b2721d",
       "version_major": 2,
       "version_minor": 0
      },
      "text/plain": [
       "Epochs completed:   0%|            0/2000 [00:00]"
      ]
     },
     "metadata": {},
     "output_type": "display_data"
    },
    {
     "name": "stdout",
     "output_type": "stream",
     "text": [
      "\tcompleted  0  /  2000 epochs\n",
      "\tcompleted  200  /  2000 epochs\n",
      "\tcompleted  400  /  2000 epochs\n",
      "\tcompleted  600  /  2000 epochs\n",
      "\tcompleted  800  /  2000 epochs\n",
      "\tcompleted  1000  /  2000 epochs\n",
      "\tcompleted  1200  /  2000 epochs\n",
      "\tcompleted  1400  /  2000 epochs\n",
      "\tcompleted  1600  /  2000 epochs\n",
      "\tcompleted  1800  /  2000 epochs\n",
      "Thu Apr 18 19:50:19 2024 Finished embedding\n",
      "Input embedding dimention: 1024\n",
      "Data points: 3468\n",
      "Results saved at: ../bldb/lowdim/umap/umap_mbl_t5xlu50_300.csv\n",
      "\n",
      "#################################################################\n",
      "                            t5xlu50                              \n",
      "#################################################################\n",
      "      Running UMAP with n_neighbors = 400 | dataset = MBL\n",
      "#################################################################\n",
      "\n",
      "UMAP(angular_rp_forest=True, metric='cosine', min_dist=0.2, n_epochs=2000, n_neighbors=400, random_state=42, spread=0.2, verbose=True)\n",
      "Thu Apr 18 19:50:19 2024 Construct fuzzy simplicial set\n"
     ]
    },
    {
     "name": "stderr",
     "output_type": "stream",
     "text": [
      "/home/gama/anaconda3/envs/bio/lib/python3.11/site-packages/umap/umap_.py:1943: UserWarning: n_jobs value -1 overridden to 1 by setting random_state. Use no seed for parallelism.\n",
      "  warn(f\"n_jobs value {self.n_jobs} overridden to 1 by setting random_state. Use no seed for parallelism.\")\n"
     ]
    },
    {
     "name": "stdout",
     "output_type": "stream",
     "text": [
      "Thu Apr 18 19:50:29 2024 Finding Nearest Neighbors\n",
      "Thu Apr 18 19:50:30 2024 Finished Nearest Neighbor Search\n",
      "Thu Apr 18 19:50:30 2024 Construct embedding\n"
     ]
    },
    {
     "data": {
      "application/vnd.jupyter.widget-view+json": {
       "model_id": "9feb4443f2274fd1a6f4ee744a9fc296",
       "version_major": 2,
       "version_minor": 0
      },
      "text/plain": [
       "Epochs completed:   0%|            0/2000 [00:00]"
      ]
     },
     "metadata": {},
     "output_type": "display_data"
    },
    {
     "name": "stdout",
     "output_type": "stream",
     "text": [
      "\tcompleted  0  /  2000 epochs\n",
      "\tcompleted  200  /  2000 epochs\n",
      "\tcompleted  400  /  2000 epochs\n",
      "\tcompleted  600  /  2000 epochs\n",
      "\tcompleted  800  /  2000 epochs\n",
      "\tcompleted  1000  /  2000 epochs\n",
      "\tcompleted  1200  /  2000 epochs\n",
      "\tcompleted  1400  /  2000 epochs\n",
      "\tcompleted  1600  /  2000 epochs\n",
      "\tcompleted  1800  /  2000 epochs\n",
      "Thu Apr 18 19:51:02 2024 Finished embedding\n",
      "Input embedding dimention: 1024\n",
      "Data points: 3468\n",
      "Results saved at: ../bldb/lowdim/umap/umap_mbl_t5xlu50_400.csv\n",
      "\n",
      "#################################################################\n",
      "                            t5xlu50                              \n",
      "#################################################################\n",
      "      Running UMAP with n_neighbors = 500 | dataset = MBL\n",
      "#################################################################\n",
      "\n",
      "UMAP(angular_rp_forest=True, metric='cosine', min_dist=0.2, n_epochs=2000, n_neighbors=500, random_state=42, spread=0.2, verbose=True)\n",
      "Thu Apr 18 19:51:02 2024 Construct fuzzy simplicial set\n"
     ]
    },
    {
     "name": "stderr",
     "output_type": "stream",
     "text": [
      "/home/gama/anaconda3/envs/bio/lib/python3.11/site-packages/umap/umap_.py:1943: UserWarning: n_jobs value -1 overridden to 1 by setting random_state. Use no seed for parallelism.\n",
      "  warn(f\"n_jobs value {self.n_jobs} overridden to 1 by setting random_state. Use no seed for parallelism.\")\n"
     ]
    },
    {
     "name": "stdout",
     "output_type": "stream",
     "text": [
      "Thu Apr 18 19:51:13 2024 Finding Nearest Neighbors\n",
      "Thu Apr 18 19:51:13 2024 Finished Nearest Neighbor Search\n",
      "Thu Apr 18 19:51:13 2024 Construct embedding\n"
     ]
    },
    {
     "data": {
      "application/vnd.jupyter.widget-view+json": {
       "model_id": "b7b3adcccb694b46816c9b49da4d520b",
       "version_major": 2,
       "version_minor": 0
      },
      "text/plain": [
       "Epochs completed:   0%|            0/2000 [00:00]"
      ]
     },
     "metadata": {},
     "output_type": "display_data"
    },
    {
     "name": "stdout",
     "output_type": "stream",
     "text": [
      "\tcompleted  0  /  2000 epochs\n",
      "\tcompleted  200  /  2000 epochs\n",
      "\tcompleted  400  /  2000 epochs\n",
      "\tcompleted  600  /  2000 epochs\n",
      "\tcompleted  800  /  2000 epochs\n",
      "\tcompleted  1000  /  2000 epochs\n",
      "\tcompleted  1200  /  2000 epochs\n",
      "\tcompleted  1400  /  2000 epochs\n",
      "\tcompleted  1600  /  2000 epochs\n",
      "\tcompleted  1800  /  2000 epochs\n",
      "Thu Apr 18 19:51:47 2024 Finished embedding\n",
      "Input embedding dimention: 1024\n",
      "Data points: 3468\n",
      "Results saved at: ../bldb/lowdim/umap/umap_mbl_t5xlu50_500.csv\n",
      "\n",
      "#################################################################\n",
      "                            t5xlu50                              \n",
      "#################################################################\n",
      "      Running UMAP with n_neighbors = 600 | dataset = MBL\n",
      "#################################################################\n",
      "\n",
      "UMAP(angular_rp_forest=True, metric='cosine', min_dist=0.2, n_epochs=2000, n_neighbors=600, random_state=42, spread=0.2, verbose=True)\n",
      "Thu Apr 18 19:51:47 2024 Construct fuzzy simplicial set\n"
     ]
    },
    {
     "name": "stderr",
     "output_type": "stream",
     "text": [
      "/home/gama/anaconda3/envs/bio/lib/python3.11/site-packages/umap/umap_.py:1943: UserWarning: n_jobs value -1 overridden to 1 by setting random_state. Use no seed for parallelism.\n",
      "  warn(f\"n_jobs value {self.n_jobs} overridden to 1 by setting random_state. Use no seed for parallelism.\")\n"
     ]
    },
    {
     "name": "stdout",
     "output_type": "stream",
     "text": [
      "Thu Apr 18 19:51:57 2024 Finding Nearest Neighbors\n",
      "Thu Apr 18 19:51:57 2024 Finished Nearest Neighbor Search\n",
      "Thu Apr 18 19:51:58 2024 Construct embedding\n"
     ]
    },
    {
     "data": {
      "application/vnd.jupyter.widget-view+json": {
       "model_id": "38fc7f75f5e24d488b7505c365bd2035",
       "version_major": 2,
       "version_minor": 0
      },
      "text/plain": [
       "Epochs completed:   0%|            0/2000 [00:00]"
      ]
     },
     "metadata": {},
     "output_type": "display_data"
    },
    {
     "name": "stdout",
     "output_type": "stream",
     "text": [
      "\tcompleted  0  /  2000 epochs\n",
      "\tcompleted  200  /  2000 epochs\n",
      "\tcompleted  400  /  2000 epochs\n",
      "\tcompleted  600  /  2000 epochs\n",
      "\tcompleted  800  /  2000 epochs\n",
      "\tcompleted  1000  /  2000 epochs\n",
      "\tcompleted  1200  /  2000 epochs\n",
      "\tcompleted  1400  /  2000 epochs\n",
      "\tcompleted  1600  /  2000 epochs\n",
      "\tcompleted  1800  /  2000 epochs\n",
      "Thu Apr 18 19:52:33 2024 Finished embedding\n",
      "Input embedding dimention: 1024\n",
      "Data points: 3468\n",
      "Results saved at: ../bldb/lowdim/umap/umap_mbl_t5xlu50_600.csv\n",
      "\n",
      "#################################################################\n",
      "                            t5xlu50                              \n",
      "#################################################################\n",
      "      Running UMAP with n_neighbors = 700 | dataset = MBL\n",
      "#################################################################\n",
      "\n",
      "UMAP(angular_rp_forest=True, metric='cosine', min_dist=0.2, n_epochs=2000, n_neighbors=700, random_state=42, spread=0.2, verbose=True)\n",
      "Thu Apr 18 19:52:33 2024 Construct fuzzy simplicial set\n"
     ]
    },
    {
     "name": "stderr",
     "output_type": "stream",
     "text": [
      "/home/gama/anaconda3/envs/bio/lib/python3.11/site-packages/umap/umap_.py:1943: UserWarning: n_jobs value -1 overridden to 1 by setting random_state. Use no seed for parallelism.\n",
      "  warn(f\"n_jobs value {self.n_jobs} overridden to 1 by setting random_state. Use no seed for parallelism.\")\n"
     ]
    },
    {
     "name": "stdout",
     "output_type": "stream",
     "text": [
      "Thu Apr 18 19:52:44 2024 Finding Nearest Neighbors\n",
      "Thu Apr 18 19:52:44 2024 Finished Nearest Neighbor Search\n",
      "Thu Apr 18 19:52:44 2024 Construct embedding\n"
     ]
    },
    {
     "data": {
      "application/vnd.jupyter.widget-view+json": {
       "model_id": "f746a7e928ef4bcc9b8efd4db984a735",
       "version_major": 2,
       "version_minor": 0
      },
      "text/plain": [
       "Epochs completed:   0%|            0/2000 [00:00]"
      ]
     },
     "metadata": {},
     "output_type": "display_data"
    },
    {
     "name": "stdout",
     "output_type": "stream",
     "text": [
      "\tcompleted  0  /  2000 epochs\n",
      "\tcompleted  200  /  2000 epochs\n",
      "\tcompleted  400  /  2000 epochs\n",
      "\tcompleted  600  /  2000 epochs\n",
      "\tcompleted  800  /  2000 epochs\n",
      "\tcompleted  1000  /  2000 epochs\n",
      "\tcompleted  1200  /  2000 epochs\n",
      "\tcompleted  1400  /  2000 epochs\n",
      "\tcompleted  1600  /  2000 epochs\n",
      "\tcompleted  1800  /  2000 epochs\n",
      "Thu Apr 18 19:53:21 2024 Finished embedding\n",
      "Input embedding dimention: 1024\n",
      "Data points: 3468\n",
      "Results saved at: ../bldb/lowdim/umap/umap_mbl_t5xlu50_700.csv\n",
      "\n",
      "#################################################################\n",
      "                            t5xlu50                              \n",
      "#################################################################\n",
      "      Running UMAP with n_neighbors = 800 | dataset = MBL\n",
      "#################################################################\n",
      "\n",
      "UMAP(angular_rp_forest=True, metric='cosine', min_dist=0.2, n_epochs=2000, n_neighbors=800, random_state=42, spread=0.2, verbose=True)\n",
      "Thu Apr 18 19:53:21 2024 Construct fuzzy simplicial set\n"
     ]
    },
    {
     "name": "stderr",
     "output_type": "stream",
     "text": [
      "/home/gama/anaconda3/envs/bio/lib/python3.11/site-packages/umap/umap_.py:1943: UserWarning: n_jobs value -1 overridden to 1 by setting random_state. Use no seed for parallelism.\n",
      "  warn(f\"n_jobs value {self.n_jobs} overridden to 1 by setting random_state. Use no seed for parallelism.\")\n"
     ]
    },
    {
     "name": "stdout",
     "output_type": "stream",
     "text": [
      "Thu Apr 18 19:53:31 2024 Finding Nearest Neighbors\n",
      "Thu Apr 18 19:53:31 2024 Finished Nearest Neighbor Search\n",
      "Thu Apr 18 19:53:32 2024 Construct embedding\n"
     ]
    },
    {
     "data": {
      "application/vnd.jupyter.widget-view+json": {
       "model_id": "5cb1488b4c174bbe9340e57468413f80",
       "version_major": 2,
       "version_minor": 0
      },
      "text/plain": [
       "Epochs completed:   0%|            0/2000 [00:00]"
      ]
     },
     "metadata": {},
     "output_type": "display_data"
    },
    {
     "name": "stdout",
     "output_type": "stream",
     "text": [
      "\tcompleted  0  /  2000 epochs\n",
      "\tcompleted  200  /  2000 epochs\n",
      "\tcompleted  400  /  2000 epochs\n",
      "\tcompleted  600  /  2000 epochs\n",
      "\tcompleted  800  /  2000 epochs\n",
      "\tcompleted  1000  /  2000 epochs\n",
      "\tcompleted  1200  /  2000 epochs\n",
      "\tcompleted  1400  /  2000 epochs\n",
      "\tcompleted  1600  /  2000 epochs\n",
      "\tcompleted  1800  /  2000 epochs\n",
      "Thu Apr 18 19:54:10 2024 Finished embedding\n",
      "Input embedding dimention: 1024\n",
      "Data points: 3468\n",
      "Results saved at: ../bldb/lowdim/umap/umap_mbl_t5xlu50_800.csv\n",
      "\n",
      "#################################################################\n",
      "                            t5xlu50                              \n",
      "#################################################################\n",
      "      Running UMAP with n_neighbors = 900 | dataset = MBL\n",
      "#################################################################\n",
      "\n",
      "UMAP(angular_rp_forest=True, metric='cosine', min_dist=0.2, n_epochs=2000, n_neighbors=900, random_state=42, spread=0.2, verbose=True)\n",
      "Thu Apr 18 19:54:11 2024 Construct fuzzy simplicial set\n"
     ]
    },
    {
     "name": "stderr",
     "output_type": "stream",
     "text": [
      "/home/gama/anaconda3/envs/bio/lib/python3.11/site-packages/umap/umap_.py:1943: UserWarning: n_jobs value -1 overridden to 1 by setting random_state. Use no seed for parallelism.\n",
      "  warn(f\"n_jobs value {self.n_jobs} overridden to 1 by setting random_state. Use no seed for parallelism.\")\n"
     ]
    },
    {
     "name": "stdout",
     "output_type": "stream",
     "text": [
      "Thu Apr 18 19:54:21 2024 Finding Nearest Neighbors\n",
      "Thu Apr 18 19:54:21 2024 Finished Nearest Neighbor Search\n",
      "Thu Apr 18 19:54:22 2024 Construct embedding\n"
     ]
    },
    {
     "data": {
      "application/vnd.jupyter.widget-view+json": {
       "model_id": "e271d2363b4c4853b89a12c0d647c027",
       "version_major": 2,
       "version_minor": 0
      },
      "text/plain": [
       "Epochs completed:   0%|            0/2000 [00:00]"
      ]
     },
     "metadata": {},
     "output_type": "display_data"
    },
    {
     "name": "stdout",
     "output_type": "stream",
     "text": [
      "\tcompleted  0  /  2000 epochs\n",
      "\tcompleted  200  /  2000 epochs\n",
      "\tcompleted  400  /  2000 epochs\n",
      "\tcompleted  600  /  2000 epochs\n",
      "\tcompleted  800  /  2000 epochs\n",
      "\tcompleted  1000  /  2000 epochs\n",
      "\tcompleted  1200  /  2000 epochs\n",
      "\tcompleted  1400  /  2000 epochs\n",
      "\tcompleted  1600  /  2000 epochs\n",
      "\tcompleted  1800  /  2000 epochs\n",
      "Thu Apr 18 19:55:01 2024 Finished embedding\n",
      "Input embedding dimention: 1024\n",
      "Data points: 3468\n",
      "Results saved at: ../bldb/lowdim/umap/umap_mbl_t5xlu50_900.csv\n",
      "\n",
      "#################################################################\n",
      "                            t5xlu50                              \n",
      "#################################################################\n",
      "      Running UMAP with n_neighbors = 1000 | dataset = MBL\n",
      "#################################################################\n",
      "\n",
      "UMAP(angular_rp_forest=True, metric='cosine', min_dist=0.2, n_epochs=2000, n_neighbors=1000, random_state=42, spread=0.2, verbose=True)\n",
      "Thu Apr 18 19:55:01 2024 Construct fuzzy simplicial set\n"
     ]
    },
    {
     "name": "stderr",
     "output_type": "stream",
     "text": [
      "/home/gama/anaconda3/envs/bio/lib/python3.11/site-packages/umap/umap_.py:1943: UserWarning: n_jobs value -1 overridden to 1 by setting random_state. Use no seed for parallelism.\n",
      "  warn(f\"n_jobs value {self.n_jobs} overridden to 1 by setting random_state. Use no seed for parallelism.\")\n"
     ]
    },
    {
     "name": "stdout",
     "output_type": "stream",
     "text": [
      "Thu Apr 18 19:55:11 2024 Finding Nearest Neighbors\n",
      "Thu Apr 18 19:55:11 2024 Finished Nearest Neighbor Search\n",
      "Thu Apr 18 19:55:12 2024 Construct embedding\n"
     ]
    },
    {
     "data": {
      "application/vnd.jupyter.widget-view+json": {
       "model_id": "057dd1c4afb841f99856376739c0a84f",
       "version_major": 2,
       "version_minor": 0
      },
      "text/plain": [
       "Epochs completed:   0%|            0/2000 [00:00]"
      ]
     },
     "metadata": {},
     "output_type": "display_data"
    },
    {
     "name": "stdout",
     "output_type": "stream",
     "text": [
      "\tcompleted  0  /  2000 epochs\n",
      "\tcompleted  200  /  2000 epochs\n",
      "\tcompleted  400  /  2000 epochs\n",
      "\tcompleted  600  /  2000 epochs\n",
      "\tcompleted  800  /  2000 epochs\n",
      "\tcompleted  1000  /  2000 epochs\n",
      "\tcompleted  1200  /  2000 epochs\n",
      "\tcompleted  1400  /  2000 epochs\n",
      "\tcompleted  1600  /  2000 epochs\n",
      "\tcompleted  1800  /  2000 epochs\n",
      "Thu Apr 18 19:55:52 2024 Finished embedding\n",
      "Input embedding dimention: 1024\n",
      "Data points: 3468\n",
      "Results saved at: ../bldb/lowdim/umap/umap_mbl_t5xlu50_1000.csv\n",
      "\n"
     ]
    }
   ],
   "source": [
    "mbl_arrays = {\n",
    "    \"esm1b\"    : esm1b_mbl,\n",
    "    \"esm2_650m\": esm2_650m_mbl,\n",
    "    \"esm2_3b\"  : esm2_3b_mbl,\n",
    "    \"carp\"     : carp_mbl,\n",
    "    \"t5xlu50\"  : t5xlu50_mbl\n",
    "}\n",
    "\n",
    "# iterate over data to create input labels \n",
    "for model in models:\n",
    "    for n in nn:\n",
    "        name1 = \"umap1_\" + model\n",
    "        name2 = \"umap2_\" + model\n",
    "        csv = \"../bldb/lowdim/umap/umap_mbl_\" + model + \"_\" + str(n) + \".csv\"\n",
    "\n",
    "        # get the dataset based on the model name \n",
    "        input_embeddings = mbl_arrays[model]\n",
    "\n",
    "        # logs\n",
    "        print(f\"#################################################################\")\n",
    "        print(f\"                            {model}                              \")\n",
    "\n",
    "        # Run the function\n",
    "        run_umap(array=input_embeddings, n_neighbors=n, dim1=name1, dim2=name2, dataset=\"MBL\", csv_name=csv)"
   ]
  },
  {
   "cell_type": "markdown",
   "id": "2afc1df1-166c-4710-947b-ea6a3dbdf890",
   "metadata": {},
   "source": [
    "# parse"
   ]
  },
  {
   "cell_type": "markdown",
   "id": "a5d69dd6-1d6d-4e96-a664-63f383a0e9a3",
   "metadata": {},
   "source": [
    "Due to an error in the above code, where I forget to put the nn value in the columns, I need to run this code to rename the umap dims to add the nn value \n",
    "\n",
    "\n",
    "```bash \n",
    "for file in *.csv; do\n",
    "    number=$(echo \"$file\" | grep -oP '\\d+(?=.csv)')\n",
    "    sed -i \"1 s/,/_$number,/; 1 s/$/_$number/\" \"$file\"; done\n",
    "```"
   ]
  },
  {
   "cell_type": "markdown",
   "id": "29c19d68-61d1-4c45-b97e-6f6f3a6af4a9",
   "metadata": {},
   "source": [
    "## mbl"
   ]
  },
  {
   "cell_type": "code",
   "execution_count": 4,
   "id": "ee80d3eb-b15e-4e34-b9fb-f1a776bf38e8",
   "metadata": {},
   "outputs": [],
   "source": [
    "cols = [0, 1]"
   ]
  },
  {
   "cell_type": "code",
   "execution_count": 5,
   "id": "35ee2f26-ba9a-4f09-812d-0c53f4a997df",
   "metadata": {},
   "outputs": [],
   "source": [
    "path = \"../bldb/lowdim/umap/\"\n",
    "mbl_id = mbl[[\"seq_id\"]]"
   ]
  },
  {
   "cell_type": "code",
   "execution_count": 10,
   "id": "e918756f-9b82-490e-a828-586d8f4fbe5c",
   "metadata": {
    "scrolled": true
   },
   "outputs": [
    {
     "name": "stdout",
     "output_type": "stream",
     "text": [
      "data size = 3468\n"
     ]
    },
    {
     "data": {
      "text/plain": [
       "Index(['seq_id', 'umap1_esm1b_30', 'umap2_esm1b_30', 'umap1_esm1b_50',\n",
       "       'umap2_esm1b_50', 'umap1_esm1b_100', 'umap2_esm1b_100',\n",
       "       'umap1_esm1b_200', 'umap2_esm1b_200', 'umap1_esm1b_300',\n",
       "       'umap2_esm1b_300', 'umap1_esm1b_400', 'umap2_esm1b_400',\n",
       "       'umap1_esm1b_500', 'umap2_esm1b_500', 'umap1_esm1b_600',\n",
       "       'umap2_esm1b_600', 'umap1_esm1b_700', 'umap2_esm1b_700',\n",
       "       'umap1_esm1b_800', 'umap2_esm1b_800', 'umap1_esm1b_900',\n",
       "       'umap2_esm1b_900', 'umap1_esm1b_1000', 'umap2_esm1b_1000'],\n",
       "      dtype='object')"
      ]
     },
     "execution_count": 10,
     "metadata": {},
     "output_type": "execute_result"
    }
   ],
   "source": [
    "ids_mbl = pd.read_csv(join(path,\"mbl_ids.csv\"))\n",
    "\n",
    "df30   = pd.read_csv(join(path,\"umap_mbl_esm1b_30.csv\"), usecols=cols)\n",
    "df50   = pd.read_csv(join(path,\"umap_mbl_esm1b_50.csv\"), usecols=cols)\n",
    "df100  = pd.read_csv(join(path,\"umap_mbl_esm1b_100.csv\"), usecols=cols)\n",
    "df200  = pd.read_csv(join(path,\"umap_mbl_esm1b_200.csv\"), usecols=cols)\n",
    "df300  = pd.read_csv(join(path,\"umap_mbl_esm1b_300.csv\"), usecols=cols)\n",
    "df400  = pd.read_csv(join(path,\"umap_mbl_esm1b_400.csv\"), usecols=cols)\n",
    "df500  = pd.read_csv(join(path,\"umap_mbl_esm1b_500.csv\"), usecols=cols)\n",
    "df600  = pd.read_csv(join(path,\"umap_mbl_esm1b_600.csv\"), usecols=cols)\n",
    "df700  = pd.read_csv(join(path,\"umap_mbl_esm1b_700.csv\"), usecols=cols)\n",
    "df800  = pd.read_csv(join(path,\"umap_mbl_esm1b_800.csv\"), usecols=cols)\n",
    "df900  = pd.read_csv(join(path,\"umap_mbl_esm1b_900.csv\"), usecols=cols)\n",
    "df1000 = pd.read_csv(join(path,\"umap_mbl_esm1b_1000.csv\"), usecols=cols)\n",
    "\n",
    "df = pd.concat([ids_mbl, df30, df50, df100, df200, df300, df400, df500, df600, df700, df800, df900, df1000], axis=1)\n",
    "df.columns = df.columns.str.lower()\n",
    "print(f\"data size = {len(df)}\")\n",
    "df.columns"
   ]
  },
  {
   "cell_type": "code",
   "execution_count": 13,
   "id": "e337e212-6a0e-4fca-816f-51b12c990d03",
   "metadata": {},
   "outputs": [],
   "source": [
    "df.to_csv(\"../bldb/lowdim/umap/merge/umap_mbl_esm1b.csv\", index=False)"
   ]
  },
  {
   "cell_type": "code",
   "execution_count": 14,
   "id": "71bce4e6-996d-4baa-966e-c8d151bc2091",
   "metadata": {},
   "outputs": [
    {
     "name": "stdout",
     "output_type": "stream",
     "text": [
      "data size = 3468\n"
     ]
    },
    {
     "data": {
      "text/plain": [
       "Index(['seq_id', 'umap1_esm2_3b_30', 'umap2_esm2_3b_30', 'umap1_esm2_3b_50',\n",
       "       'umap2_esm2_3b_50', 'umap1_esm2_3b_100', 'umap2_esm2_3b_100',\n",
       "       'umap1_esm2_3b_200', 'umap2_esm2_3b_200', 'umap1_esm2_3b_300',\n",
       "       'umap2_esm2_3b_300', 'umap1_esm2_3b_400', 'umap2_esm2_3b_400',\n",
       "       'umap1_esm2_3b_500', 'umap2_esm2_3b_500', 'umap1_esm2_3b_600',\n",
       "       'umap2_esm2_3b_600', 'umap1_esm2_3b_700', 'umap2_esm2_3b_700',\n",
       "       'umap1_esm2_3b_800', 'umap2_esm2_3b_800', 'umap1_esm2_3b_900',\n",
       "       'umap2_esm2_3b_900', 'umap1_esm2_3b_1000', 'umap2_esm2_3b_1000'],\n",
       "      dtype='object')"
      ]
     },
     "execution_count": 14,
     "metadata": {},
     "output_type": "execute_result"
    }
   ],
   "source": [
    "df30   = pd.read_csv(join(path,\"umap_mbl_esm2_3b_30.csv\"), usecols=cols)\n",
    "df50   = pd.read_csv(join(path,\"umap_mbl_esm2_3b_50.csv\"), usecols=cols)\n",
    "df100  = pd.read_csv(join(path,\"umap_mbl_esm2_3b_100.csv\"), usecols=cols)\n",
    "df200  = pd.read_csv(join(path,\"umap_mbl_esm2_3b_200.csv\"), usecols=cols)\n",
    "df300  = pd.read_csv(join(path,\"umap_mbl_esm2_3b_300.csv\"), usecols=cols)\n",
    "df400  = pd.read_csv(join(path,\"umap_mbl_esm2_3b_400.csv\"), usecols=cols)\n",
    "df500  = pd.read_csv(join(path,\"umap_mbl_esm2_3b_500.csv\"), usecols=cols)\n",
    "df600  = pd.read_csv(join(path,\"umap_mbl_esm2_3b_600.csv\"), usecols=cols)\n",
    "df700  = pd.read_csv(join(path,\"umap_mbl_esm2_3b_700.csv\"), usecols=cols)\n",
    "df800  = pd.read_csv(join(path,\"umap_mbl_esm2_3b_800.csv\"), usecols=cols)\n",
    "df900  = pd.read_csv(join(path,\"umap_mbl_esm2_3b_900.csv\"), usecols=cols)\n",
    "df1000 = pd.read_csv(join(path,\"umap_mbl_esm2_3b_1000.csv\"), usecols=cols)\n",
    "\n",
    "df = pd.concat([ids_mbl, df30, df50, df100, df200, df300, df400, df500, df600, df700, df800, df900, df1000], axis=1)\n",
    "df.columns = df.columns.str.lower()\n",
    "print(f\"data size = {len(df)}\")\n",
    "df.columns"
   ]
  },
  {
   "cell_type": "code",
   "execution_count": 15,
   "id": "b6c462a8-dd23-4e45-97a2-d3a3cfdb6894",
   "metadata": {},
   "outputs": [],
   "source": [
    "df.to_csv(\"../bldb/lowdim/umap/merge/umap_mbl_esm2_3b.csv\", index=False)"
   ]
  },
  {
   "cell_type": "code",
   "execution_count": 16,
   "id": "cc9aca52-dd68-4092-8c27-33957d104652",
   "metadata": {},
   "outputs": [
    {
     "name": "stdout",
     "output_type": "stream",
     "text": [
      "data size = 3468\n"
     ]
    },
    {
     "data": {
      "text/plain": [
       "Index(['seq_id', 'umap1_esm2_650m_30', 'umap2_esm2_650m_30',\n",
       "       'umap1_esm2_650m_50', 'umap2_esm2_650m_50', 'umap1_esm2_650m_100',\n",
       "       'umap2_esm2_650m_100', 'umap1_esm2_650m_200', 'umap2_esm2_650m_200',\n",
       "       'umap1_esm2_650m_300', 'umap2_esm2_650m_300', 'umap1_esm2_650m_400',\n",
       "       'umap2_esm2_650m_400', 'umap1_esm2_650m_500', 'umap2_esm2_650m_500',\n",
       "       'umap1_esm2_650m_600', 'umap2_esm2_650m_600', 'umap1_esm2_650m_700',\n",
       "       'umap2_esm2_650m_700', 'umap1_esm2_650m_800', 'umap2_esm2_650m_800',\n",
       "       'umap1_esm2_650m_900', 'umap2_esm2_650m_900', 'umap1_esm2_650m_1000',\n",
       "       'umap2_esm2_650m_1000'],\n",
       "      dtype='object')"
      ]
     },
     "execution_count": 16,
     "metadata": {},
     "output_type": "execute_result"
    }
   ],
   "source": [
    "df30   = pd.read_csv(join(path,\"umap_mbl_esm2_650m_30.csv\"), usecols=cols)\n",
    "df50   = pd.read_csv(join(path,\"umap_mbl_esm2_650m_50.csv\"), usecols=cols)\n",
    "df100  = pd.read_csv(join(path,\"umap_mbl_esm2_650m_100.csv\"), usecols=cols)\n",
    "df200  = pd.read_csv(join(path,\"umap_mbl_esm2_650m_200.csv\"), usecols=cols)\n",
    "df300  = pd.read_csv(join(path,\"umap_mbl_esm2_650m_300.csv\"), usecols=cols)\n",
    "df400  = pd.read_csv(join(path,\"umap_mbl_esm2_650m_400.csv\"), usecols=cols)\n",
    "df500  = pd.read_csv(join(path,\"umap_mbl_esm2_650m_500.csv\"), usecols=cols)\n",
    "df600  = pd.read_csv(join(path,\"umap_mbl_esm2_650m_600.csv\"), usecols=cols)\n",
    "df700  = pd.read_csv(join(path,\"umap_mbl_esm2_650m_700.csv\"), usecols=cols)\n",
    "df800  = pd.read_csv(join(path,\"umap_mbl_esm2_650m_800.csv\"), usecols=cols)\n",
    "df900  = pd.read_csv(join(path,\"umap_mbl_esm2_650m_900.csv\"), usecols=cols)\n",
    "df1000 = pd.read_csv(join(path,\"umap_mbl_esm2_650m_1000.csv\"), usecols=cols)\n",
    "\n",
    "df = pd.concat([ids_mbl, df30, df50, df100, df200, df300, df400, df500, df600, df700, df800, df900, df1000], axis=1)\n",
    "df.columns = df.columns.str.lower()\n",
    "print(f\"data size = {len(df)}\")\n",
    "df.columns"
   ]
  },
  {
   "cell_type": "code",
   "execution_count": 17,
   "id": "a9e379d8-1a85-43d6-b30c-46200a334eab",
   "metadata": {},
   "outputs": [],
   "source": [
    "df.to_csv(\"../bldb/lowdim/umap/merge/umap_mbl_esm2_650m.csv\", index=False)"
   ]
  },
  {
   "cell_type": "code",
   "execution_count": 18,
   "id": "841353b4-e1dd-4df4-9925-70d39c827d48",
   "metadata": {},
   "outputs": [
    {
     "name": "stdout",
     "output_type": "stream",
     "text": [
      "data size = 3468\n"
     ]
    },
    {
     "data": {
      "text/plain": [
       "Index(['seq_id', 'umap1_carp_30', 'umap2_carp_30', 'umap1_carp_50',\n",
       "       'umap2_carp_50', 'umap1_carp_100', 'umap2_carp_100', 'umap1_carp_200',\n",
       "       'umap2_carp_200', 'umap1_carp_300', 'umap2_carp_300', 'umap1_carp_400',\n",
       "       'umap2_carp_400', 'umap1_carp_500', 'umap2_carp_500', 'umap1_carp_600',\n",
       "       'umap2_carp_600', 'umap1_carp_700', 'umap2_carp_700', 'umap1_carp_800',\n",
       "       'umap2_carp_800', 'umap1_carp_900', 'umap2_carp_900', 'umap1_carp_1000',\n",
       "       'umap2_carp_1000'],\n",
       "      dtype='object')"
      ]
     },
     "execution_count": 18,
     "metadata": {},
     "output_type": "execute_result"
    }
   ],
   "source": [
    "df30   = pd.read_csv(join(path,\"umap_mbl_carp_30.csv\"), usecols=cols)\n",
    "df50   = pd.read_csv(join(path,\"umap_mbl_carp_50.csv\"), usecols=cols)\n",
    "df100  = pd.read_csv(join(path,\"umap_mbl_carp_100.csv\"), usecols=cols)\n",
    "df200  = pd.read_csv(join(path,\"umap_mbl_carp_200.csv\"), usecols=cols)\n",
    "df300  = pd.read_csv(join(path,\"umap_mbl_carp_300.csv\"), usecols=cols)\n",
    "df400  = pd.read_csv(join(path,\"umap_mbl_carp_400.csv\"), usecols=cols)\n",
    "df500  = pd.read_csv(join(path,\"umap_mbl_carp_500.csv\"), usecols=cols)\n",
    "df600  = pd.read_csv(join(path,\"umap_mbl_carp_600.csv\"), usecols=cols)\n",
    "df700  = pd.read_csv(join(path,\"umap_mbl_carp_700.csv\"), usecols=cols)\n",
    "df800  = pd.read_csv(join(path,\"umap_mbl_carp_800.csv\"), usecols=cols)\n",
    "df900  = pd.read_csv(join(path,\"umap_mbl_carp_900.csv\"), usecols=cols)\n",
    "df1000 = pd.read_csv(join(path,\"umap_mbl_carp_1000.csv\"), usecols=cols)\n",
    "\n",
    "df = pd.concat([ids_mbl, df30, df50, df100, df200, df300, df400, df500, df600, df700, df800, df900, df1000], axis=1)\n",
    "df.columns = df.columns.str.lower()\n",
    "print(f\"data size = {len(df)}\")\n",
    "df.columns"
   ]
  },
  {
   "cell_type": "code",
   "execution_count": 19,
   "id": "2afeb820-1b50-4e60-a405-0e57c6529ed9",
   "metadata": {},
   "outputs": [],
   "source": [
    "df.to_csv(\"../bldb/lowdim/umap/merge/umap_mbl_carp.csv\", index=False)"
   ]
  },
  {
   "cell_type": "code",
   "execution_count": 20,
   "id": "e5c61999-d07d-4929-bfed-d90f69a9433d",
   "metadata": {},
   "outputs": [
    {
     "name": "stdout",
     "output_type": "stream",
     "text": [
      "data size = 3468\n"
     ]
    },
    {
     "data": {
      "text/plain": [
       "Index(['seq_id', 'umap1_t5xlu50_30', 'umap2_t5xlu50_30', 'umap1_t5xlu50_50',\n",
       "       'umap2_t5xlu50_50', 'umap1_t5xlu50_100', 'umap2_t5xlu50_100',\n",
       "       'umap1_t5xlu50_200', 'umap2_t5xlu50_200', 'umap1_t5xlu50_300',\n",
       "       'umap2_t5xlu50_300', 'umap1_t5xlu50_400', 'umap2_t5xlu50_400',\n",
       "       'umap1_t5xlu50_500', 'umap2_t5xlu50_500', 'umap1_t5xlu50_600',\n",
       "       'umap2_t5xlu50_600', 'umap1_t5xlu50_700', 'umap2_t5xlu50_700',\n",
       "       'umap1_t5xlu50_800', 'umap2_t5xlu50_800', 'umap1_t5xlu50_900',\n",
       "       'umap2_t5xlu50_900', 'umap1_t5xlu50_1000', 'umap2_t5xlu50_1000'],\n",
       "      dtype='object')"
      ]
     },
     "execution_count": 20,
     "metadata": {},
     "output_type": "execute_result"
    }
   ],
   "source": [
    "df30   = pd.read_csv(join(path,\"umap_mbl_t5xlu50_30.csv\"), usecols=cols)\n",
    "df50   = pd.read_csv(join(path,\"umap_mbl_t5xlu50_50.csv\"), usecols=cols)\n",
    "df100  = pd.read_csv(join(path,\"umap_mbl_t5xlu50_100.csv\"), usecols=cols)\n",
    "df200  = pd.read_csv(join(path,\"umap_mbl_t5xlu50_200.csv\"), usecols=cols)\n",
    "df300  = pd.read_csv(join(path,\"umap_mbl_t5xlu50_300.csv\"), usecols=cols)\n",
    "df400  = pd.read_csv(join(path,\"umap_mbl_t5xlu50_400.csv\"), usecols=cols)\n",
    "df500  = pd.read_csv(join(path,\"umap_mbl_t5xlu50_500.csv\"), usecols=cols)\n",
    "df600  = pd.read_csv(join(path,\"umap_mbl_t5xlu50_600.csv\"), usecols=cols)\n",
    "df700  = pd.read_csv(join(path,\"umap_mbl_t5xlu50_700.csv\"), usecols=cols)\n",
    "df800  = pd.read_csv(join(path,\"umap_mbl_t5xlu50_800.csv\"), usecols=cols)\n",
    "df900  = pd.read_csv(join(path,\"umap_mbl_t5xlu50_900.csv\"), usecols=cols)\n",
    "df1000 = pd.read_csv(join(path,\"umap_mbl_t5xlu50_1000.csv\"), usecols=cols)\n",
    "\n",
    "df = pd.concat([ids_mbl, df30, df50, df100, df200, df300, df400, df500, df600, df700, df800, df900, df1000], axis=1)\n",
    "df.columns = df.columns.str.lower()\n",
    "print(f\"data size = {len(df)}\")\n",
    "df.columns"
   ]
  },
  {
   "cell_type": "code",
   "execution_count": 21,
   "id": "96133f31-7f98-4b3f-b38d-e6ddf170229f",
   "metadata": {},
   "outputs": [],
   "source": [
    "df.to_csv(\"../bldb/lowdim/umap/merge/umap_mbl_t5xlu50.csv\", index=False)"
   ]
  },
  {
   "cell_type": "markdown",
   "id": "501f390d-e269-4426-a027-918ee96b11fa",
   "metadata": {},
   "source": [
    "## sbl"
   ]
  },
  {
   "cell_type": "code",
   "execution_count": 3,
   "id": "5aa37825-a1f2-4542-889f-7f0de1de9b71",
   "metadata": {},
   "outputs": [],
   "source": [
    "sbl_id = sbl[[\"seq_id\"]]"
   ]
  },
  {
   "cell_type": "code",
   "execution_count": 22,
   "id": "7f38e734-4d3c-4eb5-b3dc-f2ab857032d6",
   "metadata": {},
   "outputs": [
    {
     "name": "stdout",
     "output_type": "stream",
     "text": [
      "data size = 25961\n"
     ]
    },
    {
     "data": {
      "text/plain": [
       "Index(['seq_id', 'umap1_esm1b_30', 'umap2_esm1b_30', 'umap1_esm1b_50',\n",
       "       'umap2_esm1b_50', 'umap1_esm1b_100', 'umap2_esm1b_100',\n",
       "       'umap1_esm1b_200', 'umap2_esm1b_200', 'umap1_esm1b_300',\n",
       "       'umap2_esm1b_300', 'umap1_esm1b_400', 'umap2_esm1b_400',\n",
       "       'umap1_esm1b_500', 'umap2_esm1b_500', 'umap1_esm1b_600',\n",
       "       'umap2_esm1b_600', 'umap1_esm1b_700', 'umap2_esm1b_700',\n",
       "       'umap1_esm1b_800', 'umap2_esm1b_800', 'umap1_esm1b_900',\n",
       "       'umap2_esm1b_900', 'umap1_esm1b_1000', 'umap2_esm1b_1000'],\n",
       "      dtype='object')"
      ]
     },
     "execution_count": 22,
     "metadata": {},
     "output_type": "execute_result"
    }
   ],
   "source": [
    "ids_sbl = pd.read_csv(join(path,\"sbl_ids.csv\"))\n",
    "\n",
    "df30   = pd.read_csv(join(path,\"umap_sbl_esm1b_30.csv\"), usecols=cols)\n",
    "df50   = pd.read_csv(join(path,\"umap_sbl_esm1b_50.csv\"), usecols=cols)\n",
    "df100  = pd.read_csv(join(path,\"umap_sbl_esm1b_100.csv\"), usecols=cols)\n",
    "df200  = pd.read_csv(join(path,\"umap_sbl_esm1b_200.csv\"), usecols=cols)\n",
    "df300  = pd.read_csv(join(path,\"umap_sbl_esm1b_300.csv\"), usecols=cols)\n",
    "df400  = pd.read_csv(join(path,\"umap_sbl_esm1b_400.csv\"), usecols=cols)\n",
    "df500  = pd.read_csv(join(path,\"umap_sbl_esm1b_500.csv\"), usecols=cols)\n",
    "df600  = pd.read_csv(join(path,\"umap_sbl_esm1b_600.csv\"), usecols=cols)\n",
    "df700  = pd.read_csv(join(path,\"umap_sbl_esm1b_700.csv\"), usecols=cols)\n",
    "df800  = pd.read_csv(join(path,\"umap_sbl_esm1b_800.csv\"), usecols=cols)\n",
    "df900  = pd.read_csv(join(path,\"umap_sbl_esm1b_900.csv\"), usecols=cols)\n",
    "df1000 = pd.read_csv(join(path,\"umap_sbl_esm1b_1000.csv\"), usecols=cols)\n",
    "\n",
    "df = pd.concat([ids_sbl, df30, df50, df100, df200, df300, df400, df500, df600, df700, df800, df900, df1000], axis=1)\n",
    "df.columns = df.columns.str.lower()\n",
    "print(f\"data size = {len(df)}\")\n",
    "df.columns"
   ]
  },
  {
   "cell_type": "code",
   "execution_count": 23,
   "id": "9177f596-6855-4ebc-acae-574d013e608a",
   "metadata": {},
   "outputs": [],
   "source": [
    "df.to_csv(\"../bldb/lowdim/umap/merge/umap_sbl_esm1b.csv\", index=False)"
   ]
  },
  {
   "cell_type": "code",
   "execution_count": 24,
   "id": "c534ec63-1836-4b9f-be2e-7d35d34076e8",
   "metadata": {},
   "outputs": [
    {
     "name": "stdout",
     "output_type": "stream",
     "text": [
      "data size = 25961\n"
     ]
    },
    {
     "data": {
      "text/plain": [
       "Index(['seq_id', 'umap1_esm2_3b_30', 'umap2_esm2_3b_30', 'umap1_esm2_3b_50',\n",
       "       'umap2_esm2_3b_50', 'umap1_esm2_3b_100', 'umap2_esm2_3b_100',\n",
       "       'umap1_esm2_3b_200', 'umap2_esm2_3b_200', 'umap1_esm2_3b_300',\n",
       "       'umap2_esm2_3b_300', 'umap1_esm2_3b_400', 'umap2_esm2_3b_400',\n",
       "       'umap1_esm2_3b_500', 'umap2_esm2_3b_500', 'umap1_esm2_3b_600',\n",
       "       'umap2_esm2_3b_600', 'umap1_esm2_3b_700', 'umap2_esm2_3b_700',\n",
       "       'umap1_esm2_3b_800', 'umap2_esm2_3b_800', 'umap1_esm2_3b_900',\n",
       "       'umap2_esm2_3b_900', 'umap1_esm2_3b_1000', 'umap2_esm2_3b_1000'],\n",
       "      dtype='object')"
      ]
     },
     "execution_count": 24,
     "metadata": {},
     "output_type": "execute_result"
    }
   ],
   "source": [
    "df30   = pd.read_csv(join(path,\"umap_sbl_esm2_3b_30.csv\"), usecols=cols)\n",
    "df50   = pd.read_csv(join(path,\"umap_sbl_esm2_3b_50.csv\"), usecols=cols)\n",
    "df100  = pd.read_csv(join(path,\"umap_sbl_esm2_3b_100.csv\"), usecols=cols)\n",
    "df200  = pd.read_csv(join(path,\"umap_sbl_esm2_3b_200.csv\"), usecols=cols)\n",
    "df300  = pd.read_csv(join(path,\"umap_sbl_esm2_3b_300.csv\"), usecols=cols)\n",
    "df400  = pd.read_csv(join(path,\"umap_sbl_esm2_3b_400.csv\"), usecols=cols)\n",
    "df500  = pd.read_csv(join(path,\"umap_sbl_esm2_3b_500.csv\"), usecols=cols)\n",
    "df600  = pd.read_csv(join(path,\"umap_sbl_esm2_3b_600.csv\"), usecols=cols)\n",
    "df700  = pd.read_csv(join(path,\"umap_sbl_esm2_3b_700.csv\"), usecols=cols)\n",
    "df800  = pd.read_csv(join(path,\"umap_sbl_esm2_3b_800.csv\"), usecols=cols)\n",
    "df900  = pd.read_csv(join(path,\"umap_sbl_esm2_3b_900.csv\"), usecols=cols)\n",
    "df1000 = pd.read_csv(join(path,\"umap_sbl_esm2_3b_1000.csv\"), usecols=cols)\n",
    "\n",
    "df = pd.concat([ids_sbl, df30, df50, df100, df200, df300, df400, df500, df600, df700, df800, df900, df1000], axis=1)\n",
    "df.columns = df.columns.str.lower()\n",
    "print(f\"data size = {len(df)}\")\n",
    "df.columns"
   ]
  },
  {
   "cell_type": "code",
   "execution_count": 25,
   "id": "af2dbd7f-40d1-4ede-b96a-efce0a17c7ec",
   "metadata": {},
   "outputs": [],
   "source": [
    "df.to_csv(\"../bldb/lowdim/umap/merge/umap_sbl_esm2_3b.csv\", index=False)"
   ]
  },
  {
   "cell_type": "code",
   "execution_count": 26,
   "id": "866db53c-a253-4a21-82b1-2ebcad2069b5",
   "metadata": {},
   "outputs": [
    {
     "name": "stdout",
     "output_type": "stream",
     "text": [
      "data size = 25961\n"
     ]
    },
    {
     "data": {
      "text/plain": [
       "Index(['seq_id', 'umap1_esm2_650m_30', 'umap2_esm2_650m_30',\n",
       "       'umap1_esm2_650m_50', 'umap2_esm2_650m_50', 'umap1_esm2_650m_100',\n",
       "       'umap2_esm2_650m_100', 'umap1_esm2_650m_200', 'umap2_esm2_650m_200',\n",
       "       'umap1_esm2_650m_300', 'umap2_esm2_650m_300', 'umap1_esm2_650m_400',\n",
       "       'umap2_esm2_650m_400', 'umap1_esm2_650m_500', 'umap2_esm2_650m_500',\n",
       "       'umap1_esm2_650m_600', 'umap2_esm2_650m_600', 'umap1_esm2_650m_700',\n",
       "       'umap2_esm2_650m_700', 'umap1_esm2_650m_800', 'umap2_esm2_650m_800',\n",
       "       'umap1_esm2_650m_900', 'umap2_esm2_650m_900', 'umap1_esm2_650m_1000',\n",
       "       'umap2_esm2_650m_1000'],\n",
       "      dtype='object')"
      ]
     },
     "execution_count": 26,
     "metadata": {},
     "output_type": "execute_result"
    }
   ],
   "source": [
    "df30   = pd.read_csv(join(path,\"umap_sbl_esm2_650m_30.csv\"), usecols=cols)\n",
    "df50   = pd.read_csv(join(path,\"umap_sbl_esm2_650m_50.csv\"), usecols=cols)\n",
    "df100  = pd.read_csv(join(path,\"umap_sbl_esm2_650m_100.csv\"), usecols=cols)\n",
    "df200  = pd.read_csv(join(path,\"umap_sbl_esm2_650m_200.csv\"), usecols=cols)\n",
    "df300  = pd.read_csv(join(path,\"umap_sbl_esm2_650m_300.csv\"), usecols=cols)\n",
    "df400  = pd.read_csv(join(path,\"umap_sbl_esm2_650m_400.csv\"), usecols=cols)\n",
    "df500  = pd.read_csv(join(path,\"umap_sbl_esm2_650m_500.csv\"), usecols=cols)\n",
    "df600  = pd.read_csv(join(path,\"umap_sbl_esm2_650m_600.csv\"), usecols=cols)\n",
    "df700  = pd.read_csv(join(path,\"umap_sbl_esm2_650m_700.csv\"), usecols=cols)\n",
    "df800  = pd.read_csv(join(path,\"umap_sbl_esm2_650m_800.csv\"), usecols=cols)\n",
    "df900  = pd.read_csv(join(path,\"umap_sbl_esm2_650m_900.csv\"), usecols=cols)\n",
    "df1000 = pd.read_csv(join(path,\"umap_sbl_esm2_650m_1000.csv\"), usecols=cols)\n",
    "\n",
    "df = pd.concat([ids_sbl, df30, df50, df100, df200, df300, df400, df500, df600, df700, df800, df900, df1000], axis=1)\n",
    "df.columns = df.columns.str.lower()\n",
    "print(f\"data size = {len(df)}\")\n",
    "df.columns"
   ]
  },
  {
   "cell_type": "code",
   "execution_count": 27,
   "id": "e3f931f7-0e5a-4241-a3ba-ad1848f60c96",
   "metadata": {},
   "outputs": [],
   "source": [
    "df.to_csv(\"../bldb/lowdim/umap/merge/umap_sbl_esm2_650m.csv\", index=False)"
   ]
  },
  {
   "cell_type": "code",
   "execution_count": 28,
   "id": "53bcbfa0-bdfc-4a50-8c1b-1e3e0cbd8bca",
   "metadata": {},
   "outputs": [
    {
     "name": "stdout",
     "output_type": "stream",
     "text": [
      "data size = 25961\n"
     ]
    },
    {
     "data": {
      "text/plain": [
       "Index(['seq_id', 'umap1_carp_30', 'umap2_carp_30', 'umap1_carp_50',\n",
       "       'umap2_carp_50', 'umap1_carp_100', 'umap2_carp_100', 'umap1_carp_200',\n",
       "       'umap2_carp_200', 'umap1_carp_300', 'umap2_carp_300', 'umap1_carp_400',\n",
       "       'umap2_carp_400', 'umap1_carp_500', 'umap2_carp_500', 'umap1_carp_600',\n",
       "       'umap2_carp_600', 'umap1_carp_700', 'umap2_carp_700', 'umap1_carp_800',\n",
       "       'umap2_carp_800', 'umap1_carp_900', 'umap2_carp_900', 'umap1_carp_1000',\n",
       "       'umap2_carp_1000'],\n",
       "      dtype='object')"
      ]
     },
     "execution_count": 28,
     "metadata": {},
     "output_type": "execute_result"
    }
   ],
   "source": [
    "df30   = pd.read_csv(join(path,\"umap_sbl_carp_30.csv\"), usecols=cols)\n",
    "df50   = pd.read_csv(join(path,\"umap_sbl_carp_50.csv\"), usecols=cols)\n",
    "df100  = pd.read_csv(join(path,\"umap_sbl_carp_100.csv\"), usecols=cols)\n",
    "df200  = pd.read_csv(join(path,\"umap_sbl_carp_200.csv\"), usecols=cols)\n",
    "df300  = pd.read_csv(join(path,\"umap_sbl_carp_300.csv\"), usecols=cols)\n",
    "df400  = pd.read_csv(join(path,\"umap_sbl_carp_400.csv\"), usecols=cols)\n",
    "df500  = pd.read_csv(join(path,\"umap_sbl_carp_500.csv\"), usecols=cols)\n",
    "df600  = pd.read_csv(join(path,\"umap_sbl_carp_600.csv\"), usecols=cols)\n",
    "df700  = pd.read_csv(join(path,\"umap_sbl_carp_700.csv\"), usecols=cols)\n",
    "df800  = pd.read_csv(join(path,\"umap_sbl_carp_800.csv\"), usecols=cols)\n",
    "df900  = pd.read_csv(join(path,\"umap_sbl_carp_900.csv\"), usecols=cols)\n",
    "df1000 = pd.read_csv(join(path,\"umap_sbl_carp_1000.csv\"), usecols=cols)\n",
    "\n",
    "df = pd.concat([ids_sbl, df30, df50, df100, df200, df300, df400, df500, df600, df700, df800, df900, df1000], axis=1)\n",
    "df.columns = df.columns.str.lower()\n",
    "print(f\"data size = {len(df)}\")\n",
    "df.columns"
   ]
  },
  {
   "cell_type": "code",
   "execution_count": 29,
   "id": "8800aa70-929a-430c-94d0-439014203e78",
   "metadata": {},
   "outputs": [],
   "source": [
    "df.to_csv(\"../bldb/lowdim/umap/merge/umap_sbl_carp.csv\", index=False)"
   ]
  },
  {
   "cell_type": "code",
   "execution_count": 30,
   "id": "354591a0-7324-4007-a253-959b8a2a110a",
   "metadata": {},
   "outputs": [
    {
     "name": "stdout",
     "output_type": "stream",
     "text": [
      "data size = 25961\n"
     ]
    },
    {
     "data": {
      "text/plain": [
       "Index(['seq_id', 'umap1_t5xlu50_30', 'umap2_t5xlu50_30', 'umap1_t5xlu50_50',\n",
       "       'umap2_t5xlu50_50', 'umap1_t5xlu50_100', 'umap2_t5xlu50_100',\n",
       "       'umap1_t5xlu50_200', 'umap2_t5xlu50_200', 'umap1_t5xlu50_300',\n",
       "       'umap2_t5xlu50_300', 'umap1_t5xlu50_400', 'umap2_t5xlu50_400',\n",
       "       'umap1_t5xlu50_500', 'umap2_t5xlu50_500', 'umap1_t5xlu50_600',\n",
       "       'umap2_t5xlu50_600', 'umap1_t5xlu50_700', 'umap2_t5xlu50_700',\n",
       "       'umap1_t5xlu50_800', 'umap2_t5xlu50_800', 'umap1_t5xlu50_900',\n",
       "       'umap2_t5xlu50_900', 'umap1_t5xlu50_1000', 'umap2_t5xlu50_1000'],\n",
       "      dtype='object')"
      ]
     },
     "execution_count": 30,
     "metadata": {},
     "output_type": "execute_result"
    }
   ],
   "source": [
    "df30   = pd.read_csv(join(path,\"umap_sbl_t5xlu50_30.csv\"), usecols=cols)\n",
    "df50   = pd.read_csv(join(path,\"umap_sbl_t5xlu50_50.csv\"), usecols=cols)\n",
    "df100  = pd.read_csv(join(path,\"umap_sbl_t5xlu50_100.csv\"), usecols=cols)\n",
    "df200  = pd.read_csv(join(path,\"umap_sbl_t5xlu50_200.csv\"), usecols=cols)\n",
    "df300  = pd.read_csv(join(path,\"umap_sbl_t5xlu50_300.csv\"), usecols=cols)\n",
    "df400  = pd.read_csv(join(path,\"umap_sbl_t5xlu50_400.csv\"), usecols=cols)\n",
    "df500  = pd.read_csv(join(path,\"umap_sbl_t5xlu50_500.csv\"), usecols=cols)\n",
    "df600  = pd.read_csv(join(path,\"umap_sbl_t5xlu50_600.csv\"), usecols=cols)\n",
    "df700  = pd.read_csv(join(path,\"umap_sbl_t5xlu50_700.csv\"), usecols=cols)\n",
    "df800  = pd.read_csv(join(path,\"umap_sbl_t5xlu50_800.csv\"), usecols=cols)\n",
    "df900  = pd.read_csv(join(path,\"umap_sbl_t5xlu50_900.csv\"), usecols=cols)\n",
    "df1000 = pd.read_csv(join(path,\"umap_sbl_t5xlu50_1000.csv\"), usecols=cols)\n",
    "\n",
    "df = pd.concat([ids_sbl, df30, df50, df100, df200, df300, df400, df500, df600, df700, df800, df900, df1000], axis=1)\n",
    "df.columns = df.columns.str.lower()\n",
    "print(f\"data size = {len(df)}\")\n",
    "df.columns"
   ]
  },
  {
   "cell_type": "code",
   "execution_count": 31,
   "id": "06f6a9d5-1a64-46f2-9e6f-af3892d28965",
   "metadata": {},
   "outputs": [],
   "source": [
    "df.to_csv(\"../bldb/lowdim/umap/merge/umap_sbl_t5xlu50.csv\", index=False)"
   ]
  },
  {
   "cell_type": "markdown",
   "id": "374148aa-13b0-4297-86a7-af14ad6d6bd6",
   "metadata": {},
   "source": [
    "# merge all"
   ]
  },
  {
   "cell_type": "code",
   "execution_count": 34,
   "id": "a0e4650e-c8f8-44a9-8ccb-19616d5bf0b3",
   "metadata": {},
   "outputs": [
    {
     "name": "stdout",
     "output_type": "stream",
     "text": [
      "\u001b[0m\u001b[01;32mumap_mbl_carp_3b.csv\u001b[0m*\n",
      "\u001b[01;32mumap_mbl_esm1b.csv\u001b[0m*\n",
      "\u001b[01;32mumap_mbl_esm2_3b.csv\u001b[0m*\n",
      "\u001b[01;32mumap_mbl_esm2_650m_3b.csv\u001b[0m*\n",
      "\u001b[01;32mumap_mbl_t5xlu50.csv\u001b[0m*\n",
      "\u001b[01;32mumap_sbl_carp.csv\u001b[0m*\n",
      "\u001b[01;32mumap_sbl_esm1b.csv\u001b[0m*\n",
      "\u001b[01;32mumap_sbl_esm2_3b.csv\u001b[0m*\n",
      "\u001b[01;32mumap_sbl_esm2_650m.csv\u001b[0m*\n",
      "\u001b[01;32mumap_sbl_t5xlu50.csv\u001b[0m*\n"
     ]
    }
   ],
   "source": [
    "ls ../bldb/lowdim/umap/merge/ -1"
   ]
  },
  {
   "cell_type": "code",
   "execution_count": 38,
   "id": "a845353e-38fe-411c-a8f5-a583505cc29f",
   "metadata": {},
   "outputs": [],
   "source": [
    "# load umap  \n",
    "mbl_carp      = pd.read_csv(\"../bldb/lowdim/umap/merge/umap_mbl_carp.csv\")\n",
    "mbl_esm1b     = pd.read_csv(\"../bldb/lowdim/umap/merge/umap_mbl_esm1b.csv\")\n",
    "mbl_esm2_3b   = pd.read_csv(\"../bldb/lowdim/umap/merge/umap_mbl_esm2_3b.csv\")\n",
    "mbl_esm2_650m = pd.read_csv(\"../bldb/lowdim/umap/merge/umap_mbl_esm2_650m.csv\")\n",
    "mbl_t5        = pd.read_csv(\"../bldb/lowdim/umap/merge/umap_mbl_t5xlu50.csv\")\n",
    "\n",
    "sbl_carp      = pd.read_csv(\"../bldb/lowdim/umap/merge/umap_sbl_carp.csv\")\n",
    "sbl_esm1b     = pd.read_csv(\"../bldb/lowdim/umap/merge/umap_sbl_esm1b.csv\")\n",
    "sbl_esm2_3b   = pd.read_csv(\"../bldb/lowdim/umap/merge/umap_sbl_esm2_3b.csv\")\n",
    "sbl_esm2_650m = pd.read_csv(\"../bldb/lowdim/umap/merge/umap_sbl_esm2_650m.csv\")\n",
    "sbl_t5        = pd.read_csv(\"../bldb/lowdim/umap/merge/umap_sbl_t5xlu50.csv\")\n",
    "\n",
    "# merge\n",
    "umap_sbl = pd.merge(sbl_esm1b, sbl_esm2_3b, on=\"seq_id\",how=\"inner\")\n",
    "umap_sbl = umap_sbl.merge(sbl_esm2_650m, on=\"seq_id\",how=\"inner\")\n",
    "umap_sbl = umap_sbl.merge(sbl_carp, on=\"seq_id\",how=\"inner\")\n",
    "umap_sbl = umap_sbl.merge(sbl_t5, on=\"seq_id\",how=\"inner\")\n",
    "umap_sbl.to_parquet(\"../bldb/lowdim/umap/merge/umap_sbl_all_models.parquet\", index=False)\n",
    "\n",
    "umap_mbl = pd.merge(mbl_carp, mbl_esm1b, on=\"seq_id\",how=\"inner\")\n",
    "umap_mbl = umap_mbl.merge(mbl_esm2_3b, on=\"seq_id\",how=\"inner\")\n",
    "umap_mbl = umap_mbl.merge(mbl_esm2_650m, on=\"seq_id\",how=\"inner\")\n",
    "umap_mbl = umap_mbl.merge(mbl_t5, on=\"seq_id\",how=\"inner\")\n",
    "umap_mbl.to_parquet(\"../bldb/lowdim/umap/merge/umap_mbl_all_models.parquet\", index=False)"
   ]
  }
 ],
 "metadata": {
  "kernelspec": {
   "display_name": "Python 3 (ipykernel)",
   "language": "python",
   "name": "python3"
  },
  "language_info": {
   "codemirror_mode": {
    "name": "ipython",
    "version": 3
   },
   "file_extension": ".py",
   "mimetype": "text/x-python",
   "name": "python",
   "nbconvert_exporter": "python",
   "pygments_lexer": "ipython3",
   "version": "3.11.7"
  }
 },
 "nbformat": 4,
 "nbformat_minor": 5
}

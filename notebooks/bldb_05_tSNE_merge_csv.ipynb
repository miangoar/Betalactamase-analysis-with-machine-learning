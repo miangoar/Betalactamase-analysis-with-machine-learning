{
 "cells": [
  {
   "cell_type": "code",
   "execution_count": 1,
   "id": "decb5632-9bde-41a3-9c22-0897d6f19358",
   "metadata": {},
   "outputs": [],
   "source": [
    "import pandas as pd\n",
    "import seaborn as sns \n",
    "from os.path import join"
   ]
  },
  {
   "cell_type": "code",
   "execution_count": 2,
   "id": "7d38114b-e4a9-4063-97ce-00de7b658035",
   "metadata": {
    "scrolled": true
   },
   "outputs": [],
   "source": [
    "sbl = pd.read_csv(\"../bldb/lowdim/tsne/sbl_ids.csv\")\n",
    "mbl = pd.read_csv(\"../bldb/lowdim/tsne/mbl_ids.csv\")\n",
    "cols = [0, 1]"
   ]
  },
  {
   "cell_type": "markdown",
   "id": "d8e124d2-3a01-4582-a15c-810243adf38f",
   "metadata": {},
   "source": [
    "# esm1b"
   ]
  },
  {
   "cell_type": "code",
   "execution_count": 3,
   "id": "6fb6bde9-7f08-48d7-b15c-c81496a871ed",
   "metadata": {},
   "outputs": [
    {
     "name": "stdout",
     "output_type": "stream",
     "text": [
      "\u001b[0m\u001b[01;32mtsne_mbl_esm1b_100.csv\u001b[0m*   \u001b[01;32mtsne_mbl_esm1b_600.csv\u001b[0m*   \u001b[01;32mtsne_sbl_esm1b_300.csv\u001b[0m*\n",
      "\u001b[01;32mtsne_mbl_esm1b_1000.csv\u001b[0m*  \u001b[01;32mtsne_mbl_esm1b_700.csv\u001b[0m*   \u001b[01;32mtsne_sbl_esm1b_400.csv\u001b[0m*\n",
      "\u001b[01;32mtsne_mbl_esm1b_200.csv\u001b[0m*   \u001b[01;32mtsne_mbl_esm1b_800.csv\u001b[0m*   \u001b[01;32mtsne_sbl_esm1b_50.csv\u001b[0m*\n",
      "\u001b[01;32mtsne_mbl_esm1b_30.csv\u001b[0m*    \u001b[01;32mtsne_mbl_esm1b_900.csv\u001b[0m*   \u001b[01;32mtsne_sbl_esm1b_500.csv\u001b[0m*\n",
      "\u001b[01;32mtsne_mbl_esm1b_300.csv\u001b[0m*   \u001b[01;32mtsne_sbl_esm1b_100.csv\u001b[0m*   \u001b[01;32mtsne_sbl_esm1b_600.csv\u001b[0m*\n",
      "\u001b[01;32mtsne_mbl_esm1b_400.csv\u001b[0m*   \u001b[01;32mtsne_sbl_esm1b_1000.csv\u001b[0m*  \u001b[01;32mtsne_sbl_esm1b_700.csv\u001b[0m*\n",
      "\u001b[01;32mtsne_mbl_esm1b_50.csv\u001b[0m*    \u001b[01;32mtsne_sbl_esm1b_200.csv\u001b[0m*   \u001b[01;32mtsne_sbl_esm1b_800.csv\u001b[0m*\n",
      "\u001b[01;32mtsne_mbl_esm1b_500.csv\u001b[0m*   \u001b[01;32mtsne_sbl_esm1b_30.csv\u001b[0m*    \u001b[01;32mtsne_sbl_esm1b_900.csv\u001b[0m*\n"
     ]
    }
   ],
   "source": [
    "ls ../bldb/lowdim/tsne/esm1b/"
   ]
  },
  {
   "cell_type": "code",
   "execution_count": 4,
   "id": "955a3fe5-1e87-4912-82cf-c3c3c67593b0",
   "metadata": {},
   "outputs": [],
   "source": [
    "path = \"../bldb/lowdim/tsne/esm1b/\""
   ]
  },
  {
   "cell_type": "code",
   "execution_count": 5,
   "id": "3a58aeca-9c44-4279-a1c2-c2362d3f9ef8",
   "metadata": {},
   "outputs": [
    {
     "name": "stdout",
     "output_type": "stream",
     "text": [
      "data size = 25961\n"
     ]
    },
    {
     "data": {
      "text/plain": [
       "Index(['seq_id', 'tsne1_esm1b_30', 'tsne2_esm1b_30', 'tsne1_esm1b_50',\n",
       "       'tsne2_esm1b_50', 'tsne1_esm1b_100', 'tsne2_esm1b_100',\n",
       "       'tsne1_esm1b_200', 'tsne2_esm1b_200', 'tsne1_esm1b_300',\n",
       "       'tsne2_esm1b_300', 'tsne1_esm1b_400', 'tsne2_esm1b_400',\n",
       "       'tsne1_esm1b_500', 'tsne2_esm1b_500', 'tsne1_esm1b_600',\n",
       "       'tsne2_esm1b_600', 'tsne1_esm1b_700', 'tsne2_esm1b_700',\n",
       "       'tsne1_esm1b_800', 'tsne2_esm1b_800', 'tsne1_esm1b_900',\n",
       "       'tsne2_esm1b_900', 'tsne1_esm1b_1000', 'tsne2_esm1b_1000'],\n",
       "      dtype='object')"
      ]
     },
     "execution_count": 5,
     "metadata": {},
     "output_type": "execute_result"
    }
   ],
   "source": [
    "df30   = pd.read_csv(join(path,\"tsne_sbl_esm1b_30.csv\"), usecols=cols)\n",
    "df50   = pd.read_csv(join(path,\"tsne_sbl_esm1b_50.csv\"), usecols=cols)\n",
    "df100  = pd.read_csv(join(path,\"tsne_sbl_esm1b_100.csv\"), usecols=cols)\n",
    "df200  = pd.read_csv(join(path,\"tsne_sbl_esm1b_200.csv\"), usecols=cols)\n",
    "df300  = pd.read_csv(join(path,\"tsne_sbl_esm1b_300.csv\"), usecols=cols)\n",
    "df400  = pd.read_csv(join(path,\"tsne_sbl_esm1b_400.csv\"), usecols=cols)\n",
    "df500  = pd.read_csv(join(path,\"tsne_sbl_esm1b_500.csv\"), usecols=cols)\n",
    "df600  = pd.read_csv(join(path,\"tsne_sbl_esm1b_600.csv\"), usecols=cols)\n",
    "df700  = pd.read_csv(join(path,\"tsne_sbl_esm1b_700.csv\"), usecols=cols)\n",
    "df800  = pd.read_csv(join(path,\"tsne_sbl_esm1b_800.csv\"), usecols=cols)\n",
    "df900  = pd.read_csv(join(path,\"tsne_sbl_esm1b_900.csv\"), usecols=cols)\n",
    "df1000 = pd.read_csv(join(path,\"tsne_sbl_esm1b_1000.csv\"), usecols=cols)\n",
    "\n",
    "df = pd.concat([sbl, df30, df50, df100, df200, df300, df400, df500, df600, df700, df800, df900, df1000], axis=1)\n",
    "df.columns = df.columns.str.lower()\n",
    "print(f\"data size = {len(df)}\")\n",
    "df.columns"
   ]
  },
  {
   "cell_type": "code",
   "execution_count": 6,
   "id": "b7118424-6703-41ae-b924-42358002426c",
   "metadata": {},
   "outputs": [],
   "source": [
    "df.to_csv(\"../bldb/lowdim/tsne/csv/tsne_sbl_esm1b.csv\", index=False)"
   ]
  },
  {
   "cell_type": "code",
   "execution_count": 7,
   "id": "2e2f2f28-ad9c-46a5-836d-c2ce3d677a25",
   "metadata": {},
   "outputs": [
    {
     "name": "stdout",
     "output_type": "stream",
     "text": [
      "data size = 3468\n"
     ]
    },
    {
     "data": {
      "text/plain": [
       "Index(['seq_id', 'tsne1_esm1b_30', 'tsne2_esm1b_30', 'tsne1_esm1b_50',\n",
       "       'tsne2_esm1b_50', 'tsne1_esm1b_100', 'tsne2_esm1b_100',\n",
       "       'tsne1_esm1b_200', 'tsne2_esm1b_200', 'tsne1_esm1b_300',\n",
       "       'tsne2_esm1b_300', 'tsne1_esm1b_400', 'tsne2_esm1b_400',\n",
       "       'tsne1_esm1b_500', 'tsne2_esm1b_500', 'tsne1_esm1b_600',\n",
       "       'tsne2_esm1b_600', 'tsne1_esm1b_700', 'tsne2_esm1b_700',\n",
       "       'tsne1_esm1b_800', 'tsne2_esm1b_800', 'tsne1_esm1b_900',\n",
       "       'tsne2_esm1b_900', 'tsne1_esm1b_1000', 'tsne2_esm1b_1000'],\n",
       "      dtype='object')"
      ]
     },
     "execution_count": 7,
     "metadata": {},
     "output_type": "execute_result"
    }
   ],
   "source": [
    "df30   = pd.read_csv(join(path,\"tsne_mbl_esm1b_30.csv\"), usecols=cols)\n",
    "df50   = pd.read_csv(join(path,\"tsne_mbl_esm1b_50.csv\"), usecols=cols)\n",
    "df100  = pd.read_csv(join(path,\"tsne_mbl_esm1b_100.csv\"), usecols=cols)\n",
    "df200  = pd.read_csv(join(path,\"tsne_mbl_esm1b_200.csv\"), usecols=cols)\n",
    "df300  = pd.read_csv(join(path,\"tsne_mbl_esm1b_300.csv\"), usecols=cols)\n",
    "df400  = pd.read_csv(join(path,\"tsne_mbl_esm1b_400.csv\"), usecols=cols)\n",
    "df500  = pd.read_csv(join(path,\"tsne_mbl_esm1b_500.csv\"), usecols=cols)\n",
    "df600  = pd.read_csv(join(path,\"tsne_mbl_esm1b_600.csv\"), usecols=cols)\n",
    "df700  = pd.read_csv(join(path,\"tsne_mbl_esm1b_700.csv\"), usecols=cols)\n",
    "df800  = pd.read_csv(join(path,\"tsne_mbl_esm1b_800.csv\"), usecols=cols)\n",
    "df900  = pd.read_csv(join(path,\"tsne_mbl_esm1b_900.csv\"), usecols=cols)\n",
    "df1000 = pd.read_csv(join(path,\"tsne_mbl_esm1b_1000.csv\"), usecols=cols)\n",
    "\n",
    "df = pd.concat([mbl, df30, df50, df100, df200, df300, df400, df500, df600, df700, df800, df900, df1000], axis=1)\n",
    "df.columns = df.columns.str.lower()\n",
    "print(f\"data size = {len(df)}\")\n",
    "df.columns"
   ]
  },
  {
   "cell_type": "code",
   "execution_count": 8,
   "id": "d435b0e2-a89f-469d-9682-76261adaef0a",
   "metadata": {},
   "outputs": [],
   "source": [
    "df.to_csv(\"../bldb/lowdim/tsne/csv/tsne_mbl_esm1b.csv\", index=False)"
   ]
  },
  {
   "cell_type": "markdown",
   "id": "09f14b56-cb09-46f5-96d8-34d8150603ba",
   "metadata": {},
   "source": [
    "# esm2-3b"
   ]
  },
  {
   "cell_type": "code",
   "execution_count": 9,
   "id": "0c9953f6-cce3-41af-acfc-d824b7a526ca",
   "metadata": {},
   "outputs": [
    {
     "name": "stdout",
     "output_type": "stream",
     "text": [
      "\u001b[0m\u001b[01;32mtsne_mbl_esm2_3B_100.csv\u001b[0m*   \u001b[01;32mtsne_sbl_esm2_3B_100.csv\u001b[0m*\n",
      "\u001b[01;32mtsne_mbl_esm2_3B_1000.csv\u001b[0m*  \u001b[01;32mtsne_sbl_esm2_3B_1000.csv\u001b[0m*\n",
      "\u001b[01;32mtsne_mbl_esm2_3B_200.csv\u001b[0m*   \u001b[01;32mtsne_sbl_esm2_3B_200.csv\u001b[0m*\n",
      "\u001b[01;32mtsne_mbl_esm2_3B_30.csv\u001b[0m*    \u001b[01;32mtsne_sbl_esm2_3B_30.csv\u001b[0m*\n",
      "\u001b[01;32mtsne_mbl_esm2_3B_300.csv\u001b[0m*   \u001b[01;32mtsne_sbl_esm2_3B_300.csv\u001b[0m*\n",
      "\u001b[01;32mtsne_mbl_esm2_3B_400.csv\u001b[0m*   \u001b[01;32mtsne_sbl_esm2_3B_400.csv\u001b[0m*\n",
      "\u001b[01;32mtsne_mbl_esm2_3B_50.csv\u001b[0m*    \u001b[01;32mtsne_sbl_esm2_3B_50.csv\u001b[0m*\n",
      "\u001b[01;32mtsne_mbl_esm2_3B_500.csv\u001b[0m*   \u001b[01;32mtsne_sbl_esm2_3B_500.csv\u001b[0m*\n",
      "\u001b[01;32mtsne_mbl_esm2_3B_600.csv\u001b[0m*   \u001b[01;32mtsne_sbl_esm2_3B_600.csv\u001b[0m*\n",
      "\u001b[01;32mtsne_mbl_esm2_3B_700.csv\u001b[0m*   \u001b[01;32mtsne_sbl_esm2_3B_700.csv\u001b[0m*\n",
      "\u001b[01;32mtsne_mbl_esm2_3B_800.csv\u001b[0m*   \u001b[01;32mtsne_sbl_esm2_3B_800.csv\u001b[0m*\n",
      "\u001b[01;32mtsne_mbl_esm2_3B_900.csv\u001b[0m*   \u001b[01;32mtsne_sbl_esm2_3B_900.csv\u001b[0m*\n"
     ]
    }
   ],
   "source": [
    "ls ../bldb/lowdim/tsne/esm2_3b/"
   ]
  },
  {
   "cell_type": "code",
   "execution_count": 10,
   "id": "bd1940e4-c63f-4152-abc8-570fe34f8229",
   "metadata": {},
   "outputs": [],
   "source": [
    "path = \"../bldb/lowdim/tsne/esm2_3b/\""
   ]
  },
  {
   "cell_type": "code",
   "execution_count": 11,
   "id": "c826dd18-c53b-4595-a2b1-21a632be1bd3",
   "metadata": {},
   "outputs": [
    {
     "name": "stdout",
     "output_type": "stream",
     "text": [
      "data size = 25961\n"
     ]
    },
    {
     "data": {
      "text/plain": [
       "Index(['seq_id', 'tsne1_esm2_3b_30', 'tsne2_esm2_3b_30', 'tsne1_esm2_3b_50',\n",
       "       'tsne2_esm2_3b_50', 'tsne1_esm2_3b_100', 'tsne2_esm2_3b_100',\n",
       "       'tsne1_esm2_3b_200', 'tsne2_esm2_3b_200', 'tsne1_esm2_3b_300',\n",
       "       'tsne2_esm2_3b_300', 'tsne1_esm2_3b_400', 'tsne2_esm2_3b_400',\n",
       "       'tsne1_esm2_3b_500', 'tsne2_esm2_3b_500', 'tsne1_esm2_3b_600',\n",
       "       'tsne2_esm2_3b_600', 'tsne1_esm2_3b_700', 'tsne2_esm2_3b_700',\n",
       "       'tsne1_esm2_3b_800', 'tsne2_esm2_3b_800', 'tsne1_esm2_3b_900',\n",
       "       'tsne2_esm2_3b_900', 'tsne1_esm2_3b_1000', 'tsne2_esm2_3b_1000'],\n",
       "      dtype='object')"
      ]
     },
     "execution_count": 11,
     "metadata": {},
     "output_type": "execute_result"
    }
   ],
   "source": [
    "df30   = pd.read_csv(join(path,\"tsne_sbl_esm2_3B_30.csv\"), usecols=cols)\n",
    "df50   = pd.read_csv(join(path,\"tsne_sbl_esm2_3B_50.csv\"), usecols=cols)\n",
    "df100  = pd.read_csv(join(path,\"tsne_sbl_esm2_3B_100.csv\"), usecols=cols)\n",
    "df200  = pd.read_csv(join(path,\"tsne_sbl_esm2_3B_200.csv\"), usecols=cols)\n",
    "df300  = pd.read_csv(join(path,\"tsne_sbl_esm2_3B_300.csv\"), usecols=cols)\n",
    "df400  = pd.read_csv(join(path,\"tsne_sbl_esm2_3B_400.csv\"), usecols=cols)\n",
    "df500  = pd.read_csv(join(path,\"tsne_sbl_esm2_3B_500.csv\"), usecols=cols)\n",
    "df600  = pd.read_csv(join(path,\"tsne_sbl_esm2_3B_600.csv\"), usecols=cols)\n",
    "df700  = pd.read_csv(join(path,\"tsne_sbl_esm2_3B_700.csv\"), usecols=cols)\n",
    "df800  = pd.read_csv(join(path,\"tsne_sbl_esm2_3B_800.csv\"), usecols=cols)\n",
    "df900  = pd.read_csv(join(path,\"tsne_sbl_esm2_3B_900.csv\"), usecols=cols)\n",
    "df1000 = pd.read_csv(join(path,\"tsne_sbl_esm2_3B_1000.csv\"), usecols=cols)\n",
    "\n",
    "df = pd.concat([sbl, df30, df50, df100, df200, df300, df400, df500, df600, df700, df800, df900, df1000], axis=1)\n",
    "df.columns = df.columns.str.lower()\n",
    "print(f\"data size = {len(df)}\")\n",
    "df.columns"
   ]
  },
  {
   "cell_type": "code",
   "execution_count": 12,
   "id": "1ef93934-f0b8-4816-9438-d00f01eeeddd",
   "metadata": {},
   "outputs": [],
   "source": [
    "df.to_csv(\"../bldb/lowdim/tsne/csv/tsne_sbl_esm2_3b.csv\", index=False)"
   ]
  },
  {
   "cell_type": "code",
   "execution_count": 13,
   "id": "9ee79651-cf1d-437c-9072-7afbc3c743a5",
   "metadata": {},
   "outputs": [
    {
     "name": "stdout",
     "output_type": "stream",
     "text": [
      "data size = 3468\n"
     ]
    },
    {
     "data": {
      "text/plain": [
       "Index(['seq_id', 'tsne1_esm2_3b_30', 'tsne2_esm2_3b_30', 'tsne1_esm2_3b_50',\n",
       "       'tsne2_esm2_3b_50', 'tsne1_esm2_3b_100', 'tsne2_esm2_3b_100',\n",
       "       'tsne1_esm2_3b_200', 'tsne2_esm2_3b_200', 'tsne1_esm2_3b_300',\n",
       "       'tsne2_esm2_3b_300', 'tsne1_esm2_3b_400', 'tsne2_esm2_3b_400',\n",
       "       'tsne1_esm2_3b_500', 'tsne2_esm2_3b_500', 'tsne1_esm2_3b_600',\n",
       "       'tsne2_esm2_3b_600', 'tsne1_esm2_3b_700', 'tsne2_esm2_3b_700',\n",
       "       'tsne1_esm2_3b_800', 'tsne2_esm2_3b_800', 'tsne1_esm2_3b_900',\n",
       "       'tsne2_esm2_3b_900', 'tsne1_esm2_3b_1000', 'tsne2_esm2_3b_1000'],\n",
       "      dtype='object')"
      ]
     },
     "execution_count": 13,
     "metadata": {},
     "output_type": "execute_result"
    }
   ],
   "source": [
    "df30   = pd.read_csv(join(path,\"tsne_mbl_esm2_3B_30.csv\"), usecols=cols)\n",
    "df50   = pd.read_csv(join(path,\"tsne_mbl_esm2_3B_50.csv\"), usecols=cols)\n",
    "df100  = pd.read_csv(join(path,\"tsne_mbl_esm2_3B_100.csv\"), usecols=cols)\n",
    "df200  = pd.read_csv(join(path,\"tsne_mbl_esm2_3B_200.csv\"), usecols=cols)\n",
    "df300  = pd.read_csv(join(path,\"tsne_mbl_esm2_3B_300.csv\"), usecols=cols)\n",
    "df400  = pd.read_csv(join(path,\"tsne_mbl_esm2_3B_400.csv\"), usecols=cols)\n",
    "df500  = pd.read_csv(join(path,\"tsne_mbl_esm2_3B_500.csv\"), usecols=cols)\n",
    "df600  = pd.read_csv(join(path,\"tsne_mbl_esm2_3B_600.csv\"), usecols=cols)\n",
    "df700  = pd.read_csv(join(path,\"tsne_mbl_esm2_3B_700.csv\"), usecols=cols)\n",
    "df800  = pd.read_csv(join(path,\"tsne_mbl_esm2_3B_800.csv\"), usecols=cols)\n",
    "df900  = pd.read_csv(join(path,\"tsne_mbl_esm2_3B_900.csv\"), usecols=cols)\n",
    "df1000 = pd.read_csv(join(path,\"tsne_mbl_esm2_3B_1000.csv\"), usecols=cols)\n",
    "\n",
    "df = pd.concat([mbl, df30, df50, df100, df200, df300, df400, df500, df600, df700, df800, df900, df1000], axis=1)\n",
    "df.columns = df.columns.str.lower()\n",
    "print(f\"data size = {len(df)}\")\n",
    "df.columns"
   ]
  },
  {
   "cell_type": "code",
   "execution_count": 14,
   "id": "c7de25e7-25c1-4bac-9da0-7bdc8a4570cc",
   "metadata": {},
   "outputs": [],
   "source": [
    "df.to_csv(\"../bldb/lowdim/tsne/csv/tsne_mbl_esm2_3b.csv\", index=False)"
   ]
  },
  {
   "cell_type": "markdown",
   "id": "37376769-92a4-4609-b85d-236f586d10c9",
   "metadata": {},
   "source": [
    "# carp"
   ]
  },
  {
   "cell_type": "code",
   "execution_count": 15,
   "id": "8170d818-eeaa-466b-844f-c521204e668c",
   "metadata": {},
   "outputs": [
    {
     "name": "stdout",
     "output_type": "stream",
     "text": [
      "\u001b[0m\u001b[01;32mtsne_mbl_carp_100.csv\u001b[0m*   \u001b[01;32mtsne_mbl_carp_600.csv\u001b[0m*   \u001b[01;32mtsne_sbl_carp_300.csv\u001b[0m*\n",
      "\u001b[01;32mtsne_mbl_carp_1000.csv\u001b[0m*  \u001b[01;32mtsne_mbl_carp_700.csv\u001b[0m*   \u001b[01;32mtsne_sbl_carp_400.csv\u001b[0m*\n",
      "\u001b[01;32mtsne_mbl_carp_200.csv\u001b[0m*   \u001b[01;32mtsne_mbl_carp_800.csv\u001b[0m*   \u001b[01;32mtsne_sbl_carp_50.csv\u001b[0m*\n",
      "\u001b[01;32mtsne_mbl_carp_30.csv\u001b[0m*    \u001b[01;32mtsne_mbl_carp_900.csv\u001b[0m*   \u001b[01;32mtsne_sbl_carp_500.csv\u001b[0m*\n",
      "\u001b[01;32mtsne_mbl_carp_300.csv\u001b[0m*   \u001b[01;32mtsne_sbl_carp_100.csv\u001b[0m*   \u001b[01;32mtsne_sbl_carp_600.csv\u001b[0m*\n",
      "\u001b[01;32mtsne_mbl_carp_400.csv\u001b[0m*   \u001b[01;32mtsne_sbl_carp_1000.csv\u001b[0m*  \u001b[01;32mtsne_sbl_carp_700.csv\u001b[0m*\n",
      "\u001b[01;32mtsne_mbl_carp_50.csv\u001b[0m*    \u001b[01;32mtsne_sbl_carp_200.csv\u001b[0m*   \u001b[01;32mtsne_sbl_carp_800.csv\u001b[0m*\n",
      "\u001b[01;32mtsne_mbl_carp_500.csv\u001b[0m*   \u001b[01;32mtsne_sbl_carp_30.csv\u001b[0m*    \u001b[01;32mtsne_sbl_carp_900.csv\u001b[0m*\n"
     ]
    }
   ],
   "source": [
    "ls ../bldb/lowdim/tsne/carp/"
   ]
  },
  {
   "cell_type": "code",
   "execution_count": 16,
   "id": "9125e805-c580-4a5f-a9d8-095ed7753076",
   "metadata": {},
   "outputs": [],
   "source": [
    "path = \"../bldb/lowdim/tsne/carp/\""
   ]
  },
  {
   "cell_type": "code",
   "execution_count": 17,
   "id": "8660d855-8b04-46dc-b848-0afd6c9ed412",
   "metadata": {},
   "outputs": [
    {
     "name": "stdout",
     "output_type": "stream",
     "text": [
      "data size = 25961\n"
     ]
    },
    {
     "data": {
      "text/plain": [
       "Index(['seq_id', 'tsne1_carp_30', 'tsne2_carp_30', 'tsne1_carp_50',\n",
       "       'tsne2_carp_50', 'tsne1_carp_100', 'tsne2_carp_100', 'tsne1_carp_200',\n",
       "       'tsne2_carp_200', 'tsne1_carp_300', 'tsne2_carp_300', 'tsne1_carp_400',\n",
       "       'tsne2_carp_400', 'tsne1_carp_500', 'tsne2_carp_500', 'tsne1_carp_600',\n",
       "       'tsne2_carp_600', 'tsne1_carp_700', 'tsne2_carp_700', 'tsne1_carp_800',\n",
       "       'tsne2_carp_800', 'tsne1_carp_900', 'tsne2_carp_900', 'tsne1_carp_1000',\n",
       "       'tsne2_carp_1000'],\n",
       "      dtype='object')"
      ]
     },
     "execution_count": 17,
     "metadata": {},
     "output_type": "execute_result"
    }
   ],
   "source": [
    "df30   = pd.read_csv(join(path,\"tsne_sbl_carp_30.csv\"), usecols=cols)\n",
    "df50   = pd.read_csv(join(path,\"tsne_sbl_carp_50.csv\"), usecols=cols)\n",
    "df100  = pd.read_csv(join(path,\"tsne_sbl_carp_100.csv\"), usecols=cols)\n",
    "df200  = pd.read_csv(join(path,\"tsne_sbl_carp_200.csv\"), usecols=cols)\n",
    "df300  = pd.read_csv(join(path,\"tsne_sbl_carp_300.csv\"), usecols=cols)\n",
    "df400  = pd.read_csv(join(path,\"tsne_sbl_carp_400.csv\"), usecols=cols)\n",
    "df500  = pd.read_csv(join(path,\"tsne_sbl_carp_500.csv\"), usecols=cols)\n",
    "df600  = pd.read_csv(join(path,\"tsne_sbl_carp_600.csv\"), usecols=cols)\n",
    "df700  = pd.read_csv(join(path,\"tsne_sbl_carp_700.csv\"), usecols=cols)\n",
    "df800  = pd.read_csv(join(path,\"tsne_sbl_carp_800.csv\"), usecols=cols)\n",
    "df900  = pd.read_csv(join(path,\"tsne_sbl_carp_900.csv\"), usecols=cols)\n",
    "df1000 = pd.read_csv(join(path,\"tsne_sbl_carp_1000.csv\"), usecols=cols)\n",
    "\n",
    "df = pd.concat([sbl, df30, df50, df100, df200, df300, df400, df500, df600, df700, df800, df900, df1000], axis=1)\n",
    "df.columns = df.columns.str.lower()\n",
    "print(f\"data size = {len(df)}\")\n",
    "df.columns"
   ]
  },
  {
   "cell_type": "code",
   "execution_count": 18,
   "id": "0074e742-9b28-49cd-ae39-ffa7f571f8d9",
   "metadata": {},
   "outputs": [],
   "source": [
    "df.to_csv(\"../bldb/lowdim/tsne/csv/tsne_sbl_carp.csv\", index=False)"
   ]
  },
  {
   "cell_type": "code",
   "execution_count": 19,
   "id": "1a916c70-93d9-4ce4-a9fd-cf4d6b07d20f",
   "metadata": {},
   "outputs": [
    {
     "name": "stdout",
     "output_type": "stream",
     "text": [
      "data size = 3468\n"
     ]
    },
    {
     "data": {
      "text/plain": [
       "Index(['seq_id', 'tsne1_carp_30', 'tsne2_carp_30', 'tsne1_carp_50',\n",
       "       'tsne2_carp_50', 'tsne1_carp_100', 'tsne2_carp_100', 'tsne1_carp_200',\n",
       "       'tsne2_carp_200', 'tsne1_carp_300', 'tsne2_carp_300', 'tsne1_carp_400',\n",
       "       'tsne2_carp_400', 'tsne1_carp_500', 'tsne2_carp_500', 'tsne1_carp_600',\n",
       "       'tsne2_carp_600', 'tsne1_carp_700', 'tsne2_carp_700', 'tsne1_carp_800',\n",
       "       'tsne2_carp_800', 'tsne1_carp_900', 'tsne2_carp_900', 'tsne1_carp_1000',\n",
       "       'tsne2_carp_1000'],\n",
       "      dtype='object')"
      ]
     },
     "execution_count": 19,
     "metadata": {},
     "output_type": "execute_result"
    }
   ],
   "source": [
    "df30   = pd.read_csv(join(path,\"tsne_mbl_carp_30.csv\"), usecols=cols)\n",
    "df50   = pd.read_csv(join(path,\"tsne_mbl_carp_50.csv\"), usecols=cols)\n",
    "df100  = pd.read_csv(join(path,\"tsne_mbl_carp_100.csv\"), usecols=cols)\n",
    "df200  = pd.read_csv(join(path,\"tsne_mbl_carp_200.csv\"), usecols=cols)\n",
    "df300  = pd.read_csv(join(path,\"tsne_mbl_carp_300.csv\"), usecols=cols)\n",
    "df400  = pd.read_csv(join(path,\"tsne_mbl_carp_400.csv\"), usecols=cols)\n",
    "df500  = pd.read_csv(join(path,\"tsne_mbl_carp_500.csv\"), usecols=cols)\n",
    "df600  = pd.read_csv(join(path,\"tsne_mbl_carp_600.csv\"), usecols=cols)\n",
    "df700  = pd.read_csv(join(path,\"tsne_mbl_carp_700.csv\"), usecols=cols)\n",
    "df800  = pd.read_csv(join(path,\"tsne_mbl_carp_800.csv\"), usecols=cols)\n",
    "df900  = pd.read_csv(join(path,\"tsne_mbl_carp_900.csv\"), usecols=cols)\n",
    "df1000 = pd.read_csv(join(path,\"tsne_mbl_carp_1000.csv\"), usecols=cols)\n",
    "\n",
    "df = pd.concat([mbl, df30, df50, df100, df200, df300, df400, df500, df600, df700, df800, df900, df1000], axis=1)\n",
    "df.columns = df.columns.str.lower()\n",
    "print(f\"data size = {len(df)}\")\n",
    "df.columns"
   ]
  },
  {
   "cell_type": "code",
   "execution_count": 20,
   "id": "7b5882b6-3ab8-4ad6-8c80-6c3a6f5c8c17",
   "metadata": {},
   "outputs": [],
   "source": [
    "df.to_csv(\"../bldb/lowdim/tsne/csv/tsne_mbl_carp.csv\", index=False)"
   ]
  },
  {
   "cell_type": "markdown",
   "id": "fbb2a684-fd8e-4d22-bf3d-e3c2983fb7db",
   "metadata": {},
   "source": [
    "# t5"
   ]
  },
  {
   "cell_type": "code",
   "execution_count": 21,
   "id": "ddf2d63b-3fde-4a80-a266-eb81c9c6d8ec",
   "metadata": {},
   "outputs": [
    {
     "name": "stdout",
     "output_type": "stream",
     "text": [
      "\u001b[0m\u001b[01;32mtsne_mbl_t5xlu50_100.csv\u001b[0m*   \u001b[01;32mtsne_sbl_t5xlu50_100.csv\u001b[0m*\n",
      "\u001b[01;32mtsne_mbl_t5xlu50_1000.csv\u001b[0m*  \u001b[01;32mtsne_sbl_t5xlu50_1000.csv\u001b[0m*\n",
      "\u001b[01;32mtsne_mbl_t5xlu50_200.csv\u001b[0m*   \u001b[01;32mtsne_sbl_t5xlu50_200.csv\u001b[0m*\n",
      "\u001b[01;32mtsne_mbl_t5xlu50_30.csv\u001b[0m*    \u001b[01;32mtsne_sbl_t5xlu50_30.csv\u001b[0m*\n",
      "\u001b[01;32mtsne_mbl_t5xlu50_300.csv\u001b[0m*   \u001b[01;32mtsne_sbl_t5xlu50_300.csv\u001b[0m*\n",
      "\u001b[01;32mtsne_mbl_t5xlu50_400.csv\u001b[0m*   \u001b[01;32mtsne_sbl_t5xlu50_400.csv\u001b[0m*\n",
      "\u001b[01;32mtsne_mbl_t5xlu50_50.csv\u001b[0m*    \u001b[01;32mtsne_sbl_t5xlu50_50.csv\u001b[0m*\n",
      "\u001b[01;32mtsne_mbl_t5xlu50_500.csv\u001b[0m*   \u001b[01;32mtsne_sbl_t5xlu50_500.csv\u001b[0m*\n",
      "\u001b[01;32mtsne_mbl_t5xlu50_600.csv\u001b[0m*   \u001b[01;32mtsne_sbl_t5xlu50_600.csv\u001b[0m*\n",
      "\u001b[01;32mtsne_mbl_t5xlu50_700.csv\u001b[0m*   \u001b[01;32mtsne_sbl_t5xlu50_700.csv\u001b[0m*\n",
      "\u001b[01;32mtsne_mbl_t5xlu50_800.csv\u001b[0m*   \u001b[01;32mtsne_sbl_t5xlu50_800.csv\u001b[0m*\n",
      "\u001b[01;32mtsne_mbl_t5xlu50_900.csv\u001b[0m*   \u001b[01;32mtsne_sbl_t5xlu50_900.csv\u001b[0m*\n"
     ]
    }
   ],
   "source": [
    "ls ../bldb/lowdim/tsne/t5/ "
   ]
  },
  {
   "cell_type": "code",
   "execution_count": 22,
   "id": "5ef250e9-0d90-4242-94fd-f4f3d674b515",
   "metadata": {},
   "outputs": [],
   "source": [
    "path = \"../bldb/lowdim/tsne/t5/\""
   ]
  },
  {
   "cell_type": "code",
   "execution_count": 23,
   "id": "1647a32e-a372-484e-85d1-10ec8677895c",
   "metadata": {},
   "outputs": [
    {
     "name": "stdout",
     "output_type": "stream",
     "text": [
      "data size = 25961\n"
     ]
    },
    {
     "data": {
      "text/plain": [
       "Index(['seq_id', 'tsne1_t5xlu50_30', 'tsne2_t5xlu50_30', 'tsne1_t5xlu50_50',\n",
       "       'tsne2_t5xlu50_50', 'tsne1_t5xlu50_100', 'tsne2_t5xlu50_100',\n",
       "       'tsne1_t5xlu50_200', 'tsne2_t5xlu50_200', 'tsne1_t5xlu50_300',\n",
       "       'tsne2_t5xlu50_300', 'tsne1_t5xlu50_400', 'tsne2_t5xlu50_400',\n",
       "       'tsne1_t5xlu50_500', 'tsne2_t5xlu50_500', 'tsne1_t5xlu50_600',\n",
       "       'tsne2_t5xlu50_600', 'tsne1_t5xlu50_700', 'tsne2_t5xlu50_700',\n",
       "       'tsne1_t5xlu50_800', 'tsne2_t5xlu50_800', 'tsne1_t5xlu50_900',\n",
       "       'tsne2_t5xlu50_900', 'tsne1_t5xlu50_1000', 'tsne2_t5xlu50_1000'],\n",
       "      dtype='object')"
      ]
     },
     "execution_count": 23,
     "metadata": {},
     "output_type": "execute_result"
    }
   ],
   "source": [
    "df30   = pd.read_csv(join(path,\"tsne_sbl_t5xlu50_30.csv\"), usecols=cols)\n",
    "df50   = pd.read_csv(join(path,\"tsne_sbl_t5xlu50_50.csv\"), usecols=cols)\n",
    "df100  = pd.read_csv(join(path,\"tsne_sbl_t5xlu50_100.csv\"), usecols=cols)\n",
    "df200  = pd.read_csv(join(path,\"tsne_sbl_t5xlu50_200.csv\"), usecols=cols)\n",
    "df300  = pd.read_csv(join(path,\"tsne_sbl_t5xlu50_300.csv\"), usecols=cols)\n",
    "df400  = pd.read_csv(join(path,\"tsne_sbl_t5xlu50_400.csv\"), usecols=cols)\n",
    "df500  = pd.read_csv(join(path,\"tsne_sbl_t5xlu50_500.csv\"), usecols=cols)\n",
    "df600  = pd.read_csv(join(path,\"tsne_sbl_t5xlu50_600.csv\"), usecols=cols)\n",
    "df700  = pd.read_csv(join(path,\"tsne_sbl_t5xlu50_700.csv\"), usecols=cols)\n",
    "df800  = pd.read_csv(join(path,\"tsne_sbl_t5xlu50_800.csv\"), usecols=cols)\n",
    "df900  = pd.read_csv(join(path,\"tsne_sbl_t5xlu50_900.csv\"), usecols=cols)\n",
    "df1000 = pd.read_csv(join(path,\"tsne_sbl_t5xlu50_1000.csv\"), usecols=cols)\n",
    "\n",
    "df = pd.concat([sbl, df30, df50, df100, df200, df300, df400, df500, df600, df700, df800, df900, df1000], axis=1)\n",
    "df.columns = df.columns.str.lower()\n",
    "print(f\"data size = {len(df)}\")\n",
    "df.columns"
   ]
  },
  {
   "cell_type": "code",
   "execution_count": 24,
   "id": "3d693c53-1ce6-4364-818c-b3006c98eb37",
   "metadata": {},
   "outputs": [],
   "source": [
    "df.to_csv(\"../bldb/lowdim/tsne/csv/tsne_sbl_t5xlu50.csv\", index=False)"
   ]
  },
  {
   "cell_type": "code",
   "execution_count": 25,
   "id": "bd7ee1ac-9aba-4172-afd1-6f459659d6f2",
   "metadata": {},
   "outputs": [
    {
     "name": "stdout",
     "output_type": "stream",
     "text": [
      "data size = 3468\n"
     ]
    },
    {
     "data": {
      "text/plain": [
       "Index(['seq_id', 'tsne1_t5xlu50_30', 'tsne2_t5xlu50_30', 'tsne1_t5xlu50_50',\n",
       "       'tsne2_t5xlu50_50', 'tsne1_t5xlu50_100', 'tsne2_t5xlu50_100',\n",
       "       'tsne1_t5xlu50_200', 'tsne2_t5xlu50_200', 'tsne1_t5xlu50_300',\n",
       "       'tsne2_t5xlu50_300', 'tsne1_t5xlu50_400', 'tsne2_t5xlu50_400',\n",
       "       'tsne1_t5xlu50_500', 'tsne2_t5xlu50_500', 'tsne1_t5xlu50_600',\n",
       "       'tsne2_t5xlu50_600', 'tsne1_t5xlu50_700', 'tsne2_t5xlu50_700',\n",
       "       'tsne1_t5xlu50_800', 'tsne2_t5xlu50_800', 'tsne1_t5xlu50_900',\n",
       "       'tsne2_t5xlu50_900', 'tsne1_t5xlu50_1000', 'tsne2_t5xlu50_1000'],\n",
       "      dtype='object')"
      ]
     },
     "execution_count": 25,
     "metadata": {},
     "output_type": "execute_result"
    }
   ],
   "source": [
    "df30   = pd.read_csv(join(path,\"tsne_mbl_t5xlu50_30.csv\"), usecols=cols)\n",
    "df50   = pd.read_csv(join(path,\"tsne_mbl_t5xlu50_50.csv\"), usecols=cols)\n",
    "df100  = pd.read_csv(join(path,\"tsne_mbl_t5xlu50_100.csv\"), usecols=cols)\n",
    "df200  = pd.read_csv(join(path,\"tsne_mbl_t5xlu50_200.csv\"), usecols=cols)\n",
    "df300  = pd.read_csv(join(path,\"tsne_mbl_t5xlu50_300.csv\"), usecols=cols)\n",
    "df400  = pd.read_csv(join(path,\"tsne_mbl_t5xlu50_400.csv\"), usecols=cols)\n",
    "df500  = pd.read_csv(join(path,\"tsne_mbl_t5xlu50_500.csv\"), usecols=cols)\n",
    "df600  = pd.read_csv(join(path,\"tsne_mbl_t5xlu50_600.csv\"), usecols=cols)\n",
    "df700  = pd.read_csv(join(path,\"tsne_mbl_t5xlu50_700.csv\"), usecols=cols)\n",
    "df800  = pd.read_csv(join(path,\"tsne_mbl_t5xlu50_800.csv\"), usecols=cols)\n",
    "df900  = pd.read_csv(join(path,\"tsne_mbl_t5xlu50_900.csv\"), usecols=cols)\n",
    "df1000 = pd.read_csv(join(path,\"tsne_mbl_t5xlu50_1000.csv\"), usecols=cols)\n",
    "\n",
    "df = pd.concat([mbl, df30, df50, df100, df200, df300, df400, df500, df600, df700, df800, df900, df1000], axis=1)\n",
    "df.columns = df.columns.str.lower()\n",
    "print(f\"data size = {len(df)}\")\n",
    "df.columns"
   ]
  },
  {
   "cell_type": "code",
   "execution_count": 26,
   "id": "e8cfe170-ad97-4e67-bc93-0dea9560c745",
   "metadata": {},
   "outputs": [],
   "source": [
    "df.to_csv(\"../bldb/lowdim/tsne/csv/tsne_mbl_t5xlu50.csv\", index=False)"
   ]
  },
  {
   "cell_type": "markdown",
   "id": "16523d2f-3ff2-4a4d-aa76-a70c635f87de",
   "metadata": {},
   "source": [
    "# esm2 650m"
   ]
  },
  {
   "cell_type": "code",
   "execution_count": 27,
   "id": "feba7002-be0c-4ef1-bf90-020e23f12744",
   "metadata": {},
   "outputs": [
    {
     "name": "stdout",
     "output_type": "stream",
     "text": [
      "\u001b[0m\u001b[01;32mtsne_mbl_esm2_650M_100.csv\u001b[0m*   \u001b[01;32mtsne_sbl_esm2_650m_100.csv\u001b[0m*\n",
      "\u001b[01;32mtsne_mbl_esm2_650M_1000.csv\u001b[0m*  \u001b[01;32mtsne_sbl_esm2_650m_1000.csv\u001b[0m*\n",
      "\u001b[01;32mtsne_mbl_esm2_650M_200.csv\u001b[0m*   \u001b[01;32mtsne_sbl_esm2_650m_200.csv\u001b[0m*\n",
      "\u001b[01;32mtsne_mbl_esm2_650M_30.csv\u001b[0m*    \u001b[01;32mtsne_sbl_esm2_650m_30.csv\u001b[0m*\n",
      "\u001b[01;32mtsne_mbl_esm2_650M_300.csv\u001b[0m*   \u001b[01;32mtsne_sbl_esm2_650m_300.csv\u001b[0m*\n",
      "\u001b[01;32mtsne_mbl_esm2_650M_400.csv\u001b[0m*   \u001b[01;32mtsne_sbl_esm2_650m_400.csv\u001b[0m*\n",
      "\u001b[01;32mtsne_mbl_esm2_650M_50.csv\u001b[0m*    \u001b[01;32mtsne_sbl_esm2_650m_50.csv\u001b[0m*\n",
      "\u001b[01;32mtsne_mbl_esm2_650M_500.csv\u001b[0m*   \u001b[01;32mtsne_sbl_esm2_650m_500.csv\u001b[0m*\n",
      "\u001b[01;32mtsne_mbl_esm2_650M_600.csv\u001b[0m*   \u001b[01;32mtsne_sbl_esm2_650m_600.csv\u001b[0m*\n",
      "\u001b[01;32mtsne_mbl_esm2_650M_700.csv\u001b[0m*   \u001b[01;32mtsne_sbl_esm2_650m_700.csv\u001b[0m*\n",
      "\u001b[01;32mtsne_mbl_esm2_650M_800.csv\u001b[0m*   \u001b[01;32mtsne_sbl_esm2_650m_800.csv\u001b[0m*\n",
      "\u001b[01;32mtsne_mbl_esm2_650M_900.csv\u001b[0m*   \u001b[01;32mtsne_sbl_esm2_650m_900.csv\u001b[0m*\n"
     ]
    }
   ],
   "source": [
    "ls ../bldb/lowdim/tsne/esm2_650m/"
   ]
  },
  {
   "cell_type": "code",
   "execution_count": 28,
   "id": "25d79266-5175-4e1a-ad1b-7302c6df3a3f",
   "metadata": {},
   "outputs": [],
   "source": [
    "path=\"../bldb/lowdim/tsne/esm2_650m/\""
   ]
  },
  {
   "cell_type": "code",
   "execution_count": 29,
   "id": "b09fb258-7e05-42d7-99f1-1128822f7dc2",
   "metadata": {},
   "outputs": [
    {
     "name": "stdout",
     "output_type": "stream",
     "text": [
      "data size = 25961\n"
     ]
    },
    {
     "data": {
      "text/plain": [
       "Index(['seq_id', 'tsne1_esm2_650m_30', 'tsne2_esm2_650m_30',\n",
       "       'tsne1_esm2_650m_50', 'tsne2_esm2_650m_50', 'tsne1_esm2_650m_100',\n",
       "       'tsne2_esm2_650m_100', 'tsne1_esm2_650m_200', 'tsne2_esm2_650m_200',\n",
       "       'tsne1_esm2_650m_300', 'tsne2_esm2_650m_300', 'tsne1_esm2_650m_400',\n",
       "       'tsne2_esm2_650m_400', 'tsne1_esm2_650m_500', 'tsne2_esm2_650m_500',\n",
       "       'tsne1_esm2_650m_600', 'tsne2_esm2_650m_600', 'tsne1_esm2_650m_700',\n",
       "       'tsne2_esm2_650m_700', 'tsne1_esm2_650m_800', 'tsne2_esm2_650m_800',\n",
       "       'tsne1_esm2_650m_900', 'tsne2_esm2_650m_900', 'tsne1_esm2_650m_1000',\n",
       "       'tsne2_esm2_650m_1000'],\n",
       "      dtype='object')"
      ]
     },
     "execution_count": 29,
     "metadata": {},
     "output_type": "execute_result"
    }
   ],
   "source": [
    "df30   = pd.read_csv(join(path,\"tsne_sbl_esm2_650m_30.csv\"), usecols=cols)\n",
    "df50   = pd.read_csv(join(path,\"tsne_sbl_esm2_650m_50.csv\"), usecols=cols)\n",
    "df100  = pd.read_csv(join(path,\"tsne_sbl_esm2_650m_100.csv\"), usecols=cols)\n",
    "df200  = pd.read_csv(join(path,\"tsne_sbl_esm2_650m_200.csv\"), usecols=cols)\n",
    "df300  = pd.read_csv(join(path,\"tsne_sbl_esm2_650m_300.csv\"), usecols=cols)\n",
    "df400  = pd.read_csv(join(path,\"tsne_sbl_esm2_650m_400.csv\"), usecols=cols)\n",
    "df500  = pd.read_csv(join(path,\"tsne_sbl_esm2_650m_500.csv\"), usecols=cols)\n",
    "df600  = pd.read_csv(join(path,\"tsne_sbl_esm2_650m_600.csv\"), usecols=cols)\n",
    "df700  = pd.read_csv(join(path,\"tsne_sbl_esm2_650m_700.csv\"), usecols=cols)\n",
    "df800  = pd.read_csv(join(path,\"tsne_sbl_esm2_650m_800.csv\"), usecols=cols)\n",
    "df900  = pd.read_csv(join(path,\"tsne_sbl_esm2_650m_900.csv\"), usecols=cols)\n",
    "df1000 = pd.read_csv(join(path,\"tsne_sbl_esm2_650m_1000.csv\"), usecols=cols)\n",
    "\n",
    "df = pd.concat([sbl, df30, df50, df100, df200, df300, df400, df500, df600, df700, df800, df900, df1000], axis=1)\n",
    "df.columns = df.columns.str.lower()\n",
    "print(f\"data size = {len(df)}\")\n",
    "df.columns"
   ]
  },
  {
   "cell_type": "code",
   "execution_count": 30,
   "id": "eafbeaf9-b8fc-4c9d-9f21-b131c13815a4",
   "metadata": {},
   "outputs": [],
   "source": [
    "df.to_csv(\"../bldb/lowdim/tsne/csv/tsne_sbl_esm2_650m.csv\", index=False)"
   ]
  },
  {
   "cell_type": "code",
   "execution_count": 31,
   "id": "85deabab-2342-46b1-8e7b-4260c12fc1a4",
   "metadata": {},
   "outputs": [
    {
     "name": "stdout",
     "output_type": "stream",
     "text": [
      "data size = 3468\n"
     ]
    },
    {
     "data": {
      "text/plain": [
       "Index(['seq_id', 'tsne1_esm2_650m_30', 'tsne2_esm2_650m_30',\n",
       "       'tsne1_esm2_650m_50', 'tsne2_esm2_650m_50', 'tsne1_esm2_650m_100',\n",
       "       'tsne2_esm2_650m_100', 'tsne1_esm2_650m_200', 'tsne2_esm2_650m_200',\n",
       "       'tsne1_esm2_650m_300', 'tsne2_esm2_650m_300', 'tsne1_esm2_650m_400',\n",
       "       'tsne2_esm2_650m_400', 'tsne1_esm2_650m_500', 'tsne2_esm2_650m_500',\n",
       "       'tsne1_esm2_650m_600', 'tsne2_esm2_650m_600', 'tsne1_esm2_650m_700',\n",
       "       'tsne2_esm2_650m_700', 'tsne1_esm2_650m_800', 'tsne2_esm2_650m_800',\n",
       "       'tsne1_esm2_650m_900', 'tsne2_esm2_650m_900', 'tsne1_esm2_650m_1000',\n",
       "       'tsne2_esm2_650m_1000'],\n",
       "      dtype='object')"
      ]
     },
     "execution_count": 31,
     "metadata": {},
     "output_type": "execute_result"
    }
   ],
   "source": [
    "df30   = pd.read_csv(join(path,\"tsne_mbl_esm2_650M_30.csv\"), usecols=cols)\n",
    "df50   = pd.read_csv(join(path,\"tsne_mbl_esm2_650M_50.csv\"), usecols=cols)\n",
    "df100  = pd.read_csv(join(path,\"tsne_mbl_esm2_650M_100.csv\"), usecols=cols)\n",
    "df200  = pd.read_csv(join(path,\"tsne_mbl_esm2_650M_200.csv\"), usecols=cols)\n",
    "df300  = pd.read_csv(join(path,\"tsne_mbl_esm2_650M_300.csv\"), usecols=cols)\n",
    "df400  = pd.read_csv(join(path,\"tsne_mbl_esm2_650M_400.csv\"), usecols=cols)\n",
    "df500  = pd.read_csv(join(path,\"tsne_mbl_esm2_650M_500.csv\"), usecols=cols)\n",
    "df600  = pd.read_csv(join(path,\"tsne_mbl_esm2_650M_600.csv\"), usecols=cols)\n",
    "df700  = pd.read_csv(join(path,\"tsne_mbl_esm2_650M_700.csv\"), usecols=cols)\n",
    "df800  = pd.read_csv(join(path,\"tsne_mbl_esm2_650M_800.csv\"), usecols=cols)\n",
    "df900  = pd.read_csv(join(path,\"tsne_mbl_esm2_650M_900.csv\"), usecols=cols)\n",
    "df1000 = pd.read_csv(join(path,\"tsne_mbl_esm2_650M_1000.csv\"), usecols=cols)\n",
    "\n",
    "df = pd.concat([mbl, df30, df50, df100, df200, df300, df400, df500, df600, df700, df800, df900, df1000], axis=1)\n",
    "df.columns = df.columns.str.lower()\n",
    "print(f\"data size = {len(df)}\")\n",
    "df.columns"
   ]
  },
  {
   "cell_type": "code",
   "execution_count": 32,
   "id": "c9b199cc-38e3-4718-9683-4938fc4dc333",
   "metadata": {},
   "outputs": [],
   "source": [
    "df.to_csv(\"../bldb/lowdim/tsne/csv/tsne_mbl_esm2_650m.csv\", index=False)"
   ]
  }
 ],
 "metadata": {
  "kernelspec": {
   "display_name": "Python 3 (ipykernel)",
   "language": "python",
   "name": "python3"
  },
  "language_info": {
   "codemirror_mode": {
    "name": "ipython",
    "version": 3
   },
   "file_extension": ".py",
   "mimetype": "text/x-python",
   "name": "python",
   "nbconvert_exporter": "python",
   "pygments_lexer": "ipython3",
   "version": "3.11.7"
  }
 },
 "nbformat": 4,
 "nbformat_minor": 5
}
